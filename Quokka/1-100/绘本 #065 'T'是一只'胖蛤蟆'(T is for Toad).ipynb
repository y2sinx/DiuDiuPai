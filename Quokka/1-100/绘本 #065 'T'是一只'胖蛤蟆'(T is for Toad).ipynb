{
 "cells": [
  {
   "cell_type": "markdown",
   "metadata": {},
   "source": [
    "HuiBen_065 % [d]2021-03-25; [xmxp](); [n]'T'是一只'胖蛤蟆'; [l]绘本; [t]T is for Toad; [by]Mark Pattenden(马克·帕滕登); [ps]DK; [ebook]绘本;\n",
    "\n",
    "https://pan.baidu.com/s/1fKdbBXG10T6twgbQev-O5g\n",
    "\n",
    "---\n",
    "\n"
   ]
  },
  {
   "cell_type": "markdown",
   "metadata": {},
   "source": [
    "![01](https://ae04.alicdn.com/kf/U64ea4da7efc8488f9f25862c44484d49e.jpg)    \n",
    "\n",
    "---\n",
    "\n",
    "### 'T'是一只'胖蛤蟆'    \n",
    "\n",
    "马克·帕滕登    \n",
    "\n",
    "![sm](https://i.loli.net/2021/03/21/y5M97SRdvBJmqb8.png)\n",
    "\n",
    "---\n",
    "\n",
    "Asiatic toad(中华蟾蜍), Beaked toad(喙蟾蜍). Tree frog(树蛙), Wood frog(木蛙), Poison dart frog(箭毒蛙), Ribbit(呱~).    \n",
    "\n",
    "![02-03](https://ae02.alicdn.com/kf/U220623dd7c3e4ce79d87cfa52dc6d0f2Q.jpg)    \n",
    "\n",
    "---\n",
    "\n",
    "bumpy skin(疙疙瘩瘩的皮肤), smooth skin(光滑的皮肤).    \n",
    "\n",
    "![04-05](https://ae02.alicdn.com/kf/Uf94a7ae590f14065a8c982dcb01b3d3fe.jpg)    \n",
    "\n",
    "---\n",
    "\n",
    "sticky tongues(黏糊糊的舌头).    \n",
    "\n",
    "![06-07](https://ae02.alicdn.com/kf/Ucdf5829857ef4ec5ad0a4d14ec39870bG.jpg)    \n",
    "\n",
    "---\n",
    "\n",
    "chain(链条), clumps(块), tadpole(蝌蚪).    \n",
    "\n",
    "![08-09](https://ae02.alicdn.com/kf/U8672d4adb9094621b473d8daf24f97d4Z.jpg)    \n",
    "\n",
    "---\n",
    "\n",
    "toadlet(小蟾蜍), tail stump(不仅可以指树木的残余(树桩),还可以指身体的残余(残尾)), teeny adult toads(微小型的成年蟾蜍).    \n",
    "\n",
    "![10-11](https://sc03.alicdn.com/kf/U42a6acbc1ac24c8093624c96eef28858w.jpg)    \n",
    "\n",
    "---\n",
    "\n",
    "transform(使变形,变态发育).    \n",
    "\n",
    "![12-13](https://ae04.alicdn.com/kf/U5d38aca71d2b4b82947cc9d73838141cV.jpg)    \n",
    "\n",
    "---\n",
    "\n",
    "gobbling up bugs(大口大口的吃虫子).    \n",
    "\n",
    "![14-15](https://ae02.alicdn.com/kf/Ufd2f82c963fe484e8b3ed55b32b2c2599.jpg)    \n",
    "\n",
    "---\n",
    "\n",
    "toad(蟾蜍) + let(小) -> toadlet(小蟾蜍).    \n",
    "\n",
    "booklet(小册子), crablet(小螃蟹), craterlet(小坑洞), godlet(小神), lakelet(小湖), leaflet(小叶子/传单), moonlet(小月亮/人造卫星), owlet(小猫头鹰), pathlet(小路), pondlet(小水池), statelet(独立小国), brooklet/riverlet/streamlet(小河), thoughtlet(思绪), turtlet(小海龟), wavelet(小波浪), worldlet(小世界).    \n",
    "\n",
    "![16](https://ae02.alicdn.com/kf/U2646afffb30646859dfa88484ecdf2f3X.jpg)    "
   ]
  }
 ],
 "metadata": {
  "kernelspec": {
   "display_name": "Python 3",
   "language": "python",
   "name": "python3"
  },
  "language_info": {
   "codemirror_mode": {
    "name": "ipython",
    "version": 3
   },
   "file_extension": ".py",
   "mimetype": "text/x-python",
   "name": "python",
   "nbconvert_exporter": "python",
   "pygments_lexer": "ipython3",
   "version": "3.8.3"
  },
  "toc": {
   "base_numbering": 1,
   "nav_menu": {},
   "number_sections": true,
   "sideBar": true,
   "skip_h1_title": true,
   "title_cell": "Table of Contents",
   "title_sidebar": "Contents",
   "toc_cell": false,
   "toc_position": {},
   "toc_section_display": true,
   "toc_window_display": false
  }
 },
 "nbformat": 4,
 "nbformat_minor": 4
}
