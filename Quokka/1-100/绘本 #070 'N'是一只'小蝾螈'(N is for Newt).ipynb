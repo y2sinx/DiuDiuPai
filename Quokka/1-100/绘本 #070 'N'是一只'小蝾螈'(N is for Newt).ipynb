{
 "cells": [
  {
   "cell_type": "markdown",
   "metadata": {},
   "source": [
    "HuiBen_070 % [d]2021-03-30; [xmxp](); [n]'N'是一只'小蝾螈'; [l]绘本; [t]N is for Newt; [by]Kaja Kajfez(卡娅·凯菲兹); [ps]DK; [ebook]绘本;\n",
    "\n",
    "https://pan.baidu.com/s/16LE0UdkUkJyNhW5fE2yC3w\n",
    "\n",
    "----\n"
   ]
  },
  {
   "cell_type": "markdown",
   "metadata": {},
   "source": [
    "![1](https://s.pc.qq.com/tousu/img/20210324/6709665_1616577016.jpg)    \n",
    "\n",
    "---\n",
    "\n",
    "### 'N'是一只'小蝾螈'    \n",
    "\n",
    "卡娅·凯菲兹    \n",
    "\n",
    "![sm](https://s.pc.qq.com/tousu/img/20210324/9245494_1616576996.jpg)    \n",
    "\n",
    "---\n",
    "\n",
    "California newt(加州蝾螈), Alpine newt(阿尔卑斯蝾螈), great crested newt(大冠蝾螈), palmate newt(掌滑螈), smooth newt(滑皮蝾螈), Anderson's crocodile newt(安德森鳄鱼蝾螈).    \n",
    "\n",
    "![2-3](https://s.pc.qq.com/tousu/img/20210324/4454509_1616577033.jpg)    \n",
    "\n",
    "---\n",
    "\n",
    "nimble(敏捷的,敏感的).    \n",
    "\n",
    "![4-5](https://s.pc.qq.com/tousu/img/20210324/3021864_1616577012.jpg)    \n",
    "\n",
    "---\n",
    "\n",
    "nifty(漂亮的), rough-skinned newt(粗皮蝾螈), Siberian newt(西伯利亚蝾螈).    \n",
    "\n",
    "![6-7](https://s.pc.qq.com/tousu/img/20210324/6589499_1616577008.jpg)    \n",
    "\n",
    "---\n",
    "\n",
    "grow a new limb(长一个新肢).      \n",
    "\n",
    "![8-9](https://s.pc.qq.com/tousu/img/20210324/2935942_1616577007.jpg)    \n",
    "\n",
    "---\n",
    "\n",
    "nursery(托儿所), eft(小蜥蜴).    \n",
    "\n",
    "![10-11](https://s.pc.qq.com/tousu/img/20210324/7689252_1616577037.jpg)    \n",
    "\n",
    "---\n",
    "\n",
    "nocturnal animals(夜行性动物).    \n",
    "\n",
    "![12-13](https://s.pc.qq.com/tousu/img/20210324/4281223_1616577009.jpg)    \n",
    "\n",
    "---\n",
    "\n",
    "Newts live in and around ponds(两个介词并列,既生活在池塘里(in),也生活在池塘边(around)).    \n",
    "\n",
    "![14-15](https://s.pc.qq.com/tousu/img/20210324/1419899_1616577033.jpg)    \n",
    "\n",
    "---\n",
    "\n",
    "部分后缀为 rY 的形容词, 其词意与其名词含义相关: ambery(琥珀->琥珀色的), colory/coloury(颜色->色彩丰富的), coppery(铜->铜制的), feathery(羽毛->柔软如羽毛的,生有羽毛的), hairy(毛->多毛的), peppery(辣椒->辛辣的), powdery(粉末->粉末状的), predatory(掠夺者->掠夺的), rivery(河流->多河流的), thundery(雷->雷鸣般的), vinegary(醋->酸的), watery world(水世界), whispery(耳语->轻声的), wintery(冬天->寒冷的)...    \n",
    "\n",
    "![16](https://s.pc.qq.com/tousu/img/20210324/1202627_1616576997.jpg)    "
   ]
  }
 ],
 "metadata": {
  "kernelspec": {
   "display_name": "Python 3",
   "language": "python",
   "name": "python3"
  },
  "language_info": {
   "codemirror_mode": {
    "name": "ipython",
    "version": 3
   },
   "file_extension": ".py",
   "mimetype": "text/x-python",
   "name": "python",
   "nbconvert_exporter": "python",
   "pygments_lexer": "ipython3",
   "version": "3.8.3"
  },
  "toc": {
   "base_numbering": 1,
   "nav_menu": {},
   "number_sections": true,
   "sideBar": true,
   "skip_h1_title": true,
   "title_cell": "Table of Contents",
   "title_sidebar": "Contents",
   "toc_cell": false,
   "toc_position": {},
   "toc_section_display": true,
   "toc_window_display": false
  }
 },
 "nbformat": 4,
 "nbformat_minor": 4
}
