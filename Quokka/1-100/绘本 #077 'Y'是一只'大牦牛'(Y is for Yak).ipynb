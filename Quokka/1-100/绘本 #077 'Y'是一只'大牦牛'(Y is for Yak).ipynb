{
 "cells": [
  {
   "cell_type": "markdown",
   "metadata": {},
   "source": [
    "HuiBen_077 % [d]2021-04-06; [xmxp](); [n]'Y'是一只'大牦牛'; [l]绘本; [t]Y is for Yak; [by]Jean Claude; [ps]DK; [ebook]绘本;"
   ]
  },
  {
   "cell_type": "markdown",
   "metadata": {},
   "source": [
    "![1](https://s.pc.qq.com/tousu/img/20210329/3037172_1616995531.jpg)    \n",
    "\n",
    "---    \n",
    "\n",
    "### 'Y'是一只'大牦牛'    \n",
    "\n",
    "Jean Claude    \n",
    "\n",
    "![sm](https://s.pc.qq.com/tousu/img/20210329/2755111_1616995529.jpg)    \n",
    "\n",
    "---    \n",
    "\n",
    "hairy animals(多毛的动物), long horns(长长的牛角), cow family(牛牛家族).    \n",
    "\n",
    "![2-3](https://s.pc.qq.com/tousu/img/20210329/7864443_1616995540.jpg)    \n",
    "\n",
    "---    \n",
    "\n",
    "yak milk(牦牛奶), wild yaks(野生牦牛), farm yaks(农场牦牛).    \n",
    "\n",
    "![4-5](https://s.pc.qq.com/tousu/img/20210329/2084940_1616995535.jpg)    \n",
    "\n",
    "---    \n",
    "\n",
    "yum(好好吃啊), chomp(牙齿嚼东西嚼的咯咯作响), graze(放牧,吃草), grasses and herbs(草本植物).    \n",
    "\n",
    "![6-7](https://s.pc.qq.com/tousu/img/20210329/2300096_1616995548.jpg)    \n",
    "\n",
    "---    \n",
    "\n",
    "Yarn(纱线) is thread(线) that's used for clothes and blankets(衣服和毯子).    \n",
    "\n",
    "![8-9](https://s.pc.qq.com/tousu/img/20210329/8136828_1616995539.jpg)    \n",
    "\n",
    "---    \n",
    "\n",
    "Young yaks are called calves(用\"calf\"称呼小牦牛).    \n",
    "\n",
    "![10-11](https://s.pc.qq.com/tousu/img/20210329/7458888_1616995544.jpg)    \n",
    "\n",
    "---    \n",
    "\n",
    "Yak attack(牦牛进攻啦,花斑大胖猫快跑)!    \n",
    "\n",
    "![12-13](https://s.pc.qq.com/tousu/img/20210329/6536436_1616995537.jpg)    \n",
    "\n",
    "---    \n",
    "\n",
    "yippee(好啊,欢乐时叫出声来的感叹词), yay(哇,因高兴而欢呼).    \n",
    "\n",
    "tough(形容心灵上\"不屈不挠\",身体上\"结实强壮\"), hardworking(努力工作的), yucky poop(恶心的粪便).    \n",
    "\n",
    "![14-15](https://s.pc.qq.com/tousu/img/20210329/3977598_1616995535.jpg)    \n",
    "\n",
    "---    \n",
    "\n",
    "来认识几个与 \"hard-\" 相关, 与 \"hard-working\" 类似的单词: ~bitten(经过磨难的), ~drinking(酗酒的), ~edged(锋芒毕露的), ~handed(手段强硬的), ~hearted(冷酷无情的), ~hit(深受打击的), hard-to-please(难以取悦), hard-to-reach(难以到达), ~wearing(耐穿耐磨的), ~won/~earned(来之不易的), hardboard(硬纸板), hardcover(有硬封面的精装书), hardware(计算机硬件,五金器具)...\n",
    "\n",
    "![16](https://s.pc.qq.com/tousu/img/20210329/7927724_1616995530.jpg)    \n"
   ]
  }
 ],
 "metadata": {
  "kernelspec": {
   "display_name": "Python 3",
   "language": "python",
   "name": "python3"
  },
  "language_info": {
   "codemirror_mode": {
    "name": "ipython",
    "version": 3
   },
   "file_extension": ".py",
   "mimetype": "text/x-python",
   "name": "python",
   "nbconvert_exporter": "python",
   "pygments_lexer": "ipython3",
   "version": "3.8.3"
  },
  "toc": {
   "base_numbering": 1,
   "nav_menu": {},
   "number_sections": true,
   "sideBar": true,
   "skip_h1_title": true,
   "title_cell": "Table of Contents",
   "title_sidebar": "Contents",
   "toc_cell": false,
   "toc_position": {},
   "toc_section_display": true,
   "toc_window_display": false
  }
 },
 "nbformat": 4,
 "nbformat_minor": 4
}
