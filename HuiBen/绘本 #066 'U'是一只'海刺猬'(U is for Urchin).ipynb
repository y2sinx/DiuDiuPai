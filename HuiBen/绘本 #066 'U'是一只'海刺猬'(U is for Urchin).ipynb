{
 "cells": [
  {
   "cell_type": "markdown",
   "metadata": {},
   "source": [
    "HuiBen_066 % [d]2021-03-26; [xmxp](); [n]'U'是一只'海刺猬'; [l]绘本; [t]U is for Urchin; [by]Kaja Kajfez(卡哈·凯菲兹); [ps]DK; [ebook]绘本;\n",
    "\n",
    "https://pan.baidu.com/s/13ufEy2l3WnpDyaPb7n-EFw\n",
    "\n",
    "---"
   ]
  },
  {
   "cell_type": "markdown",
   "metadata": {},
   "source": [
    "![1](https://ae03.alicdn.com/kf/U392679b394f047bfaa93ea5dfbd11ce64.jpg)    \n",
    "\n",
    "---\n",
    "\n",
    "### 'U'是一只'海刺猬'    \n",
    "\n",
    "卡哈·凯菲兹    \n",
    "\n",
    "![sm](https://ae04.alicdn.com/kf/Ude37cfb44a6b42b7ac9b0785d7b53e65U.jpg)    \n",
    "\n",
    "---\n",
    "\n",
    "urchin(海胆), red sea urchin(红海胆), sand dollar(沙币海胆), pea urchin(豌豆海胆), sea potato(马铃薯海胆), long-spined sea urchin(长棘海胆), purple sea urchin(紫海胆).    \n",
    "\n",
    "![2-3](https://ae04.alicdn.com/kf/U8131a86752e741ac8e50abeddc408671n.jpg)    \n",
    "\n",
    "---\n",
    "\n",
    "underwater(在水下的).    \n",
    "\n",
    "![4-5](https://sc02.alicdn.com/kf/U6ffd418ea9cd4282b628ff197ed54772N.jpg)    \n",
    "\n",
    "---\n",
    "\n",
    "ultra-spiky(超尖的), sharp spines(尖刺), predators(捕食者).    \n",
    "\n",
    "Underneath(在...的下面) an urchin's spines is a hard shell(硬壳), called a test(专业术语:内骨骼(internal skeleton)).    \n",
    "\n",
    "![6-7](https://sc03.alicdn.com/kf/U8b106bf5f10146109398043d5cc0b3ceo.jpg)    \n",
    "\n",
    "---\n",
    "\n",
    "fire urchin(火海胆), carrier crab(运载蟹,喜欢运东西的螃蟹), team up to do sth(组队去做某事).    \n",
    "\n",
    "![8-9](https://ae03.alicdn.com/kf/U2c93be3f92e14fdcbbfb6417c27fef07m.jpg)    \n",
    "\n",
    "---\n",
    "\n",
    "tube feet(管足,管状腿), upside down(上下颠倒).    \n",
    "\n",
    "![10-11](https://ae03.alicdn.com/kf/Ub8887c154c2a48dba4d9c50ac5377f66n.jpg)    \n",
    "\n",
    "---\n",
    "\n",
    "unstoppable(不可阻挡的), chomp(咯吱咯吱的咬), seaweed(海草).    \n",
    "\n",
    "![12-13](https://ae04.alicdn.com/kf/U734201e8706045019237e0fc4f1b7d75v.jpg)    \n",
    "\n",
    "---\n",
    "\n",
    "sea creatures(海洋生物), urchin family(海胆家族): feather star(毛头星), brittle star(海蛇尾), starfish(海星), sea lily(海百合), sea cucumber(海黄瓜,海参).    \n",
    "\n",
    "![14-15](https://ae04.alicdn.com/kf/U8725fecab4144ebaaf29c61330baf1e2u.jpg)    \n",
    "\n",
    "---\n",
    "\n",
    "前缀 \"under\" 表示 \"在...的下面\" 或 \"欠...\" 等: underclothes/underwear(内衣), undercooked(煮得欠熟的), undercurrent(暗流), underdeveloped(不发达的), underemployed(未充分就业的), undergo(经历,经受), undergrad(肄业生), undermine(在...的下面挖,暗地里破坏), underpass(地下通道), undersell(以低于市价售出), undertrained(训练不足的), undervalue(低估...的价值), underworld(黑社会,地狱).    \n",
    "\n",
    "![16](https://sc04.alicdn.com/kf/U85c24c290871498a9cdf4a3b9cfeae85x.jpg)    "
   ]
  }
 ],
 "metadata": {
  "kernelspec": {
   "display_name": "Python 3",
   "language": "python",
   "name": "python3"
  },
  "language_info": {
   "codemirror_mode": {
    "name": "ipython",
    "version": 3
   },
   "file_extension": ".py",
   "mimetype": "text/x-python",
   "name": "python",
   "nbconvert_exporter": "python",
   "pygments_lexer": "ipython3",
   "version": "3.8.3"
  },
  "toc": {
   "base_numbering": 1,
   "nav_menu": {},
   "number_sections": true,
   "sideBar": true,
   "skip_h1_title": true,
   "title_cell": "Table of Contents",
   "title_sidebar": "Contents",
   "toc_cell": false,
   "toc_position": {},
   "toc_section_display": true,
   "toc_window_display": false
  }
 },
 "nbformat": 4,
 "nbformat_minor": 4
}
