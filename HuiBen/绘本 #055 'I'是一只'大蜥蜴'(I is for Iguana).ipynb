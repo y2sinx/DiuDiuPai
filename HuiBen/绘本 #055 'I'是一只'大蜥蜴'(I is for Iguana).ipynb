{
 "cells": [
  {
   "cell_type": "markdown",
   "metadata": {},
   "source": [
    "HuiBen_055 % [d]2021-03-15; [xmxp](); [n]'I'是一只'大蜥蜴'; [l]绘本; [t]I is for Iguana; [by]Sandhya Prabhat(桑迪亚·普拉巴特); [ps]DK; [ebook]绘本;\n",
    "桑迪亚\n",
    "\n",
    "----\n",
    "\n"
   ]
  },
  {
   "cell_type": "markdown",
   "metadata": {},
   "source": [
    "![01](https://s.pc.qq.com/tousu/img/20210313/2901652_1615575087.jpg)    \n",
    "\n",
    "---\n",
    "\n",
    "### 'I'是一只'大蜥蜴'    \n",
    "\n",
    "桑迪亚·普拉巴特    \n",
    "\n",
    "![sm](https://s.pc.qq.com/tousu/img/20210313/7209789_1615575999.jpg)    \n",
    "\n",
    "---\n",
    "\n",
    "Green iguana(美洲绿鬣蜥), Saban black iguana(萨班黑鬣蜥), Lesser Antillean iguana(小安德烈斯岛鬣蜥), Blue iguana(蓝鬣蜥), Rhinoceros iguana(犀牛鬣蜥).    \n",
    "\n",
    "![02-03](https://s.pc.qq.com/tousu/img/20210313/6761132_1615575100.jpg)    \n",
    "\n",
    "---\n",
    "\n",
    "cold blood(冷血), scaly bodies(被鳞片覆盖着的身体).    \n",
    "\n",
    "![04-05](https://s.pc.qq.com/tousu/img/20210313/5466551_1615575092.jpg)    \n",
    "\n",
    "---\n",
    "\n",
    "Infant iguanas(幼年鬣蜥) hatch from(从...孵化而来) eggs.    \n",
    "\n",
    "![06-07](https://s.pc.qq.com/tousu/img/20210313/8481215_1615575091.jpg)    \n",
    "\n",
    "---\n",
    "\n",
    "sunny island beaches(阳光岛海滩).    \n",
    "\n",
    "![08-09](https://s.pc.qq.com/tousu/img/20210313/1258427_1615575102.jpg)    \n",
    "\n",
    "---\n",
    "\n",
    "treetops(树梢).    \n",
    "\n",
    "![10-11](https://s.pc.qq.com/tousu/img/20210313/3309826_1615575100.jpg)    \n",
    "\n",
    "---\n",
    "\n",
    "incredible(难以置信的), regrow their tails(重新长回它们的尾巴).    \n",
    "\n",
    "![12-13](https://s.pc.qq.com/tousu/img/20210313/1272351_1615575089.jpg)    \n",
    "\n",
    "---\n",
    "\n",
    "an interesting creature(一种有趣的生物).    \n",
    "\n",
    "![14-15](https://s.pc.qq.com/tousu/img/20210313/9781802_1615575098.jpg)    \n",
    "\n",
    "---\n",
    "\n",
    "intriguing(有趣的,迷人的).    \n",
    "\n",
    "![16](https://s.pc.qq.com/tousu/img/20210313/8117043_1615575086.jpg)    "
   ]
  }
 ],
 "metadata": {
  "kernelspec": {
   "display_name": "Python 3",
   "language": "python",
   "name": "python3"
  },
  "language_info": {
   "codemirror_mode": {
    "name": "ipython",
    "version": 3
   },
   "file_extension": ".py",
   "mimetype": "text/x-python",
   "name": "python",
   "nbconvert_exporter": "python",
   "pygments_lexer": "ipython3",
   "version": "3.8.3"
  },
  "toc": {
   "base_numbering": 1,
   "nav_menu": {},
   "number_sections": true,
   "sideBar": true,
   "skip_h1_title": true,
   "title_cell": "Table of Contents",
   "title_sidebar": "Contents",
   "toc_cell": false,
   "toc_position": {},
   "toc_section_display": true,
   "toc_window_display": false
  }
 },
 "nbformat": 4,
 "nbformat_minor": 4
}
