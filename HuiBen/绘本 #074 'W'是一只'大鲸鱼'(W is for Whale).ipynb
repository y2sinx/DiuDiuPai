{
 "cells": [
  {
   "cell_type": "markdown",
   "metadata": {},
   "source": [
    "HuiBen_074 % [d]2021-04-03; [xmxp](); [n]'W'是一只'大鲸鱼'; [l]绘本; [t]W is for Whale; [by]Livi Gosling(利维·高斯林); [ps]DK; [ebook]绘本;\n",
    "\n",
    "https://pan.baidu.com/s/1X1Bd_xDTBsbj59wYSVraQA\n",
    "\n",
    "----\n"
   ]
  },
  {
   "cell_type": "markdown",
   "metadata": {},
   "source": [
    "![1](https://s.pc.qq.com/tousu/img/20210326/8940790_1616757881.jpg)    \n",
    "\n",
    "---\n",
    "\n",
    "### 'W'是一只'大鲸鱼'    \n",
    "\n",
    "利维·高斯林    \n",
    "\n",
    "![sm](https://s.pc.qq.com/tousu/img/20210326/2359326_1616757878.jpg)    \n",
    "\n",
    "---\n",
    "\n",
    "humpback whale(座头鲸), minke whale(小须鲸), dolphin(海豚), sperm whale(抹香鲸), gray whale(灰鲸), orca(虎鲸).    \n",
    "\n",
    "![2-3](https://s.pc.qq.com/tousu/img/20210326/3024867_1616757885.jpg)    \n",
    "\n",
    "---\n",
    "\n",
    "wow(哇,表示惊奇或钦佩), backflip out of the water(后空翻式的跳出水面).    \n",
    "\n",
    "![4-5](https://s.pc.qq.com/tousu/img/20210326/4843142_1616757898.jpg)    \n",
    "\n",
    "---\n",
    "\n",
    "make whistling noises to talk(使用哨音进行交流).    \n",
    "\n",
    "![6-7](https://s.pc.qq.com/tousu/img/20210326/1367645_1616757895.jpg)    \n",
    "\n",
    "---\n",
    "\n",
    "whopping(巨大的), blue whale(蓝鲸), beluga(白鲸(white whale)).    \n",
    "\n",
    "![8-9](https://s.pc.qq.com/tousu/img/20210326/2447520_1616757885.jpg)    \n",
    "\n",
    "---\n",
    "\n",
    "take a boat trip(乘船旅行).    \n",
    "\n",
    "![10-11](https://s.pc.qq.com/tousu/img/20210326/2646566_1616757894.jpg)    \n",
    "\n",
    "---\n",
    "\n",
    "whimsical(异想天开的), whoosh(嗖,飞速行进时发出的声音), water shoots from its blowhole(水流从呼吸孔中射出).    \n",
    "\n",
    "![12-13](https://s.pc.qq.com/tousu/img/20210326/8136265_1616757898.jpg)    \n",
    "\n",
    "---\n",
    "\n",
    "Whales are like nothing else on Earth(鲸鱼是地球上一种独一无二的存在).    \n",
    "\n",
    "![14-15](https://s.pc.qq.com/tousu/img/20210326/2861538_1616757892.jpg)    \n",
    "\n",
    "---\n",
    "\n",
    "Narwhals(独角鲸) have a tusk(长牙) that looks like a unicorn horn(独角兽是一种虚构的生物,但是独角鲸却是一种真实存在的动物,只不过它的角其实是一只长牙罢了).    \n",
    "\n",
    "![16](https://s.pc.qq.com/tousu/img/20210326/5442041_1616757881.jpg)    "
   ]
  }
 ],
 "metadata": {
  "kernelspec": {
   "display_name": "Python 3",
   "language": "python",
   "name": "python3"
  },
  "language_info": {
   "codemirror_mode": {
    "name": "ipython",
    "version": 3
   },
   "file_extension": ".py",
   "mimetype": "text/x-python",
   "name": "python",
   "nbconvert_exporter": "python",
   "pygments_lexer": "ipython3",
   "version": "3.8.3"
  },
  "toc": {
   "base_numbering": 1,
   "nav_menu": {},
   "number_sections": true,
   "sideBar": true,
   "skip_h1_title": true,
   "title_cell": "Table of Contents",
   "title_sidebar": "Contents",
   "toc_cell": false,
   "toc_position": {},
   "toc_section_display": true,
   "toc_window_display": false
  }
 },
 "nbformat": 4,
 "nbformat_minor": 4
}
