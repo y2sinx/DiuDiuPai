{
 "cells": [
  {
   "cell_type": "markdown",
   "metadata": {},
   "source": [
    "HuiBen_076 % [d]2021-04-05; [xmxp](); [n]'X'是一只'射线鱼'; [l]绘本; [t]X is for X-Ray Fish; [by]Marc Pattenden(马克·帕滕登); [ps]DK; [ebook]绘本;\n",
    "\n"
   ]
  },
  {
   "cell_type": "markdown",
   "metadata": {},
   "source": [
    "![1](https://s.pc.qq.com/tousu/img/20210328/6745839_1616915673.jpg)    \n",
    "\n",
    "---\n",
    "\n",
    "### 'X'是一只'射线鱼'    \n",
    "\n",
    "马克·帕滕登    \n",
    "\n",
    "![sm](https://s.pc.qq.com/tousu/img/20210328/1787781_1616915672.jpg)    \n",
    "\n",
    "---\n",
    "\n",
    "X-ray fish(X射线鱼), Orinoco River(奥里诺科河), Amazon River(亚马逊河).    \n",
    "\n",
    "![2-3](https://s.pc.qq.com/tousu/img/20210328/1928991_1616915681.jpg)    \n",
    "\n",
    "---\n",
    "\n",
    "an animal's skeleton(一具动物骨骼), see-through(透明的).    \n",
    "\n",
    "![4-5](https://s.pc.qq.com/tousu/img/20210328/4930085_1616915676.jpg)    \n",
    "\n",
    "---\n",
    "\n",
    "extraordinary(非凡的), wolf fish(狼鱼), predators(捕食者).    \n",
    "\n",
    "![6-7](https://s.pc.qq.com/tousu/img/20210328/9206762_1616915683.jpg)    \n",
    "\n",
    "---\n",
    "\n",
    "extra fin(多余的鳍), animal experts(动物专家), biologists(生物学家).    \n",
    "\n",
    "![8-9](https://s.pc.qq.com/tousu/img/20210328/6919220_1616915684.jpg)    \n",
    "\n",
    "---\n",
    "\n",
    "caiman(凯门鳄), piranha(水虎鱼), giant otter(巨獭).    \n",
    "\n",
    "![10-11](https://s.pc.qq.com/tousu/img/20210328/2830765_1616915686.jpg)    \n",
    "\n",
    "---\n",
    "\n",
    "shoals of fish(鱼群).    \n",
    "\n",
    "![12-13](https://s.pc.qq.com/tousu/img/20210328/4979139_1616915677.jpg)    \n",
    "\n",
    "---\n",
    "\n",
    "hide % [-]/haɪd/; [v]隐藏; [n]隐藏(处);兽皮; [+]pt,hid;pp,hidden/hid;pr,hiding;pl,hides;s3,hides;    \n",
    "\n",
    "![14-15](https://s.pc.qq.com/tousu/img/20210328/9195345_1616915686.jpg)    \n",
    "\n",
    "---\n",
    "\n",
    "后缀 \"-logist\" 表示 \"...学家\", 现列举几例以 \"-ologist\" 结尾的 \"XX学家\": american~(美国问题专家), anthro'p~(人类学家), archae~(考古学家), bacteri~(细菌学家), epidemi~(流行病学家), eth'n~(民族学家), futu(r)'r~(未来学家), ge~(地质学家), physi~(生理学家), psy'ch~(心理学家), soci~(社会学家), zo~(动物学家)...    \n",
    "\n",
    "![16](https://s.pc.qq.com/tousu/img/20210328/3272356_1616915676.jpg)    \n"
   ]
  }
 ],
 "metadata": {
  "kernelspec": {
   "display_name": "Python 3",
   "language": "python",
   "name": "python3"
  },
  "language_info": {
   "codemirror_mode": {
    "name": "ipython",
    "version": 3
   },
   "file_extension": ".py",
   "mimetype": "text/x-python",
   "name": "python",
   "nbconvert_exporter": "python",
   "pygments_lexer": "ipython3",
   "version": "3.8.3"
  },
  "toc": {
   "base_numbering": 1,
   "nav_menu": {},
   "number_sections": true,
   "sideBar": true,
   "skip_h1_title": true,
   "title_cell": "Table of Contents",
   "title_sidebar": "Contents",
   "toc_cell": false,
   "toc_position": {},
   "toc_section_display": true,
   "toc_window_display": false
  }
 },
 "nbformat": 4,
 "nbformat_minor": 4
}
