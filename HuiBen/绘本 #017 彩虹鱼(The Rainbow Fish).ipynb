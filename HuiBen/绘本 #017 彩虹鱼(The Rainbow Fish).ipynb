{
 "cells": [
  {
   "cell_type": "markdown",
   "metadata": {},
   "source": [
    "HuiBen_017 % [d]2020-12-29; [gzh](); [n]彩虹鱼; [l]绘本; [t]The Rainbow Fish; [by]Marcus Pfister(马克斯•菲斯特); [pb]North-South Books; [og]libgen;\n",
    "\n",
    "摘要:  \n",
    "听说, 这个故事有点儿毁三观? \n",
    "\n",
    "---"
   ]
  },
  {
   "cell_type": "markdown",
   "metadata": {},
   "source": [
    "![01](https://ae02.alicdn.com/kf/H2933df97a6a84b2a8e2a111f2c9193fae.jpg)  \n",
    "\n",
    "---\n",
    "\n",
    "### The Rainbow Fish  \n",
    "\n",
    "马克斯•菲斯特  \n",
    "North-South Books  \n",
    "\n",
    "---\n",
    "\n",
    "![02](https://sc01.alicdn.com/kf/H3ecc402777bc4c34a31bfb798818c03dG.jpg)  \n",
    "\n",
    "---\n",
    "\n",
    "彩虹鱼是大海里最漂亮的鱼. 但是他从来不跟其他的鱼一起玩耍. 因为他认为自己\"美得不可方物\".  \n",
    "\n",
    "![03](https://ae02.alicdn.com/kf/H52b8e1cb6d1e49c8bdfe20ade6f9651dl.jpg)  \n",
    "\n",
    "有一天, 一条小蓝鱼跑了过来, 想要跟他要一片闪光鳞, 但是被彩虹鱼给直接怼了回去.  \n",
    "在此之后, 其他的鱼连一句话都不跟他说了. 彩虹鱼彻底变成了一条孤独的鱼.  \n",
    "\n",
    "---\n",
    "\n",
    "![04](https://sc01.alicdn.com/kf/H50084f86fd1240978c2d2a8159c5ba4cB.jpg)  \n",
    "\n",
    "他去找海星寻求帮助, 他问道: \"其他鱼为什么都不理我了啊?\"  \n",
    "\"去问章鱼吧,\" 海星说, \"她啥都知道.\"  \n",
    "\n",
    "---\n",
    "\n",
    "![05](https://sc02.alicdn.com/kf/H67ba1bc1a53141e79cd2ec12945c4cb0r.jpg)  \n",
    "\n",
    "章鱼说: \"大家想要你的闪光鳞, 你把它们分给大家, 大家就会理你的.\"  \n",
    "\"臣妾做不到啊!\" 彩虹鱼哭着说.  \n",
    "\n",
    "\n",
    "---\n",
    "\n",
    "![06](https://ae02.alicdn.com/kf/H47908aac9f644789af83bc9905642c35I.jpg)  \n",
    "\n",
    "然后, 小蓝鱼回来了. 他问: \"我可不可以拥有一片你的鳞片?\"  \n",
    "好吧, 只是一片鳞而已, 彩虹鱼想了想, 然后给了小蓝鱼一片. 见到小蓝鱼非常的开心, 彩虹鱼也开心了起来.  \n",
    "\n",
    "---\n",
    "\n",
    "![07](https://ae02.alicdn.com/kf/H4637564414c44073a06606102b88a8a4p.jpg)  \n",
    "\n",
    "不久, 其他的鱼也都游过来了, 然后彩虹鱼把自己的鳞片也分给了他们. 直到最后, 他只剩下一片闪光鳞了. 但是现在, 他有了很多很多的朋友, 他俨然成了大海里最幸福的鱼.  \n",
    "\n",
    "---\n",
    "\n",
    "![08](https://sc04.alicdn.com/kf/H13ea0428d34d4845b1d3711d5ce1d52ff.jpg)  \n",
    "\n",
    "(图片来源网络,仅供学习,侵权删.)  "
   ]
  }
 ],
 "metadata": {
  "kernelspec": {
   "display_name": "Python 3",
   "language": "python",
   "name": "python3"
  },
  "language_info": {
   "codemirror_mode": {
    "name": "ipython",
    "version": 3
   },
   "file_extension": ".py",
   "mimetype": "text/x-python",
   "name": "python",
   "nbconvert_exporter": "python",
   "pygments_lexer": "ipython3",
   "version": "3.8.3"
  },
  "toc": {
   "base_numbering": 1,
   "nav_menu": {},
   "number_sections": true,
   "sideBar": true,
   "skip_h1_title": true,
   "title_cell": "Table of Contents",
   "title_sidebar": "Contents",
   "toc_cell": false,
   "toc_position": {},
   "toc_section_display": true,
   "toc_window_display": false
  }
 },
 "nbformat": 4,
 "nbformat_minor": 4
}
