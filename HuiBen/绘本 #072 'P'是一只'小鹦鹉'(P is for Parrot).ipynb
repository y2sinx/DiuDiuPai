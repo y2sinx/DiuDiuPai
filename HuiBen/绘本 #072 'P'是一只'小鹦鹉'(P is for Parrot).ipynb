{
 "cells": [
  {
   "cell_type": "markdown",
   "metadata": {},
   "source": [
    "HuiBen_072 % [d]2021-04-01; [xmxp](); [n]'P'是一只'小鹦鹉'; [l]绘本; [t]P is for Parrot; [by]Sandhya Prabhat(桑迪亚·普拉巴特); [ps]DK; [ebook]绘本;\n",
    "\n",
    "https://pan.baidu.com/s/1TbMuczRez40-_9wCvvcQMA\n",
    "\n",
    "----\n",
    "\n"
   ]
  },
  {
   "cell_type": "markdown",
   "metadata": {},
   "source": [
    "![1](https://s.pc.qq.com/tousu/img/20210326/9946952_1616746007.jpg)    \n",
    "\n",
    "---\n",
    "\n",
    "### 'P'是一只'小鹦鹉'    \n",
    "\n",
    "桑迪亚·普拉巴特    \n",
    "\n",
    "![sm](https://s.pc.qq.com/tousu/img/20210326/3086144_1616746006.jpg)    \n",
    "\n",
    "---\n",
    "\n",
    "galah(粉红凤头鹦鹉), sulphur-crested cockatoo(葵花凤头鹦鹉), rosy-faced lovebird(桃脸牡丹鹦鹉), cockatiel(鸡尾鹦鹉), eastern rosella(东方玫瑰鹦鹉), blue and yellow macaw(黄蓝金刚鹦鹉), budgerigar(虎皮鹦鹉).    \n",
    "\n",
    "![2-3](https://s.pc.qq.com/tousu/img/20210326/1076011_1616746016.jpg)    \n",
    "\n",
    "---\n",
    "\n",
    "peep(两只小手(p)两只眼(e),趴在窗口\"偷偷看\"), spend their lives together(一辈子都待在一起).    \n",
    "\n",
    "\"pipping\" 是 \"破壳而出\" 的意思, 等于 \"hatching from the eggs\".    \n",
    "\n",
    "![4-5](https://s.pc.qq.com/tousu/img/20210326/6299395_1616746019.jpg)    \n",
    "\n",
    "---\n",
    "\n",
    "plants and vegetables(植物和蔬菜).    \n",
    "\n",
    "![6-7](https://s.pc.qq.com/tousu/img/20210326/4176015_1616746014.jpg)    \n",
    "\n",
    "---\n",
    "\n",
    "scarlet macaw(五彩金刚鹦鹉), green-winged macaw(红绿金刚鹦鹉).    \n",
    "\n",
    "![8-9](https://s.pc.qq.com/tousu/img/20210326/1037254_1616746019.jpg)    \n",
    "\n",
    "---\n",
    "\n",
    "Parrot feathers come in many shades of the rainbow(鹦鹉的羽毛有许多彩虹阴影的颜色).    \n",
    "\n",
    "![10-11](https://s.pc.qq.com/tousu/img/20210326/7139921_1616746012.jpg)    \n",
    "\n",
    "---\n",
    "\n",
    "purring(颤动声,如猫的呼噜声), squawking(大而刺的鸟叫声), perch on branches(栖息在树枝上), grip on tight(抓得很紧).    \n",
    "\n",
    "![12-13](https://s.pc.qq.com/tousu/img/20210326/4416779_1616746012.jpg)    \n",
    "\n",
    "---\n",
    "\n",
    "pals(伙伴), 可以用 \"pandemonium(骚动)\" 或 \"flock\" 形容 \"一群鹦鹉\".    \n",
    "\n",
    "![14-15](https://s.pc.qq.com/tousu/img/20210326/7914276_1616746013.jpg)    \n",
    "\n",
    "---\n",
    "\n",
    "坚持住(hang on), 本系列(serie)马上就要结束了! 天暖了, 快伸出你的小手点个赞(like)吧, 谢谢!    \n",
    "\n",
    "![16](https://s.pc.qq.com/tousu/img/20210326/4778302_1616746008.jpg)    "
   ]
  }
 ],
 "metadata": {
  "kernelspec": {
   "display_name": "Python 3",
   "language": "python",
   "name": "python3"
  },
  "language_info": {
   "codemirror_mode": {
    "name": "ipython",
    "version": 3
   },
   "file_extension": ".py",
   "mimetype": "text/x-python",
   "name": "python",
   "nbconvert_exporter": "python",
   "pygments_lexer": "ipython3",
   "version": "3.8.3"
  },
  "toc": {
   "base_numbering": 1,
   "nav_menu": {},
   "number_sections": true,
   "sideBar": true,
   "skip_h1_title": true,
   "title_cell": "Table of Contents",
   "title_sidebar": "Contents",
   "toc_cell": false,
   "toc_position": {},
   "toc_section_display": true,
   "toc_window_display": false
  }
 },
 "nbformat": 4,
 "nbformat_minor": 4
}
