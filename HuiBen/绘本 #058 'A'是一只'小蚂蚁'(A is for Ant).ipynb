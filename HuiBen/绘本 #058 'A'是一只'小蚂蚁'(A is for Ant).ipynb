{
 "cells": [
  {
   "cell_type": "markdown",
   "metadata": {},
   "source": [
    "HuiBen_058 % [d]2021-03-18; [xmxp](); [n]'A'是一只'小蚂蚁'; [l]绘本; [t]A is for Ant; [by]凯特·斯莱特(Kate Slater); [ps]DK; [ebook\n",
    "]绘本;\n",
    "\n",
    "https://pan.baidu.com/s/169dOjjQSkRcuvz_GLbctMQ\n",
    "\n",
    "---"
   ]
  },
  {
   "cell_type": "markdown",
   "metadata": {},
   "source": [
    "![01](https://s.pc.qq.com/tousu/img/20210315/7947838_1615815874.jpg)    \n",
    "\n",
    "---\n",
    "\n",
    "### 'A'是一只'小蚂蚁'    \n",
    "\n",
    "凯特·斯莱特    \n",
    "\n",
    "![sm](https://s.pc.qq.com/tousu/img/20210315/1484631_1615816678.jpg)    \n",
    "\n",
    "---\n",
    "\n",
    "weaver ant(织叶蚁), leafcutter ant(切叶蚁), bulldog ant(牛头犬蚁), black garden ant(黑色园蚁), army ant(军蚁), red fire ant(红火蚁).    \n",
    "\n",
    "![02-03](https://s.pc.qq.com/tousu/img/20210315/3742546_1615815876.jpg)    \n",
    "\n",
    "---\n",
    "\n",
    "Ants use their antennae(触角) to smell things(嗅东西), such as food.    \n",
    "\n",
    "![04-05](https://s.pc.qq.com/tousu/img/20210315/7710223_1615815879.jpg)    \n",
    "\n",
    "---\n",
    "\n",
    "anthill(蚁丘), larvae(幼虫).    \n",
    "\n",
    "![06-07](https://s.pc.qq.com/tousu/img/20210315/3782707_1615815889.jpg)    \n",
    "\n",
    "---\n",
    "\n",
    "flying ants(飞蚁), a new home(一个新的家园).    \n",
    "\n",
    "![08-09](https://s.pc.qq.com/tousu/img/20210315/4239189_1615815879.jpg)    \n",
    "\n",
    "---\n",
    "\n",
    "ant farm(蚂蚁农场), awesome(了不起的,令人惊异的).    \n",
    "\n",
    "![10-11](https://s.pc.qq.com/tousu/img/20210315/3892338_1615815886.jpg)    \n",
    "\n",
    "---\n",
    "\n",
    "anteater(食蚁兽), poking inside anthills(往蚁丘里刺探).    \n",
    "\n",
    "![12-13](https://s.pc.qq.com/tousu/img/20210315/5944245_1615815884.jpg)    \n",
    "\n",
    "---\n",
    "\n",
    "Ants(蚂蚁们) are almost everywhere(无处不在)!    \n",
    "\n",
    "![14-15](https://s.pc.qq.com/tousu/img/20210315/1937728_1615815884.jpg)    \n",
    "\n",
    "---\n",
    "\n",
    "animal-lover(动物爱好者), book-lover(书籍爱好者), ex-lover(前任), nature-lover(热爱自然的人), pet-lover(宠物爱好者).    \n",
    "\n",
    "![16](https://s.pc.qq.com/tousu/img/20210315/1396501_1615815875.jpg)    "
   ]
  }
 ],
 "metadata": {
  "kernelspec": {
   "display_name": "Python 3",
   "language": "python",
   "name": "python3"
  },
  "language_info": {
   "codemirror_mode": {
    "name": "ipython",
    "version": 3
   },
   "file_extension": ".py",
   "mimetype": "text/x-python",
   "name": "python",
   "nbconvert_exporter": "python",
   "pygments_lexer": "ipython3",
   "version": "3.8.3"
  },
  "toc": {
   "base_numbering": 1,
   "nav_menu": {},
   "number_sections": true,
   "sideBar": true,
   "skip_h1_title": true,
   "title_cell": "Table of Contents",
   "title_sidebar": "Contents",
   "toc_cell": false,
   "toc_position": {},
   "toc_section_display": true,
   "toc_window_display": false
  }
 },
 "nbformat": 4,
 "nbformat_minor": 4
}
