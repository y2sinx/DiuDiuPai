{
 "cells": [
  {
   "cell_type": "markdown",
   "metadata": {},
   "source": [
    "HuiBen_071 % [d]2021-03-31; [xmxp](); [n]'O'是一只'大章鱼'; [l]绘本; [t]O is for Ocopus; [by]Kaja Kajfez(卡娅·凯菲兹); [ps]DK; [ebook]绘本;\n",
    "\n",
    "https://pan.baidu.com/s/1l_B6MwpxfXvnh4-PxkFGdg\n",
    "\n",
    "----"
   ]
  },
  {
   "cell_type": "markdown",
   "metadata": {},
   "source": [
    "![1](https://s.pc.qq.com/tousu/img/20210326/9127636_1616744014.jpg)    \n",
    "\n",
    "---\n",
    "\n",
    "### 'O'是一只'大章鱼'    \n",
    "\n",
    "卡娅·凯菲兹    \n",
    "\n",
    "![sm](https://s.pc.qq.com/tousu/img/20210326/4678727_1616744009.jpg)    \n",
    "\n",
    "---\n",
    "\n",
    "common octopus(普通章鱼), blue-ringed octopus(蓝环章鱼), flapjack octopus(烙饼章鱼), coconut octopus(椰子章鱼), Atlantic white-spotted octopus(大西洋白斑章鱼), curled octopus(卷腿章鱼).    \n",
    "\n",
    "![2-3](https://s.pc.qq.com/tousu/img/20210326/5356012_1616744023.jpg)    \n",
    "\n",
    "---\n",
    "\n",
    "All octopuses(+es->pl) live in the sea.    \n",
    "\n",
    "![4-5](https://s.pc.qq.com/tousu/img/20210326/5779534_1616744022.jpg)    \n",
    "\n",
    "---\n",
    "\n",
    "oozing ink(渗出墨汁): 当收到惊吓时, 章鱼会喷射出(squirt out)一团墨水(a cloud of ink).    \n",
    "\n",
    "![6-7](https://s.pc.qq.com/tousu/img/20210326/1423871_1616744016.jpg)    \n",
    "\n",
    "---\n",
    "\n",
    "zebra sole(花条鳎(tǎ)), sea snake(海蛇), lionfish(狮子鱼).    \n",
    "\n",
    "The mimic octopus(拟态章鱼) pretends to be other animals(假装成其它动物) as a disguise(作为伪装).    \n",
    "\n",
    "\n",
    "![8-9](https://s.pc.qq.com/tousu/img/20210326/3352108_1616744032.jpg)    \n",
    "\n",
    "---\n",
    "\n",
    "oysters(蚝,牡蛎(mǔ lì)), crabs(螃蟹).    \n",
    "\n",
    "![10-11](https://s.pc.qq.com/tousu/img/20210326/4446794_1616744019.jpg)    \n",
    "\n",
    "---\n",
    "\n",
    "章鱼可以用其八条腿(eight arms)拿东西(pick up objects).    \n",
    "\n",
    "![12-13](https://s.pc.qq.com/tousu/img/20210326/5052139_1616744014.jpg)    \n",
    "\n",
    "---\n",
    "\n",
    "章鱼家族(octopus family): cuttlefish(乌贼), squid(鱿鱼,枪乌贼), nautilus(鹦鹉螺).    \n",
    "\n",
    "![14-15](https://s.pc.qq.com/tousu/img/20210326/2792889_1616744017.jpg)    \n",
    "\n",
    "---\n",
    "\n",
    "可以与 oval-shaped(椭圆形的) 一起记的单词: bow~(弓形的), bulb~(灯泡状的), cross~(十字形的), diamond~(菱形的), dumbbell~(哑铃形的), funnel~(漏斗形的), i~(工字形的), leaf~(叶状的), needle~(针状的), s~(蛇形的), saddle~(马鞍状的), sickle~(镰状的), tear~(泪珠状的), tube~(管状的)...    \n",
    "\n",
    "![16](https://s.pc.qq.com/tousu/img/20210326/5415700_1616744011.jpg)    "
   ]
  }
 ],
 "metadata": {
  "kernelspec": {
   "display_name": "Python 3",
   "language": "python",
   "name": "python3"
  },
  "language_info": {
   "codemirror_mode": {
    "name": "ipython",
    "version": 3
   },
   "file_extension": ".py",
   "mimetype": "text/x-python",
   "name": "python",
   "nbconvert_exporter": "python",
   "pygments_lexer": "ipython3",
   "version": "3.8.3"
  },
  "toc": {
   "base_numbering": 1,
   "nav_menu": {},
   "number_sections": true,
   "sideBar": true,
   "skip_h1_title": true,
   "title_cell": "Table of Contents",
   "title_sidebar": "Contents",
   "toc_cell": false,
   "toc_position": {},
   "toc_section_display": true,
   "toc_window_display": false
  }
 },
 "nbformat": 4,
 "nbformat_minor": 4
}
