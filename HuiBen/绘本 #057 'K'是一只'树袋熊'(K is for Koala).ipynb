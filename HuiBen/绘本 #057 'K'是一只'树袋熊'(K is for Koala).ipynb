{
 "cells": [
  {
   "cell_type": "markdown",
   "metadata": {},
   "source": [
    "\n",
    "58:  https://pan.baidu.com/s/169dOjjQSkRcuvz_GLbctMQ\n",
    "\n",
    "59:  https://pan.baidu.com/s/1L9_w_BSkOB8c_7c342e-cg\n",
    "\n",
    "60:  https://pan.baidu.com/s/1bwpOCg9TO3rH6SvWLOvZxw\n",
    "\n",
    "61:  https://pan.baidu.com/s/1euPHkLiN7Lg8eUq5pthqcg\n"
   ]
  },
  {
   "cell_type": "markdown",
   "metadata": {},
   "source": [
    "HuiBen_057 % [d]2021-03-; [xmxp](); [n]'K'是一只'树袋熊'; [l]绘本; [t]K is for Koala; [by]Marc Pattenden(马克·帕滕登); [ps]DK; [ebook]绘本;"
   ]
  },
  {
   "cell_type": "markdown",
   "metadata": {},
   "source": [
    "![01](https://s.pc.qq.com/tousu/img/20210313/6679015_1615624316.jpg)\n",
    "\n",
    "---\n",
    "\n",
    "### 'K'是一只'树袋熊'\n",
    "\n",
    "马克·帕滕登\n",
    "\n",
    "![sm](https://s.pc.qq.com/tousu/img/20210313/8383494_1615624505.jpg)\n",
    "\n",
    "---\n",
    "\n",
    "树袋熊(koalas)生活在澳大利亚(Australia).\n",
    "\n",
    "![02-03](https://s.pc.qq.com/tousu/img/20210313/8726077_1615624343.jpg)\n",
    "\n",
    "---\n",
    "\n",
    "袋鼠(kangaroo)和笑翠鸟(kookaburra)也生活在那.\n",
    "\n",
    "![04-05](https://s.pc.qq.com/tousu/img/20210313/5599676_1615624335.jpg)\n",
    "\n",
    "---\n",
    "\n",
    "树袋熊会选择一小片树林(a patch of trees)进行统治(rule over).\n",
    "\n",
    "![06-07](https://s.pc.qq.com/tousu/img/20210313/6724213_1615624347.jpg)\n",
    "\n",
    "---\n",
    "\n",
    "树袋熊喜欢一个人生活(live on their own).\n",
    "\n",
    "![08-09](https://s.pc.qq.com/tousu/img/20210313/5342681_1615624350.jpg)\n",
    "\n",
    "---\n",
    "\n",
    "'joeys' 不仅可以指袋鼠的小宝宝, 还可以指树袋熊的小宝宝.\n",
    "\n",
    "他们紧紧的依偎(stay snug)在妈妈的育儿袋里(in their mother's pouch).\n",
    "\n",
    "![10-11](https://s.pc.qq.com/tousu/img/20210313/7272402_1615624339.jpg)\n",
    "\n",
    "---\n",
    "\n",
    "看, 这里有澳洲野狗(dingoes)!\n",
    "\n",
    "![12-13](https://s.pc.qq.com/tousu/img/20210313/6933988_1615624346.jpg)\n",
    "\n",
    "---\n",
    "\n",
    "在澳大利亚, 人们会为了树袋熊有口吃的(for koalas to eat)而种树(plant trees).\n",
    "\n",
    "![14-15](https://s.pc.qq.com/tousu/img/20210313/8540715_1615624344.jpg)\n",
    "\n",
    "---\n",
    "\n",
    "laptop(膝上型电脑/笔记本电脑), desktop(计算机桌面/台式机), tanktop(背心/吊带汗衫), rooftop(屋顶), mountaintop(山顶). \n",
    "\n",
    "![16](https://s.pc.qq.com/tousu/img/20210313/7270767_1615624310.jpg)"
   ]
  }
 ],
 "metadata": {
  "kernelspec": {
   "display_name": "Python 3",
   "language": "python",
   "name": "python3"
  },
  "toc": {
   "base_numbering": 1,
   "nav_menu": {},
   "number_sections": true,
   "sideBar": true,
   "skip_h1_title": true,
   "title_cell": "Table of Contents",
   "title_sidebar": "Contents",
   "toc_cell": false,
   "toc_position": {},
   "toc_section_display": true,
   "toc_window_display": false
  }
 },
 "nbformat": 4,
 "nbformat_minor": 4
}
