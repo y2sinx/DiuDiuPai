{
 "cells": [
  {
   "cell_type": "markdown",
   "metadata": {},
   "source": [
    "HuiBen_061 % [d]2021-03-21; [xmxp](); [n]小家伙, 我爱你; [l]绘本; [t]I Love You Little One; [by]; [ps]DK; [ebook]绘本;"
   ]
  },
  {
   "cell_type": "markdown",
   "metadata": {},
   "source": [
    "![01](https://s.pc.qq.com/tousu/img/20210316/2779569_1615882097.jpg)    \n",
    "\n",
    "---\n",
    "\n",
    "### 小家伙, 我爱你    \n",
    "\n",
    "![sm](https://s.pc.qq.com/tousu/img/20210316/1566094_1615882095.jpg)    \n",
    "\n",
    "---\n",
    "\n",
    "我爱你胜过那夜晚发光的月亮.    \n",
    "\n",
    "![02-03](https://s.pc.qq.com/tousu/img/20210316/7708165_1615882100.jpg)    \n",
    "\n",
    "---\n",
    "\n",
    "我爱你胜过那夜晚所有的星星.    \n",
    "\n",
    "![04-05](https://s.pc.qq.com/tousu/img/20210316/8980489_1615882105.jpg)    \n",
    "\n",
    "---\n",
    "\n",
    "我爱你胜过那深蓝色的大海.    \n",
    "\n",
    "![06-07](https://s.pc.qq.com/tousu/img/20210316/1414997_1615882102.jpg)    \n",
    "\n",
    "---\n",
    "\n",
    "我爱你胜过那最高的树.    \n",
    "\n",
    "![08-09](https://s.pc.qq.com/tousu/img/20210316/1067678_1615882105.jpg)    \n",
    "\n",
    "---\n",
    "\n",
    "我爱你胜过那下雪的天.    \n",
    "\n",
    "![10-11](https://s.pc.qq.com/tousu/img/20210316/8836467_1615882098.jpg)    \n",
    "\n",
    "---\n",
    "\n",
    "我爱你胜过那最蓬松的羽毛.    \n",
    "\n",
    "![12-13](https://s.pc.qq.com/tousu/img/20210316/2558145_1615882101.jpg)    \n",
    "\n",
    "---\n",
    "\n",
    "我爱你胜过那自由的奔跑.    \n",
    "\n",
    "![14-15](https://s.pc.qq.com/tousu/img/20210316/4257426_1615882102.jpg)    \n",
    "\n",
    "---\n",
    "\n",
    "我的爱就是这么多. 晚安, 睡个好觉!    \n",
    "\n",
    "![16-17](https://s.pc.qq.com/tousu/img/20210316/3131090_1615882103.jpg)    "
   ]
  }
 ],
 "metadata": {
  "kernelspec": {
   "display_name": "Python 3",
   "language": "python",
   "name": "python3"
  },
  "language_info": {
   "codemirror_mode": {
    "name": "ipython",
    "version": 3
   },
   "file_extension": ".py",
   "mimetype": "text/x-python",
   "name": "python",
   "nbconvert_exporter": "python",
   "pygments_lexer": "ipython3",
   "version": "3.8.3"
  },
  "toc": {
   "base_numbering": 1,
   "nav_menu": {},
   "number_sections": true,
   "sideBar": true,
   "skip_h1_title": true,
   "title_cell": "Table of Contents",
   "title_sidebar": "Contents",
   "toc_cell": false,
   "toc_position": {},
   "toc_section_display": true,
   "toc_window_display": false
  }
 },
 "nbformat": 4,
 "nbformat_minor": 4
}
