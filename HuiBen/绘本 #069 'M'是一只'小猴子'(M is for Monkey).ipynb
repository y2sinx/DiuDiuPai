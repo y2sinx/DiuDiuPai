{
 "cells": [
  {
   "cell_type": "markdown",
   "metadata": {},
   "source": [
    "HuiBen_069 % [d]2021-03-29; [xmxp](); [n]'M'是一只'小猴子'; [l]绘本; [t]M is for Monkey; [by]Marc Pattenden(马克·帕滕登); [ps]DK; [ebook]绘本;\n",
    "\n",
    "https://pan.baidu.com/s/1DqAPVdIB_hYNuqD3u-LwvQ\n",
    "\n",
    "----"
   ]
  },
  {
   "cell_type": "markdown",
   "metadata": {},
   "source": [
    "![1](https://s.pc.qq.com/tousu/img/20210324/4215917_1616536410.jpg)    \n",
    "\n",
    "---\n",
    "\n",
    "### 'M'是一只'小猴子'    \n",
    "\n",
    "马克·帕滕登    \n",
    "\n",
    "![sm](https://ae04.alicdn.com/kf/Uee52782a46f748b7b32bae040f03a979C.jpg)    \n",
    "\n",
    "---\n",
    "\n",
    "spider monkey(蜘蛛猴), vervet monkey(长尾黑颚猴), golden lion tamarin(金狮面狨), proboscis monkey(长鼻猴), squirrel monkey(松鼠猴), Japanese macaque(日本猕猴).    \n",
    "\n",
    "![2-3](https://s.pc.qq.com/tousu/img/20210324/3149565_1616536419.jpg)    \n",
    "\n",
    "---\n",
    "\n",
    "mini(迷你), pygmy marmosets(侏儒猿猴), massive(魁伟的), mandrills(山魈(xiāo)).    \n",
    "\n",
    "![4-5](https://s.pc.qq.com/tousu/img/20210324/1775493_1616536421.jpg)    \n",
    "\n",
    "---\n",
    "\n",
    "swing from tree to tree(在树间荡秋千).    \n",
    "\n",
    "![6-7](https://s.pc.qq.com/tousu/img/20210324/6251084_1616536421.jpg)    \n",
    "\n",
    "---\n",
    "\n",
    "howler monkey(吼叫猴), golden snub-nosed monkey(仰鼻猴,川金丝猴).    \n",
    "\n",
    "![8-9](https://s.pc.qq.com/tousu/img/20210324/2583895_1616536414.jpg)    \n",
    "\n",
    "---\n",
    "\n",
    "可以使用 troop(军队->群组), tribe(部落), 或 mission(任务->代表团)称呼一群猴子.    \n",
    "\n",
    "![10-11](https://s.pc.qq.com/tousu/img/20210324/9254447_1616536423.jpg)    \n",
    "\n",
    "---\n",
    "\n",
    "cling to(依靠,依附于), huddle together to keep warm(抱团取暖).    \n",
    "\n",
    "![12-13](https://s.pc.qq.com/tousu/img/20210324/6707174_1616536415.jpg)    \n",
    "\n",
    "---\n",
    "\n",
    "mischief(顽皮,恶作剧), capuchin monkeys(卷尾猴).    \n",
    "\n",
    "![14-15](https://s.pc.qq.com/tousu/img/20210324/8093481_1616536414.jpg)    \n",
    "\n",
    "---\n",
    "\n",
    "marvel at the magnificent world of monkeys(惊叹于猴子的壮观世界).    \n",
    "\n",
    "![16](https://s.pc.qq.com/tousu/img/20210324/7980588_1616536410.jpg)    "
   ]
  }
 ],
 "metadata": {
  "kernelspec": {
   "display_name": "Python 3",
   "language": "python",
   "name": "python3"
  },
  "language_info": {
   "codemirror_mode": {
    "name": "ipython",
    "version": 3
   },
   "file_extension": ".py",
   "mimetype": "text/x-python",
   "name": "python",
   "nbconvert_exporter": "python",
   "pygments_lexer": "ipython3",
   "version": "3.8.3"
  },
  "toc": {
   "base_numbering": 1,
   "nav_menu": {},
   "number_sections": true,
   "sideBar": true,
   "skip_h1_title": true,
   "title_cell": "Table of Contents",
   "title_sidebar": "Contents",
   "toc_cell": false,
   "toc_position": {},
   "toc_section_display": true,
   "toc_window_display": false
  }
 },
 "nbformat": 4,
 "nbformat_minor": 4
}
