{
 "cells": [
  {
   "cell_type": "markdown",
   "metadata": {},
   "source": [
    "HuiBen_063 % [d]2021-03-23; [xmxp](); [n]'R'是一只'小兔子'; [l]绘本; [t]R is for Rabbit; [by]Kate Slater(凯特·斯莱特); [ps]DK; [ebook]绘本;\n",
    "\n",
    "https://pan.baidu.com/s/1ffmmVG5MudW8np1VaMS_7g\n",
    "\n",
    "---"
   ]
  },
  {
   "cell_type": "markdown",
   "metadata": {},
   "source": [
    "![01.png](https://s.pc.qq.com/tousu/img/20210319/8504127_1616158920.jpg)    \n",
    "\n",
    "---\n",
    "\n",
    "### 'R'是一只'小兔子'    \n",
    "\n",
    "凯特·斯莱特    \n",
    "\n",
    "![sm.png](https://s.pc.qq.com/tousu/img/20210319/1025505_1616158913.jpg)    \n",
    "\n",
    "---\n",
    "\n",
    "striped(身上有条纹的), spotty(身上到处是斑点的), hop(蹦蹦跳跳).    \n",
    "\n",
    "![02-03.png](https://s.pc.qq.com/tousu/img/20210319/4136289_1616158928.jpg)    \n",
    "\n",
    "---\n",
    "\n",
    "strong, sturdy back legs(强壮结实的后腿).    \n",
    "\n",
    "![04-05.png](https://s.pc.qq.com/tousu/img/20210319/1247455_1616158927.jpg)    \n",
    "\n",
    "---\n",
    "\n",
    "roots(根系), dig tunnels(挖隧道), warrens(养兔场).    \n",
    "\n",
    "![06-07.png](https://s.pc.qq.com/tousu/img/20210319/3023263_1616158937.jpg)    \n",
    "\n",
    "---\n",
    "\n",
    "dusk and dawn(黄昏和破晓).    \n",
    "\n",
    "![08-09.png](https://s.pc.qq.com/tousu/img/20210319/4406510_1616158936.jpg)    \n",
    "\n",
    "---\n",
    "\n",
    "rabbit hutch(兔笼), rabbit droppings(兔子排泄物), rabbit poop(兔子屎), small round balls(小圆球).    \n",
    "\n",
    "![10-11.png](https://s.pc.qq.com/tousu/img/20210319/2006500_1616158923.jpg)    \n",
    "\n",
    "---\n",
    "\n",
    "kittens(不仅可以指小猫,还可以指小兔子), relatives(亲戚).    \n",
    "\n",
    "![12-13.png](https://s.pc.qq.com/tousu/img/20210319/3553279_1616158931.jpg)    \n",
    "\n",
    "---\n",
    "\n",
    "lovely animals(可爱的动物).    \n",
    "\n",
    "![14-15.png](https://s.pc.qq.com/tousu/img/20210319/6423066_1616158925.jpg)    \n",
    "\n",
    "---\n",
    "\n",
    "与 wonderful 的词意相近的词还有: amazing, awesome, beautiful, brilliant, excellent, fabulous, fantastic, great, marvellous, outstanding, perfect, splendid, superb, terrific.    \n",
    "\n",
    "![16.png](https://s.pc.qq.com/tousu/img/20210319/4034931_1616158917.jpg)    "
   ]
  }
 ],
 "metadata": {
  "kernelspec": {
   "display_name": "Python 3",
   "language": "python",
   "name": "python3"
  },
  "language_info": {
   "codemirror_mode": {
    "name": "ipython",
    "version": 3
   },
   "file_extension": ".py",
   "mimetype": "text/x-python",
   "name": "python",
   "nbconvert_exporter": "python",
   "pygments_lexer": "ipython3",
   "version": "3.8.3"
  },
  "toc": {
   "base_numbering": 1,
   "nav_menu": {},
   "number_sections": true,
   "sideBar": true,
   "skip_h1_title": true,
   "title_cell": "Table of Contents",
   "title_sidebar": "Contents",
   "toc_cell": false,
   "toc_position": {},
   "toc_section_display": true,
   "toc_window_display": false
  }
 },
 "nbformat": 4,
 "nbformat_minor": 4
}
