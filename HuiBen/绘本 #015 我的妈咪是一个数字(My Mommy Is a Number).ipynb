{
 "cells": [
  {
   "cell_type": "markdown",
   "metadata": {},
   "source": [
    "HuiBen_015 % [d]2020-12-27; [gzh](); [n]我的妈咪是一个数字; [l]绘本; [t]My Mommy Is a Number; [by]Christine Tripp(克里斯蒂娜·特里普); [pb]Beaver Books Publishing; [og]libgen;\n",
    "\n",
    "---"
   ]
  },
  {
   "cell_type": "markdown",
   "metadata": {},
   "source": [
    "![01_.JPG](https://ae02.alicdn.com/kf/H4f29f180fde84618aedce4058af97955p.jpg)  \n",
    "\n",
    "--- \n",
    "\n",
    "### 我的妈咪是一个数字  \n",
    "\n",
    "克里斯蒂娜·特里普  \n",
    "\n",
    "---\n",
    "\n",
    "![02_.JPG](https://ae03.alicdn.com/kf/H3c9c5aeeed264f5cbd43d2c5a00a7b10P.jpg)  \n",
    "\n",
    "我的妈咪是一个数字, 但是她不是数字 8.  \n",
    "\n",
    "---\n",
    "\n",
    "![03_.JPG](https://ae02.alicdn.com/kf/H65521bcfb02c45c9b092829298a6fb41r.jpg)  \n",
    "\n",
    "因为这个数字太大, 而且看起来很笨拙. 不, 我妈咪的数字更 \"大\".  \n",
    "\n",
    "---\n",
    "\n",
    "![04_.JPG](https://ae03.alicdn.com/kf/Hf3bcabd307b3464a80396335a3aee4502.jpg)  \n",
    "\n",
    "但是她不是数字 6, 尽管这看起来很合适.  \n",
    "\n",
    "---\n",
    "\n",
    "![05_.JPG](https://ae04.alicdn.com/kf/H476bc5e6d58f4cbbb9ce5e7d003d6d50o.jpg)  \n",
    "\n",
    "6 虽然不像数字 7 那么好, 但是它比数字 9 好多了.  \n",
    "\n",
    "---\n",
    "\n",
    "![06_.JPG](https://ae03.alicdn.com/kf/H22a419a1edfd48b68488333b2715c1750.jpg)  \n",
    "\n",
    "要知道, 我妈妈是一个数字, 但是她不是 5, 也不是 4, 也不是 3.  \n",
    "\n",
    "---\n",
    "\n",
    "![07_.JPG](https://ae04.alicdn.com/kf/H8ad09472366e4d8ca4639382f0fa3687e.jpg)  \n",
    "\n",
    "因为这些数字, 无法向我描述我的妈咪对我意味着什么.  \n",
    "\n",
    "---\n",
    "\n",
    "![08_.JPG](https://ae03.alicdn.com/kf/H3195fe8feb2649c7b3455e9f4bf574f4s.jpg)  \n",
    "\n",
    "我妈咪是剩余数字中, 第二个最好的数字.  \n",
    "\n",
    "---\n",
    "\n",
    "![09_.JPG](https://sc04.alicdn.com/kf/Hbc0ade146c70408db31aad5abcd23ce9p.jpg)  \n",
    "\n",
    "我觉得,你或许已经知道我的妈咪是什么数字了. 对啦, 她是数字 1.  \n",
    "\n",
    "---\n",
    "\n",
    "![10_.JPG](https://sc01.alicdn.com/kf/H2d8a80d9e85142399240a0af9f6176ddN.jpg)  \n",
    "\n",
    "\"单词男孩\" 出生于1962年, 准确的说, 他既不是一个单词也不是一个小男孩...  \n",
    "\n",
    "(图片来源网络,仅供学习,侵权删.)  "
   ]
  }
 ],
 "metadata": {
  "kernelspec": {
   "display_name": "Python 3",
   "language": "python",
   "name": "python3"
  },
  "language_info": {
   "codemirror_mode": {
    "name": "ipython",
    "version": 3
   },
   "file_extension": ".py",
   "mimetype": "text/x-python",
   "name": "python",
   "nbconvert_exporter": "python",
   "pygments_lexer": "ipython3",
   "version": "3.8.3"
  },
  "toc": {
   "base_numbering": 1,
   "nav_menu": {},
   "number_sections": true,
   "sideBar": true,
   "skip_h1_title": true,
   "title_cell": "Table of Contents",
   "title_sidebar": "Contents",
   "toc_cell": false,
   "toc_position": {},
   "toc_section_display": true,
   "toc_window_display": false
  }
 },
 "nbformat": 4,
 "nbformat_minor": 4
}
