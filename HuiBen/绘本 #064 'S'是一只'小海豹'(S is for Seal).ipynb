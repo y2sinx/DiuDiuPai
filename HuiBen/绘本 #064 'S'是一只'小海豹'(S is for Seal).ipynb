{
 "cells": [
  {
   "cell_type": "markdown",
   "metadata": {},
   "source": [
    "HuiBen_064 % [d]2021-03-24; [xmxp](); [n]'S'是一只'小海豹'; [l]绘本; [t]S is for Seal; [by]Jean Claude(让·克劳德); [ps]DK; [ebook]绘本;\n",
    "\n",
    "https://pan.baidu.com/s/14uMZSToqVoImf9YRUlyoyQ\n",
    "\n",
    "---\n"
   ]
  },
  {
   "cell_type": "markdown",
   "metadata": {},
   "source": [
    "![1](https://s.pc.qq.com/tousu/img/20210319/5031150_1616165813.jpg)    \n",
    "\n",
    "---\n",
    "\n",
    "### 'S'是一只'小海豹'    \n",
    "\n",
    "Jean Claude    \n",
    "\n",
    "![sm](https://s.pc.qq.com/tousu/img/20210319/5956837_1616165809.jpg)    \n",
    "\n",
    "---\n",
    "\n",
    "leopard seal(豹海豹), elephant seal(象海豹), Antarctic fur seal(南极毛皮海豹), ribbon seal(带斑海豹), harbor seal(港海豹).    \n",
    "\n",
    "![2-3](https://s.pc.qq.com/tousu/img/20210319/7592985_1616165820.jpg)    \n",
    "\n",
    "---\n",
    "\n",
    "A female seal(母海豹) looks after one pup at a time(一次只带一个宝宝).    \n",
    "\n",
    "![4-5](https://s.pc.qq.com/tousu/img/20210319/9587275_1616165822.jpg)    \n",
    "\n",
    "---\n",
    "\n",
    "South American fur seal, bellows(吼叫), Weddell seal(威德尔氏海豹), whistle(吹哨).    \n",
    "\n",
    "![6-7](https://s.pc.qq.com/tousu/img/20210319/7794700_1616165816.jpg)    \n",
    "\n",
    "---\n",
    "\n",
    "steer(引导), front flippers(前鳍).    \n",
    "\n",
    "![8-9](https://s.pc.qq.com/tousu/img/20210319/9808315_1616165823.jpg)    \n",
    "\n",
    "---\n",
    "\n",
    "Seals can sleep in water(海豹可以在水下睡觉).    \n",
    "\n",
    "![10-11](https://s.pc.qq.com/tousu/img/20210319/1260017_1616165817.jpg)    \n",
    "\n",
    "---\n",
    "\n",
    "spots(斑点).    \n",
    "\n",
    "![12-13](https://s.pc.qq.com/tousu/img/20210319/1769621_1616165817.jpg)    \n",
    "\n",
    "---\n",
    "\n",
    "SpeedY: **名词 + Y -> 形容词**(速度+Y->迅速的). 下面仅整理了部分以 dY 结尾的形容词.    \n",
    "\n",
    "![14-15](https://s.pc.qq.com/tousu/img/20210319/2120294_1616165825.jpg)    \n",
    "\n",
    "---\n",
    "\n",
    "bloody(血->血腥的), cloudy(云->多云的), handy(手->就在手边的,便利的), leady(铅->含铅的), moldy/mouldy(霉->发霉的), muddy(泥->泥泞的), needy(需要->需要的,生活艰苦的), reedy(芦苇->芦苇丛生的), sandy(沙子-多沙的>), trendy(趋势->流行的), weedy(草->尽是杂草的), woody(木头->木质的), wordy(单词->冗长的).    \n",
    "\n",
    "![16](https://s.pc.qq.com/tousu/img/20210319/6757573_1616165812.jpg)    "
   ]
  }
 ],
 "metadata": {
  "kernelspec": {
   "display_name": "Python 3",
   "language": "python",
   "name": "python3"
  },
  "language_info": {
   "codemirror_mode": {
    "name": "ipython",
    "version": 3
   },
   "file_extension": ".py",
   "mimetype": "text/x-python",
   "name": "python",
   "nbconvert_exporter": "python",
   "pygments_lexer": "ipython3",
   "version": "3.8.3"
  },
  "toc": {
   "base_numbering": 1,
   "nav_menu": {},
   "number_sections": true,
   "sideBar": true,
   "skip_h1_title": true,
   "title_cell": "Table of Contents",
   "title_sidebar": "Contents",
   "toc_cell": false,
   "toc_position": {},
   "toc_section_display": true,
   "toc_window_display": false
  }
 },
 "nbformat": 4,
 "nbformat_minor": 4
}
