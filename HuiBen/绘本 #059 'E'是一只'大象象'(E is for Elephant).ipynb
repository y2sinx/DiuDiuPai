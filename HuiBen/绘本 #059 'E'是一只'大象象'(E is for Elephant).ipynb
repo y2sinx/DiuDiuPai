{
 "cells": [
  {
   "cell_type": "markdown",
   "metadata": {},
   "source": [
    "HuiBen_059 % [d]2021-03-19; xmxp; [n]'E'是一只'大象象'; [l]绘本; [t]E is for Elephant; [by]Kate Slater(凯特·斯莱特); [ps]DK; [ebook]绘本;\n",
    "\n",
    "https://pan.baidu.com/s/1L9_w_BSkOB8c_7c342e-cg"
   ]
  },
  {
   "cell_type": "markdown",
   "metadata": {},
   "source": [
    "![01](https://ae04.alicdn.com/kf/U70f0d829e79b4ae8a6cc6953166d68b5R.jpg)    \n",
    "\n",
    "---\n",
    "\n",
    "### 'E'是一只'大象象'    \n",
    "\n",
    "凯特·斯莱特    \n",
    "\n",
    "![sm](https://ae02.alicdn.com/kf/U4fb862eab60442b08f4411ee63182575T.jpg)    \n",
    "\n",
    "---\n",
    "\n",
    "Two main types(两种主要类型的) of elephants: Asian elephant(亚洲象), African elephant(非洲象).    \n",
    "\n",
    "![02-03](https://ae03.alicdn.com/kf/U3f05552caee448c198bee4f9b82ed3929.jpg)    \n",
    "\n",
    "---\n",
    "\n",
    "Elephants keep cool(保持凉爽) by flapping their ears(呼扇着他们的大耳朵).    \n",
    "\n",
    "![04-05](https://ae04.alicdn.com/kf/U496a5a682ac140a8a1f002523620d0f2p.jpg)    \n",
    "\n",
    "---\n",
    "\n",
    "enormous(巨大的), the biggest animals that walk the Earth(地上行走的最大动物).    \n",
    "\n",
    "![06-07](https://sc04.alicdn.com/kf/U4960fc342a3442738ac7e070cef7f645O.jpg)    \n",
    "\n",
    "---\n",
    "\n",
    "calves(大象幼崽), eyelashes(眼睫毛).    \n",
    "\n",
    "![08-09](https://sc02.alicdn.com/kf/U327c8d26f78c442992a12edf68f7da4bB.jpg)    \n",
    "\n",
    "---\n",
    "\n",
    "trunk(象鼻), toot(嘟嘟~).    \n",
    "\n",
    "![10-11](https://ae04.alicdn.com/kf/Uc9414c8d615c4ec1ad5e6c829cb6a0203.jpg)    \n",
    "\n",
    "---\n",
    "\n",
    "roam around(闲逛), sanctuary(避难所).    \n",
    "\n",
    "![12-13](https://sc01.alicdn.com/kf/U7a276bb9e670481c804933540b1be638l.jpg)    \n",
    "\n",
    "---\n",
    "\n",
    "stick together(黏在一起), herds(兽群,出现好多次了,估计大家都记住了吧).    \n",
    "\n",
    "![14-15](https://ae04.alicdn.com/kf/Ufef0fc45b6ed4febb13d661dc5cf5057I.jpg)    \n",
    "\n",
    "---\n",
    "\n",
    "extra-budgetary(超预算的), extra-curricular(课外的), extra-heavy(超重的), extra-large(加大码的), extra-solar(太阳系以外的), extra-strong(特别强壮的), extra-thin(超薄型的), extra-violet(紫外线的).    \n",
    "\n",
    "![16](https://ae04.alicdn.com/kf/Ub461d72023a743c3af30e339d4265759i.jpg)    "
   ]
  }
 ],
 "metadata": {
  "kernelspec": {
   "display_name": "Python 3",
   "language": "python",
   "name": "python3"
  },
  "language_info": {
   "codemirror_mode": {
    "name": "ipython",
    "version": 3
   },
   "file_extension": ".py",
   "mimetype": "text/x-python",
   "name": "python",
   "nbconvert_exporter": "python",
   "pygments_lexer": "ipython3",
   "version": "3.8.3"
  },
  "toc": {
   "base_numbering": 1,
   "nav_menu": {},
   "number_sections": true,
   "sideBar": true,
   "skip_h1_title": true,
   "title_cell": "Table of Contents",
   "title_sidebar": "Contents",
   "toc_cell": false,
   "toc_position": {},
   "toc_section_display": true,
   "toc_window_display": false
  }
 },
 "nbformat": 4,
 "nbformat_minor": 4
}
