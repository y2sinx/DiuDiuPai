{
 "cells": [
  {
   "cell_type": "markdown",
   "metadata": {},
   "source": [
    "sz_012 % [d]2020-12-06; [gzh](); [n]我的小花园; [l]绘本; [og](https://bookdash.org/books/my-little-garden/); [t]My Little Garden; [a]Megan Lötter;\n",
    "\n",
    "A little boy and his dad find a plot full of litter. Can they turn it into something wonderful?  \n",
    "一个小男孩跟他爸爸发现了一处随处扔着垃圾的地方. 他们能将这个地方变得美好一点吗?\n",
    "\n",
    "---"
   ]
  },
  {
   "cell_type": "markdown",
   "metadata": {},
   "source": [
    "![1](https://bookdash.org/wp-content/uploads/2020/11/my-little-garden_en_20201105_cover-1.jpg)\n",
    "\n",
    "---\n",
    "\n",
    "# My Little Garden\n",
    "\n",
    "Bridget Krone | Megan Lötter | Sarah Slater\n",
    "\n",
    "---\n",
    "\n",
    "![2](https://bookdash.org/wp-content/uploads/2020/11/my-little-garden_en_20201105_page2-scaled.jpg)\n",
    "\n",
    "---\n",
    "\n",
    "![4](https://bookdash.org/wp-content/uploads/2020/11/my-little-garden_en_20201105_page4-scaled.jpg)\n",
    "\n",
    "---\n",
    "\n",
    "![5](https://bookdash.org/wp-content/uploads/2020/11/my-little-garden_en_20201105_page5-scaled.jpg)\n",
    "\n",
    "---\n",
    "\n",
    "![6](https://bookdash.org/wp-content/uploads/2020/11/my-little-garden_en_20201105_page6-scaled.jpg)\n",
    "\n",
    "---\n",
    "\n",
    "![7](https://bookdash.org/wp-content/uploads/2020/11/my-little-garden_en_20201105_page7-scaled.jpg)\n",
    "\n",
    "---\n",
    "\n",
    "![8](https://bookdash.org/wp-content/uploads/2020/11/my-little-garden_en_20201105_page8-scaled.jpg)\n",
    "\n",
    "---\n",
    "\n",
    "![9](https://bookdash.org/wp-content/uploads/2020/11/my-little-garden_en_20201105_page9-scaled.jpg)\n",
    "\n",
    "---\n",
    "\n",
    "![10](https://bookdash.org/wp-content/uploads/2020/11/my-little-garden_en_20201105_page10-scaled.jpg)\n",
    "\n",
    "---\n",
    "\n",
    "![11](https://bookdash.org/wp-content/uploads/2020/11/my-little-garden_en_20201105_page11-scaled.jpg)\n",
    "\n",
    "---\n",
    "\n",
    "![12](https://bookdash.org/wp-content/uploads/2020/11/my-little-garden_en_20201105_page12-scaled.jpg)\n",
    "\n",
    "---\n",
    "\n",
    "![13](https://bookdash.org/wp-content/uploads/2020/11/my-little-garden_en_20201105_page13-scaled.jpg)\n",
    "\n",
    "---\n",
    "\n",
    "![14](https://bookdash.org/wp-content/uploads/2020/11/my-little-garden_en_20201105_page14-scaled.jpg)\n",
    "\n",
    "---\n",
    "\n",
    "![15](https://bookdash.org/wp-content/uploads/2020/11/my-little-garden_en_20201105_page15-scaled.jpg)\n",
    "\n",
    "---\n",
    "\n",
    "![16](https://bookdash.org/wp-content/uploads/2020/11/my-little-garden_en_20201105_page16-scaled.jpg)\n",
    "\n",
    "---\n",
    "\n",
    "![17](https://bookdash.org/wp-content/uploads/2020/11/my-little-garden_en_20201105_page17.jpg)"
   ]
  },
  {
   "cell_type": "code",
   "execution_count": 20,
   "metadata": {},
   "outputs": [
    {
     "name": "stdout",
     "output_type": "stream",
     "text": [
      "[2, 6, 7] [5, 3, 4]\n",
      "[2, 7, 3] [5, 4, 6]\n",
      "[3, 2, 7] [6, 5, 4]\n"
     ]
    }
   ],
   "source": [
    "import itertools\n",
    "\n",
    "pairs=list(itertools.permutations([2,3,4,5,6,7]))\n",
    "\n",
    "for ab in pairs:\n",
    "    a=(list(ab)[:3])\n",
    "    b=(list(ab)[3:])\n",
    "    if (a[0]*100+a[1]*10+a[2])*2==b[0]*100+b[1]*10+b[2]:\n",
    "        print(a,b)"
   ]
  },
  {
   "cell_type": "code",
   "execution_count": 16,
   "metadata": {},
   "outputs": [
    {
     "data": {
      "text/plain": [
       "[2, 3, 4]"
      ]
     },
     "execution_count": 16,
     "metadata": {},
     "output_type": "execute_result"
    }
   ],
   "source": [
    "a"
   ]
  }
 ],
 "metadata": {
  "kernelspec": {
   "display_name": "Python 3",
   "language": "python",
   "name": "python3"
  },
  "language_info": {
   "codemirror_mode": {
    "name": "ipython",
    "version": 3
   },
   "file_extension": ".py",
   "mimetype": "text/x-python",
   "name": "python",
   "nbconvert_exporter": "python",
   "pygments_lexer": "ipython3",
   "version": "3.8.3"
  },
  "toc": {
   "base_numbering": 1,
   "nav_menu": {},
   "number_sections": true,
   "sideBar": true,
   "skip_h1_title": true,
   "title_cell": "Table of Contents",
   "title_sidebar": "Contents",
   "toc_cell": false,
   "toc_position": {},
   "toc_section_display": true,
   "toc_window_display": false
  }
 },
 "nbformat": 4,
 "nbformat_minor": 4
}
