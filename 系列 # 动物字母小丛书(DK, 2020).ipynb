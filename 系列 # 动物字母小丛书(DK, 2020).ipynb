{
 "cells": [
  {
   "cell_type": "markdown",
   "metadata": {},
   "source": [
    "百度网盘(共26本): https://pan.baidu.com/s/1FGlwInaJDyCWJwv4JcwYBg\n",
    "\n",
    "---"
   ]
  },
  {
   "cell_type": "markdown",
   "metadata": {},
   "source": [
    "> 今天给大家介绍一套由 DK 出版的动物字母表小丛书, 其画风精巧可爱, 语言简单生动, 既可以当插画欣赏, 又可以当小科普书学习...    \n",
    "\n",
    "**本系列(26本)由七位插画师共同完成**:    \n",
    "* 凯特·斯莱特(Kate Slater) 画 6 本.    \n",
    "* 马克·帕滕登(Marc Pattenden) 画 6 本.    \n",
    "* 让·克劳德(Jean Claude) 画 4 本.    \n",
    "* 丽芙·高斯林(Livi Gosling) 画 4 本.    \n",
    "* 卡娅·凯菲兹(Kaja Kajfez) 画 3 本.    \n",
    "* 桑迪亚·普拉巴特(Sandhya Prabhat) 画 2 本.    \n",
    "* 夏洛特·米尔纳(Charlotte Milner) 画 1 本.    \n",
    "\n",
    "#### 目录:    \n",
    "\n",
    "|标题|插画师|链接|    \n",
    "|:-|:-|:-|    \n",
    "| Ant | Kate Slater | [蚂蚁](https://mp.weixin.qq.com/s/2AV6UjFqf3EyIYSl-R21lw) |     \n",
    "| Bee | Charlotte Milner | [蜜蜂](https://mp.weixin.qq.com/s/TzurUkRTHJzZ3e3oUAn-6g) |     \n",
    "| Cat | Marc Pattenden | [猫猫](https://mp.weixin.qq.com/s/u6yHgESlaJdM3brG0riSTQ) |     \n",
    "| Dog | Kate Slater | [狗狗](https://mp.weixin.qq.com/s/2_AhXwtToP8AS0ANvk9jcw) |     \n",
    "| Elephant | Kate Slater | [大象](https://mp.weixin.qq.com/s/vFXaZ1sz7YGbqiY5JX40Zw) |     \n",
    "| Fox | Marc Pattenden | [狐狸](https://mp.weixin.qq.com/s/1ip64GB-AePPwkpJtgwjXQ) |     \n",
    "| Giraffe | Kate Slater | [长颈鹿](https://mp.weixin.qq.com/s/bKl7tGEsZdx0KqJJE0NNMw) |     \n",
    "| Hedgehog | Livi Gosling | [刺猬](https://mp.weixin.qq.com/s/n6UQoVevbpoqo2HrIl9d8A) |     \n",
    "| Iguana | Sandhya Prabhat | [鬣蜥](https://mp.weixin.qq.com/s/TPBDsPMkxVEHwDTUAl9eZg) |     \n",
    "| Jaguar | Jean Claude | [美洲虎](https://mp.weixin.qq.com/s/-bXkjpbDzurXbsOy9CcbmQ) |     \n",
    "| Koala | Marc Pattenden | [考拉](https://mp.weixin.qq.com/s/1D58x3842YAyXjPbH86R_w) |     \n",
    "| Llama | Livi Gosling | [美洲驼](https://mp.weixin.qq.com/s/JPkkdWBnk95XVXmzHtHY4g) |     \n",
    "| Monkey | Marc Pattenden | [猴子](https://mp.weixin.qq.com/s/gBmmhDu1V7DlD-CSjpzTlA) |     \n",
    "| Newt | Kaja Kajfez | [蝾螈](https://mp.weixin.qq.com/s/gsteQ0Q1lCInUwrpMNKYpQ) |     \n",
    "| Ocopus | Kaja Kajfez | [章鱼](https://mp.weixin.qq.com/s/iOIYldQRThqKxU6QMnaxsg) |     \n",
    "| Parrot | Sandhya Prabhat | [鹦鹉](https://mp.weixin.qq.com/s/XiKD-dJuhVsaDksVk_MASA) |     \n",
    "| Quokka | Jean Claude | [矮袋鼠](https://mp.weixin.qq.com/s/L1u2mLfd1hvKawPclmgBBg) |     \n",
    "| Rabbit | Kate Slater | [兔子](https://mp.weixin.qq.com/s/C2fhIOYux8SxCH33BsXITQ) |     \n",
    "| Seal | Jean Claude | [海豹](https://mp.weixin.qq.com/s/yQnddLpJetRx-6O0DgciOg) |     \n",
    "| Toad | Marc Pattenden | [蟾蜍](https://mp.weixin.qq.com/s/3C7tdSZBABVTn6UO0IkSkA) |     \n",
    "| Urchin | Kaja Kajfez | [海胆](https://mp.weixin.qq.com/s/Tj-4j4ZkoAiyIbq0NneP6A) |     \n",
    "| Vulture | Kate Slater | [秃鹫](https://mp.weixin.qq.com/s/jym3Qn2GVnao11mU8wEE4Q) |     \n",
    "| Whale | Livi Gosling | [鲸鱼](https://mp.weixin.qq.com/s/uWPLXJ7geoBARvIm7Em2Uw) |     \n",
    "| X-Ray Marc Pattenden | Fish | [X-射线鱼](https://mp.weixin.qq.com/s/DPB09R0mVOykw5sQZelEAw) |     \n",
    "| Yak | Jean Claude | [牦牛](https://mp.weixin.qq.com/s/QiHqpa7FzQQHkDr1OZSZpQ) |     \n",
    "| Zebra | Livi Gosling | [斑马](https://mp.weixin.qq.com/s/CtAyn8nzT8AkpfsJ8S9fjQ) |     "
   ]
  }
 ],
 "metadata": {
  "kernelspec": {
   "display_name": "Python 3",
   "language": "python",
   "name": "python3"
  },
  "language_info": {
   "codemirror_mode": {
    "name": "ipython",
    "version": 3
   },
   "file_extension": ".py",
   "mimetype": "text/x-python",
   "name": "python",
   "nbconvert_exporter": "python",
   "pygments_lexer": "ipython3",
   "version": "3.8.5"
  },
  "toc": {
   "base_numbering": 1,
   "nav_menu": {},
   "number_sections": true,
   "sideBar": true,
   "skip_h1_title": true,
   "title_cell": "Table of Contents",
   "title_sidebar": "Contents",
   "toc_cell": false,
   "toc_position": {},
   "toc_section_display": true,
   "toc_window_display": false
  }
 },
 "nbformat": 4,
 "nbformat_minor": 4
}
