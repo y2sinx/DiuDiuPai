{
 "cells": [
  {
   "cell_type": "markdown",
   "metadata": {},
   "source": [
    "如何判断数组A是否是正确的初始矩阵"
   ]
  },
  {
   "cell_type": "code",
   "execution_count": 1,
   "metadata": {},
   "outputs": [
    {
     "data": {
      "text/plain": [
       "array([[0, 0, 0, 1, 0, 0, 2, 6, 0],\n",
       "       [7, 0, 0, 0, 3, 0, 0, 0, 0],\n",
       "       [3, 0, 2, 0, 8, 0, 4, 0, 0],\n",
       "       [0, 0, 0, 4, 0, 8, 0, 0, 1],\n",
       "       [0, 3, 5, 0, 0, 0, 9, 4, 0],\n",
       "       [2, 0, 0, 3, 0, 5, 0, 0, 0],\n",
       "       [0, 0, 6, 0, 5, 0, 7, 0, 9],\n",
       "       [0, 0, 0, 0, 4, 0, 0, 0, 8],\n",
       "       [0, 5, 7, 0, 0, 9, 0, 0, 0]])"
      ]
     },
     "execution_count": 1,
     "metadata": {},
     "output_type": "execute_result"
    }
   ],
   "source": [
    "A = np.array( [[0,0,0,  1,0,0,  2,6,0], \n",
    "               [7,0,0,  0,3,0,  0,0,0], \n",
    "               [3,0,2,  0,8,0,  4,0,0], \n",
    "               \n",
    "               [0,0,0,  4,0,8,  0,0,1], \n",
    "               [0,3,5,  0,0,0,  9,4,0], \n",
    "               [2,0,0,  3,0,5,  0,0,0], \n",
    "               \n",
    "               [0,0,6,  0,5,0,  7,0,9], \n",
    "               [0,0,0,  0,4,0,  0,0,8], \n",
    "               [0,5,7,  0,0,9,  0,0,0] ])\n",
    "A"
   ]
  },
  {
   "cell_type": "code",
   "execution_count": 3,
   "metadata": {},
   "outputs": [],
   "source": [
    "def trybr(i,j,A):\n",
    "    \"\"\"根据某个元素的下标, 返回该元素的尝试集\"\"\"\n",
    "    if A[i,j] == 0:\n",
    "        gong_idx0_ = i//3 * 3 \n",
    "        gong_idx_0 = j//3 * 3\n",
    "        set_gong = set( [ A[gong_i, gong_j]\n",
    "                        for gong_i in range(gong_idx0_,gong_idx0_+3)\n",
    "                        for gong_j in range(gong_idx_0,gong_idx_0+3) ])\n",
    "        set_rawcol =  set(A[i,:]).union(set(A[:,j]))\n",
    "        set_try = set(range(1,10)).difference(set_gong.union(set_rawcol)) \n",
    "        set_list = list(set_try)\n",
    "        set_list.sort()\n",
    "        return set_list\n",
    "    else: \n",
    "        print(\"该位置已有元素:\",A[i,j])"
   ]
  },
  {
   "cell_type": "code",
   "execution_count": 4,
   "metadata": {},
   "outputs": [
    {
     "name": "stdout",
     "output_type": "stream",
     "text": [
      "0 0 \t 4 \t [4, 5, 8, 9]\n",
      "0 1 \t 3 \t [4, 8, 9]\n",
      "0 2 \t 3 \t [4, 8, 9]\n",
      "0 4 \t 2 \t [7, 9]\n",
      "0 5 \t 2 \t [4, 7]\n",
      "0 8 \t 3 \t [3, 5, 7]\n",
      "1 1 \t 5 \t [1, 4, 6, 8, 9]\n",
      "1 2 \t 4 \t [1, 4, 8, 9]\n",
      "1 3 \t 4 \t [2, 5, 6, 9]\n",
      "1 5 \t 3 \t [2, 4, 6]\n",
      "1 6 \t 3 \t [1, 5, 8]\n",
      "1 7 \t 4 \t [1, 5, 8, 9]\n",
      "1 8 \t 1 \t [5]\n",
      "2 1 \t 3 \t [1, 6, 9]\n",
      "2 3 \t 4 \t [5, 6, 7, 9]\n",
      "2 5 \t 2 \t [6, 7]\n",
      "2 7 \t 4 \t [1, 5, 7, 9]\n",
      "2 8 \t 2 \t [5, 7]\n",
      "3 0 \t 2 \t [6, 9]\n",
      "3 1 \t 3 \t [6, 7, 9]\n",
      "3 2 \t 1 \t [9]\n",
      "3 4 \t 4 \t [2, 6, 7, 9]\n",
      "3 6 \t 3 \t [3, 5, 6]\n",
      "3 7 \t 4 \t [2, 3, 5, 7]\n",
      "4 0 \t 3 \t [1, 6, 8]\n",
      "4 3 \t 3 \t [2, 6, 7]\n",
      "4 4 \t 4 \t [1, 2, 6, 7]\n",
      "4 5 \t 4 \t [1, 2, 6, 7]\n",
      "4 8 \t 3 \t [2, 6, 7]\n",
      "5 1 \t 6 \t [1, 4, 6, 7, 8, 9]\n",
      "5 2 \t 4 \t [1, 4, 8, 9]\n",
      "5 4 \t 4 \t [1, 6, 7, 9]\n",
      "5 6 \t 2 \t [6, 8]\n",
      "5 7 \t 2 \t [7, 8]\n",
      "5 8 \t 2 \t [6, 7]\n",
      "6 0 \t 3 \t [1, 4, 8]\n",
      "6 1 \t 4 \t [1, 2, 4, 8]\n",
      "6 3 \t 2 \t [2, 8]\n",
      "6 5 \t 3 \t [1, 2, 3]\n",
      "6 7 \t 3 \t [1, 2, 3]\n",
      "7 0 \t 2 \t [1, 9]\n",
      "7 1 \t 3 \t [1, 2, 9]\n",
      "7 2 \t 3 \t [1, 3, 9]\n",
      "7 3 \t 3 \t [2, 6, 7]\n",
      "7 5 \t 5 \t [1, 2, 3, 6, 7]\n",
      "7 6 \t 4 \t [1, 3, 5, 6]\n",
      "7 7 \t 4 \t [1, 2, 3, 5]\n",
      "8 0 \t 3 \t [1, 4, 8]\n",
      "8 3 \t 3 \t [2, 6, 8]\n",
      "8 4 \t 3 \t [1, 2, 6]\n",
      "8 6 \t 3 \t [1, 3, 6]\n",
      "8 7 \t 3 \t [1, 2, 3]\n",
      "8 8 \t 4 \t [2, 3, 4, 6]\n"
     ]
    }
   ],
   "source": [
    "for i in range(9):\n",
    "    for j in range(9):\n",
    "        if A[i,j] == 0:\n",
    "            print(i,j,\"\\t\", len(trybr(i,j,A)),\"\\t\", trybr(i,j,A))"
   ]
  },
  {
   "cell_type": "markdown",
   "metadata": {},
   "source": [
    "判断最后一个元素0所在的下标`last0i_`,`last0_j`"
   ]
  },
  {
   "cell_type": "code",
   "execution_count": 5,
   "metadata": {},
   "outputs": [],
   "source": [
    "%%disabled 0\n",
    "from copy import deepcopy\n",
    "def shudu(A,last0i_=8, last0_j=8):\n",
    "    A_new = deepcopy(A)\n",
    "    for i in range(9):\n",
    "        for j in range(9):\n",
    "            if A_new[i,j] == 0:\n",
    "               # 基本情况 #最后一个位置只能有一个可能的数字\n",
    "                if i == last0i_ and j == last0_j:\n",
    "                    last0 = trybr(i,j,A_new)[0]\n",
    "                    return last0\n",
    "                # 递归情况,不断将0替换为可选元素\n",
    "                else:\n",
    "                    for elem in trybr(i,j,A_new):\n",
    "                        A_new[i,j] = elem\n",
    "                        for result in shudu(A_new):\n",
    "                            yield result"
   ]
  },
  {
   "cell_type": "code",
   "execution_count": 7,
   "metadata": {},
   "outputs": [],
   "source": [
    "%%disabled\n",
    "from copy import deepcopy\n",
    "def shudu(A,last0i_=8, last0_j=8):\n",
    "    A_new = deepcopy(A)\n",
    "    for i in range(9):\n",
    "        for j in range(9):\n",
    "            if A_new[i,j] == 0:\n",
    "                for elem in trybr(i,j,A_new):\n",
    "                    A_new[i,j] = elem\n",
    "                    if shudu(A_new):\n",
    "                        return A_new"
   ]
  },
  {
   "cell_type": "code",
   "execution_count": 34,
   "metadata": {},
   "outputs": [],
   "source": [
    "def test(A):\n",
    "    for elem in [4,5,8,9]:\n",
    "        yield elem"
   ]
  },
  {
   "cell_type": "code",
   "execution_count": 39,
   "metadata": {},
   "outputs": [
    {
     "data": {
      "text/plain": [
       "[4, 5, 8, 9]"
      ]
     },
     "execution_count": 39,
     "metadata": {},
     "output_type": "execute_result"
    }
   ],
   "source": [
    "list(test(A))"
   ]
  },
  {
   "cell_type": "code",
   "execution_count": 46,
   "metadata": {},
   "outputs": [
    {
     "data": {
      "text/plain": [
       "[[1, 2], [3, 4], [5]]"
      ]
     },
     "execution_count": 46,
     "metadata": {},
     "output_type": "execute_result"
    }
   ],
   "source": [
    "nested = [[1,2],[3,4],[5]]\n",
    "nested"
   ]
  },
  {
   "cell_type": "code",
   "execution_count": null,
   "metadata": {},
   "outputs": [],
   "source": [
    "list(flatten(nested))"
   ]
  },
  {
   "cell_type": "code",
   "execution_count": 85,
   "metadata": {},
   "outputs": [],
   "source": [
    "def flatten(nested):\n",
    "    try: \n",
    "        try: nested + '' # 跳过原先的异常,引发一个自己的异常\n",
    "        except TypeError: pass\n",
    "        else: raise TypeError\n",
    "\n",
    "        for sublist in nested:\n",
    "            for elem in flatten(sublist):\n",
    "                yield elem\n",
    "    except TypeError:\n",
    "        yield nested #其实返回的是函数中的参数sublist"
   ]
  },
  {
   "cell_type": "code",
   "execution_count": 86,
   "metadata": {},
   "outputs": [
    {
     "data": {
      "text/plain": [
       "[1, 2, 3, 4, 5, 6, 7, 8]"
      ]
     },
     "execution_count": 86,
     "metadata": {},
     "output_type": "execute_result"
    }
   ],
   "source": [
    "# nested = [ [[1], 2], 3,4, [5,[6,7]],8]\n",
    "# list( flatten(nested))"
   ]
  },
  {
   "cell_type": "code",
   "execution_count": 90,
   "metadata": {},
   "outputs": [
    {
     "data": {
      "text/plain": [
       "['foo', 'bar', 'baz', 8]"
      ]
     },
     "execution_count": 90,
     "metadata": {},
     "output_type": "execute_result"
    }
   ],
   "source": [
    "nested = [ 'foo', ['bar',['baz',8]]]\n",
    "list(flatten(nested))"
   ]
  },
  {
   "cell_type": "code",
   "execution_count": null,
   "metadata": {},
   "outputs": [],
   "source": []
  },
  {
   "cell_type": "code",
   "execution_count": null,
   "metadata": {},
   "outputs": [],
   "source": []
  }
 ],
 "metadata": {
  "kernelspec": {
   "display_name": "Python 3",
   "language": "python",
   "name": "python3"
  },
  "language_info": {
   "codemirror_mode": {
    "name": "ipython",
    "version": 3
   },
   "file_extension": ".py",
   "mimetype": "text/x-python",
   "name": "python",
   "nbconvert_exporter": "python",
   "pygments_lexer": "ipython3",
   "version": "3.6.5"
  },
  "toc": {
   "base_numbering": 1,
   "nav_menu": {},
   "number_sections": true,
   "sideBar": true,
   "skip_h1_title": true,
   "title_cell": "Table of Contents",
   "title_sidebar": "Contents",
   "toc_cell": false,
   "toc_position": {},
   "toc_section_display": true,
   "toc_window_display": false
  }
 },
 "nbformat": 4,
 "nbformat_minor": 2
}
