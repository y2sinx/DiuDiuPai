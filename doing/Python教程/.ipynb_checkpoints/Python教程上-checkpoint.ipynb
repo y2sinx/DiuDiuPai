{
 "cells": [
  {
   "cell_type": "markdown",
   "metadata": {},
   "source": [
    "# Python教程"
   ]
  },
  {
   "cell_type": "markdown",
   "metadata": {},
   "source": [
    "不知你是否记得, 在Anaconda的安装过程中, 有一步是关于\"将Anaconda添加到你的系统环境变量\"的. 如果当时采取的是默认未勾选的状态, 而现在又想将其添加到系统的环境变量, 那么你可以按如下步骤添加(Win7): `计算机>属性>高级系统设置>环境变量>系统变量>Path`, 将`D:\\Anaconda3;D:\\Anaconda3\\Scripts;D:\\Anaconda3\\Library\\bin`这3个地址添加到`变量值`中, 注意不要改动原先存在的地址. 编辑系统变量的对话框如下:    \n",
    "![anaconda2path.png](https://i.loli.net/2019/10/15/AW3LOV4j6YpXHmt.png)"
   ]
  },
  {
   "cell_type": "markdown",
   "metadata": {},
   "source": [
    "一旦将Anaconda添加到系统的环境变量, 我们便可以用Windows自带的命令行工具`cmd`代替`Anaconda Prompt`了, 可通过`Windows键+R`> 输入`cmd` > `Enter`的顺序打开`cmd`. 在接下来的讨论中, 我们所说的终端既可以指`cmd`,也可以指`Anaconda Prompt`."
   ]
  },
  {
   "cell_type": "markdown",
   "metadata": {},
   "source": [
    "## 解释器"
   ]
  },
  {
   "cell_type": "markdown",
   "metadata": {},
   "source": [
    "简单来说, Python解释器就是一种可以接收Python命令, 并给出对应输出的一种程序. 现在, 讨论下有哪些常见的方式, 可以让我们运行Python程序."
   ]
  },
  {
   "cell_type": "markdown",
   "metadata": {},
   "source": [
    "1. 直接在终端中输入`python`或`ipython`:    \n",
    "![prompt.png](https://i.loli.net/2019/10/15/aM7pVfoJtNAecQB.png)"
   ]
  },
  {
   "cell_type": "markdown",
   "metadata": {},
   "source": [
    "2. 在 Jupyter Notebook文档中使用:    \n",
    "![notebook.png](https://i.loli.net/2019/10/15/4u8Hsv3xpCWD7i5.png)"
   ]
  },
  {
   "cell_type": "markdown",
   "metadata": {},
   "source": [
    "3. 在 Spyder[1]中使用:    \n",
    "![spyder.png](https://i.loli.net/2019/10/15/F5dqsOon9WfNzER.png)"
   ]
  },
  {
   "cell_type": "markdown",
   "metadata": {},
   "source": [
    "在这三种运行Python的方式中, 第一种对应纯Python解释器, 第二种对应Python解释器与文档编辑器的\"功能二合一\", 第三种对应\"多功能集一身\"的集成开发环境. 对于一般的应用, 不需要生成文档使用第一种方式, 需要生成文档使用第二种方式, 而对于大型的项目而言则可能更适合使用第三种方式.    \n",
    "\n",
    "Ref:    \n",
    "1. https://spyder-ide.org/"
   ]
  },
  {
   "cell_type": "markdown",
   "metadata": {},
   "source": [
    "练习1: 以脚本的方式运行模块`turtle`与`turtledemo`. \n",
    "1. 打开终端.\n",
    "1. 运行`Python -m turtle`, 观看一个小动画.    \n",
    "![turtle.png](https://i.loli.net/2019/10/15/b6Uox3vy19unICh.png)    \n",
    "1. 运行`Python -m turtledemo`, 演示一个turtle示例.    \n",
    "![turtledemo-frest.png](https://i.loli.net/2019/10/15/AiIW2pSRh6aKrlY.png)"
   ]
  },
  {
   "cell_type": "markdown",
   "metadata": {},
   "source": [
    "## Python基本数据类型"
   ]
  },
  {
   "cell_type": "markdown",
   "metadata": {},
   "source": [
    "数字"
   ]
  },
  {
   "cell_type": "markdown",
   "metadata": {},
   "source": [
    "Python 内置了对**复数**的支持, 使用数字与`j`/`J`的组合即可表示虚部, 如`1j`:\n",
    "* 只能是字母`j`, 不能是字母`i`\n",
    "* `j`之前必须有一个数字, 即`1j`不得写为`j` \n",
    "* 数字与`j`之间不得使用`*`号连接, 即`1j`不得写为 `1*j`"
   ]
  },
  {
   "cell_type": "code",
   "execution_count": 7,
   "metadata": {},
   "outputs": [
    {
     "data": {
      "text/plain": [
       "(-1+0j)"
      ]
     },
     "execution_count": 7,
     "metadata": {},
     "output_type": "execute_result"
    }
   ],
   "source": [
    "1j * 1j"
   ]
  },
  {
   "cell_type": "code",
   "execution_count": 8,
   "metadata": {},
   "outputs": [
    {
     "name": "stdout",
     "output_type": "stream",
     "text": [
      "NameError: name 'j' is not defined\n"
     ]
    }
   ],
   "source": [
    "try: j #1*j\n",
    "except NameError as e:\n",
    "    print('NameError:',e)"
   ]
  },
  {
   "cell_type": "markdown",
   "metadata": {},
   "source": [
    "多重赋值的每一重是同时进行的, 没有先后:"
   ]
  },
  {
   "cell_type": "code",
   "execution_count": 38,
   "metadata": {},
   "outputs": [
    {
     "data": {
      "text/plain": [
       "(2, 1)"
      ]
     },
     "execution_count": 38,
     "metadata": {},
     "output_type": "execute_result"
    }
   ],
   "source": [
    "a = 1\n",
    "b = 2\n",
    "a,b = b,a\n",
    "a,b"
   ]
  },
  {
   "cell_type": "markdown",
   "metadata": {},
   "source": [
    "## 控制语句"
   ]
  },
  {
   "cell_type": "markdown",
   "metadata": {},
   "source": [
    "## 函数"
   ]
  },
  {
   "cell_type": "markdown",
   "metadata": {},
   "source": [
    "## 模块"
   ]
  },
  {
   "cell_type": "markdown",
   "metadata": {},
   "source": [
    "## 输出"
   ]
  },
  {
   "cell_type": "markdown",
   "metadata": {},
   "source": [
    "## 异常"
   ]
  },
  {
   "cell_type": "markdown",
   "metadata": {},
   "source": [
    "## 类"
   ]
  }
 ],
 "metadata": {
  "kernelspec": {
   "display_name": "Python 3",
   "language": "python",
   "name": "python3"
  },
  "language_info": {
   "codemirror_mode": {
    "name": "ipython",
    "version": 3
   },
   "file_extension": ".py",
   "mimetype": "text/x-python",
   "name": "python",
   "nbconvert_exporter": "python",
   "pygments_lexer": "ipython3",
   "version": "3.7.3"
  },
  "toc-autonumbering": true
 },
 "nbformat": 4,
 "nbformat_minor": 4
}
