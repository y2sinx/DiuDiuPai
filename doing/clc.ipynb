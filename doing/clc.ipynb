{
 "cells": [
  {
   "cell_type": "markdown",
   "metadata": {},
   "source": [
    "准备工作已就绪, 接下来将开始正式的学习之旅.  \n",
    "\n",
    "Python官方文档推出中文版,扫清了中国同胞进入Python世界的大门. 自此,我们再也不必纠结于自己拙劣的英文理解能力了. 排除人与人之间基本的能力差异, 接下来考验我们的无非就是细心与坚持了. 真心的希望每一个热爱生活的人都能在Python世界里找到快乐."
   ]
  }
 ],
 "metadata": {
  "kernelspec": {
   "display_name": "Python 3",
   "language": "python",
   "name": "python3"
  },
  "language_info": {
   "codemirror_mode": {
    "name": "ipython",
    "version": 3
   },
   "file_extension": ".py",
   "mimetype": "text/x-python",
   "name": "python",
   "nbconvert_exporter": "python",
   "pygments_lexer": "ipython3",
   "version": "3.7.3"
  }
 },
 "nbformat": 4,
 "nbformat_minor": 4
}
