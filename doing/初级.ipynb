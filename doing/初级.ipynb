{
 "cells": [
  {
   "cell_type": "code",
   "execution_count": 11,
   "metadata": {
    "collapsed": false,
    "jupyter": {
     "outputs_hidden": false
    }
   },
   "outputs": [],
   "source": [
    "# sphinx_gallery_thumbnail_number = 3\n",
    "import matplotlib.pyplot as plt\n",
    "import numpy as np"
   ]
  },
  {
   "cell_type": "markdown",
   "metadata": {},
   "source": [
    "keep track of: 记录"
   ]
  },
  {
   "cell_type": "markdown",
   "metadata": {},
   "source": [
    "The easiest way to create a new figure is with pyplot:"
   ]
  },
  {
   "cell_type": "code",
   "execution_count": 45,
   "metadata": {
    "collapsed": false,
    "jupyter": {
     "outputs_hidden": false
    }
   },
   "outputs": [
    {
     "data": {
      "image/png": "[encoded data removed]",
      "text/plain": [
       "<Figure size 432x288 with 4 Axes>"
      ]
     },
     "metadata": {
      "needs_background": "light"
     },
     "output_type": "display_data"
    }
   ],
   "source": [
    "fig, ax_lst = plt.subplots(2, 2)  # a figure with a 2x2 grid of Axes\n",
    "fig.suptitle('2x2 axes on this figure');  # Add a title so we know which it is"
   ]
  },
  {
   "cell_type": "code",
   "execution_count": 52,
   "metadata": {},
   "outputs": [
    {
     "name": "stdout",
     "output_type": "stream",
     "text": [
      "D:\\Anaconda3\\lib\\site-packages\\matplotlib"
     ]
    }
   ],
   "source": [
    "module_location(mpl)"
   ]
  },
  {
   "cell_type": "markdown",
   "metadata": {},
   "source": [
    "1. 图形对象: figure.Figure`  \n",
    "1. 子图对象: axes.Axes, axes.Axes.set_xlabel  \n",
    "\n",
    "1. 子轴对象: axis.Axis\n",
    "\n",
    "1. 刻度定位器: ticker  \n",
    "1. 刻度格式器: ticker.Formatter`  \n",
    "\n",
    "1. Artist(图的任意元素,图素)对象: artist.Artist  \n",
    "基本上，你能看到的一切对象都是一个Artist对象, 比如图形对象 Figure, 子图对象 Axes, 子轴对象 Axis, 文本对象 Text, 二维线型对象 Line2D, 集合对象 collection, 块片对象 Patch."
   ]
  },
  {
   "cell_type": "markdown",
   "metadata": {},
   "source": [
    "Matplotlib是一个系统而完整的Python包, 而:mod:`matplotlib.pyplot`只是其中的一个模块, 提供了与MATLAB类似的面向过程编程的接口."
   ]
  },
  {
   "cell_type": "markdown",
   "metadata": {},
   "source": [
    "在本包中, 后端是指用户界面后端或硬拷贝后端, 用户界面后端是可交互的, 而硬拷贝后端直接生成最终的图像文件(png,svg,pdf,ps)."
   ]
  },
  {
   "cell_type": "markdown",
   "metadata": {},
   "source": [
    "**单词:**  \n",
    "basic usage patterns: 基本的使用模式  \n",
    "best-practice: 最佳实践  \n",
    "codebase: 代码库  \n",
    "be daunting to: 使...望而生畏  \n",
    "number-line-like objects: 数字线对象, 即带数字标签的刻度线对象  \n",
    "canvas: 画布  \n",
    "backend: 后端  \n",
    "spine: 脊椎;图的边框     \n",
    "line segment: 线段  \n"
   ]
  },
  {
   "cell_type": "markdown",
   "metadata": {},
   "source": [
    "Pyplot教程  \n"
   ]
  }
 ],
 "metadata": {
  "kernelspec": {
   "display_name": "Python 3",
   "language": "python",
   "name": "python3"
  },
  "language_info": {
   "codemirror_mode": {
    "name": "ipython",
    "version": 3
   },
   "file_extension": ".py",
   "mimetype": "text/x-python",
   "name": "python",
   "nbconvert_exporter": "python",
   "pygments_lexer": "ipython3",
   "version": "3.7.3"
  }
 },
 "nbformat": 4,
 "nbformat_minor": 4
}
