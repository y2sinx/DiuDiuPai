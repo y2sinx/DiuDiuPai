{
 "cells": [
  {
   "cell_type": "markdown",
   "metadata": {},
   "source": [
    "[CSS 选择器](https://jupyterlab.readthedocs.io/en/latest/developer/css.html#css-variables\n",
    ")  会决定如下两项内容:\n",
    "1. 显示哪一个上下文菜单项\n",
    "1. 一个快捷键引发什么样的命令\\"
   ]
  },
  {
   "cell_type": "markdown",
   "metadata": {},
   "source": [
    "> We use CSS selectors to decide which context menu items to display and what command to invoke when a keyboard shortcut is used.  \n"
   ]
  },
  {
   "cell_type": "markdown",
   "metadata": {},
   "source": [
    "常用的CSS选择器:"
   ]
  },
  {
   "cell_type": "markdown",
   "metadata": {},
   "source": [
    "目标部件的CSS类及其子类:\n",
    "\n",
    "jp-Activity: 主工作区的元素\n",
    "\n",
    "jp-Cell: 单元格\n",
    "\n",
    "jp-CodeCell: 代码单元格\n",
    "\n",
    "jp-CodeConsole: 控制台\n",
    "\n",
    "jp-CodeConsole-content: 控制台的内容面板?\n",
    "\n",
    "jp-CodeConsole-promptCell: 控制台中的活动提示单元格\n",
    "\n",
    "jp-DirListing-content :文件浏览器目录列表的内容\n",
    "\n",
    "jp-DirListing-item: 文件浏览器目录清单中的项\n",
    "\n",
    "jp-FileEditor :文本编辑器\n",
    "\n",
    "jp-ImageViewer: 图像浏览器\n",
    "\n",
    "jp-InputArea-editor: 编辑的单元格输入区\n",
    "\n",
    "jp-Notebook: 笔记本\n",
    "\n",
    "jp-SettingEditor: 配置型编辑器\n",
    "\n",
    "jp-SideBar :侧变蓝 \n",
    "\n",
    "jp-Terminal :终端"
   ]
  },
  {
   "cell_type": "markdown",
   "metadata": {},
   "source": [
    "描述小部件状态的CSS类:\n",
    "\n",
    "jp-mod-current: 当前文档内的元素\n",
    "\n",
    "jp-mod-completer-enabled: 补全功能的编辑器\n",
    "\n",
    "jp-mod-commandMode: 在Jupyter Notebook 的命令模式中应用\n",
    "\n",
    "jp-mod-editMode: 在 Jupyter Notebook 的编辑模式中应用\n",
    "\n",
    "jp-mod-has-primary-selection: applied to editors that have a primary selection\n",
    "\n",
    "jp-mod-in-leading-whitespace: 拥有行前空白选择的编辑器;applied to editors that have a selection within the beginning whitespace of a line\n",
    "\n",
    "jp-mod-tooltip: 在页面内有工具提示存在的Body"
   ]
  },
  {
   "cell_type": "markdown",
   "metadata": {},
   "source": [
    "指向数据属性的CSS选择器:\n",
    "\n",
    "data-jp-code-runner: 适用于可以运行代码小部件\n",
    "\n",
    "data-jp-interaction-mode: 当控制台处于终端模式\n",
    "\n",
    "data-jp-interaction-mode: 当控制台处于笔记本模式\n",
    "\n",
    "data-jp-isdir: 描述文件浏览器的项是否目录\n",
    "\n",
    "data-jp-undoer: 可以执行撤销操作的小部件\n",
    "\n",
    "data-type: 描述元素的类型, 比如文档标题,下级菜单,内联(inline)"
   ]
  }
 ],
 "metadata": {
  "kernelspec": {
   "display_name": "Python 3",
   "language": "python",
   "name": "python3"
  },
  "language_info": {
   "codemirror_mode": {
    "name": "ipython",
    "version": 3
   },
   "file_extension": ".py",
   "mimetype": "text/x-python",
   "name": "python",
   "nbconvert_exporter": "python",
   "pygments_lexer": "ipython3",
   "version": "3.7.3"
  }
 },
 "nbformat": 4,
 "nbformat_minor": 4
}
