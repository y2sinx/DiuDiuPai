{
 "cells": [
  {
   "cell_type": "markdown",
   "metadata": {},
   "source": [
    "# Anaconda的初识与安装"
   ]
  },
  {
   "cell_type": "markdown",
   "metadata": {},
   "source": [
    "作者: 闪电球  \n",
    "封面:   \n",
    "摘要: Anaconda简介,安装,卸载  \n",
    "文章类型: Python基础"
   ]
  },
  {
   "cell_type": "markdown",
   "metadata": {},
   "source": [
    "###  简介\n",
    "\n",
    "Anaconda(开源) 是一个包管理器, 环境管理器, 是 Python或R语言 针对数据科学的分发版, 它集成了 1500+ 个免费的包且易于安装.\n",
    "\n",
    "Anaconda 提供了两种关于包和环境的处理方式: [Navigator 图形界面工具](https://docs.anaconda.com/anaconda/navigator/) 与 [conda命令行工具](https://docs.conda.io/projects/conda/en/latest/index.html).   \n",
    "\n",
    "Anaconda 默认安装了200个常用包, 而其它包可通过在命令行(Anaconda Prompt) 内输入`conda install PackageName` 或 `pip install PackageName` 安装.  "
   ]
  },
  {
   "cell_type": "markdown",
   "metadata": {},
   "source": [
    "### 安装"
   ]
  },
  {
   "cell_type": "markdown",
   "metadata": {},
   "source": [
    "1. 下载合适的 Windows安装包. 推荐使用如下两种方式下载\n",
    "    * 官网: https://www.anaconda.com/distribution/#windows\n",
    "    ![installer.png](https://i.loli.net/2019/10/08/zx1XRfZmhnM7AjQ.png)    \n",
    "    * 清华大学开源软件镜像站: https://mirrors.tuna.tsinghua.edu.cn/anaconda/archive/\n",
    "    ![qinghua-installer.png](https://i.loli.net/2019/10/08/NFQxYu9PA2Llewd.png)"
   ]
  },
  {
   "cell_type": "markdown",
   "metadata": {},
   "source": [
    "2. 使用加密哈希验证对安装包的完整性进行检验. 通过正规渠道下载的安装包可自动跳过本步.  "
   ]
  },
  {
   "cell_type": "markdown",
   "metadata": {},
   "source": [
    "3. 双击安装包进行安装."
   ]
  },
  {
   "cell_type": "markdown",
   "metadata": {},
   "source": [
    "4. 在\"Welcome to Anaconda3 2019.07(64-bit) Setup\"对话框, 点击 'Next'."
   ]
  },
  {
   "cell_type": "markdown",
   "metadata": {},
   "source": [
    "5. 在\"License Agreement\"对话框,点击\"I Agree\"."
   ]
  },
  {
   "cell_type": "markdown",
   "metadata": {},
   "source": [
    "6. 在\"Select Installation Type\"对话框, 选择\"仅自己使用\"还是\"对所有用户均可使用\"."
   ]
  },
  {
   "cell_type": "markdown",
   "metadata": {},
   "source": [
    "7. 在\"Choose Intall Location\"对话框,设置软件的安装目录.    \n",
    "![](https://docs.anaconda.com/_images/win-install-destination.png)"
   ]
  },
  {
   "cell_type": "markdown",
   "metadata": {},
   "source": [
    "8. \"Advanced Installation Options\"对话框中第一个选项的含义:    \n",
    "是否将 Anaconda 添加到系统的 PATH 环境变量. 勾选后, 可在 Windows-cmd 命令行使用 Anaconda. 如果没有勾选, 只能在电脑的开始菜单\"Anaconda(64-bit)\"中发现并使用Anaconda. 官方推荐不勾选, 因为可能会干扰其他软件.\n",
    "\n",
    "![](https://docs.anaconda.com/_images/win-install-options.png)"
   ]
  },
  {
   "cell_type": "markdown",
   "metadata": {},
   "source": [
    "9. \"Advanced Installation Options\"对话框中第二个选项的含义:  \n",
    "如果只使用单一版本的 Anacond 或者 单一版本的 Python, 即不会同时用到 Anaconda2 和 Python2 的 情形下, 推荐勾选. "
   ]
  },
  {
   "cell_type": "markdown",
   "metadata": {},
   "source": [
    "10. 点击 \"Install\" 按钮, 会立即安装, 没有后续确认对话框.\n",
    "\n",
    "![installing.png](https://i.loli.net/2019/10/08/NVWLY4yf2MPlodE.png)"
   ]
  },
  {
   "cell_type": "markdown",
   "metadata": {},
   "source": [
    "11. 进度条全绿后(需要较长时间,请耐心等待), 点击\"Next\"."
   ]
  },
  {
   "cell_type": "markdown",
   "metadata": {},
   "source": [
    "12. 如果不需要使用 PyCharm, 直接点击 \"Next\"."
   ]
  },
  {
   "cell_type": "markdown",
   "metadata": {},
   "source": [
    "13. 成功安装后将显示对话框\"Thanks for installing Anaconda\".\n",
    "\n",
    "![success.png](https://i.loli.net/2019/10/08/V6miflbzRqgBake.png)"
   ]
  },
  {
   "cell_type": "markdown",
   "metadata": {},
   "source": [
    "14. 如果不想了解 Anaconda Cloud 与 Anaconda初用指南, 可取消勾选, 然后点击\"Finish\"."
   ]
  },
  {
   "cell_type": "markdown",
   "metadata": {},
   "source": [
    "15. 验证安装是否正确. \n",
    "    1. 检查开始菜单下是否含有\"Anaconda3(64-bit)\". 并检查其中是否含有如下四个图标 \"Anaconda Navigator\", \"Anaconda Prompt\", \"Jupyter Notebook\", \"Spyder\".  \n",
    "    1. 在 \"Anaconda Prompt\"打开的窗口中输入'conda list'查看默认安装的包.  \n",
    "    1. 在 \"Anaconda Prompt\"打开的窗口中输入'python'或'ipython',检查是否可以打开Python的编译器.  "
   ]
  },
  {
   "cell_type": "markdown",
   "metadata": {},
   "source": [
    "### 卸载\n",
    "\n",
    "如果想要卸载Anaconda3, 请点击安装目录下的 \"Uninstall-Anaconda3.exe\"."
   ]
  },
  {
   "cell_type": "markdown",
   "metadata": {},
   "source": [
    "### Ref: \n",
    "1. Anaconda Distribution: https://docs.anaconda.com/anaconda/.    \n",
    "1. Installing on Windows: https://docs.anaconda.com/anaconda/install/windows/."
   ]
  }
 ],
 "metadata": {
  "kernelspec": {
   "display_name": "Python 3",
   "language": "python",
   "name": "python3"
  },
  "language_info": {
   "codemirror_mode": {
    "name": "ipython",
    "version": 3
   },
   "file_extension": ".py",
   "mimetype": "text/x-python",
   "name": "python",
   "nbconvert_exporter": "python",
   "pygments_lexer": "ipython3",
   "version": "3.6.5"
  },
  "toc": {
   "base_numbering": 1,
   "nav_menu": {},
   "number_sections": true,
   "sideBar": true,
   "skip_h1_title": true,
   "title_cell": "Table of Contents",
   "title_sidebar": "Contents",
   "toc_cell": false,
   "toc_position": {},
   "toc_section_display": true,
   "toc_window_display": false
  }
 },
 "nbformat": 4,
 "nbformat_minor": 2
}
