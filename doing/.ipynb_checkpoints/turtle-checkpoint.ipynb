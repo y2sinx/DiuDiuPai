{
 "cells": [
  {
   "cell_type": "markdown",
   "metadata": {},
   "source": [
    "如何将md转化为公众号"
   ]
  },
  {
   "cell_type": "markdown",
   "metadata": {},
   "source": []
  },
  {
   "cell_type": "code",
   "execution_count": 55,
   "metadata": {
    "scrolled": true
   },
   "outputs": [
    {
     "name": "stdout",
     "output_type": "stream",
     "text": [
      "^^^^^^^^^^^^^^^^^^^^^^^^^^^^^^^^^^^^^^^!kk0:start>^^^^^^^^^^^^^^^^^^^^^^^^^^^^^^^^^^^^^^^^\n"
     ]
    }
   ],
   "source": [
    "kk 0"
   ]
  },
  {
   "cell_type": "markdown",
   "metadata": {},
   "source": [
    "实时获取鼠标点击处的坐标: https://blog.csdn.net/avskya/article/details/81351347"
   ]
  },
  {
   "cell_type": "markdown",
   "metadata": {},
   "source": [
    "# 模块学习之turtle(海龟绘图)  "
   ]
  },
  {
   "cell_type": "markdown",
   "metadata": {},
   "source": [
    "> 1. 文章类型: \n",
    "1. 来源参考\n",
    "    1. [Python » Documentation » The Python Standard Library » Program Frameworks »](https://docs.python.org/3.9/library/turtle.html)\n",
    "    1. [Python » 文档 (简体中文) » Python 标准库 » 程序框架 »](https://docs.python.org/zh-cn/3.9/library/turtle.html)     "
   ]
  },
  {
   "cell_type": "markdown",
   "metadata": {},
   "source": [
    "绘制任意弧线  \n",
    "绘制椭圆"
   ]
  },
  {
   "cell_type": "markdown",
   "metadata": {},
   "source": [
    "椭圆(a在x轴)参数方程的由来?  \n",
    "* theta为椭圆在某点的离心角, 不是椭圆点与原点连线的角度..\n",
    "* 椭圆的外切圆半径为a,在X上的投影为 `a*cos(theta)`\n",
    "* 椭圆的内切圆半径为b,在Y上的投影为`b*sin(theta)`"
   ]
  },
  {
   "cell_type": "markdown",
   "metadata": {},
   "source": [
    "**使用椭圆的参数方程绘制椭圆或者圆**"
   ]
  },
  {
   "cell_type": "code",
   "execution_count": 130,
   "metadata": {},
   "outputs": [],
   "source": [
    "from turtle import *  \n",
    "from math import sin,cos,tan\n",
    "\n",
    "def sind(degree):\n",
    "    return sin(deg2rad(degree))\n",
    "def cosd(degree):\n",
    "    return cos(deg2rad(degree))\n",
    "def tand(degree):\n",
    "    return tan(deg2rad(degree))\n",
    "\n",
    "def ellipse(a=100,b=50,extent=360,num=100,rotation=0):\n",
    "    \"\"\"使用椭圆的参数方程绘制椭圆或者圆;\n",
    "    extent: 椭圆在空间中的角度范围;  \n",
    "    rotation: 将椭圆的十字线逆时针旋转多少度\n",
    "    num:线段近似弧线时需要个数\"\"\"\n",
    "    \n",
    "    R2 = np.array([[cosd(rotation),-sind(rotation)],\n",
    "                   [sind(rotation), cosd(rotation)]]) # 二维旋转矩阵\n",
    "    theta = extent / num #某点出椭圆离心角\n",
    "\n",
    "    penup()\n",
    "    goto( np.dot(R2,np.array([a,0])))#旋转起点(a,0)\n",
    "    pendown()\n",
    "    \n",
    "    for i in range(num):\n",
    "        # 如何根据当前点的坐标计算下一点的坐标 \n",
    "        # 顺时针旋转一个小角度,就可以通过椭圆的参数方程确定椭圆上的一个点\n",
    "        nextPoint = np.array([a*cosd((i+1)*theta),\n",
    "                              b*sind((i+1)*theta)])\n",
    "        # 旋转rotation度\n",
    "        nextPoint = np.dot(R2,nextPoint) \n",
    "\n",
    "        goto(nextPoint)\n",
    "    done()"
   ]
  },
  {
   "cell_type": "code",
   "execution_count": 16,
   "metadata": {},
   "outputs": [],
   "source": [
    "ellipse()"
   ]
  },
  {
   "cell_type": "markdown",
   "metadata": {},
   "source": [
    "**使用正多边形逼近的思想绘制圆或椭圆**"
   ]
  },
  {
   "cell_type": "code",
   "execution_count": 1,
   "metadata": {},
   "outputs": [],
   "source": [
    "%%disabled\n",
    "# 风车\n",
    "for rotation in np.arange(0,360,60):\n",
    "    arc(theta=60,anticlockwise=0,rotation=rotation)\n",
    "    arc(theta=60,anticlockwise=1,rotation=rotation+60)\n",
    "    go2point()\n",
    "    \n",
    "tt.done()"
   ]
  },
  {
   "cell_type": "code",
   "execution_count": 42,
   "metadata": {},
   "outputs": [],
   "source": [
    "from turtle import *\n",
    "\n",
    "def arc(edge=60,diff=0,extent=360,num=7):\n",
    "    \"\"\"edge: 多边形的边长; num: 步数\n",
    "    当num很大时时,edge可近似为r*deg2rad(theta)\"\"\"\n",
    "    \n",
    "    theta = extent /num  #圆心角\n",
    "    out_angle = 360/num  #即使是椭圆,外角也保持固定\n",
    "    #多边形的右下角为起点        \n",
    "    \n",
    "    if diff==0: #圆\n",
    "        penup()\n",
    "        goto((edge/2,-edge/2/tand(theta/2)))\n",
    "        pendown()\n",
    "                \n",
    "        for i in range(num):\n",
    "            lt(out_angle)\n",
    "            fd(edge)\n",
    "        radius = edge/2/sind(theta/2)\n",
    "        print( \"radius: {:.2f}\".format(radius) )\n",
    "    \n",
    "    else: #椭圆\n",
    "        dot(20,'red')\n",
    "        penup()\n",
    "        goto((edge/2,-edge/2/tand(theta/2)))\n",
    "        pendown()\n",
    "\n",
    "        seth(0)\n",
    "        for i in range(num):\n",
    "            if 0<=i<=num/4 or num/2<=i<3*num/4:\n",
    "                edge = edge-diff\n",
    "                lt(theta) #每次旋转theta,一共旋转 theta*num=extend\n",
    "                fd(edge)  #向前走a的步长\n",
    "            else:\n",
    "                edge = edge+diff\n",
    "                lt(theta)\n",
    "                fd(edge)\n",
    "        done()"
   ]
  },
  {
   "cell_type": "code",
   "execution_count": 44,
   "metadata": {},
   "outputs": [
    {
     "name": "stdout",
     "output_type": "stream",
     "text": [
      "radius: 69.11\n"
     ]
    }
   ],
   "source": [
    "arc()\n",
    "done()"
   ]
  },
  {
   "cell_type": "code",
   "execution_count": 23,
   "metadata": {},
   "outputs": [
    {
     "ename": "Terminator",
     "evalue": "",
     "output_type": "error",
     "traceback": [
      "\u001b[1;31m---------------------------------------------------------------------------\u001b[0m",
      "\u001b[1;31mTerminator\u001b[0m                                Traceback (most recent call last)",
      "\u001b[1;32m<ipython-input-23-d3efd164e9e1>\u001b[0m in \u001b[0;36m<module>\u001b[1;34m()\u001b[0m\n\u001b[0;32m      9\u001b[0m         \u001b[1;32melse\u001b[0m\u001b[1;33m:\u001b[0m\u001b[1;33m\u001b[0m\u001b[0m\n\u001b[0;32m     10\u001b[0m             \u001b[0mlen\u001b[0m \u001b[1;33m-=\u001b[0m \u001b[1;36m0.2\u001b[0m\u001b[1;33m\u001b[0m\u001b[0m\n\u001b[1;32m---> 11\u001b[1;33m         \u001b[0mt\u001b[0m\u001b[1;33m.\u001b[0m\u001b[0mforward\u001b[0m\u001b[1;33m(\u001b[0m\u001b[0mlen\u001b[0m\u001b[1;33m)\u001b[0m\u001b[1;33m\u001b[0m\u001b[0m\n\u001b[0m\u001b[0;32m     12\u001b[0m         \u001b[0mt\u001b[0m\u001b[1;33m.\u001b[0m\u001b[0mleft\u001b[0m\u001b[1;33m(\u001b[0m\u001b[1;36m3\u001b[0m\u001b[1;33m)\u001b[0m\u001b[1;33m\u001b[0m\u001b[0m\n\u001b[0;32m     13\u001b[0m \u001b[1;33m\u001b[0m\u001b[0m\n",
      "\u001b[1;32mD:\\Anaconda3-520\\lib\\turtle.py\u001b[0m in \u001b[0;36mforward\u001b[1;34m(distance)\u001b[0m\n",
      "\u001b[1;31mTerminator\u001b[0m: "
     ]
    }
   ],
   "source": [
    "import turtle as t\n",
    "t.pendown()\n",
    "t.setheading(90)\n",
    "len = 1\n",
    "for k in range(2):         # 将相同的动作重复做一遍\n",
    "    for j in range(60):\n",
    "        if j < 30:\n",
    "            len += 0.2\n",
    "        else:\n",
    "            len -= 0.2\n",
    "        t.forward(len)\n",
    "        t.left(3)\n",
    "\n",
    "t.penup()\n",
    "t.done()"
   ]
  },
  {
   "cell_type": "markdown",
   "metadata": {},
   "source": [
    "为什么起点和终点连不起来"
   ]
  },
  {
   "cell_type": "code",
   "execution_count": 6,
   "metadata": {},
   "outputs": [],
   "source": [
    "arc() #四边形 \n",
    "# arc(0,50,120,3) #三边形 \n",
    "# arc(0,2,1,360) #用360边形代替圆"
   ]
  },
  {
   "cell_type": "code",
   "execution_count": 2,
   "metadata": {},
   "outputs": [],
   "source": []
  },
  {
   "cell_type": "markdown",
   "metadata": {},
   "source": []
  },
  {
   "cell_type": "code",
   "execution_count": 14,
   "metadata": {},
   "outputs": [],
   "source": []
  },
  {
   "cell_type": "markdown",
   "metadata": {},
   "source": [
    "原始结构"
   ]
  },
  {
   "cell_type": "markdown",
   "metadata": {},
   "source": [
    "TurtleScreen(): 定义图形窗口  \n",
    "RawTurtle(): 定义海龟对象在 TurtleScreen 上绘图; 派生类 Turtle 可自动创建Screen实例,并在其上绘图."
   ]
  },
  {
   "cell_type": "code",
   "execution_count": 98,
   "metadata": {},
   "outputs": [],
   "source": [
    "%%disabled\n",
    "from turtle import *\n",
    "color('red', 'yellow')\n",
    "begin_fill()\n",
    "while True:\n",
    "    forward(100)\n",
    "    left(170)\n",
    "    print(pos())\n",
    "    if abs(pos()) < 1:\n",
    "        print(pos())\n",
    "        break\n",
    "end_fill()\n",
    "done()"
   ]
  },
  {
   "cell_type": "code",
   "execution_count": null,
   "metadata": {},
   "outputs": [],
   "source": []
  },
  {
   "cell_type": "markdown",
   "metadata": {},
   "source": [
    "## Turtle 方法"
   ]
  },
  {
   "cell_type": "markdown",
   "metadata": {},
   "source": [
    "1. 海龟动作"
   ]
  },
  {
   "cell_type": "markdown",
   "metadata": {},
   "source": [
    "移动和绘制  \n",
    "\n",
    "* forward() | fd() 前进  \n",
    "* backward() | bk() | back() 后退  \n",
    "* right() | rt() 右转  \n",
    "* left() | lt() 左转  \n",
    "* goto() | setpos() | setposition() 前往/定位   \n",
    "* setx() 设置x坐标  \n",
    "* sety() 设置y坐标  \n",
    "* setheading() | seth() 设置朝向  \n",
    "* home() 返回原点  \n",
    "* circle() 画圆  \n",
    "* dot() 画点  "
   ]
  },
  {
   "cell_type": "markdown",
   "metadata": {},
   "source": [
    "* stamp() 印章  \n",
    "* clearstamp() 清除印章  \n",
    "* clearstamps() 清除多个印章  \n",
    "\n",
    "> stamp()的本意是用来做什么的? 到底有啥用?  \n",
    "* 做个标记,直接跳转?  \n",
    "* 复制到此时的形状?"
   ]
  },
  {
   "cell_type": "markdown",
   "metadata": {},
   "source": [
    "* undo() 撤消  \n",
    "    * 撤消 (或连续撤消) 最近的一个 (或多个) 海龟动作。可撤消的次数由**撤消缓冲区**的大小决定。"
   ]
  },
  {
   "cell_type": "markdown",
   "metadata": {},
   "source": [
    "* speed() 速度  "
   ]
  },
  {
   "cell_type": "markdown",
   "metadata": {},
   "source": [
    "获取海龟的状态 "
   ]
  },
  {
   "cell_type": "markdown",
   "metadata": {},
   "source": [
    "* position() | pos() 位置  \n",
    "* towards() 目标方向  \n",
    "* xcor() x坐标  \n",
    "* ycor() y坐标  \n",
    "* heading() 朝向  \n",
    "* distance() 距离  "
   ]
  },
  {
   "cell_type": "markdown",
   "metadata": {},
   "source": [
    "设置与度量单位  \n",
    "* degrees() 角度  \n",
    "* radians() 弧度  \n",
    "\n",
    "> turtle库中使用的度量单位一般是角度(默认), 而math库中三角函数的参数使用的弧度."
   ]
  },
  {
   "cell_type": "markdown",
   "metadata": {},
   "source": [
    "2. 画笔控制"
   ]
  },
  {
   "cell_type": "markdown",
   "metadata": {},
   "source": [
    "绘图状态   \n",
    "* pendown() | pd() | down() 画笔落下  \n",
    "* penup() | pu() | up() 画笔抬起  \n",
    "* pensize() | width() 画笔粗细  \n",
    "* pen() 用一条语句设置画笔的多个属性\n",
    "* isdown() 画笔是否落下  "
   ]
  },
  {
   "cell_type": "markdown",
   "metadata": {},
   "source": [
    "颜色控制  \n",
    "* color() 颜色  \n",
    "* pencolor() 画笔颜色  \n",
    "* fillcolor() 填充颜色  "
   ]
  },
  {
   "cell_type": "markdown",
   "metadata": {},
   "source": [
    "填充  \n",
    "* filling() 是否填充  \n",
    "* begin_fill() 开始填充  \n",
    "* end_fill() 结束填充  "
   ]
  },
  {
   "cell_type": "markdown",
   "metadata": {},
   "source": [
    "更多绘图控制  "
   ]
  },
  {
   "cell_type": "markdown",
   "metadata": {},
   "source": [
    "* reset() 重置  \n",
    "从屏幕中删除海龟的绘图，海龟回到原点并设置所有变量为默认值。"
   ]
  },
  {
   "cell_type": "markdown",
   "metadata": {},
   "source": [
    "* clear() 清空\n",
    "从屏幕中删除指定海龟的绘图。不移动海龟。海龟的状态和位置以及其他海龟的绘图不受影响。"
   ]
  },
  {
   "cell_type": "markdown",
   "metadata": {},
   "source": [
    "* write() 书写  \n",
    "书写文本 - arg 指定的字符串 - 到当前海龟位置，align 指定对齐方式 (\"left\", \"center\" 或 right\")，font 指定字体。如果 move 为 True，画笔会移动到文本的右下角。默认 move 为 False。"
   ]
  },
  {
   "cell_type": "markdown",
   "metadata": {},
   "source": [
    "3. 海龟状态"
   ]
  },
  {
   "cell_type": "markdown",
   "metadata": {},
   "source": [
    "可见性  \n",
    "* showturtle() | st() 显示海龟  \n",
    "* hideturtle() | ht() 隐藏海龟  \n",
    "* isvisible() 是否可见  "
   ]
  },
  {
   "cell_type": "markdown",
   "metadata": {},
   "source": [
    "外观: 设置海龟的外观似乎没有实际的意义,除了好看"
   ]
  },
  {
   "cell_type": "markdown",
   "metadata": {},
   "source": [
    "* shape() 形状  \n",
    "\"arrow\", \"turtle\", \"circle\", \"square\", \"triangle\", \"classic\""
   ]
  },
  {
   "cell_type": "markdown",
   "metadata": {},
   "source": [
    "* resizemode() 是否调整海龟的大小模式\n",
    "    * \"auto\": 根据画笔粗细值调整海龟的外观。\n",
    "    * \"user\": 根据拉伸因子和轮廓宽度 (outline) 值调整海龟的外观，两者是由 shapesize() 设置的。\n",
    "    * \"noresize\": 不调整海龟的外观大小。"
   ]
  },
  {
   "cell_type": "markdown",
   "metadata": {},
   "source": [
    "* shapesize() | turtlesize() 形状大小  \n",
    "stretch_wid 为垂直于其朝向的宽度拉伸因子，stretch_len 为平等于其朝向的长度拉伸因子, outline 决定形状轮廓线的粗细"
   ]
  },
  {
   "cell_type": "markdown",
   "metadata": {},
   "source": [
    "* shearfactor() 剪切因子\n",
    "剪切与海龟平行的方向"
   ]
  },
  {
   "cell_type": "markdown",
   "metadata": {},
   "source": [
    "* tiltangle() 设置倾角  \n",
    "海龟形状的方向和海龟朝向 (移动方向) 之间的夹角"
   ]
  },
  {
   "cell_type": "markdown",
   "metadata": {},
   "source": [
    "* tilt() 倾斜  \n",
    "海龟形状自其当前的倾角转动 angle 指定的角度，但 不 改变海龟的朝向 (移动方向)。]"
   ]
  },
  {
   "cell_type": "markdown",
   "metadata": {},
   "source": [
    "* shapetransform() 变形矩阵   \n",
    "返回或者设置海龟形状的变形矩阵  \n",
    "根据指定的矩阵修改拉伸因子，剪切因子和倾角。"
   ]
  },
  {
   "cell_type": "markdown",
   "metadata": {},
   "source": [
    "* get_shapepoly() 获取形状多边形  "
   ]
  },
  {
   "cell_type": "markdown",
   "metadata": {},
   "source": [
    "4. 使用事件   "
   ]
  },
  {
   "cell_type": "markdown",
   "metadata": {},
   "source": [
    "* onclick() 当鼠标点击时,在点击处触发一个关于此点(或者不关于任何点)的函数  \n"
   ]
  },
  {
   "cell_type": "markdown",
   "metadata": {},
   "source": [
    "* onrelease() 当鼠标释放  "
   ]
  },
  {
   "cell_type": "markdown",
   "metadata": {},
   "source": [
    "* ondrag() 当鼠标拖动  \n",
    "`ondrag(goto)` #手动绘制线条"
   ]
  },
  {
   "cell_type": "markdown",
   "metadata": {},
   "source": [
    "5. 特殊海龟方法"
   ]
  },
  {
   "cell_type": "markdown",
   "metadata": {},
   "source": [
    "* begin_poly(): 开始记录多边形\n",
    "* end_poly(): 结束记录多边形\n",
    "* get_poly(): 返回最新记录的多边形"
   ]
  },
  {
   "cell_type": "code",
   "execution_count": 27,
   "metadata": {},
   "outputs": [],
   "source": [
    "%%disabled \n",
    "home()\n",
    "begin_poly()\n",
    "fd(100)\n",
    "left(20)\n",
    "fd(30)\n",
    "left(60)\n",
    "fd(50)\n",
    "end_poly()\n",
    "p = get_poly()\n",
    "register_shape(\"myFavouriteShape\", p)\n",
    "done()"
   ]
  },
  {
   "cell_type": "markdown",
   "metadata": {},
   "source": [
    "* clone() 克隆  \n",
    "创建并返回海龟的克隆体，具有相同的位置、朝向和海龟属性。"
   ]
  },
  {
   "cell_type": "markdown",
   "metadata": {},
   "source": [
    "* getturtle() | getpen() 获取海龟画笔\n",
    "* getscreen() 获取屏幕"
   ]
  },
  {
   "cell_type": "markdown",
   "metadata": {},
   "source": [
    "* setundobuffer() 设置撤消缓冲区  \n",
    "设置或禁用撤消缓冲区。如果 size 为一个整型数则将开辟一个指定大小的空缓冲区。size 表示可使用 undo() 方法/函数撤消的海龟命令的次数上限。如果 size 为 None 则禁用撤消缓冲区"
   ]
  },
  {
   "cell_type": "markdown",
   "metadata": {},
   "source": [
    "* undobufferentries() 撤消缓冲区条目数"
   ]
  },
  {
   "cell_type": "code",
   "execution_count": 29,
   "metadata": {},
   "outputs": [
    {
     "name": "stdout",
     "output_type": "stream",
     "text": [
      ">>>>>>>>>>>>>>>>>>>>>>>>>>>>>>>>>>>>>>>!kk1:active>>>>>>>>>>>>>>>>>>>>>>>>>>>>>>>>>>>>>>>>\n"
     ]
    }
   ],
   "source": [
    "kk 1"
   ]
  },
  {
   "cell_type": "markdown",
   "metadata": {},
   "source": [
    "6. 复合形状"
   ]
  },
  {
   "cell_type": "code",
   "execution_count": 34,
   "metadata": {},
   "outputs": [],
   "source": [
    "%%disabled\n",
    "s = Shape(\"compound\")\n",
    "poly1 = ((0,0),(10,-5),(0,10),(-10,-5))\n",
    "s.addcomponent(poly1, \"red\", \"blue\")\n",
    "poly2 = ((0,0),(10,-5),(-10,-5))\n",
    "s.addcomponent(poly2, \"blue\", \"red\")  \n",
    "register_shape(\"myshape\", s)\n",
    "shape(\"myshape\")\n",
    "forward(100)\n",
    "done()"
   ]
  },
  {
   "cell_type": "markdown",
   "metadata": {},
   "source": [
    "##    TurtleScreen/Screen 方法"
   ]
  },
  {
   "cell_type": "raw",
   "metadata": {},
   "source": [
    "窗口控制    \n",
    "* bgcolor() 背景颜色    \n",
    "* bgpic() 背景图片    \n",
    "* clear() | clearscreen() 清屏    \n",
    "* reset() | resetscreen() 重置    \n",
    "* screensize() 屏幕大小    \n",
    "* setworldcoordinates() 设置世界坐标系(重设画布的坐标系,直角坐标系原点在中间)"
   ]
  },
  {
   "cell_type": "code",
   "execution_count": 46,
   "metadata": {},
   "outputs": [],
   "source": [
    "%%disabled\n",
    "reset()\n",
    "setworldcoordinates(-5,-5,5,5)\n",
    "\n",
    "for _ in range(8):\n",
    "    left(45); fd(2)   # a regular octagon\n",
    "done()"
   ]
  },
  {
   "cell_type": "markdown",
   "metadata": {},
   "source": [
    "动画控制    \n",
    "* delay() 延迟    \n",
    "* tracer() 追踪    \n",
    "* update() 更新    "
   ]
  },
  {
   "cell_type": "markdown",
   "metadata": {},
   "source": [
    "使用屏幕事件    \n",
    "* listen() 监听    \n",
    "* onkey() | onkeyrelease() 当键盘按下并释放    \n",
    "* onkeypress() 当键盘按下    \n",
    "* onclick() | onscreenclick() 当点击屏幕    \n",
    "* ontimer() 当达到定时    \n",
    "* mainloop() | done() 主循环    "
   ]
  },
  {
   "cell_type": "markdown",
   "metadata": {},
   "source": [
    "设置与特殊方法    \n",
    "* mode() 模式    \n",
    "* colormode() 颜色模式    \n",
    "* getcanvas() 获取画布    \n",
    "* getshapes() 获取形状    \n",
    "* register_shape() | addshape() 添加形状    \n",
    "* turtles() 所有海龟    \n",
    "* window_height() 窗口高度    \n",
    "* window_width() 窗口宽度    "
   ]
  },
  {
   "cell_type": "markdown",
   "metadata": {},
   "source": [
    "输入方法    \n",
    "* textinput() 文本输入    \n",
    "* numinput() 数字输入    "
   ]
  },
  {
   "cell_type": "markdown",
   "metadata": {},
   "source": [
    "Screen专有方法    \n",
    "* bye() 退出    \n",
    "* exitonclick() 当点击时退出    \n",
    "* setup() 设置    \n",
    "* title() 标题    "
   ]
  },
  {
   "cell_type": "markdown",
   "metadata": {},
   "source": [
    "## RawTurtle/Turtle 方法和对应函数\n",
    "    海龟动作\n",
    "    获取海龟的状态\n",
    "    度量单位设置\n",
    "    画笔控制\n",
    "        绘图状态\n",
    "        颜色控制\n",
    "        填充\n",
    "        更多绘图控制\n",
    "    海龟状态\n",
    "        可见性\n",
    "        外观\n",
    "    使用事件\n",
    "    特殊海龟方法\n",
    "    复合形状\n",
    "## TurtleScreen/Screen 方法及对应函数\n",
    "    窗口控制\n",
    "    动画控制\n",
    "    使用屏幕事件\n",
    "    输入方法\n",
    "    设置与特殊方法\n",
    "    Screen 专有方法, 而非继承自 TurtleScreen\n",
    "## 公共类\n",
    "## 帮助与配置\n",
    "    如何使用帮助\n",
    "    文档字符串翻译为不同的语言\n",
    "    如何配置 Screen 和 Turtle\n",
    "## turtledemo --- 演示脚本集\n",
    "## Python 2.6 之后的变化\n",
    "## Python 3.0 之后的变化"
   ]
  },
  {
   "cell_type": "markdown",
   "metadata": {},
   "source": [
    "## turtle demo"
   ]
  },
  {
   "cell_type": "markdown",
   "metadata": {},
   "source": [
    "### 阴阳鱼"
   ]
  },
  {
   "cell_type": "code",
   "execution_count": 79,
   "metadata": {},
   "outputs": [],
   "source": [
    "%%disabled\n",
    "from turtle import *\n",
    "\n",
    "def yin(radius, color1, color2):\n",
    "    width(3)\n",
    "    color(\"black\", color1)\n",
    "    begin_fill()\n",
    "    circle(radius/2., 180) # 阴阳鱼的第一个半圆\n",
    "    circle(radius, 180)  # 阴阳鱼的第二个半圆\n",
    "    left(180)\n",
    "    circle(-radius/2., 180) # 阴阳鱼的第三个半圆\n",
    "    end_fill()\n",
    "    left(90)\n",
    "    up()\n",
    "    forward(radius*0.35) # 小白圆的上顶点:(0.5-0.15)*radius\n",
    "    right(90)\n",
    "    down()\n",
    "    color(color1, color2)\n",
    "    begin_fill()\n",
    "    circle(radius*0.15)\n",
    "    end_fill()\n",
    "    left(90)\n",
    "    up()\n",
    "    backward(radius*0.35) # 回到原点\n",
    "    down()\n",
    "    left(90) # 在原点调整为初始方向的逆方向,可使阴阳鱼共用一段程序\n",
    "\n",
    "def main():\n",
    "    reset()\n",
    "    yin(200, \"black\", \"white\")\n",
    "    yin(200, \"white\", \"black\")\n",
    "    ht()\n",
    "    return \"Done!\"\n",
    "\n",
    "if __name__ == '__main__':\n",
    "    main()\n",
    "    mainloop()\n"
   ]
  },
  {
   "cell_type": "markdown",
   "metadata": {},
   "source": [
    "### 表"
   ]
  },
  {
   "cell_type": "code",
   "execution_count": 39,
   "metadata": {
    "code_folding": []
   },
   "outputs": [],
   "source": [
    "%%disabled\n",
    "from turtle import *\n",
    "from datetime import datetime\n",
    "\n",
    "def jump(distanz, winkel=0):\n",
    "    penup()\n",
    "    right(winkel)\n",
    "    forward(distanz)\n",
    "    left(winkel)\n",
    "    pendown()\n",
    "\n",
    "def hand(laenge, spitze):\n",
    "    \"\"\"绘制指针;\n",
    "    laeng: 指针的大线段长度(被表盘中心分隔的小线段长度为0.15);\n",
    "    spitze:指针的三角形边长\"\"\"\n",
    "    fd(laenge*1.15) \n",
    "    rt(90)\n",
    "    fd(spitze/2.0)\n",
    "    lt(120)\n",
    "    fd(spitze)\n",
    "    lt(120)\n",
    "    fd(spitze)\n",
    "    lt(120)\n",
    "    fd(spitze/2.0)\n",
    "\n",
    "def make_hand_shape(name, laenge, spitze):\n",
    "    reset()\n",
    "    jump(-laenge*0.15)\n",
    "    begin_poly()  # 当前点为多边形的起点\n",
    "    hand(laenge, spitze)\n",
    "    end_poly()  #  当前点为多边形的终点\n",
    "    hand_form = get_poly() #获取多变形中所有的点\n",
    "    register_shape(name, hand_form) # 在海龟的形状列表(TurtleScreen's shapelist)中添加指针形状\n",
    "\n",
    "def clockface(radius):\n",
    "    \"\"\"设置表盘的12分刻度线(时刻度线)与60分刻度点(秒刻度)\"\"\"\n",
    "    reset()\n",
    "    pensize(7)\n",
    "    for i in range(60):\n",
    "        jump(radius)\n",
    "        if i % 5 == 0:\n",
    "            fd(25)  # 12分刻度线的长度为\n",
    "            jump(-radius-25)\n",
    "        else:\n",
    "            dot(3)  # 60分刻度点的大小\n",
    "            jump(-radius)\n",
    "        rt(6)\n",
    "\n",
    "def setup():\n",
    "    global second_hand, minute_hand, hour_hand, writer\n",
    "    mode(\"logo\")\n",
    "    make_hand_shape(\"second_hand\", 125, 25)\n",
    "    make_hand_shape(\"minute_hand\",  130, 25)\n",
    "    make_hand_shape(\"hour_hand\", 90, 25)\n",
    "    clockface(160)\n",
    "    # 秒针海龟\n",
    "    second_hand = Turtle()\n",
    "    second_hand.shape(\"second_hand\")\n",
    "    second_hand.color(\"blue3\", \"blue3\")\n",
    "    # 分针海龟\n",
    "    minute_hand = Turtle()\n",
    "    minute_hand.shape(\"minute_hand\")\n",
    "    minute_hand.color(\"green3\", \"green3\")\n",
    "    # 时针海龟\n",
    "    hour_hand = Turtle()\n",
    "    hour_hand.shape(\"hour_hand\")\n",
    "    hour_hand.color(\"red3\", \"red3\")\n",
    "    for hand in second_hand, minute_hand, hour_hand:\n",
    "        hand.resizemode(\"user\")\n",
    "        hand.shapesize(1, 1, 3)\n",
    "        hand.speed(0)\n",
    "    ht() # 隐藏海龟?\n",
    "    writer = Turtle()\n",
    "    #writer.mode(\"logo\")\n",
    "    writer.ht() #\n",
    "    writer.pu()\n",
    "    writer.bk(85)\n",
    "\n",
    "def wochentag(t):\n",
    "    wochentag = [\"Monday\", \"Tuesday\", \"Wednesday\",\n",
    "        \"Thursday\", \"Friday\", \"Saturday\", \"Sunday\"]\n",
    "    return wochentag[t.weekday()]  # 将数字转化为字符串\n",
    "\n",
    "def datum(z):\n",
    "    monat = [\"Jan.\", \"Feb.\", \"Mar.\", \"Apr.\", \"May\", \"June\",\n",
    "             \"July\", \"Aug.\", \"Sep.\", \"Oct.\", \"Nov.\", \"Dec.\"]\n",
    "    j = z.year\n",
    "    m = monat[z.month - 1]\n",
    "    t = z.day\n",
    "    return \"{} {} {}\".format(m,t,j)\n",
    "\n",
    "def tick():\n",
    "    t = datetime.today()\n",
    "    sekunde = t.second + t.microsecond*0.000001\n",
    "    minute = t.minute + sekunde/60.0\n",
    "    stunde = t.hour + minute/60.0\n",
    "    try:\n",
    "        tracer(False)  # Terminator can occur here\n",
    "        writer.clear()\n",
    "        writer.home()\n",
    "        writer.forward(65)\n",
    "        writer.write(wochentag(t),align=\"center\", font=(\"Courier\", 14, \"bold\"))\n",
    "        writer.back(150)\n",
    "        writer.write(datum(t),align=\"center\", font=(\"Courier\", 14, \"bold\"))\n",
    "        writer.forward(85)\n",
    "        tracer(True)\n",
    "        second_hand.setheading(6*sekunde)  # 秒针和分针的角度都是6的倍数\n",
    "        minute_hand.setheading(6*minute)  \n",
    "        hour_hand.setheading(30*stunde)  # 时针的角度是360/12=30的倍数\n",
    "        tracer(True)\n",
    "        ontimer(tick, 1000) # 每隔1s运行一次tick(),秒针表现为走走停停的效果;如果想要表现秒针连续走的效果,可以将其设置为100\n",
    "    except Terminator:\n",
    "        pass  # turtledemo user pressed STOP\n",
    "\n",
    "def main():\n",
    "    tracer(False)\n",
    "    setup()\n",
    "    tracer(True)\n",
    "    tick()\n",
    "    return \"EVENTLOOP\"\n",
    "\n",
    "if __name__ == \"__main__\":\n",
    "    mode(\"logo\")\n",
    "    msg = main()\n",
    "    print(msg)\n",
    "    mainloop()"
   ]
  },
  {
   "cell_type": "markdown",
   "metadata": {},
   "source": [
    "## 桥"
   ]
  },
  {
   "cell_type": "code",
   "execution_count": 17,
   "metadata": {},
   "outputs": [
    {
     "name": "stdout",
     "output_type": "stream",
     "text": [
      "d:  60.21406274327231\n"
     ]
    },
    {
     "ename": "Terminator",
     "evalue": "",
     "output_type": "error",
     "traceback": [
      "\u001b[1;31m---------------------------------------------------------------------------\u001b[0m",
      "\u001b[1;31mTerminator\u001b[0m                                Traceback (most recent call last)",
      "\u001b[1;32m<ipython-input-17-4c83963829cb>\u001b[0m in \u001b[0;36m<module>\u001b[1;34m()\u001b[0m\n\u001b[0;32m    160\u001b[0m \u001b[1;33m\u001b[0m\u001b[0m\n\u001b[0;32m    161\u001b[0m \u001b[1;32mif\u001b[0m \u001b[0m__name__\u001b[0m \u001b[1;33m==\u001b[0m \u001b[1;34m\"__main__\"\u001b[0m\u001b[1;33m:\u001b[0m\u001b[1;33m\u001b[0m\u001b[0m\n\u001b[1;32m--> 162\u001b[1;33m     \u001b[0mmain\u001b[0m\u001b[1;33m(\u001b[0m\u001b[1;33m)\u001b[0m\u001b[1;33m\u001b[0m\u001b[0m\n\u001b[0m",
      "\u001b[1;32m<ipython-input-17-4c83963829cb>\u001b[0m in \u001b[0;36mmain\u001b[1;34m()\u001b[0m\n\u001b[0;32m    157\u001b[0m     \u001b[0mclick2xy\u001b[0m\u001b[1;33m(\u001b[0m\u001b[1;33m)\u001b[0m\u001b[1;33m\u001b[0m\u001b[0m\n\u001b[0;32m    158\u001b[0m     \u001b[0mprint\u001b[0m\u001b[1;33m(\u001b[0m\u001b[1;34m\"d: \"\u001b[0m\u001b[1;33m,\u001b[0m\u001b[0md\u001b[0m\u001b[1;33m)\u001b[0m \u001b[1;31m#长纵比=亭尖高度/2/d\u001b[0m\u001b[1;33m\u001b[0m\u001b[0m\n\u001b[1;32m--> 159\u001b[1;33m     \u001b[0mdone\u001b[0m\u001b[1;33m(\u001b[0m\u001b[1;33m)\u001b[0m\u001b[1;33m\u001b[0m\u001b[0m\n\u001b[0m\u001b[0;32m    160\u001b[0m \u001b[1;33m\u001b[0m\u001b[0m\n\u001b[0;32m    161\u001b[0m \u001b[1;32mif\u001b[0m \u001b[0m__name__\u001b[0m \u001b[1;33m==\u001b[0m \u001b[1;34m\"__main__\"\u001b[0m\u001b[1;33m:\u001b[0m\u001b[1;33m\u001b[0m\u001b[0m\n",
      "\u001b[1;32mD:\\Anaconda3-520\\lib\\turtle.py\u001b[0m in \u001b[0;36mmainloop\u001b[1;34m()\u001b[0m\n",
      "\u001b[1;31mTerminator\u001b[0m: "
     ]
    }
   ],
   "source": [
    "from turtle import *  \n",
    "from ddpy.brmath import *\n",
    "from ddpy.brpic import *\n",
    "\n",
    "Ratio_r_R = 0\n",
    "Ratio_h_d = 2\n",
    "Ratio_PilarSpace_d = 0.6\n",
    "Ratio_PilarHeight_PilarSpace = .6\n",
    "Ration_DeltaPillarHeight = 1/20\n",
    "\n",
    "Ratio_MidArcHeight_Rest = 1/2\n",
    "Ratio_DownArcHeight_Rest = 1/10\n",
    "Ratio_Increase_d = 3/10\n",
    "\n",
    "Ratio_Xc_d = 2/10\n",
    "Ratio_DeltaYc = 0\n",
    "\n",
    "# 配色 \n",
    "# RGB颜色参考: http://tool.oschina.net/commons?type=3\n",
    "PenColor = 'grey51'\n",
    "BgColor = 'white'\n",
    "StoneColor = 'Snow3'\n",
    "\n",
    "PavilionColor = 'Gold1'\n",
    "PillarColor = 'red1'\n",
    "\n",
    "BigAngle=52\n",
    "\n",
    "\n",
    "##根据click2xy()而变\n",
    "# Xc,Yc=50.0,217.0\n",
    "\n",
    "def pillar(x=0,y=0,dx=10,dy=100): #red1\n",
    "    \"\"\"(x,y)为柱子左下角的坐标;dx,dy为柱子的宽和高\"\"\"\n",
    "    color(PenColor,PillarColor) \n",
    "    begin_fill()\n",
    "    go2point(x,y) \n",
    "    go2delta(dx,0,1)\n",
    "    go2delta(0,dy,1)\n",
    "    go2delta(-dx,0,1)\n",
    "    go2delta(0,-dy,1)\n",
    "    end_fill()\n",
    "\n",
    "def arc2(s=100,height=100,theta=20):\n",
    "        \"\"\"为等腰三角形的两斜边画弧.\n",
    "        xy是右底角的坐标; s是三角形的半底边; h是三角形的高;theta是弧的圆心角;\"\"\"\n",
    "        \n",
    "        heading1 = 180-arctand(height/s)-theta/2\n",
    "        heading2 =  90+arctand(s/height)+theta/2\n",
    "        r = np.sqrt(s**2+height**2)/2 / sind(theta/2)\n",
    "        \n",
    "        seth(0)  #右弧\n",
    "        left(heading1)\n",
    "        circle(r,theta)\n",
    "        seth(0)  #左弧\n",
    "        right(heading2)\n",
    "        circle(r,theta)\n",
    "\n",
    "def click2xy(): \n",
    "    \"\"\"获取屏幕上点的坐标\"\"\"\n",
    "    def getPos(x,y): \n",
    "        print(\"Xc,Yc={},{}\".format(x,y)) #只能打印而不能return\n",
    "    getscreen().onclick(getPos) #或onscreenclick(getPos)  \n",
    "    done()\n",
    "\n",
    "def logo_ddpy(R=50,alpha=300,theta=20,dx=3):\n",
    "    \"\"\"\n",
    "    R:大孔半径\n",
    "    Ratio_r_R:大孔半径与小孔半径的比\n",
    "    alpha: 大小桥孔的圆心角\n",
    "    theta: 亭子的底角\n",
    "    dx: 柱子的直径\n",
    "    d表示横向距离,h表示纵向距离\n",
    "    \"\"\"\n",
    "    \n",
    "    d = 2*R*sind(alpha/2)  #石长\n",
    "    P = d*(1+Ratio_Increase_d)# 亭长\n",
    "    h = Ratio_h_d * d  #石高\n",
    "    r = Ratio_r_R * R  #小孔半径\n",
    "    hole_space = (h-2*r*sind(alpha/2))/2  #孔间距(大小孔边界之间的距离)\n",
    "\n",
    "    pillar_space= Ratio_PilarSpace_d * P   #柱间距\n",
    "    pillar_height= Ratio_PilarHeight_PilarSpace * pillar_space  #柱子的高\n",
    "    \n",
    "    pavilion_height = h + pillar_height #亭底的高度      \n",
    "                     \n",
    "    \n",
    "    ###### 桥 ######\n",
    "    color(PenColor,StoneColor)   #snow4, \n",
    "    seth(0)\n",
    "    go2point(d/2)\n",
    "    \n",
    "    begin_fill()\n",
    "    forward(hole_space)\n",
    "    left(alpha/2)\n",
    "    circle(-r,alpha)\n",
    "    seth(0)  \n",
    "    forward(hole_space)\n",
    "    left(90)\n",
    "    circle(h,90)\n",
    "    forward(d)\n",
    "    circle(h,90)\n",
    "    seth(0)\n",
    "    forward(hole_space)\n",
    "    seth(alpha/2)\n",
    "    circle(-r,alpha)\n",
    "    seth(0)\n",
    "    forward(hole_space)\n",
    "    seth(alpha/2)\n",
    "    circle(-R,alpha)\n",
    "    end_fill()\n",
    "    \n",
    "    ###### 亭子 ######\n",
    "    color(PenColor,PavilionColor) #Gold\n",
    "    \n",
    "    rest = tand(BigAngle)*(h+d/2)-pavilion_height\n",
    "    height_mid = Ratio_MidArcHeight_Rest * d\n",
    "    height_down = Ratio_DownArcHeight_Rest * d\n",
    "    xc = Ratio_Xc_d * d\n",
    "    yc = (1-Ratio_Xc_d)*height_mid\n",
    "    height_up=rest-yc\n",
    "    \n",
    "    go2point(x=xc,y=(1+Ratio_DeltaYc)*yc+pavilion_height)\n",
    "    begin_fill()\n",
    "    arc2(s=xc, height=height_up, theta=theta/2)  #上弧\n",
    "    \n",
    "    go2point(P/2,pavilion_height)\n",
    "    arc2(s=P/2, height=height_mid, theta=theta) #中弧\n",
    "\n",
    "    go2point(P/2,pavilion_height)\n",
    "    arc2(s=P/2, height=height_down, theta=theta/5) #下弧\n",
    "    go2point(P/2,pavilion_height)\n",
    "    end_fill()\n",
    "\n",
    "    ## 清除不必要的填充色\n",
    "    color(PenColor,BgColor) #背景色\n",
    "    begin_fill() \n",
    "    go2point(P/2,pavilion_height) # 消除下弧之下的颜色\n",
    "    arc2(s=P/2, height=height_down, theta=theta/5) \n",
    "    go2point(P/2,pavilion_height,)\n",
    "    end_fill()\n",
    "\n",
    "    \n",
    "    ###### 柱子 ##l####\n",
    "    pillar(pillar_space/2,h,dx,(1+Ration_DeltaPillarHeight)*pillar_height)  #右\n",
    "    pillar(-pillar_space/2,h,dx,(1+Ration_DeltaPillarHeight)*pillar_height)  #左\n",
    "    \n",
    "    return rest\n",
    "\n",
    "def main():\n",
    "    setup(1000,700,0,0)\n",
    "    sc=getscreen()\n",
    "    sc.bgcolor(BgColor) #背景色\n",
    "    pensize(1)\n",
    "    hideturtle()\n",
    "    d = logo_ddpy()\n",
    "    click2xy()\n",
    "    print(\"d: \",d) #长纵比=亭尖高度/2/d\n",
    "    done()\n",
    "    \n",
    "if __name__ == \"__main__\":\n",
    "    main()"
   ]
  },
  {
   "cell_type": "code",
   "execution_count": 15,
   "metadata": {},
   "outputs": [
    {
     "name": "stdout",
     "output_type": "stream",
     "text": [
      "长纵比: 1.1180339887498947\n"
     ]
    }
   ],
   "source": [
    "from turtle import *  \n",
    "from ddpy.brmath import *\n",
    "from ddpy.brpic import *\n",
    "\n",
    "G = 0.6180339887498949 # (sqrt(5)-1)/2\n",
    "\n",
    "\n",
    "    \n",
    "def pillar(x,y,dx,dy):\n",
    "    #第一根柱子\n",
    "    go2point(0,0,False)\n",
    "    \n",
    "    color('black','red')\n",
    "    begin_fill()\n",
    "    go2point(x-dx,y,False)\n",
    "    go2point(x+dx,y)\n",
    "    go2point(x+dx,y+dy)\n",
    "    go2point(x-dx,y+dy)\n",
    "    go2point(x-dx,y)\n",
    "    end_fill()\n",
    "    \n",
    "    go2point(0,0,False)\n",
    "    \n",
    "def arc(x=100,y=0,s=100,h=100,theta=15):\n",
    "        \"\"\"为等腰三角形的两斜边画弧\"\"\"\n",
    "        heading1 = 180-arctand(h/s)-theta/2\n",
    "        heading2 =  90+arctand(s/h)+theta/2\n",
    "        r = np.sqrt(s*s+h*h)/2 / sind(theta/2)\n",
    "                \n",
    "        seth(0)\n",
    "        left(heading1)\n",
    "        circle(r,theta)\n",
    "        \n",
    "        seth(0)\n",
    "        right(heading2)\n",
    "        circle(r,theta)\n",
    "    \n",
    "def logo_ddpy(R=70,times=5,alpha=180,theta=15,dx=4):\n",
    "    \"\"\"\n",
    "    R:大孔半径\n",
    "    times:大孔半径与小孔半径的比\n",
    "    alpha: 大小桥孔的圆心角\n",
    "    theta: 亭子的底角\n",
    "    dx: 柱子的半径\"\"\"\n",
    "    \n",
    "    r = R/times # 小孔半径\n",
    "    if theta == None: theta = rad2deg(arctand(1-2*G**2)) #theta=13.283时,长纵比等于1\n",
    "    \n",
    "    \n",
    "    ## d表示横,h表示纵\n",
    "    d = 2*R*sind(alpha/2) # 大石的长\n",
    "    h = d*G # 大石的高\n",
    "    \n",
    "    d2= (h-2*r*sind(alpha/2))/2 # 大小孔的间距\n",
    "    d3= h # 柱间距等于大石的高 \n",
    "    \n",
    "    h2= d3*G # 柱子的高\n",
    "    h3= d/2*tand(theta) #亭子的高      \n",
    "                     \n",
    "    x = d3/2                  # 右柱的下心x=柱间距的一半\n",
    "    y = h                     # 右柱的下心y等于大石的高\n",
    "    \n",
    "#     coord()\n",
    "    color('black','gray')    \n",
    "    begin_fill()\n",
    "    \n",
    "    ########## 桥 ##########\n",
    "    # >1 \n",
    "    go2point(d/2,0,False)\n",
    "    # >2\n",
    "    forward(d2)\n",
    "    # >3\n",
    "    left(alpha/2)\n",
    "    circle(-r,alpha)\n",
    "    # >4\n",
    "    seth(0)  \n",
    "    forward(d2)\n",
    "    # >5\n",
    "    left(90)\n",
    "    circle(h,90)\n",
    "    # >6\n",
    "    forward(d)\n",
    "    # >7\n",
    "    circle(h,90)\n",
    "    # >8\n",
    "    seth(0)\n",
    "    forward(d2)\n",
    "    # >9\n",
    "    seth(alpha/2)\n",
    "    circle(-r,alpha)\n",
    "    # >10\n",
    "    seth(0)\n",
    "    forward(d2)\n",
    "    # >1\n",
    "    seth(alpha/2)\n",
    "    circle(-R,alpha)\n",
    "    end_fill()\n",
    "    # >0\n",
    "#     go2point()\n",
    "    \n",
    "    ########## 亭子 ##########\n",
    "    \n",
    "    ## 亭顶三角形\n",
    "    ## 假设右弧的右半径,与三角形的底边垂直,且相交于右下角点\n",
    "    \n",
    "    color('black','yellow')\n",
    "    ytz = h+h2\n",
    "    go2point(50,ytz+30,0)\n",
    "\n",
    "    begin_fill()\n",
    "\n",
    "    arc(s=50,  h=50, theta=20)\n",
    "\n",
    "    go2point(100,ytz,0)\n",
    "    arc(s=100, h=50, theta=20)\n",
    "\n",
    "    go2point(100,ytz,0) # 右角的坐标\n",
    "    arc(s=100, h=10, theta=5)\n",
    "\n",
    "    go2point(100,ytz,0)\n",
    "    end_fill()\n",
    "\n",
    "    color('black','white')\n",
    "\n",
    "    begin_fill() #清除不必要的填充色\n",
    "    go2point(100,ytz,0) # 右角的坐标\n",
    "    arc(s=100, h=10, theta=5)\n",
    "    go2point(100,ytz,0)\n",
    "\n",
    "    end_fill()\n",
    "\n",
    "\n",
    "    \n",
    "    ## 回到初始位置\n",
    "    go2point(0,0,0)\n",
    "    seth(0)\n",
    "    \n",
    "    go2point(0,0,0)\n",
    "    ## 柱子左\n",
    "    pillar(-x,y+4,dx,h2) \n",
    "    ## 柱子右\n",
    "    pillar(x,y+4,dx,h2) \n",
    "    \n",
    "    ## LOGO长纵比\n",
    "    print(\"长纵比: {}\".format((d/2+h)/(h+h2)))   \n",
    "\n",
    "def main():\n",
    "    setup(1000,700,0,0)\n",
    "    hideturtle()\n",
    "    pensize(5)\n",
    "    try: logo_ddpy()\n",
    "    except Exception as e:\n",
    "        print(e)\n",
    "    done()\n",
    "    \n",
    "if __name__ == \"__main__\":\n",
    "    main()"
   ]
  },
  {
   "cell_type": "code",
   "execution_count": 4,
   "metadata": {},
   "outputs": [
    {
     "name": "stdout",
     "output_type": "stream",
     "text": [
      "  h3   h3/h\n",
      "-----  ----\n",
      "52.79  0.43\n"
     ]
    }
   ],
   "source": [
    "R=100\n",
    "alpha=180\n",
    "d = 2*R*sind(alpha/2) # 大石的长\n",
    "h = d*G # 大石的高\n",
    "h2= d*G**2 # 柱子的高\n",
    "h3 = (h+h2+h2) - (d/2+h)\n",
    "%C h3; h3/h"
   ]
  },
  {
   "cell_type": "code",
   "execution_count": 5,
   "metadata": {},
   "outputs": [],
   "source": [
    "def arc(x=100,y=0,s=100,h=100,theta=15):\n",
    "        \"\"\"为等腰三角形的两斜边画弧\"\"\"\n",
    "        heading1 = 180-atand(h/s)-theta/2\n",
    "        heading2 =  90+atand(s/h)+theta/2\n",
    "        r = sqrt(s*s+h*h)/2 / sind(theta/2)\n",
    "                \n",
    "        seth(0)\n",
    "        left(heading1)\n",
    "        circle(r,theta)\n",
    "        \n",
    "        seth(0)\n",
    "        right(heading2)\n",
    "        circle(r,theta)"
   ]
  },
  {
   "cell_type": "code",
   "execution_count": null,
   "metadata": {},
   "outputs": [],
   "source": [
    "def arcRL(s=100,h=100,theta=32,right=True):\n",
    "    \"\"\"已知dx,dy,以及旋转角度为斜边画弧(逆时针方向)\"\"\"\n",
    "    setheading(0)\n",
    "    r = np.sqrt(s*s+h*h)/2 / sind(theta/2)\n",
    "    headingR = 180-arctand(h/s)-theta/2\n",
    "    headingL =  270-arctand(s/h)-theta/2\n",
    "    heading = headingR if right==True else headingL\n",
    "    left(heading)\n",
    "    circle(r,theta)\n",
    "for theta in np.arange(15,360,15):\n",
    "    dtarc(theta,right=1)\n",
    "    go2point()\n",
    "    dtarc(theta,right=0)\n",
    "    go2point()\n",
    "done()"
   ]
  },
  {
   "cell_type": "code",
   "execution_count": 8,
   "metadata": {},
   "outputs": [],
   "source": []
  },
  {
   "cell_type": "code",
   "execution_count": 70,
   "metadata": {},
   "outputs": [],
   "source": [
    "begin_fill??"
   ]
  },
  {
   "cell_type": "code",
   "execution_count": 9,
   "metadata": {},
   "outputs": [],
   "source": []
  },
  {
   "cell_type": "code",
   "execution_count": 25,
   "metadata": {},
   "outputs": [],
   "source": []
  },
  {
   "cell_type": "code",
   "execution_count": 174,
   "metadata": {},
   "outputs": [],
   "source": [
    "pensize(5)\n",
    "dome(y0=0,s=100,h=)\n",
    "\n",
    "done()"
   ]
  },
  {
   "cell_type": "code",
   "execution_count": 47,
   "metadata": {},
   "outputs": [],
   "source": [
    "import turtle as t\n",
    "# 定义一个曲线绘制函数\n",
    "def DegreeCurve(n, r, d=1):\n",
    "    for i in range(n):\n",
    "        t.left(d)\n",
    "        t.circle(r, abs(d))\n",
    "# 初始位置设定\n",
    "s = 0.2 # size\n",
    "t.setup(450*5*s, 750*5*s)\n",
    "t.pencolor(\"black\")\n",
    "t.fillcolor(\"red\")\n",
    "t.speed(100)\n",
    "t.penup()\n",
    "t.goto(0, 900*s)\n",
    "t.pendown()\n",
    "# 绘制花朵形状\n",
    "t.begin_fill()\n",
    "t.circle(200*s,30)\n",
    "DegreeCurve(60, 50*s)\n",
    "t.circle(200*s,30)\n",
    "DegreeCurve(4, 100*s)\n",
    "t.circle(200*s,50)\n",
    "DegreeCurve(50, 50*s)\n",
    "t.circle(350*s,65)\n",
    "DegreeCurve(40, 70*s)\n",
    "t.circle(150*s,50)\n",
    "DegreeCurve(20, 50*s, -1)\n",
    "t.circle(400*s,60)\n",
    "DegreeCurve(18, 50*s)\n",
    "t.fd(250*s)\n",
    "t.right(150)\n",
    "t.circle(-500*s,12)\n",
    "t.left(140)\n",
    "t.circle(550*s,110)\n",
    "t.left(27)\n",
    "t.circle(650*s,100)\n",
    "t.left(130)\n",
    "t.circle(-300*s,20)\n",
    "t.right(123)\n",
    "t.circle(220*s,57)\n",
    "t.end_fill()\n",
    "# 绘制花枝形状\n",
    "t.left(120)\n",
    "t.fd(280*s)\n",
    "t.left(115)\n",
    "t.circle(300*s,33)\n",
    "t.left(180)\n",
    "t.circle(-300*s,33)\n",
    "DegreeCurve(70, 225*s, -1)\n",
    "t.circle(350*s,104)\n",
    "t.left(90)\n",
    "t.circle(200*s,105)\n",
    "t.circle(-500*s,63)\n",
    "t.penup()\n",
    "t.goto(170*s,-30*s)\n",
    "t.pendown()\n",
    "t.left(160)\n",
    "DegreeCurve(20, 2500*s)\n",
    "DegreeCurve(220, 250*s, -1)\n",
    "# 绘制一个绿色叶子\n",
    "t.fillcolor('green')\n",
    "t.penup()\n",
    "t.goto(670*s,-180*s)\n",
    "t.pendown()\n",
    "t.right(140)\n",
    "t.begin_fill()\n",
    "t.circle(300*s,120)\n",
    "t.left(60)\n",
    "t.circle(300*s,120)\n",
    "t.end_fill()\n",
    "t.penup()\n",
    "t.goto(180*s,-550*s)\n",
    "t.pendown()\n",
    "t.right(85)\n",
    "t.circle(600*s,40)\n",
    "# 绘制另一个绿色叶子\n",
    "t.penup()\n",
    "t.goto(-150*s,-1000*s)\n",
    "t.pendown()\n",
    "t.begin_fill()\n",
    "t.rt(120)\n",
    "t.circle(300*s,115)\n",
    "t.left(75)\n",
    "t.circle(300*s,100)\n",
    "t.end_fill()\n",
    "t.penup()\n",
    "t.goto(430*s,-1070*s)\n",
    "t.pendown()\n",
    "t.right(30)\n",
    "t.circle(-600*s,35)\n",
    "t.done()"
   ]
  },
  {
   "cell_type": "markdown",
   "metadata": {},
   "source": [
    "## demo\n"
   ]
  },
  {
   "cell_type": "markdown",
   "metadata": {},
   "source": [
    "斐波那契螺旋线(黄金螺旋线)"
   ]
  },
  {
   "cell_type": "code",
   "execution_count": null,
   "metadata": {},
   "outputs": [],
   "source": [
    "250"
   ]
  },
  {
   "cell_type": "code",
   "execution_count": 3,
   "metadata": {},
   "outputs": [],
   "source": [
    "# %%disabled\n",
    "from turtle import *\n",
    "#import cmath\n",
    "speed(10)\n",
    "pensize(5)\n",
    " \n",
    "#判断较小整数的函数\n",
    "def little(a,b):\n",
    "    if a<b:\n",
    "        return a\n",
    "    else:\n",
    "        return b\n",
    "#初始点\n",
    "#矩形\n",
    "x0 = 250\n",
    "y0 = 150\n",
    "r= little(2*x0,2*y0)\n",
    " \n",
    "#定义绘制、填充1/2正方形及扇形的函数\n",
    "def square_sector(r,color_couple):\n",
    "    color(\"black\",color_couple[0])\n",
    "    begin_fill()\n",
    "    #顺时针画1/2正方形\n",
    "    #for i in range(2):\n",
    "    fd(r)\n",
    "    rt(90)\n",
    "    fd(r)\n",
    "    end_fill()\n",
    "    #顺时针画剩余1/2正方形及1/4圆弧\n",
    "    color(\"black\",color_couple[1])\n",
    "    begin_fill()\n",
    "    for i in range(2):\n",
    "        rt(90)\n",
    "        fd(r)\n",
    "    rt(90)\n",
    "    circle(-r,90)\n",
    "    end_fill()\n",
    " \n",
    " \n",
    "#黄金比例\n",
    "#golden_ratio = (cmath.sqrt(5)-1)/2#can't convert complex to int\n",
    "golden_ratio = 0.618\n",
    " \n",
    "#5组填充色——[color_rect,color_arc]#1/2矩形，扇形\n",
    "color_ls = [[\"#8F653B\",\"#EDCB67\"],[\"#B58539\",\"#7D6A98\"],\\\n",
    "            [\"#FAC374\",\"#56ACA9\"],[\"#D87D84\",\"#DA8F3C\"],[\"#769A43\",\"#CF4749\"]]\n",
    " \n",
    "pu()\n",
    "goto(x0,y0)#矩形的右上顶点,默认初始角度0\n",
    "pd()\n",
    "seth(-90)\n",
    "#循环绘制、填充矩形及扇形\n",
    "for i in range(5):\n",
    "    r = 300*(golden_ratio**i)#边长\n",
    "    #rt(90)#\"正方形圆弧图块整体\"右转90度绘制\n",
    "    square_sector(r,color_ls[i])\n",
    "\n",
    "hideturtle()\n",
    "done()"
   ]
  },
  {
   "cell_type": "code",
   "execution_count": 1,
   "metadata": {},
   "outputs": [],
   "source": [
    "\n",
    "%%disabled\n",
    "from turtle import *\n",
    "import random as rd\n",
    "from time import sleep\n",
    "\n",
    "def tree(branchLen):\n",
    "    if branchLen > 3:\n",
    "        if 8 <= branchLen <= 12:\n",
    "            if rd.randint(0, 2) == 0:\n",
    "                color('snow')\n",
    "            else:\n",
    "                color('lightcoral')\n",
    "            pensize(branchLen / 3)\n",
    "        elif branchLen < 8:\n",
    "            if rd.randint(0, 1) == 0:\n",
    "                color('snow')\n",
    "            else:\n",
    "                color('lightcoral')\n",
    "            pensize(branchLen / 2)\n",
    "        else:\n",
    "            color('sienna')\n",
    "            pensize(branchLen / 10)\n",
    " \n",
    "        forward(branchLen)\n",
    "        a = 1.5 * rd.random()\n",
    "        right(20*a)\n",
    "        b = 1.5 * rd.random()\n",
    "        tree(branchLen-10*b)\n",
    "        \n",
    "        left(40*a)\n",
    "        tree(branchLen-10*b)\n",
    "        \n",
    "        right(20*a)\n",
    "        up()\n",
    "        backward(branchLen)\n",
    "        down()\n",
    " \n",
    " \n",
    "def petal(m):  # 树下花瓣\n",
    "    for i in range(m):\n",
    "        a = 200 - 400 * rd.random()\n",
    "        b = 10 - 20 * rd.random()\n",
    "        up()\n",
    "        forward(b)\n",
    "        left(90)\n",
    "        forward(a)\n",
    "        down()\n",
    "        color(\"lightcoral\")\n",
    "        circle(1)\n",
    "        up()\n",
    "        backward(a)\n",
    "        right(90)\n",
    "        backward(b)\n",
    " \n",
    " \n",
    "def main():\n",
    "    setup(600,600,0,0)\n",
    "    screensize(bg='wheat')\n",
    "    \n",
    "    tracer(5, 0)\n",
    "    left(90)\n",
    "    up()\n",
    "    backward(150)\n",
    "    down()\n",
    "    color('sienna')\n",
    "    tree(60)\n",
    "    petal(100)\n",
    "main()\n",
    "done()"
   ]
  },
  {
   "cell_type": "code",
   "execution_count": 11,
   "metadata": {},
   "outputs": [
    {
     "data": {
      "text/plain": [
       "(<module 'turtle' from 'D:\\\\Anaconda3-520\\\\lib\\\\turtle.py'>, None)"
      ]
     },
     "execution_count": 11,
     "metadata": {},
     "output_type": "execute_result"
    }
   ],
   "source": [
    "# coding:utf-8\n",
    "import turtle as t\n",
    "t.pensize(4) # 设置画笔的大小\n",
    "t.colormode(255) # 设置GBK颜色范围为0-255\n",
    "t.color((255,155,192),\"pink\") # 设置画笔颜色和填充颜色(pink)\n",
    "t.setup(840,500) # 设置主窗口的大小为840*500\n",
    "t.speed(10) # 设置画笔速度为10\n",
    "#鼻子\n",
    "t.pu() # 提笔\n",
    "t.goto(-100,100) # 画笔前往坐标(-100,100)\n",
    "t.pd() # 下笔\n",
    "t.seth(-30) # 笔的角度为-30°\n",
    "t.begin_fill() # 外形填充的开始标志\n",
    "a=0.4\n",
    "for i in range(120):\n",
    "    if 0<=i<30 or 60<=i<90:\n",
    "        a=a+0.08\n",
    "        t.lt(3) #向左转3度\n",
    "        t.fd(a) #向前走a的步长\n",
    "    else:\n",
    "        a=a-0.08\n",
    "        t.lt(3)\n",
    "        t.fd(a)\n",
    "t.end_fill() # 依据轮廓填充\n",
    "\n",
    "t.pu() # 提笔\n",
    "t.seth(90) # 笔的角度为90度\n",
    "t.fd(25) # 向前移动25\n",
    "t.seth(0) # 转换画笔的角度为0\n",
    "t.fd(10)\n",
    "t.pd()\n",
    "\n",
    "t.pencolor(255,155,192) # 设置画笔颜色\n",
    "t.seth(10)\n",
    "t.begin_fill()\n",
    "t.circle(5) # 画一个半径为5的圆\n",
    "t.color(160,82,45) # 设置画笔和填充颜色\n",
    "t.end_fill()\n",
    "t.pu()\n",
    "t.seth(0)\n",
    "t.fd(20)\n",
    "t.pd()\n",
    "t.pencolor(255,155,192)\n",
    "t.seth(10)\n",
    "t.begin_fill()\n",
    "t.circle(5)\n",
    "t.color(160,82,45)\n",
    "t.end_fill()\n",
    "#头\n",
    "t.color((255,155,192),\"pink\")\n",
    "t.pu()\n",
    "t.seth(90)\n",
    "t.fd(41)\n",
    "t.seth(0)\n",
    "t.fd(0)\n",
    "t.pd()\n",
    "t.begin_fill()\n",
    "t.seth(180)\n",
    "t.circle(300,-30) # 顺时针画一个半径为300,圆心角为30°的园\n",
    "t.circle(100,-60)\n",
    "t.circle(80,-100)\n",
    "t.circle(150,-20)\n",
    "t.circle(60,-95)\n",
    "t.seth(161)\n",
    "t.circle(-300,15)\n",
    "t.pu()\n",
    "t.goto(-100,100)\n",
    "t.pd()\n",
    "t.seth(-30)\n",
    "a=0.4\n",
    "for i in range(60):\n",
    "    if 0<=i<30 or 60<=i<90:\n",
    "        a=a+0.08\n",
    "        t.lt(3) #向左转3度\n",
    "        t.fd(a) #向前走a的步长\n",
    "    else:\n",
    "        a=a-0.08\n",
    "        t.lt(3)\n",
    "        t.fd(a)\n",
    "t.end_fill()\n",
    "\n",
    "#耳朵\n",
    "t.color((255,155,192),\"pink\")\n",
    "t.pu()\n",
    "t.seth(90)\n",
    "t.fd(-7)\n",
    "t.seth(0)\n",
    "t.fd(70)\n",
    "t.pd()\n",
    "t.begin_fill()\n",
    "t.seth(100)\n",
    "t.circle(-50,50)\n",
    "t.circle(-10,120)\n",
    "t.circle(-50,54)\n",
    "t.end_fill()\n",
    "t.pu()\n",
    "t.seth(90)\n",
    "t.fd(-12)\n",
    "t.seth(0)\n",
    "t.fd(30)\n",
    "t.pd()\n",
    "t.begin_fill()\n",
    "t.seth(100)\n",
    "t.circle(-50,50)\n",
    "t.circle(-10,120)\n",
    "t.circle(-50,56)\n",
    "t.end_fill()\n",
    "\n",
    "#眼睛\n",
    "t.color((255,155,192),\"white\")\n",
    "t.pu()\n",
    "t.seth(90)\n",
    "t.fd(-20)\n",
    "t.seth(0)\n",
    "t.fd(-95)\n",
    "t.pd()\n",
    "t.begin_fill()\n",
    "t.circle(15)\n",
    "t.end_fill()\n",
    "t.color(\"black\")\n",
    "t.pu()\n",
    "t.seth(90)\n",
    "t.fd(12)\n",
    "t.seth(0)\n",
    "t.fd(-3)\n",
    "t.pd()\n",
    "t.begin_fill()\n",
    "t.circle(3)\n",
    "t.end_fill()\n",
    "t.color((255,155,192),\"white\")\n",
    "t.pu()\n",
    "t.seth(90)\n",
    "t.fd(-25)\n",
    "t.seth(0)\n",
    "t.fd(40)\n",
    "t.pd()\n",
    "t.begin_fill()\n",
    "t.circle(15)\n",
    "t.end_fill()\n",
    "t.color(\"black\")\n",
    "t.pu()\n",
    "t.seth(90)\n",
    "t.fd(12)\n",
    "t.seth(0)\n",
    "t.fd(-3)\n",
    "t.pd()\n",
    "t.begin_fill()\n",
    "t.circle(3)\n",
    "t.end_fill()\n",
    "#腮\n",
    "t.color((255,155,192))\n",
    "t.pu()\n",
    "t.seth(90)\n",
    "t.fd(-95)\n",
    "t.seth(0)\n",
    "t.fd(65)\n",
    "t.pd()\n",
    "t.begin_fill()\n",
    "t.circle(30)\n",
    "t.end_fill()\n",
    "#嘴\n",
    "t.color(239,69,19)\n",
    "t.pu()\n",
    "t.seth(90)\n",
    "t.fd(15)\n",
    "t.seth(0)\n",
    "t.fd(-100)\n",
    "t.pd()\n",
    "t.seth(-80)\n",
    "t.circle(30,40)\n",
    "t.circle(40,80)\n",
    "#身体\n",
    "t.color(\"red\",(255,99,71))\n",
    "t.pu()\n",
    "t.seth(90)\n",
    "t.fd(-20)\n",
    "t.seth(0)\n",
    "t.fd(-78)\n",
    "t.pd()\n",
    "t.begin_fill()\n",
    "t.seth(-130)\n",
    "t.circle(100,10)\n",
    "t.circle(300,30)\n",
    "t.seth(0)\n",
    "t.fd(230)\n",
    "t.seth(90)\n",
    "t.circle(300,30)\n",
    "t.circle(100,3)\n",
    "t.color((255,155,192),(255,100,100))\n",
    "t.seth(-135)\n",
    "t.circle(-80,63)\n",
    "t.circle(-150,24)\n",
    "t.end_fill()\n",
    "#手\n",
    "t.color((255,155,192))\n",
    "t.pu()\n",
    "t.seth(90)\n",
    "t.fd(-40)\n",
    "t.seth(0)\n",
    "t.fd(-27)\n",
    "t.pd()\n",
    "t.seth(-160)\n",
    "t.circle(300,15)\n",
    "t.pu()\n",
    "t.seth(90)\n",
    "t.fd(15)\n",
    "t.seth(0)\n",
    "t.fd(0)\n",
    "t.pd()\n",
    "t.seth(-10)\n",
    "t.circle(-20,90)\n",
    "t.pu()\n",
    "t.seth(90)\n",
    "t.fd(30)\n",
    "t.seth(0)\n",
    "t.fd(237)\n",
    "t.pd()\n",
    "t.seth(-20)\n",
    "t.circle(-300,15)\n",
    "t.pu()\n",
    "t.seth(90)\n",
    "t.fd(20)\n",
    "t.seth(0)\n",
    "t.fd(0)\n",
    "t.pd()\n",
    "t.seth(-170)\n",
    "t.circle(20,90)\n",
    "#脚\n",
    "t.pensize(10)\n",
    "t.color((240,128,128))\n",
    "t.pu()\n",
    "t.seth(90)\n",
    "t.fd(-75)\n",
    "t.seth(0)\n",
    "t.fd(-180)\n",
    "t.pd()\n",
    "t.seth(-90)\n",
    "t.fd(40)\n",
    "t.seth(-180)\n",
    "t.color(\"black\")\n",
    "t.pensize(15)\n",
    "t.fd(20)\n",
    "t.pensize(10)\n",
    "t.color((240,128,128))\n",
    "t.pu()\n",
    "t.seth(90)\n",
    "t.fd(40)\n",
    "t.seth(0)\n",
    "t.fd(90)\n",
    "t.pd()\n",
    "t.seth(-90)\n",
    "t.fd(40)\n",
    "t.seth(-180)\n",
    "t.color(\"black\")\n",
    "t.pensize(15)\n",
    "t.fd(20)\n",
    "#尾巴\n",
    "t.pensize(4)\n",
    "t.color((255,155,192))\n",
    "t.pu()\n",
    "t.seth(90)\n",
    "t.fd(70)\n",
    "t.seth(0)\n",
    "t.fd(95)\n",
    "t.pd()\n",
    "t.seth(0)\n",
    "t.circle(70,20)\n",
    "t.circle(10,330)\n",
    "t.circle(70,30)\n",
    "t,done()"
   ]
  }
 ],
 "metadata": {
  "kernelspec": {
   "display_name": "Python 3",
   "language": "python",
   "name": "python3"
  },
  "language_info": {
   "codemirror_mode": {
    "name": "ipython",
    "version": 3
   },
   "file_extension": ".py",
   "mimetype": "text/x-python",
   "name": "python",
   "nbconvert_exporter": "python",
   "pygments_lexer": "ipython3",
   "version": "3.6.5"
  },
  "toc": {
   "base_numbering": 1,
   "nav_menu": {},
   "number_sections": true,
   "sideBar": true,
   "skip_h1_title": true,
   "title_cell": "Table of Contents",
   "title_sidebar": "Contents",
   "toc_cell": false,
   "toc_position": {
    "height": "calc(100% - 180px)",
    "left": "10px",
    "top": "150px",
    "width": "241.317px"
   },
   "toc_section_display": true,
   "toc_window_display": true
  }
 },
 "nbformat": 4,
 "nbformat_minor": 2
}
