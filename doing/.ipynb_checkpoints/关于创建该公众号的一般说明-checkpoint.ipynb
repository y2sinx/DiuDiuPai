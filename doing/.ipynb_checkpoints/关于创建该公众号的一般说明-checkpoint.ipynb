{
 "cells": [
  {
   "cell_type": "markdown",
   "metadata": {},
   "source": [
    "# 关于创建本公众号的一般说明\n",
    "\n",
    "作者: 闪电球  \n",
    "\n",
    "封面: [diudiupai_qingyun.png](https://i.loli.net/2019/10/04/rzUqbxkf6TQG3OK.png);\n",
    "from network: [艺术字-清韵字体](http://www.yishuzi.com/b/m21.htm)    \n",
    "\n",
    "摘要: 有关本公众号的意象,LOGO,菜单项,素材的编辑与存储方式,其他等...\n",
    "\n",
    "文章类型: 其他   "
   ]
  },
  {
   "cell_type": "markdown",
   "metadata": {},
   "source": [
    "## 关于公众号的名字"
   ]
  },
  {
   "cell_type": "markdown",
   "metadata": {},
   "source": [
    "丢丢派的简单含义: \n",
    "\"丢\"做名词意为\"小东西\",做动词意为\"舍弃\",\"丢丢\"就是\"舍弃小东西\"的含义.  \n",
    "\"派\"此处取\"因风格而自成一派\"的含义,而本公众号的风格是追寻生活中的简约主义.  \n",
    "因此丢丢派的简单含义即\"为追求简约主义而主动舍弃一些小东西的一群人\"  \n",
    "\n",
    "\"丢丢派\"的主客体含义:  \n",
    "针对某一问题,\"派\"强调是问题的主体, 名词\"丢\"强调的是问题的客体.  \n",
    "而动词\"丢\"强调的是主客体之间的操作手段,而本公众号中操作手段一般是指Python.  \n",
    "因此丢丢派的主客体含义为\"用Python解决生活中遇到的一些小问题\"."
   ]
  },
  {
   "cell_type": "markdown",
   "metadata": {},
   "source": [
    "## 关于公众号的LOGO\n",
    "\n",
    "![logo_ddpy.png](https://i.loli.net/2019/10/04/kngFSY3RteIETpq.png)"
   ]
  },
  {
   "cell_type": "markdown",
   "metadata": {},
   "source": [
    "本公众号的LOGO暂定为\"一去,走走亭亭\", 设计者为闪电球, 设计创意是对中国字的形象化处理,即将\"丢\"字或\"去\"字形象化为\"亭桥\", 寓意为\"去往人生的旅途,需要走走停停\"."
   ]
  },
  {
   "cell_type": "markdown",
   "metadata": {},
   "source": [
    "## 关于公众号的菜单项\n",
    "\n",
    "暂时想到的包含以下几个方面:\n",
    "\n",
    "1. 关于Python:\n",
    "    * Python基础: 学习有关Python语言的基础知识  \n",
    "    * Python库: 介绍Python各种功能强大的库  \n",
    "    * ddpy: 一些自己编写或搜集的常用代码 \n",
    "    * Math: 有了Python之后如何学习数学\n",
    "\n",
    "1. 关于Subject:\n",
    "    * Hobby: 探讨兴趣爱好,如读书,旅游...\n",
    "    * GrowUp: 工作与个人成长\n",
    "    * Home: 家,大家,小家\n",
    "    \n",
    "1. 关于Object:\n",
    "    * Puzzle: 生活中遇到的问题\n",
    "    * Solution: 对上述问题的解决方案"
   ]
  },
  {
   "cell_type": "markdown",
   "metadata": {},
   "source": [
    "## 关于公众号的编辑,存储,查阅\n",
    "\n",
    "关于公号内的图文素材,一般使用 Jupyter Notebook 进行编辑, 使用 Github 进行存储, 使用 NBViewer 进行查阅. 关于在本公众号内已发布的图文素材, 若无重大变更将不会在本公众号内二次发布. 关于修改后的版本, 可通过 Github或NBViewer 查看.  \n",
    "\n",
    "**与本公号有关的 Github 文件有两个**:\n",
    "1. 公众号内的图文素材: https://github.com/y2sinx/diudiupai   \n",
    "1. ddpy自建Python包: https://github.com/y2sinx/ddpy\n",
    "\n",
    "上述两个文件除在 Github 内直接查看外, 亦可通过 Jupyter Notebook 的文件查看器 NBViwer(https://nbviewer.jupyter.org/) 查看, 在 NBViewer 的搜索框中直接输入两个 Github 文件的地址即可.\n",
    "\n",
    "**Jupyter Notebook 转公众号图文素材**:\n",
    "1. `.jpynb -> .md ->  MarkDown Nice(https://mdnice.com/) ->  图文素材`\n",
    "1. 因为微信公众平台暂时不能插入外链,所以素材中的图片可能需要重新插入."
   ]
  },
  {
   "cell_type": "markdown",
   "metadata": {},
   "source": [
    "## 关于公众号的其他说明\n",
    "\n",
    "关于本公众号的其他任何问题, 请联系 y2sinx@126.com."
   ]
  },
  {
   "cell_type": "markdown",
   "metadata": {},
   "source": []
  }
 ],
 "metadata": {
  "kernelspec": {
   "display_name": "Python 3",
   "language": "python",
   "name": "python3"
  },
  "language_info": {
   "codemirror_mode": {
    "name": "ipython",
    "version": 3
   },
   "file_extension": ".py",
   "mimetype": "text/x-python",
   "name": "python",
   "nbconvert_exporter": "python",
   "pygments_lexer": "ipython3",
   "version": "3.6.5"
  },
  "toc": {
   "base_numbering": 1,
   "nav_menu": {},
   "number_sections": true,
   "sideBar": true,
   "skip_h1_title": true,
   "title_cell": "Table of Contents",
   "title_sidebar": "Contents",
   "toc_cell": false,
   "toc_position": {},
   "toc_section_display": true,
   "toc_window_display": false
  }
 },
 "nbformat": 4,
 "nbformat_minor": 2
}
