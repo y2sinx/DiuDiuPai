{
 "cells": [
  {
   "cell_type": "markdown",
   "metadata": {},
   "source": [
    "无论你画什么, 你的画里都会包含线条. 在绘画的世界中, 这里有许多不同类型的线条: 直的, 水平的(horizontal), 对角的(diagonal), 起伏的(wiggly), 弯曲的(curve), 点状的, 虚的(dashed), 波浪的(wavy), 浓密的(thick), 稀疏的, 卷曲的(curly), 螺旋的(spiral), 此处仅列举了几例(to name a few).    \n",
    "\n",
    "为了画线画的舒服, 你需要耐心和练习. 尝试使用较粗的线条勾勒出主要区域的轮廓(outline), 使用较细的线条勾勒细节.    \n",
    "\n",
    "在任何你想要添加颜色的地方添加颜色.    \n",
    "\n",
    "> A line is a dot that went on a walk.    — Paul Klee    \n",
    "线条是遛了几个\"弯\"的点.    —— 保罗⋅基利    \n",
    "\n",
    "找个纸张或书页的空白, 开始练习画线. 尝试使用所有类型的线条, 尝试他们的组合, 尝试使用不同的绘画材料和介质(media).    \n",
    "\n",
    "![f0028-01.jpg](https://ae02.alicdn.com/kf/Ua05d2c1965da48f48bb076237dae6713o.jpg)    \n",
    "\n",
    "使用不同的线条类型(line styles), 绘制花的边缘和茎(stems).    \n",
    "\n",
    "![f0028-02.jpg](https://ae02.alicdn.com/kf/Ud97dee05d4044ff09bef3d9f49aa19fcK.jpg)    \n",
    "\n",
    "画个矩形(或使用整张纸), 从低开始往上画, 无论你使用什么样的线条或颜色, 直至画满整个空间.    \n",
    "\n",
    "![f0028-03.jpg](https://ae02.alicdn.com/kf/Ub8fdef6c42034f03b709ff6cb5b4eaa18.jpg)    \n",
    "\n",
    "使用不同的线条类型(line styles)绘制曼荼罗(mandala).    \n",
    "\n",
    "![f0029-01.jpg](https://ae03.alicdn.com/kf/Uaeb652c4e30b4f1ea5a67a85949a1dc82.jpg)    \n",
    "\n",
    "画一段栅栏(fence)并为其添加木纹(wood grain).    \n",
    "\n",
    "![f0029-02.jpg](https://ae02.alicdn.com/kf/Uc5d65518e4c64d07a17b186a0bf5d3e79.jpg)    \n",
    "\n",
    "画一只船, 并为其添加水漾波纹(water under the boat).    \n",
    "\n",
    "![f0029-03.jpg](https://ae02.alicdn.com/kf/Uf660b7b45e4c4769bc1e3d79f06e0f4ab.jpg)    \n",
    "\n",
    "使用不同类型的线条(line styles), 使设计图案(design)看起来像是刺绣品(embroidery).    \n",
    "\n",
    "![f0029-04.jpg](https://ae02.alicdn.com/kf/U4302611fd0f844889337e30ff8a2ac7d2.jpg)    "
   ]
  }
 ],
 "metadata": {
  "kernelspec": {
   "display_name": "Python 3",
   "language": "python",
   "name": "python3"
  },
  "language_info": {
   "codemirror_mode": {
    "name": "ipython",
    "version": 3
   },
   "file_extension": ".py",
   "mimetype": "text/x-python",
   "name": "python",
   "nbconvert_exporter": "python",
   "pygments_lexer": "ipython3",
   "version": "3.8.3"
  },
  "toc": {
   "base_numbering": 1,
   "nav_menu": {},
   "number_sections": true,
   "sideBar": true,
   "skip_h1_title": true,
   "title_cell": "Table of Contents",
   "title_sidebar": "Contents",
   "toc_cell": false,
   "toc_position": {},
   "toc_section_display": true,
   "toc_window_display": false
  }
 },
 "nbformat": 4,
 "nbformat_minor": 4
}
