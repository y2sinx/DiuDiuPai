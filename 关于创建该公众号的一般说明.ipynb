{
 "cells": [
  {
   "cell_type": "markdown",
   "metadata": {},
   "source": [
    "不能插入外部链接"
   ]
  },
  {
   "cell_type": "markdown",
   "metadata": {},
   "source": [
    "# 关于创建本公众号的一般说明\n",
    "\n",
    "作者: 闪电球  \n",
    "\n",
    "封面: [cover.png](http://70.lsal.cn/217/1167.png?10020151371251); from network: [艺术字-清韵字体](http://www.yishuzi.com/b/m21.htm)    \n",
    "\n",
    "摘要: 有关本公众号的意象,LOGO,菜单项,素材的编辑与存储方式,其他等...\n",
    "\n",
    "文章类型: 其他   \n"
   ]
  },
  {
   "cell_type": "markdown",
   "metadata": {},
   "source": [
    "## 意象"
   ]
  },
  {
   "cell_type": "markdown",
   "metadata": {},
   "source": [
    "![19a02_3t1.jpg](https://i.loli.net/2019/10/02/9QnwluJVeSXGNjx.png)"
   ]
  },
  {
   "cell_type": "markdown",
   "metadata": {},
   "source": [
    "我对\"丢\"字的理解有二, 一做动词\"丢东西\", 二做名词\"小东西\".\"丢丢\"合起来就是\"丢掉小东西\"的意思.    \n",
    "\n",
    "我对\"派\"字理解有三: 一是\"门派\",二是\"圆周率\",三是\"Python\"[读:Pai-Sen].   \n",
    "\n",
    "在此\"丢丢派\"共有三种意象:  \n",
    "1. 总是丢些小东西的一群人  \n",
    "2. 丢掉圆周率中的那些小数\n",
    "3. 从Python视角丢些小东西 \n",
    "\n",
    "起初, 这三种意象糅杂在一起, 以至于我十分纠结和厌烦. 就在我即将陷入郁郁寡欢之际, 我感觉头脑中突然出现一道光, 然后我就彻底明白了这三种意象之间的真谛: \"哦,我的上帝啊\". 现在请允许我用\"三位一体图\"来解释这三种意象之间的关系——这三种意象之间是对立统一而又不可分割的一个整体.\n",
    "1. 意象1强调的是\"派\"字,强调的是人,即问题的主体.  \n",
    "2. 意象2强调的是第二个\"丢\"字,强调的是小东西,即问题的客体.  \n",
    "3. 意象3强调的是第一个\"派\"字,强调的是人与小东西之间的动作,即问题解决的手段.  \n",
    "\n",
    "你如果理解不了也没事, 毕竟这也不是什么大不了的事, 本质上就是想一本正经的胡说八道. 一个名字而已, 你自己觉得是啥意思就是啥意思, 你要觉得没意思那就没意思."
   ]
  },
  {
   "cell_type": "markdown",
   "metadata": {},
   "source": [
    "## LOGO\n",
    "\n",
    "![ddpy.png](https://i.loli.net/2019/10/02/zrTl1bVMf7vmUj8.png)\n",
    "\n",
    "Logo: \"一去,走走停停\"  \n",
    "设计者: 闪电球  \n",
    "设计工具: Python-Turtle库  \n",
    "设计思路: 中国字\"丢\"做镜面对称为\"丢丢\",然后做形象处理变形为\"亭桥\"  \n",
    "寓意:在人生的旅途中走走停停"
   ]
  },
  {
   "cell_type": "code",
   "execution_count": 1,
   "metadata": {},
   "outputs": [],
   "source": [
    "# ddpy.brpic.logo_ddpy\n"
   ]
  },
  {
   "cell_type": "markdown",
   "metadata": {},
   "source": [
    "## 菜单项\n",
    "\n",
    "本人暂时想到的包含以下几个方面:\n",
    "\n",
    "1. 关于Python:\n",
    "    * Start: 学习有关Python语言的基础知识  \n",
    "    * Package: 介绍Python各种功能强大的库  \n",
    "    * DdPy: 自建包,一些自己搜集或编写的一些常用代码 \n",
    "    * Math: Python数学笔记\n",
    "\n",
    "1. 关于Subject:\n",
    "    * Hobby: 兴趣爱好,旅游,美食,读书,影评等\n",
    "    * GrowUp: 工作与个人成长\n",
    "    * Home: 家,大家,小家\n",
    "    \n",
    "1. 关于Object:\n",
    "    * Puzzle: 一些待解决的问题,类似于其他社区的互助板块\n",
    "    * View: 关于看待问题的角度,求解问题的方法学"
   ]
  },
  {
   "cell_type": "markdown",
   "metadata": {},
   "source": [
    "## 素材的编辑与存储方式\n",
    "\n",
    "本公号内的图文素材将使用 Jupyter Notebook 编辑,并在 Github 中进行存储和后续修改, 修改版本若无重大变更将不会再次于公众号内发表.  \n",
    "\n",
    "**与本公号有关的 Github 文件有两个**:\n",
    "1. y2sinx/diudiupai 用于存储公众号内的图文素材: https://github.com/y2sinx/diudiupai   \n",
    "1. y2sinx/ddpy 用于存储自建Python包ddpy的代码: https://github.com/y2sinx/ddpy\n",
    "\n",
    "上述两个文件除在Github内直接查看外(需注册Github账户?), 亦可通过 Jupyter Notebook 的文件查看器 NBViwer: https://nbviewer.jupyter.org/ 查看(不需要注册任何账户): 在 NBViewer 的搜索框中输入文件名, 请注意不要忽略`y2sinx/`.\n",
    "\n",
    "**Jupyter Notebook转公众号图文素材的一般步骤如下**:  \n",
    "1. 在[Anaconda](https://www.anaconda.com/) 中使用Jupyter编辑图文素材 `title.jpynb`, 注意其中图片的插入方式一律改为引用图床地址的形式: `![filename.png](图床地址)`\n",
    "1. 将文件`title.jpynb`保存为MarkDown格式(`title.md`)\n",
    "1. 通过在线转换工具 [Markdown Nice](https://mdnice.com/) 将 `title.md` 转换为 [微信公众平台] 可直接接受的图文素材\n",
    "1. 将网站转换后的图文素材复制粘贴在微信公众平台.\n"
   ]
  },
  {
   "cell_type": "markdown",
   "metadata": {},
   "source": [
    "## 其他\n",
    "\n",
    "1. 本公众号原则上只接收或发表原创文章以及合作公众号内的转载文章.  \n",
    "1. 接收文件格式推荐使用MarkDown,文章中的图片学会注明来源(DIY/网络), 来源于DIY的图片尽可能的展示其制作过程, 而来源于网络的图片必须明确其版权归属.  \n",
    "1. 有关该公众号任何意见与建议, 可通过邮箱 `y2sinx@126.com` 联系"
   ]
  },
  {
   "cell_type": "markdown",
   "metadata": {},
   "source": []
  }
 ],
 "metadata": {
  "kernelspec": {
   "display_name": "Python 3",
   "language": "python",
   "name": "python3"
  },
  "language_info": {
   "codemirror_mode": {
    "name": "ipython",
    "version": 3
   },
   "file_extension": ".py",
   "mimetype": "text/x-python",
   "name": "python",
   "nbconvert_exporter": "python",
   "pygments_lexer": "ipython3",
   "version": "3.6.5"
  },
  "toc": {
   "base_numbering": 1,
   "nav_menu": {},
   "number_sections": true,
   "sideBar": true,
   "skip_h1_title": true,
   "title_cell": "Table of Contents",
   "title_sidebar": "Contents",
   "toc_cell": false,
   "toc_position": {},
   "toc_section_display": true,
   "toc_window_display": false
  }
 },
 "nbformat": 4,
 "nbformat_minor": 2
}
