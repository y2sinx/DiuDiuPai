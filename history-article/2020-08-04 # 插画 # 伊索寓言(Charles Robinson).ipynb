{
 "cells": [
  {
   "cell_type": "markdown",
   "metadata": {},
   "source": [
    "Start    \n",
    "![](http://www.gutenberg.org/files/53103/53103-h/images/image4.jpg)\n",
    "****************************************************************\n",
    "\n",
    "Frog    \n",
    "![](http://www.gutenberg.org/files/53103/53103-h/images/image5c.jpg)\n",
    "****************************************************************\n",
    "\n",
    "The Daw(寒鸦) in Borrowed Feathers    \n",
    "![](http://www.gutenberg.org/files/53103/53103-h/images/image8.jpg)\n",
    "****************************************************************\n",
    "\n",
    "The Fox and The Stork(鹳) 1    \n",
    "![](http://www.gutenberg.org/files/53103/53103-h/images/image22.jpg)\n",
    "****************************************************************\n",
    "\n",
    "The Fox and The Stork 2    \n",
    "![](http://www.gutenberg.org/files/53103/53103-h/images/image23.jpg)\n",
    "****************************************************************\n",
    "\n",
    "Stork    \n",
    "![](http://www.gutenberg.org/files/53103/53103-h/images/image24.jpg)\n",
    "****************************************************************\n",
    "\n",
    "The Ants and the Grasshopper(蚱蜢)    \n",
    "![](http://www.gutenberg.org/files/53103/53103-h/images/image26.jpg)\n",
    "****************************************************************\n",
    "\n",
    "The Lion and The Mouse     \n",
    "![](http://www.gutenberg.org/files/53103/53103-h/images/image30.jpg)\n",
    "****************************************************************\n",
    "\n",
    "The Crow and The Pitcher(水罐)    \n",
    "![](http://www.gutenberg.org/files/53103/53103-h/images/image34.jpg)\n",
    "****************************************************************\n",
    "\n",
    "The Frogs asking for a King    \n",
    "![](http://www.gutenberg.org/files/53103/53103-h/images/image36.jpg)\n",
    "****************************************************************\n",
    "\n",
    "The Fox and the Grapes    \n",
    "![](http://www.gutenberg.org/files/53103/53103-h/images/image41.jpg)\n",
    "****************************************************************\n",
    "\n",
    "The Wolf and the Lamb    \n",
    "![](http://www.gutenberg.org/files/53103/53103-h/images/image43.jpg)\n",
    "****************************************************************\n",
    "\n",
    "The Fox and the Crow    \n",
    "![](http://www.gutenberg.org/files/53103/53103-h/images/image46.jpg)\n",
    "****************************************************************\n",
    "\n",
    "End    \n",
    "![](http://www.gutenberg.org/files/53103/53103-h/images/image48.jpg)"
   ]
  }
 ],
 "metadata": {
  "kernelspec": {
   "display_name": "Python 3",
   "language": "python",
   "name": "python3"
  },
  "language_info": {
   "codemirror_mode": {
    "name": "ipython",
    "version": 3
   },
   "file_extension": ".py",
   "mimetype": "text/x-python",
   "name": "python",
   "nbconvert_exporter": "python",
   "pygments_lexer": "ipython3",
   "version": "3.7.6"
  },
  "toc": {
   "base_numbering": 1,
   "nav_menu": {},
   "number_sections": true,
   "sideBar": true,
   "skip_h1_title": true,
   "title_cell": "Table of Contents",
   "title_sidebar": "Contents",
   "toc_cell": false,
   "toc_position": {},
   "toc_section_display": true,
   "toc_window_display": false
  },
  "varInspector": {
   "cols": {
    "lenName": 16,
    "lenType": 16,
    "lenVar": 40
   },
   "kernels_config": {
    "python": {
     "delete_cmd_postfix": "",
     "delete_cmd_prefix": "del ",
     "library": "var_list.py",
     "varRefreshCmd": "print(var_dic_list())"
    },
    "r": {
     "delete_cmd_postfix": ") ",
     "delete_cmd_prefix": "rm(",
     "library": "var_list.r",
     "varRefreshCmd": "cat(var_dic_list()) "
    }
   },
   "types_to_exclude": [
    "module",
    "function",
    "builtin_function_or_method",
    "instance",
    "_Feature"
   ],
   "window_display": false
  }
 },
 "nbformat": 4,
 "nbformat_minor": 4
}
