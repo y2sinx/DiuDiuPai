{
 "cells": [
  {
   "cell_type": "markdown",
   "metadata": {},
   "source": [
    "One summer a certain peasant's crops failed him, and so he had no food to give to his animals, which were a cock and a dog. And the dog said to the cock: \"Well, brother Peeter, I think we should get more to eat if we went and lived in the forest than here at our master's, don't you?\" \"That's a fact,\" answered the cock, \"let's be off, there's no help for it.\"    \n",
    "![1](http://www.gutenberg.org/files/23462/23462-h/images/illus-0054-1.jpg)    \n",
    "********    \n",
    "\n",
    "So they said good-bye to their master and mistress and went off to see what they could find. And they went on and on, and couldn't find a nice place to stop. Then it began to grow dark, and the cock said: \"Let's spend the night on a tree. I'll fly up on to a branch, and you take shelter in the hollow. We'll get through the night somehow.\"    \n",
    "![2](http://www.gutenberg.org/files/23462/23462-h/images/illus-0055-2.jpg)    \n",
    "********    \n",
    "\n",
    "So the cock made his way on to a branch, tucked in his toes, and went to sleep, while the dog made himself a bed in the hollow of the tree. And they **slept soundly** the whole night through, and towards morning, when it began to get light, the cock woke up and, as was his **custom**, crew as loud as he could: \"Cock-a-doodle-doo! cock-a-doodle-do! all wake up! all get up! the sun will soon be rising, and the day will soon begin!\"    \n",
    "![3](http://www.gutenberg.org/files/23462/23462-h/images/illus-0056-1.jpg)    \n",
    "********    \n",
    "\n",
    "And he crew so loud, that a fox in a hole near by was up in an instant thinking: \"What a funny thing for a cock to be crowing in the forest! I expect he's lost his way and can't get out again!\"    \n",
    "![4](http://www.gutenberg.org/files/23462/23462-h/images/illus-0057-1.jpg)    \n",
    "********    \n",
    "\n",
    "And he began to look for the cock, and after a bit he saw him sitting upon the branch of the tree. \"Oho!\" thought the fox, \"he'd make a fine meal! How can I get him to come down from there?\"    \n",
    "![5](http://www.gutenberg.org/files/23462/23462-h/images/illus-0058-1.jpg)    \n",
    "********    \n",
    "\n",
    "So he went up to the tree and said to the cock: \"What a splendid cock you are! I've never seen such a fine one all my days! What lovely feathers, just as if they were covered with gold! And your tail! nobody could describe it in words or on paper, it's so beautiful! And what a sweet voice you've got! I could listen to it all day and all night. Do fly down a little closer and let's get to know each other a little better. That reminds me, I've got a **christening** on at my place today, and I shall have plenty of food and drink to offer such a welcome guest. Let's go along to my home.\"    \n",
    "![6](http://www.gutenberg.org/files/23462/23462-h/images/illus-0059-1.jpg)    \n",
    "********    \n",
    "\n",
    "\"Right you are,\" answered the cock, \"I'll certainly come, only you must ask my companion too. We always go about together.\" \"And where is your companion?\" asked the fox. \"Down below in the tree hollow,\" answered the cock. And the fox **poked** his head into the hole, thinking there was another cock there, when the dog **popped** his head out and caught Mr. Fox by the nose!    \n",
    "![7](http://www.gutenberg.org/files/23462/23462-h/images/illus-0061-1.jpg)    \n",
    "********    \n",
    "\n",
    "**单词注释**:    \n",
    "1. christening: /ˈkrɪsnɪŋ/; [n]洗礼仪式;\n",
    "1. custom: /ˈkʌstəm/; [n]习惯;风俗; [a]定制的;\n",
    "1. poked: /pəʊk/; [v]拨弄;伸出;\n",
    "1. popped: /pɒpt/; [v]pop的pt和pp; [a]突然伸出的;\n",
    "1. slept soundly: /ˈsaʊndli/; [x]睡得香;"
   ]
  }
 ],
 "metadata": {
  "kernelspec": {
   "display_name": "Python 3",
   "language": "python",
   "name": "python3"
  },
  "language_info": {
   "codemirror_mode": {
    "name": "ipython",
    "version": 3
   },
   "file_extension": ".py",
   "mimetype": "text/x-python",
   "name": "python",
   "nbconvert_exporter": "python",
   "pygments_lexer": "ipython3",
   "version": "3.7.6"
  },
  "toc": {
   "base_numbering": 1,
   "nav_menu": {},
   "number_sections": true,
   "sideBar": true,
   "skip_h1_title": false,
   "title_cell": "Table of Contents",
   "title_sidebar": "Contents",
   "toc_cell": false,
   "toc_position": {},
   "toc_section_display": true,
   "toc_window_display": false
  },
  "varInspector": {
   "cols": {
    "lenName": 16,
    "lenType": 16,
    "lenVar": 40
   },
   "kernels_config": {
    "python": {
     "delete_cmd_postfix": "",
     "delete_cmd_prefix": "del ",
     "library": "var_list.py",
     "varRefreshCmd": "print(var_dic_list())"
    },
    "r": {
     "delete_cmd_postfix": ") ",
     "delete_cmd_prefix": "rm(",
     "library": "var_list.r",
     "varRefreshCmd": "cat(var_dic_list()) "
    }
   },
   "types_to_exclude": [
    "module",
    "function",
    "builtin_function_or_method",
    "instance",
    "_Feature"
   ],
   "window_display": false
  }
 },
 "nbformat": 4,
 "nbformat_minor": 4
}
