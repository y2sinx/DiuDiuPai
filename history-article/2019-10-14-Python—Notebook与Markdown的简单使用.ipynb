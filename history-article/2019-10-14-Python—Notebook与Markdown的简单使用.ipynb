{
 "cells": [
  {
   "cell_type": "markdown",
   "metadata": {},
   "source": [
    "**摘要**:  \n",
    "关于Notebook文档的编辑, 以及Markdown文本的常见标记命令 "
   ]
  },
  {
   "cell_type": "markdown",
   "metadata": {},
   "source": [
    "## Notebook文档的编辑"
   ]
  },
  {
   "cell_type": "markdown",
   "metadata": {},
   "source": [
    "Jupyter Notebook 是由一系列竖向排列的 cell(单元格) 组成, 每个单元格都可拥有三种类型和两种模式.   \n",
    "一个文档中有且仅有一个单元格处于活动状态, 其左侧会出现一个蓝色的条形棒. 见下图.     \n",
    "\n",
    "三种类型:\n",
    "* Raw类型: 类似于TXT的无格式文本.\n",
    "* Code类型: 类似于一般的程序编辑器, 可编写并运行代码.\n",
    "* Markdown类型: 类似于HTML的标记文本, 通过几个标记命令可以为文本设置一些简单的格式.  \n",
    "\n",
    "两种模式\n",
    "* 编辑模式: 激活cell的蓝色边框, 此时可以在 cell 内编辑文本或者代码.  \n",
    "* 命令模式: 蓝色边框消失, 此时可以将 cell 当做一个整体进行操作. "
   ]
  },
  {
   "cell_type": "markdown",
   "metadata": {},
   "source": [
    "![cell.png](https://i.loli.net/2019/10/14/jEuZokGVOgvcMKe.png)"
   ]
  },
  {
   "cell_type": "markdown",
   "metadata": {},
   "source": [
    "处于编辑模式下常见的操作及其快捷键:  \n",
    "* 缩进: 右缩 `Ctrl+]`, 左缩 `Ctrl+[`  \n",
    "* 全选: `Ctrl+A`  \n",
    "* 撤销: `Ctrl+Z`\n",
    "* 重做: `Ctrl + Shift + Z`/`Ctrl + Y`\n",
    "* 光标移动一个单词: 左移 `Ctrl+Left` , 右移 `Ctrl + Right` \n",
    "* 光标选中一个单词: 左选 `Ctrl+Shift+Left`, 右选 `Ctrl+Shift+Right`\n",
    "* 拆分单元格: `Ctrl+Shift+-`\n",
    "* 编辑代码时的命令补全: Tab\n",
    "* 查找与替换: 未找到???\n",
    "* 由编辑模式进入命令模式: Esc/Ctrl+M"
   ]
  },
  {
   "cell_type": "markdown",
   "metadata": {},
   "source": [
    "处于命令模式下常见的操作及其快捷键:  \n",
    "* 移动光标: 上移 `Up/J`, 下移`Down/K`\n",
    "* 插入新的单元格: 上插 `A`, 下插 `B`  \n",
    "* 单元格的类型转换: 转代码`Y`, 转Markdown `M`, 转Raw`R` \n",
    "* 复制单元格: `C`\n",
    "* 粘贴单元格: `V`\n",
    "* 剪切单元格: `X`\n",
    "* 删除单元格: `DD`\n",
    "* 连选单元格: 上选`Shift+Up`,下选`Shift+Down`\n",
    "* 撤销: `Z`\n",
    "* 重做: `Shfit+Z`\n",
    "* 合并单元格: `Shift+M` \n",
    "* 中断程序运行: `RR`\n",
    "* 重启运算核: `00`\n",
    "* 由命令模式进入编辑模式: `Enter` "
   ]
  },
  {
   "cell_type": "markdown",
   "metadata": {},
   "source": [
    "在编辑模式和命令模式中都可使用的快捷键:\n",
    "* 运行当前单元格: `Ctrl+Enter`\n",
    "* 运行当前单元格并跳转到下一个单元格: `Shift + Enter`\n",
    "* 运行当前单元格并在下面插入一个代码单元格: `Alt+Enter`"
   ]
  },
  {
   "cell_type": "markdown",
   "metadata": {},
   "source": [
    "练习: 绘制标准正态分布函数 $\\large f(x)={\\frac {1}{\\sqrt {2\\pi }}}\\;e^{-x^{2}/2}$ 的图像.  "
   ]
  },
  {
   "cell_type": "markdown",
   "metadata": {},
   "source": [
    "[normal_dist.png](https://i.loli.net/2019/10/13/VgZfm7qDxXFeAHs.png)"
   ]
  },
  {
   "cell_type": "code",
   "execution_count": 2,
   "metadata": {},
   "outputs": [
    {
     "data": {
      "image/png": "[encoded data removed]",
      "text/plain": [
       "<Figure size 432x288 with 1 Axes>"
      ]
     },
     "metadata": {
      "needs_background": "light"
     },
     "output_type": "display_data"
    }
   ],
   "source": [
    "## 绘制标准正态分布函数的图像\n",
    "import numpy as np\n",
    "import matplotlib.pyplot as plt\n",
    "x = np.linspace(-5,5,100)\n",
    "y= np.exp(-x**2/2)/np.sqrt(2*np.pi)    \n",
    "plt.plot(x,y,'ro')\n",
    "plt.show()"
   ]
  },
  {
   "cell_type": "markdown",
   "metadata": {},
   "source": [
    "## Markdown的标记命令"
   ]
  },
  {
   "cell_type": "markdown",
   "metadata": {},
   "source": [
    "[markdown-code.png](https://i.loli.net/2019/10/13/PUNqi3n6OWvXEf1.png)  \n",
    "[markdown-show.png](https://i.loli.net/2019/10/13/61wocSab9jHrE8p.png)  "
   ]
  },
  {
   "cell_type": "markdown",
   "metadata": {},
   "source": [
    "1. 创建粗体: **我是粗体**, __我也是粗体__ \n",
    "2. 创建斜体: *我是斜体*, _我也是斜体  \n",
    "3. 创建无序列表:\n",
    "    * 无序列表第一行\n",
    "    * 无序列表第二行\n",
    "4. 创建有序列表:\n",
    "    1. 有序列表第一行\n",
    "    1. 有序列表第二行\n",
    "5. 创建简单的表格:  \n",
    "|姓名|性别|年龄|\n",
    "|:--|:--|:--|\n",
    "|王耳森|男| 26 | \n",
    "6. 插入数学公式: $e^{i\\pi}+1 = 0$  \n",
    "7. 插入网络图片: ![nav_logo](https://jupyter.org/assets/nav_logo.svg)  \n",
    "8. 插入外部链接: [https://github.com/](https://github.com/)  \n",
    "9. 插入引用:\n",
    ">我是引用      \n",
    "10. 插入分割线: \n",
    "***"
   ]
  },
  {
   "cell_type": "markdown",
   "metadata": {},
   "source": [
    "[html-code.png](https://i.loli.net/2019/10/13/H958iCsaDzVKjtE.png)  \n",
    "[html-show.png](https://i.loli.net/2019/10/13/KhyxzgZrBjdoL7e.png)"
   ]
  },
  {
   "cell_type": "markdown",
   "metadata": {},
   "source": [
    "<span id=\"mao\">  Markdown可支持内嵌的HTML标签 </span>:\n",
    "1. 设置文本块的字体格式: <font color=red size=3> 我是红色文本</font>;    \n",
    "2. 设置文本高亮显示: 我是<mark>高亮文本</mark>;  \n",
    "3. 插入内部链接: 首先在目标点设置锚, 然后在引用点引用锚: [跳转到锚点](#mao);  \n",
    "4. 其他任意的HTML标签"
   ]
  }
 ],
 "metadata": {
  "kernelspec": {
   "display_name": "Python 3",
   "language": "python",
   "name": "python3"
  },
  "language_info": {
   "codemirror_mode": {
    "name": "ipython",
    "version": 3
   },
   "file_extension": ".py",
   "mimetype": "text/x-python",
   "name": "python",
   "nbconvert_exporter": "python",
   "pygments_lexer": "ipython3",
   "version": "3.7.6"
  },
  "toc": {
   "base_numbering": 1,
   "nav_menu": {},
   "number_sections": true,
   "sideBar": true,
   "skip_h1_title": false,
   "title_cell": "Table of Contents",
   "title_sidebar": "Contents",
   "toc_cell": false,
   "toc_position": {},
   "toc_section_display": true,
   "toc_window_display": false
  },
  "toc-autonumbering": false,
  "toc-showcode": true,
  "toc-showmarkdowntxt": false,
  "toc-showtags": true,
  "varInspector": {
   "cols": {
    "lenName": 16,
    "lenType": 16,
    "lenVar": 40
   },
   "kernels_config": {
    "python": {
     "delete_cmd_postfix": "",
     "delete_cmd_prefix": "del ",
     "library": "var_list.py",
     "varRefreshCmd": "print(var_dic_list())"
    },
    "r": {
     "delete_cmd_postfix": ") ",
     "delete_cmd_prefix": "rm(",
     "library": "var_list.r",
     "varRefreshCmd": "cat(var_dic_list()) "
    }
   },
   "types_to_exclude": [
    "module",
    "function",
    "builtin_function_or_method",
    "instance",
    "_Feature"
   ],
   "window_display": false
  }
 },
 "nbformat": 4,
 "nbformat_minor": 4
}
