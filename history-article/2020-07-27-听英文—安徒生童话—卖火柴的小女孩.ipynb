{
 "cells": [
  {
   "cell_type": "markdown",
   "metadata": {},
   "source": [
    "本文整理: Y2SINX  \n",
    "英文来源: http://www.gutenberg.org/files/1597/1597-h/1597-h.htm#link2H_4_0015  \n",
    "音频来源: http://www.gutenberg.org/files/19574/mp3/"
   ]
  },
  {
   "cell_type": "markdown",
   "metadata": {},
   "source": [
    "## [此处插入音频](http://www.gutenberg.org/files/19574/mp3/19574-15.mp3)\n",
    "\n",
    "![](http://www.gutenberg.org/files/32571/32571-h/images/p117i.png)\n",
    "\n",
    "## THE LITTLE MATCH GIRL\n",
    "Most terribly cold it was; it snowed, and was nearly quite dark, and evening-the last evening of the year. In this cold and darkness there went along the street a poor little girl, **bareheaded**, and with naked feet. When she left home she had slippers on, it is true; but what was the good of that? They were very large slippers, which her mother had **hitherto** worn; so large were they; and the poor little thing lost them as she **scuffled** away across the street, because of two **carriages** that rolled by dreadfully fast.\n",
    "\n",
    "One slipper was nowhere to be found; the other had been laid hold of by an **urchin**, and off he ran with it; he thought it would do **capitally** for a **cradle** when he some day or other should have children himself. So the little **maiden** walked on with her tiny naked feet, that were quite red and blue from cold. She carried a quantity of **matches** in an old **apron**, and she held a bundle of them in her hand. Nobody had bought anything of her the whole **livelong** day; no one had given her a single farthing.\n",
    "\n",
    "She crept along trembling with cold and hunger-a very picture of **sorrow**, the poor little thing!\n",
    "\n",
    "The flakes of snow covered her long fair hair, which fell in beautiful curls around her neck; but of that, of course, she never once now thought. From all the windows the candles were **gleaming**, and it smelt so deliciously of roast goose, for you know it was New Year's Eve; yes, of that she thought.\n",
    "\n",
    "In a corner formed by two houses, of which one advanced more than the other, she seated herself down and cowered together. Her little feet she had **drawn** close up to her, but she grew colder and colder, and to go home she did not **venture**, for she had not sold any matches and could not bring a farthing of money: from her father she would certainly get blows, and at home it was cold too, for above her she had only the roof, through which the wind whistled, even though the largest cracks were stopped up with straw and rags.\n",
    "\n",
    "Her little hands were almost numbed with cold. Oh! a match might afford her a world of comfort, if she only dared take a single one out of the bundle, draw it against the wall, and warm her fingers by it. She drew one out. \"**Rischt**!\" how it **blazed**, how it burnt! It was a warm, bright flame, like a candle, as she held her hands over it: it was a wonderful light. It seemed really to the little maiden as though she were sitting before a large iron stove, with **burnished** brass feet and a brass ornament at top. The fire burned with such blessed influence; it warmed so delightfully. The little girl had already stretched out her feet to warm them too; but-the small flame went out, the stove vanished: she had only the remains of the burnt-out match in her hand.\n",
    "\n",
    "She rubbed another against the wall: it burned brightly, and where the light fell on the wall, there the wall became transparent like a **veil**, so that she could see into the room. On the table was spread a snow-white **tablecloth**; upon it was a splendid porcelain service, and the roast goose was steaming famously with its stuffing of apple and dried plums. And what was still more capital to behold was, the goose hopped down from the dish, **reeled** about on the floor with knife and fork in its breast, till it came up to the poor little girl; when-the match went out and nothing but the thick, cold, damp wall was left behind. She lighted another match. Now there she was sitting under the most magnificent Christmas tree: it was still larger, and more decorated than the one which she had seen through the glass door in the rich merchant's house.\n",
    "![](http://www.gutenberg.org/files/32571/32571-h/images/p119i.png)\n",
    "\n",
    "Thousands of lights were burning on the green branches, and **gaily-colored** pictures, such as she had seen in the shop-windows, looked down upon her. The little maiden stretched out her hands towards them when-the match went out. The lights of the Christmas tree rose higher and higher, she saw them now as stars in heaven; one fell down and formed a long trail of fire.\n",
    "\n",
    "\"Someone is just dead!\" said the little girl; for her old grandmother, the only person who had loved her, and who was now no more, had told her, that when a star falls, a soul ascends to God.\n",
    "\n",
    "She drew another match against the wall: it was again light, and in the **lustre** there stood the old grandmother, so bright and radiant, so mild, and with such an expression of love.\n",
    "\n",
    "\"Grandmother!\" cried the little one. \"Oh, take me with you! You go away when the match burns out; you vanish like the warm stove, like the delicious roast goose, and like the magnificent Christmas tree!\" And she rubbed the whole bundle of matches quickly against the wall, for she wanted to be quite sure of keeping her grandmother near her. And the matches gave such a brilliant light that it was brighter than at noon-day: never formerly had the grandmother been so beautiful and so tall. She took the little maiden, on her arm, and both flew in brightness and in joy so high, so very high, and then above was neither cold, nor hunger, nor anxiety-they were with God.\n",
    "\n",
    "But in the corner, at the cold hour of dawn, sat the poor girl, with **rosy** cheeks and with a smiling mouth, leaning against the wall-frozen to death on the last evening of the old year. **Stiff** and **stark** sat the child there with her matches, of which one bundle had been burnt. \"She wanted to warm herself,\" people said. No one had the slightest suspicion of what beautiful things she had seen; no one even dreamed of the **splendor** in which, with her grandmother she had entered on the joys of a new year.\n",
    "## 单词注释\n",
    "1. Stiff: /stɪf/; [a]呆板的;坚硬的;僵硬的(尸体);\n",
    "1. apron: /ˈeɪprən/; [n]围裙;<航>停机坪;舞台口;\n",
    "1. bareheaded: /ˌbeəˈhedɪd/; [ad]不戴帽地;光着头; \n",
    "1. blazed: /bleɪz/; [v]燃烧;发光;\n",
    "1. burnished: /ˈbɜːnɪʃt/; [a]铮亮的(zhèng liàng);光洁的;\n",
    "1. capitally: /'kæpɪtəlɪ/; [ad]极佳地; \n",
    "1. carriages: /'kærɪdʒ/; [n]<铁路>车厢;四轮马车; \n",
    "1. cradle: /ˈkreɪdl/; [n]摇篮;发源地;\n",
    "1. drawn: /drɔːn/; [a]<通常指面容>憔悴的,苍白的;<人或脸部>扭歪的,拉长的;[v]画,绘制;拖,拉;\n",
    "1. gleaming: /ˈɡliːmɪŋ/; [a]闪闪发光的;[v]闪烁, 隐约地闪现<gleam的ing形式>; \n",
    "1. hitherto: /ˌhɪðəˈtuː/; [ad]迄今;至今; \n",
    "1. livelong: /ˈlɪvlɒŋ/; [a]<诗,文>整段的;日复一日的;\n",
    "1. lustre: /ˈlʌstə(r)/; [n]光泽,光彩;\n",
    "1. maiden: /ˈmeɪdn/; [n]少女,处女;未婚女子;\n",
    "1. matches: /'mætʃɪz/; [n]比赛<match的复数>;火柴;\n",
    "1. reeled: /riːl/; [x]卷筒; \n",
    "1. rosy: /ˈrəʊzi/; [a]玫瑰红色的;美好的;涨红脸的;\n",
    "1. scuffled: /ˈskʌfəl/; [v]慌乱地移动;拖着脚走路; \n",
    "1. sorrow: /ˈsɒrəʊ/; [n]悲伤;懊悔;\n",
    "1. splendor: /'splendə/; [n]光彩;壮丽;\n",
    "1. stark: /stɑːk/; [a]荒凉的;刻板的;\n",
    "1. tablecloth: /ˈteɪblklɒθ/; [n]桌布; \n",
    "1. urchin: /ˈɜːtʃɪn/; [n]海胆;刺猬;淘气鬼; \n",
    "1. veil: /veɪl/; [n]面纱;面罩;\n",
    "1. venture: /ˈventʃə(r)/; [v]冒着...的风险;"
   ]
  }
 ],
 "metadata": {
  "kernelspec": {
   "display_name": "Python 3",
   "language": "python",
   "name": "python3"
  },
  "language_info": {
   "codemirror_mode": {
    "name": "ipython",
    "version": 3
   },
   "file_extension": ".py",
   "mimetype": "text/x-python",
   "name": "python",
   "nbconvert_exporter": "python",
   "pygments_lexer": "ipython3",
   "version": "3.7.6"
  },
  "toc": {
   "base_numbering": 1,
   "nav_menu": {},
   "number_sections": true,
   "sideBar": true,
   "skip_h1_title": false,
   "title_cell": "Table of Contents",
   "title_sidebar": "Contents",
   "toc_cell": false,
   "toc_position": {},
   "toc_section_display": true,
   "toc_window_display": false
  },
  "varInspector": {
   "cols": {
    "lenName": 16,
    "lenType": 16,
    "lenVar": 40
   },
   "kernels_config": {
    "python": {
     "delete_cmd_postfix": "",
     "delete_cmd_prefix": "del ",
     "library": "var_list.py",
     "varRefreshCmd": "print(var_dic_list())"
    },
    "r": {
     "delete_cmd_postfix": ") ",
     "delete_cmd_prefix": "rm(",
     "library": "var_list.r",
     "varRefreshCmd": "cat(var_dic_list()) "
    }
   },
   "types_to_exclude": [
    "module",
    "function",
    "builtin_function_or_method",
    "instance",
    "_Feature"
   ],
   "window_display": false
  }
 },
 "nbformat": 4,
 "nbformat_minor": 4
}
