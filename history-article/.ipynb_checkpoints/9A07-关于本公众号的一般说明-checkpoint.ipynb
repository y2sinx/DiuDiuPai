{
 "cells": [
  {
   "cell_type": "markdown",
   "metadata": {},
   "source": [
    "# 关于本公众号的一般说明\n",
    "\n",
    "作者: 闪电球  \n",
    "\n",
    "封面: [qingyunziti.png](https://i.loli.net/2019/10/07/Yw1jkzRGoucTSCJ.png)    \n",
    "from network: [艺术字-清韵字体](http://www.yishuzi.com/b/m21.htm);    \n",
    "\n",
    "摘要: 公众号的名字,可能包含的内容,公众号的编辑与存储.\n",
    "\n",
    "文章类型: 其他   "
   ]
  },
  {
   "cell_type": "markdown",
   "metadata": {},
   "source": [
    "### 关于公众号的名字\n",
    "\n",
    "1. 来源: \n",
    "    * \"简约主义\"是一种生活方式: \"生活方式\" -> \"派\".\n",
    "    * \"简约主义\"要求我们丢掉那些繁杂的小东西: \"丢弃\"+\"小东西\" -> \"丢丢\"     \n",
    "1. 意象: 让简约主义成为生活的一种方式.  "
   ]
  },
  {
   "cell_type": "markdown",
   "metadata": {},
   "source": [
    "### 可能包含的内容\n",
    "\n",
    "1. 关于Python:\n",
    "    * Python基础: 学习有关Python语言的基础知识  \n",
    "    * Python库: 介绍Python各种功能强大的库  \n",
    "    * ddpy: 一些个人编写或搜集的常用代码 \n",
    "    * Math: 有了Python之后该如何学习数学\n",
    "\n",
    "1. 关于\"Subject\":\n",
    "    * Hobby: 关于个人的兴趣爱好\n",
    "    * GrowUp: 关于个人的成长,工作\n",
    "    * Home: 关于个人对社会的认识\n",
    "    \n",
    "1. 关于\"Object\":\n",
    "    * Puzzle: 生活中遇到的问题\n",
    "    * Solution: 探讨对 Puzzle 的解决方案"
   ]
  },
  {
   "cell_type": "markdown",
   "metadata": {},
   "source": [
    "### 号内文章的编辑过程\n",
    "\n",
    "关于公号内的文章,一般使用 Jupyter Notebook 进行编辑, 使用 Github 进行存储. \n",
    "关于在本公众号内已发布的文章, 若无重大变更将不会在在公众号内二次发布. 关于修改后的版本, 可通过 Github 或 NBViewer 查看.  \n",
    "\n",
    "与本公号有关的 Github 文件:\n",
    "1. 文章汇总: https://github.com/y2sinx/diudiupai   \n",
    "1. 代码汇总: https://github.com/y2sinx/ddpy\n",
    "\n",
    "上述两个文件除在 Github 内直接查看外, 亦可通过 NBViwer(https://nbviewer.jupyter.org/) 查看, 查看时在 NBViewer 的搜索框中直接输入两个文件的 Github 地址即可."
   ]
  },
  {
   "cell_type": "markdown",
   "metadata": {},
   "source": [
    "> Jupyter Notebook 转公众号图文素材\n",
    "1. `.jpynb -> .md ->  MarkDown Nice(https://mdnice.com/) ->  图文素材`\n",
    "1. 因为微信公众平台暂时不能插入外链,所以素材中的图片可能需要重新插入."
   ]
  },
  {
   "cell_type": "markdown",
   "metadata": {},
   "source": [
    "### 暂定LOGO\n",
    "\n",
    "暂定LOGO为`D:P`.    \n",
    "1. 在[艺术字在线生成器-清韵字体](http://www.yishuzi.com/b/m21.htm)的文本框中输入'd:p'\n",
    "2. 顺时针旋转10°. \n",
    "3. 清韵字体的字体版权未知.\n",
    "\n",
    "![dp10.png](https://i.loli.net/2019/10/08/PFOoDuR8HI6TBrl.png)"
   ]
  }
 ],
 "metadata": {
  "kernelspec": {
   "display_name": "Python 3",
   "language": "python",
   "name": "python3"
  },
  "language_info": {
   "codemirror_mode": {
    "name": "ipython",
    "version": 3
   },
   "file_extension": ".py",
   "mimetype": "text/x-python",
   "name": "python",
   "nbconvert_exporter": "python",
   "pygments_lexer": "ipython3",
   "version": "3.6.5"
  },
  "toc": {
   "base_numbering": 1,
   "nav_menu": {},
   "number_sections": true,
   "sideBar": true,
   "skip_h1_title": true,
   "title_cell": "Table of Contents",
   "title_sidebar": "Contents",
   "toc_cell": false,
   "toc_position": {},
   "toc_section_display": true,
   "toc_window_display": false
  }
 },
 "nbformat": 4,
 "nbformat_minor": 2
}
