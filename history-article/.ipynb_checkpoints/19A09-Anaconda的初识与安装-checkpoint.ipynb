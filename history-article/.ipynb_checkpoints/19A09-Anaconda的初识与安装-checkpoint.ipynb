{
 "cells": [
  {
   "cell_type": "markdown",
   "metadata": {},
   "source": [
    "# Anaconda的初识与安装"
   ]
  },
  {
   "cell_type": "markdown",
   "metadata": {},
   "source": [
    "作者: 闪电球  \n",
    "封面: Anaconda Logo  \n",
    "摘要: Anaconda简介,安装,卸载  \n",
    "文章来源: 文档翻译    \n",
    "类别: Python基础"
   ]
  },
  {
   "cell_type": "markdown",
   "metadata": {},
   "source": [
    "###  简介[1]\n",
    "\n",
    "Anaconda(开源)是一个包管理器, 环境管理器, 是Python程序语言针对数据科学领域的分发版, 它集成了1500+个免费且易于安装的包.\n",
    "\n",
    "Anaconda提供了两种关于包和环境的处理方式: [Navigator图形界面工具](https://docs.anaconda.com/anaconda/navigator/) 与 [conda命令行工具](https://docs.conda.io/projects/conda/en/latest/index.html).   \n",
    "\n",
    "Anaconda 默认安装了200个常用包, 而其他包的安装只需在命令行(Anaconda Prompt)中输入`conda install PackageName` 或 `pip install PackageName`即可.  "
   ]
  },
  {
   "cell_type": "markdown",
   "metadata": {},
   "source": [
    "### 安装[2,3]"
   ]
  },
  {
   "cell_type": "markdown",
   "metadata": {},
   "source": [
    "Anaconda在Windows系统下的安装过程如下所示, 关于在其他系统的安装请参照官方文档."
   ]
  },
  {
   "cell_type": "markdown",
   "metadata": {},
   "source": [
    "1. 下载合适的 Windows安装包. 推荐使用如下两种方式下载:\n",
    "    * 官网: https://www.anaconda.com/distribution/#windows\n",
    "    ![installer.png](https://i.loli.net/2019/10/09/MWzcsgXFiE1PraT.png)\n",
    "    * 清华大学开源软件镜像站: https://mirrors.tuna.tsinghua.edu.cn/anaconda/archive/\n",
    "    ![qinghua-installer.png](https://i.loli.net/2019/10/08/NFQxYu9PA2Llewd.png)    "
   ]
  },
  {
   "cell_type": "markdown",
   "metadata": {},
   "source": [
    "2. 使用加密哈希验证对安装包的完整性进行检验, 通过正规渠道下载的安装包可自动跳过本步.  "
   ]
  },
  {
   "cell_type": "markdown",
   "metadata": {},
   "source": [
    "3. 双击安装包进行安装."
   ]
  },
  {
   "cell_type": "markdown",
   "metadata": {},
   "source": [
    "4. 在\"Welcome to Anaconda3 2019.07(64-bit) Setup\"对话框, 点击 'Next'.    \n",
    "![start.png](https://i.loli.net/2019/10/09/1YTFu9yrcSqGl6X.png)"
   ]
  },
  {
   "cell_type": "markdown",
   "metadata": {},
   "source": [
    "5. 在\"License Agreement\"对话框,点击\"I Agree\".    \n",
    "![license.png](https://i.loli.net/2019/10/09/prXcJk1xTNoSUtf.png)"
   ]
  },
  {
   "cell_type": "markdown",
   "metadata": {},
   "source": [
    "6. 在\"Select Installation Type\"对话框, 选择\"仅自己使用\"还是\"对所有用户均可使用\".    \n",
    "![justme.png](https://i.loli.net/2019/10/09/EuU24oMfNXbc9OZ.png)"
   ]
  },
  {
   "cell_type": "markdown",
   "metadata": {},
   "source": [
    "7. 在\"Choose Intall Location\"对话框,设置软件的安装目录.    \n",
    "![location.png](https://i.loli.net/2019/10/09/AK4fYd7RikGzPIN.png)"
   ]
  },
  {
   "cell_type": "markdown",
   "metadata": {},
   "source": [
    "8. \"Advanced Installation Options\" Box1:    \n",
    "是否将 Anaconda 添加到系统的 PATH 环境变量. 勾选后, 可在 Windows-cmd 命令行使用 Anaconda. 如果没有勾选, 只能在电脑的开始菜单\"Anaconda(64-bit)\"中发现并使用Anaconda. 官方推荐不勾选, 因为可能会干扰其他软件.    \n",
    "![add-Path.png](https://i.loli.net/2019/10/09/ZGfE2m4lQaCweuP.png)"
   ]
  },
  {
   "cell_type": "markdown",
   "metadata": {},
   "source": [
    "9. \"Advanced Installation Options\" Box2:  \n",
    "是否将 Anaconda 中的 Python 编译器设置为系统默认的 Python 编译器. 如果设置, 此编译器可被VSC, PyCharm等软件检测并使用."
   ]
  },
  {
   "cell_type": "markdown",
   "metadata": {},
   "source": [
    "10. 点击 \"Install\" 按钮, 会立即安装, 没有后续确认对话框.\n",
    "\n",
    "![installing.png](https://i.loli.net/2019/10/08/NVWLY4yf2MPlodE.png)"
   ]
  },
  {
   "cell_type": "markdown",
   "metadata": {},
   "source": [
    "11. 进度条全绿后(需要较长时间,请耐心等待), 点击\"Next\"."
   ]
  },
  {
   "cell_type": "markdown",
   "metadata": {},
   "source": [
    "12. 如果不需要使用 PyCharm, 直接点击 \"Next\"."
   ]
  },
  {
   "cell_type": "markdown",
   "metadata": {},
   "source": [
    "13. 成功安装后将显示对话框\"Thanks for installing Anaconda\".\n",
    "\n",
    "![success.png](https://i.loli.net/2019/10/08/V6miflbzRqgBake.png)"
   ]
  },
  {
   "cell_type": "markdown",
   "metadata": {},
   "source": [
    "14. 如果不想了解 Anaconda Cloud 与 Anaconda初用指南, 可取消勾选, 然后点击\"Finish\"."
   ]
  },
  {
   "cell_type": "markdown",
   "metadata": {},
   "source": [
    "15. 验证安装是否正确. \n",
    "    1. 检查开始菜单下是否有文件夹\"Anaconda3(64-bit)\",及其四个快捷方式:\n",
    "        * \"Anaconda Navigator\"\n",
    "        * \"Anaconda Prompt\"\n",
    "        * \"Jupyter Notebook\"\n",
    "        * \"Spyder\"  \n",
    "    1. 在 \"Anaconda Prompt\"打开的窗口中输入`conda list`查看默认安装的Python包; 输入`python`或`ipython`, 检查Python编译器是否正常打开; 关闭窗口.  \n",
    "    1. 依次打开并关闭剩余的三个快捷方式, 检查其启动过程是否顺利.   \n",
    "    1. 如果在第8步勾选了Box1, 检查Windows命令行下(`Windows+R>输入cmd>回车`), `conda list`和`ipython`是否可用."
   ]
  },
  {
   "cell_type": "markdown",
   "metadata": {},
   "source": [
    "### 卸载[4]\n",
    "\n",
    "如果想要卸载Anaconda3, 点击安装目录下的 \"Uninstall-Anaconda3.exe\"即可."
   ]
  },
  {
   "cell_type": "markdown",
   "metadata": {},
   "source": [
    "### Ref: \n",
    "1. Anaconda Distribution: https://docs.anaconda.com/anaconda/   \n",
    "2. Installing on Windows: https://docs.anaconda.com/anaconda/install/windows/    \n",
    "3. Verifying your installation: https://docs.anaconda.com/anaconda/install/verify-install/    \n",
    "4. Uninstalling Anaconda: https://docs.anaconda.com/anaconda/install/uninstall/"
   ]
  }
 ],
 "metadata": {
  "kernelspec": {
   "display_name": "Python 3",
   "language": "python",
   "name": "python3"
  },
  "language_info": {
   "codemirror_mode": {
    "name": "ipython",
    "version": 3
   },
   "file_extension": ".py",
   "mimetype": "text/x-python",
   "name": "python",
   "nbconvert_exporter": "python",
   "pygments_lexer": "ipython3",
   "version": "3.7.3"
  },
  "toc": {
   "base_numbering": 1,
   "nav_menu": {},
   "number_sections": true,
   "sideBar": true,
   "skip_h1_title": true,
   "title_cell": "Table of Contents",
   "title_sidebar": "Contents",
   "toc_cell": false,
   "toc_position": {},
   "toc_section_display": true,
   "toc_window_display": false
  }
 },
 "nbformat": 4,
 "nbformat_minor": 4
}
