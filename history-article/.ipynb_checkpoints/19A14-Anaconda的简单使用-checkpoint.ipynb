{
 "cells": [
  {
   "cell_type": "markdown",
   "metadata": {},
   "source": [
    "# Anaconda 的简单使用"
   ]
  },
  {
   "cell_type": "markdown",
   "metadata": {},
   "source": [
    "作者: 闪电球    \n",
    "摘要: Anaconda Navigator, Conda, Jupyter Lab.  \n",
    "文章类别: Python/Basic  \n",
    "封面: [fengmian.png](https://i.loli.net/2019/10/14/wJMrWdPnL3lxpbe.png)"
   ]
  },
  {
   "cell_type": "markdown",
   "metadata": {},
   "source": [
    "### Anaconda Navigator   "
   ]
  },
  {
   "cell_type": "markdown",
   "metadata": {},
   "source": [
    "Anaconda Navigator 是 Anaconda 的图形用户界面, 除了可以管理 Python环境 和 Python包 外, 还可用于打开与 Anaconda相关的内外应用程序, 如 Jupyter Lab, VSCode等. Navigator 的界面并不复杂, 在 Environment 标签下的界面大致如下图所示, 该图已大致标注了每个重要组件的功能[1](#ref). "
   ]
  },
  {
   "cell_type": "markdown",
   "metadata": {},
   "source": [
    "![navigator.png](https://i.loli.net/2019/10/13/BjyQMcl1IREYmA7.png)"
   ]
  },
  {
   "cell_type": "markdown",
   "metadata": {},
   "source": [
    "### Conda  "
   ]
  },
  {
   "cell_type": "markdown",
   "metadata": {},
   "source": [
    "Conda 是一个关于管理 Python环境, Python包及其依赖项的一个开源项目, 其相当 Navigator的命令行界面. 相比于 Navigator, 其功能更加丰富, 操作更加便捷. 在安装好 Anaconda 之后, conda 就已经包含在了其中. 下面介绍几个简单的 conda命令[2](#ref), 在使用之前, 应先打开 Anaconda Prompt 界面, 等待键入:   \n",
    "1. 查看 conda 的版本: `conda --version`.  \n",
    "1. 更新 conda(若为最新, 无需更新): `conda update conda`.  \n",
    "1. 查看系统中的 Python环境: `conda info --envs`.\n",
    "1. 在包源中寻找包: `conda search package_name`. \n",
    "1. 将包安装到当前环境(base): `conda install package_name`. \n",
    "1. 查看已安装的所有包: `conda list`.\n",
    "1. 查看conda信息汇总(下图): `conda info`. "
   ]
  },
  {
   "cell_type": "markdown",
   "metadata": {},
   "source": [
    "![conda-info.png](https://i.loli.net/2019/10/13/AqnjK8mlhs4o6rW.png)"
   ]
  },
  {
   "cell_type": "markdown",
   "metadata": {},
   "source": [
    "将安装包的下载源改为清华镜像, 可以提高包的下载速度:   \n",
    "1. 检查本机主目录 `C:\\Users\\DELL` 下是否含有 `.condarc` 文件. 如果没有, 在 Prompt 中键入 `conda config` 创建该文件[3](#ref).  \n",
    "1. 参照清华镜像源的帮助文档[4](#ref), 将本机 .condarc 文件的内容修改为如下图所示."
   ]
  },
  {
   "cell_type": "markdown",
   "metadata": {},
   "source": [
    "![condarc.png](https://i.loli.net/2019/10/13/XABprJT4L3PWgem.png)"
   ]
  },
  {
   "cell_type": "markdown",
   "metadata": {},
   "source": [
    "### Jupyter Lab  "
   ]
  },
  {
   "cell_type": "markdown",
   "metadata": {},
   "source": [
    "要想了解 Jupyter Lab 的功能, 首先需要了解 Jupyter Notebook 是什么. 简单的说, Jupyter Notebook 就是文本编辑器与 Python解释器 的\"功能二合一\", 即一种可在文本中执行程序代码的交互式文档. 在该文档的编辑过程中, 会同时启动一个底层的运算核(如Python解释器), 当需要运行文档中的代码时, 由该运算核给出运行结果. 而 Jupyter Lab 则是 Jupyter Notebook 的延伸与扩展, 相当于一个关于Jupyter Notebook 的统一图形界面. 其实它不仅可以管理 Jupyter Notebook文档, 还可以方便的创建控制台与终端以及管理一些功能丰富的扩展插件."
   ]
  },
  {
   "cell_type": "markdown",
   "metadata": {},
   "source": [
    "关于 Jupyter Lab 的启动与关闭, 可有如下两种方式: \n",
    "1. 在 Anaconda Prompt 键入 `jupyter lab`: 本机的默认浏览器会自动创建一个默认的页面`http://localhost:8888/lab`, 作为 Jupyter Lab 的主界面. 默认情况下, 该界面内的目录指向本机的主用户主目录`C:\\Users\\DELL`. 若想关闭 Jupyter Lab, 只需关闭打开该界面的 Prompt 窗口即可.\n",
    "1. 在 Navigator 的 Home 标签界面启动: 启动过程与方式1相同, 但是需要注意此时服务器进程会挂于系统后台(通过任务管理器将其关闭), 关闭 Navigator 并不能关闭 Jupyter Lab. "
   ]
  },
  {
   "cell_type": "markdown",
   "metadata": {},
   "source": [
    "关于修改 Jupyter Lab 的启动目录, 分两步:  \n",
    "1. 在 Prompt 键入`jupyter lab --generate-config`, 生成配置文件: `C:\\Users\\DELL\\.jupyter\\jupyter_notebook_config.py`.  \n",
    "2. 找到配置文件中关于 `notebook_dir` 的那一行, 并为其添加启动目录, 如下图所示. 注意启动目录是一个字符串, 并且要记得删除该行前面的注释标记 `#`."
   ]
  },
  {
   "cell_type": "markdown",
   "metadata": {},
   "source": [
    "![notebook_dir.png](https://i.loli.net/2019/10/13/xZFH9opYsNlLz3U.png)"
   ]
  },
  {
   "cell_type": "markdown",
   "metadata": {},
   "source": [
    "下图是在打开3个标签文件,并开启文件浏览器侧边栏之后的界面. 当前活动文件为 `clc.jptnb`, 是一个典型的 Jupyter Notebook 文档: 其第一部分是一段 Markdown文本, 注意其中的函数是\"突出\"显示的;  第二部分是一段 Python代码, 用于绘制函数`y=sinx`的图像; 第三部分是运行 Python代码 之后运算核给出的输出.     \n",
    "关于 Jupyter Lab 界面, 现简要的介绍其中的3个要点[5](#ref). \n",
    "1. 上下文菜单(Context Menus): 在某些元素下, 如目录,文件,空白区等, 点击鼠标右键, 可弹出快捷菜单. 而关于原浏览器界面的弹出菜单, 需要按住 Shift 键的同时点击鼠标右键.\n",
    "1. 单文档模式(Single-Document Mode): 通过单文档模式, 可以隐藏标签栏以及其他标签. 该功能可通过`View>Single-Document Mode`进行设置.  \n",
    "1. 快捷键((Keyboard Shortcuts)). 默认情况下, 该界面已经存在了很多快捷键. 如使用`Ctrl+shift+D`进入单文档模式; 使用`Ctrl+S`保存当前文件; 使用`Alt+W`关闭当前页(剩余的最后一个标签不可关闭); 使用`Ctrl+B`显示侧边栏等. 而自定义快捷键可以通过`Setting>Advanced Setting Editor`进行设置."
   ]
  },
  {
   "cell_type": "markdown",
   "metadata": {},
   "source": [
    "![jupyter.png](https://i.loli.net/2019/10/13/DsSOxqezBbfUjd5.png)"
   ]
  },
  {
   "cell_type": "markdown",
   "metadata": {},
   "source": [
    "看完本篇文章之后, 还望大家可以自行翻阅下 Navigator, conda, Jupyter Lab 等官方文档的其他页面."
   ]
  },
  {
   "cell_type": "markdown",
   "metadata": {},
   "source": [
    "### Ref <span id=\"ref\">:</span>\n",
    "1. https://docs.anaconda.com/anaconda/navigator/overview/\n",
    "2. https://conda.io/projects/conda/en/latest/user-guide/getting-started.html\n",
    "3. https://conda.io/projects/conda/en/latest/user-guide/configuration/use-condarc.html\n",
    "4. https://mirrors6.tuna.tsinghua.edu.cn/help/anaconda/\n",
    "5. https://jupyterlab.readthedocs.io/en/stable/user/interface.html"
   ]
  }
 ],
 "metadata": {
  "kernelspec": {
   "display_name": "Python 3",
   "language": "python",
   "name": "python3"
  },
  "language_info": {
   "codemirror_mode": {
    "name": "ipython",
    "version": 3
   },
   "file_extension": ".py",
   "mimetype": "text/x-python",
   "name": "python",
   "nbconvert_exporter": "python",
   "pygments_lexer": "ipython3",
   "version": "3.7.3"
  },
  "toc": {
   "base_numbering": 1,
   "nav_menu": {},
   "number_sections": true,
   "sideBar": true,
   "skip_h1_title": true,
   "title_cell": "Table of Contents",
   "title_sidebar": "Contents",
   "toc_cell": false,
   "toc_position": {},
   "toc_section_display": true,
   "toc_window_display": false
  }
 },
 "nbformat": 4,
 "nbformat_minor": 4
}
