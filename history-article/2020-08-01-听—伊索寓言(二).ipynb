{
 "cells": [
  {
   "cell_type": "markdown",
   "metadata": {},
   "source": [
    "本文整理: Y2SINX    \n",
    "音频来源: http://www.gutenberg.org/browse/authors/a#a18    "
   ]
  },
  {
   "cell_type": "markdown",
   "metadata": {},
   "source": [
    "## 老鼠开会\n",
    "\n",
    "%[THE MICE IN COUNCIL]\n",
    "![i006_th](http://www.gutenberg.org/files/19994/19994-h/images/i006_th.jpg)\n",
    "\n",
    "Once upon a time all the Mice met together in **Council**, and discussed the best means of **securing** themselves against the attacks of the cat. After several suggestions had been debated, a Mouse of some standing and experience got up and said, \"I think I have hit upon a plan which will ensure our safety in the future, provided you approve and carry it out. It is that we should fasten a bell round the neck of our enemy the cat, which will by its **tinkling** warn us of **her approach**.\" This proposal was warmly **applauded**, and it had been already decided to adopt it, when an old Mouse got upon his feet and said, \"I agree with you all that the plan before us is an admirable one: but may I ask who is going to **bell the cat**?\"\n",
    "****************************************************************\n",
    "\n",
    "## 蝙蝠与黄鼠狼\n",
    "\n",
    "%[THE BAT AND THE WEASELS]\n",
    "![i080_th](http://www.gutenberg.org/files/19994/19994-h/images/i080_th.jpg)\n",
    "\n",
    "A Bat fell to the ground and was caught by a Weasel, and was just going to be killed and eaten when it begged to be let go. The Weasel said he couldn't do that because he was an enemy of all birds **on principle**. \"Oh, but,\" said the Bat, \"I'm not a bird at all: I'm a mouse.\" \"So you are,\" said the Weasel, \"now I come to look at you\"; and he let it go. Some time after this the Bat was caught in just the same way by another Weasel, and, as before, begged for its life. \"No,\" said the Weasel, \"I never let a mouse go by any chance.\" \"But I'm not a mouse,\" said the Bat; \"I'm a bird.\" \"Why, so you are,\" said the Weasel; and he too let the Bat go.\n",
    "\n",
    "**Look and see which way the wind blows** **before you commit yourself**.\n",
    "****************************************************************\n",
    "\n",
    "## 老母猪与狗\n",
    "%[THE DOG AND THE SOW]\n",
    "![giphy](https://media0.giphy.com/media/bxVA5CqJ5iVLq/giphy.gif?cid=ecf05e472nus98g13iyk4p695cehx9u84wn795dp9uaq9ey9&rid=giphy.gif)\n",
    "\n",
    "A Dog and a Sow were arguing and each claimed that its own young ones were finer than those of any other animal. \"Well,\" said the Sow at last, \"mine can see, at any rate, when they come into the world: but yours are born blind.\"\n",
    "****************************************************************\n",
    "\n",
    "## 乌鸦与狐狸\n",
    "\n",
    "%[THE FOX AND THE CROW]\n",
    "![i_011](http://www.gutenberg.org/files/34588/34588-h/images/i_011.png)\n",
    "\n",
    "A Crow was sitting on a branch of a tree with a piece of **cheese** in her beak when a Fox observed her and set his wits to work to discover some way of getting the cheese. Coming and standing under the tree he looked up and said, \"What a noble bird I see above me! Her beauty **is without equal**, the **hue** of her **plumage** exquisite. If only her voice is as sweet as her looks are fair, she ought without doubt to be Queen of the Birds.\" The Crow was hugely **flattered** by this, and just to show the Fox that she could sing she gave a loud **caw**. Down came the cheese, of course, and the Fox, snatching it up, said, \"You have a voice, madam, I see: what you want is wits.\"\n",
    "****************************************************************\n",
    "\n",
    "## 马与马夫\n",
    "\n",
    "%[THE HORSE AND THE GROOM]\n",
    "![](http://www.gutenberg.org/files/18732/18732-h/images/image116.png)\n",
    "\n",
    "There was once a Groom who used to spend long hours **clipping** and **combing** the Horse of which he had charge, but who daily stole a portion of his allowance of **oats**, and sold it **for his own profit**. The Horse gradually got into worse and worse condition, and at last cried to the Groom, \"If you really want me to look **sleek** and well, you must comb me less and feed me more.\n",
    "****************************************************************\n",
    "\n",
    "## 单词注释\n",
    "\n",
    "1. Council: /ˈkaʊnsl/; [n]委员会;会议;理事会;地方议会;顾问班子;\n",
    "1. Look and see which way the wind blows: [x]看看风往哪边吹;\n",
    "1. Weasels: /ˈwiːzl/; [n]鼬,黄鼠狼;\n",
    "1. applauded: /əˈplɔːd/; [vt]赞同;称赞;向...喝彩;[vi]喝彩;鼓掌欢迎;\n",
    "1. before you commit yourself: [x]在你承认你自己之前,在你做出保证之前;\n",
    "1. bell the cat: [x]bell,名词作动词,给猫系上铃铛;\n",
    "1. caw: /kɔː/; [n]鸦叫声,呱呱叫;[v]发出鸦叫声,呱呱地叫;\n",
    "1. cheese: /tʃiːz/; [n]<食品>奶酪;干酪;\n",
    "1. clipping: /ˈklɪpɪŋ/; [n]剪裁,剪断;\n",
    "1. combing: /'komɪŋ/; [v]梳理<头发>;精梳<羊毛,棉花等>以供加工;\n",
    "1. flattered: /'flætəd/; [a]高兴的,感到荣幸的;[v]奉承<flatter的过去分词>;阿谀奉承;\n",
    "1. for his own profit: [x]为了自己的利益;\n",
    "1. groom: /ɡruːm/; [n]新郎;马夫;\n",
    "1. her approach: [x]她的接近->当她接近的时候;\n",
    "1. hue: /hjuː/; [n]色彩;色度;色调;叫声;\n",
    "1. is without equal: [x]是无可匹敌的;\n",
    "1. oats: /əʊts/; [n]燕麦;燕麦片<oat的pl>;燕麦粥\n",
    "1. on principle: [x]原则上;\n",
    "1. plumage: /ˈpluːmɪdʒ/; [n]鸟类羽毛;翅膀;\n",
    "1. securing: /sɪ'kjʊr/; [v]设法得到;保卫,使安全;\n",
    "1. sleek: /sliːk/; [a]圆滑的;井然有序的;\n",
    "1. tinkling: /'tɪŋklɪŋ/; [n]叮叮声;[v]发丁当声<tinkle的ing形式>;\n",
    "\n",
    "![](https://media0.giphy.com/media/3o85xKOxfH6Qpcjj6U/giphy.gif?cid=ecf05e4777bpj5vwygbyy4ynsimi8e5ke0hn69a5dmntz26a&rid=giphy.gif)"
   ]
  }
 ],
 "metadata": {
  "kernelspec": {
   "display_name": "Python 3",
   "language": "python",
   "name": "python3"
  },
  "language_info": {
   "codemirror_mode": {
    "name": "ipython",
    "version": 3
   },
   "file_extension": ".py",
   "mimetype": "text/x-python",
   "name": "python",
   "nbconvert_exporter": "python",
   "pygments_lexer": "ipython3",
   "version": "3.7.6"
  },
  "toc": {
   "base_numbering": 1,
   "nav_menu": {},
   "number_sections": true,
   "sideBar": true,
   "skip_h1_title": false,
   "title_cell": "Table of Contents",
   "title_sidebar": "Contents",
   "toc_cell": false,
   "toc_position": {},
   "toc_section_display": true,
   "toc_window_display": false
  },
  "varInspector": {
   "cols": {
    "lenName": 16,
    "lenType": 16,
    "lenVar": 40
   },
   "kernels_config": {
    "python": {
     "delete_cmd_postfix": "",
     "delete_cmd_prefix": "del ",
     "library": "var_list.py",
     "varRefreshCmd": "print(var_dic_list())"
    },
    "r": {
     "delete_cmd_postfix": ") ",
     "delete_cmd_prefix": "rm(",
     "library": "var_list.r",
     "varRefreshCmd": "cat(var_dic_list()) "
    }
   },
   "types_to_exclude": [
    "module",
    "function",
    "builtin_function_or_method",
    "instance",
    "_Feature"
   ],
   "window_display": false
  }
 },
 "nbformat": 4,
 "nbformat_minor": 4
}
