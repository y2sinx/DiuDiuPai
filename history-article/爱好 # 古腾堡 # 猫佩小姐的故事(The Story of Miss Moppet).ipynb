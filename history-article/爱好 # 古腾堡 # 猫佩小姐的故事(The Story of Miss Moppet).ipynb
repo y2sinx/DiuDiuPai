{
 "cells": [
  {
   "cell_type": "markdown",
   "metadata": {},
   "source": [
    "![Cover](http://www.gutenberg.org/files/14848/14848-h/images/cover.jpg)    \n",
    "***    \n",
    "\n",
    "The Story of Miss Moppet    \n",
    "\n",
    "By    \n",
    "\n",
    "Beatrix Potter    \n",
    "***    \n",
    "\n",
    "![Miss Moppet and Mouse](http://www.gutenberg.org/files/14848/14848-h/images/m06.jpg)    \n",
    "***    \n",
    "\n",
    "![Mouse](http://www.gutenberg.org/files/14848/14848-h/images/002.png)    \n",
    "***    \n",
    "\n",
    "This is a Pussy called Miss Moppet, she thinks she has heard a mouse!    \n",
    "![1](http://www.gutenberg.org/files/14848/14848-h/images/m10.jpg)    \n",
    "***    \n",
    "\n",
    "This is the Mouse peeping out behind the cupboard, and making fun of Miss Moppet. He is not afraid of a kitten. \n",
    "![2](http://www.gutenberg.org/files/14848/14848-h/images/m13.jpg)    \n",
    "***    \n",
    "\n",
    "This is Miss Moppet jumping just too late; she misses the Mouse and hits her own head.    \n",
    "![3](http://www.gutenberg.org/files/14848/14848-h/images/m14.jpg)    \n",
    "***    \n",
    "\n",
    "She thinks it is a very hard cupboard!    \n",
    "![4](http://www.gutenberg.org/files/14848/14848-h/images/m17.jpg)    \n",
    "***    \n",
    "\n",
    "The Mouse watches Miss Moppet from the top of the cupboard.    \n",
    "![5](http://www.gutenberg.org/files/14848/14848-h/images/m18.jpg)    \n",
    "***    \n",
    "\n",
    "Miss Moppet ties up her head in a duster, and sits before the fire.    \n",
    "![6](http://www.gutenberg.org/files/14848/14848-h/images/m21.jpg)    \n",
    "***    \n",
    "\n",
    "The Mouse thinks she is looking very ill. He comes sliding down the bell-pull.    \n",
    "![7](http://www.gutenberg.org/files/14848/14848-h/images/m23.jpg)    \n",
    "***    \n",
    "\n",
    "Miss Moppet looks worse and worse. The Mouse comes a little nearer.    \n",
    "![8](http://www.gutenberg.org/files/14848/14848-h/images/m24.jpg)    \n",
    "***    \n",
    "\n",
    "Miss Moppet holds her poor head in her paws, and looks at him through a hole in the duster. The Mouse comes very close.    \n",
    "![9](http://www.gutenberg.org/files/14848/14848-h/images/m26.jpg)    \n",
    "***    \n",
    "\n",
    "And then all of a sudden—Miss Moppet jumps upon the Mouse!    \n",
    "![10](http://www.gutenberg.org/files/14848/14848-h/images/m29.jpg)    \n",
    "***    \n",
    "\n",
    "And because the Mouse has teased Miss Moppet—Miss Moppet thinks she will tease the Mouse; which is not at all nice of Miss Moppet.    \n",
    "![11](http://www.gutenberg.org/files/14848/14848-h/images/m30.jpg)    \n",
    "***    \n",
    "\n",
    "She ties him up in the duster, and tosses it about like a ball.    \n",
    "![12](http://www.gutenberg.org/files/14848/14848-h/images/m33.jpg)    \n",
    "***    \n",
    "\n",
    "But she forgot about that hole in the duster; and when she untied it—there was no Mouse!    \n",
    "![13](http://www.gutenberg.org/files/14848/14848-h/images/m35.jpg)    \n",
    "***    \n",
    "\n",
    "He has wriggled out and run away; and he is dancing a jig on the top of the cupboard!    \n",
    "![14](http://www.gutenberg.org/files/14848/14848-h/images/m36.jpg)    \n",
    "***\n",
    "\n",
    "**注释**:\n",
    "1. duster: /ˈdʌstə(r)/; [n]抹布;掸子,除尘器;打扫灰尘的人; \n",
    "1. ties up: /ˈtaɪ ʌp/; [x]占用;包扎;绑好;缚牢;阻碍;密切联系;合伙;停泊;\n",
    "1. bell-pull: /ˈbel pʊl/; [n]拉铃带;\n",
    "1. all of a sudden: [x]突然;\n",
    "1. tosses: /tɒs/; [v]抛,投;甩<头>;颠簸;摇匀;把<煎饼>颠起翻面;掷硬币决定;<马>摔下<骑手>;<非正式>搜<某地>;[n]掷硬币决定;猛仰头<表恼怒>;投掷;\n",
    "1. wriggled: /ˈrɪɡl/; [vi]蠕动;蜿蜒而行;[vt]使蠕动;蠕动到;不知不觉地潜入;[n]蠕动;扭动;"
   ]
  }
 ],
 "metadata": {
  "kernelspec": {
   "display_name": "Python 3",
   "language": "python",
   "name": "python3"
  },
  "language_info": {
   "codemirror_mode": {
    "name": "ipython",
    "version": 3
   },
   "file_extension": ".py",
   "mimetype": "text/x-python",
   "name": "python",
   "nbconvert_exporter": "python",
   "pygments_lexer": "ipython3",
   "version": "3.7.6"
  },
  "toc": {
   "base_numbering": 1,
   "nav_menu": {},
   "number_sections": true,
   "sideBar": true,
   "skip_h1_title": false,
   "title_cell": "Table of Contents",
   "title_sidebar": "Contents",
   "toc_cell": false,
   "toc_position": {},
   "toc_section_display": true,
   "toc_window_display": false
  },
  "varInspector": {
   "cols": {
    "lenName": 16,
    "lenType": 16,
    "lenVar": 40
   },
   "kernels_config": {
    "python": {
     "delete_cmd_postfix": "",
     "delete_cmd_prefix": "del ",
     "library": "var_list.py",
     "varRefreshCmd": "print(var_dic_list())"
    },
    "r": {
     "delete_cmd_postfix": ") ",
     "delete_cmd_prefix": "rm(",
     "library": "var_list.r",
     "varRefreshCmd": "cat(var_dic_list()) "
    }
   },
   "types_to_exclude": [
    "module",
    "function",
    "builtin_function_or_method",
    "instance",
    "_Feature"
   ],
   "window_display": false
  }
 },
 "nbformat": 4,
 "nbformat_minor": 4
}
