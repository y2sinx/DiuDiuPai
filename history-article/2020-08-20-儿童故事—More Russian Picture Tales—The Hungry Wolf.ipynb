{
 "cells": [
  {
   "cell_type": "markdown",
   "metadata": {},
   "source": [
    "There was once a wolf, and he got very hungry, and so he went to have a look to see what he could find for dinner. After a bit he saw a **ram** feeding in a meadow, so he went up to him and said: \"Mr. Ram, Mr. Ram, I'm going to eat you!\" But the ram answered: \"Who are you, I should like to know, that you mean to eat me?\"    \n",
    "![1](http://www.gutenberg.org/files/23462/23462-h/images/illus-0034-1.jpg)    \n",
    "********    \n",
    "\n",
    "\"I'm a wolf, and I'm looking for a good dinner,\" said the wolf. \"What sort of a wolf do you fancy you are?\" answered the ram, \"you're not, you're a dog!\" \"No, I'm not a dog,\" said he, \"I'm a wolf.\" \"Well then,\" answered the ram, \"if you're a wolf, stand at the bottom of the hill and open your jaws wide. Then I'll run down the hill and jump straight into your mouth.\" \"All right,\" said the wolf.    \n",
    "![2](http://www.gutenberg.org/files/23462/23462-h/images/illus-0035-1.jpg)    \n",
    "********    \n",
    "\n",
    "So he stood at the bottom of the hill and opened his mouth wide, while the ram climbed to the top of the hill. Then he ran down the hill very fast, and **hit the wolf with his horns** as hard as he could.    \n",
    "![3](http://www.gutenberg.org/files/23462/23462-h/images/illus-0036-1.jpg)    \n",
    "********    \n",
    "\n",
    "The wolf rolled over, knocked senseless with the blow, while the ram ran off home. And there lay the wolf, till at last he came to himself again, with all his bones aching.    \n",
    "![4](http://www.gutenberg.org/files/23462/23462-h/images/illus-0037-1.jpg)    \n",
    "********    \n",
    "\n",
    "\"Well, what a fool I must have been!\" thought he. \"Who ever saw a ram **jump into one's mouth** of his own free will?\"    \n",
    "![5](http://www.gutenberg.org/files/23462/23462-h/images/illus-0038-1.jpg)    \n",
    "********    \n",
    "\n",
    "Then he went on further, just as hungry as ever, and after a bit he saw a horse walking in a meadow **nibbling** the grass.    \n",
    "![6](http://www.gutenberg.org/files/23462/23462-h/images/illus-0039-1.jpg)    \n",
    "********    \n",
    "\n",
    "So he went up to him and said: \"Mr. Horse, Mr. Horse, I'm going to eat you!\" But the horse answered: \"Who are you, I should like to know, that you mean to eat me?\" \"I'm a wolf!\" \"You think again,\" answered the horse, \"You're only a dog!\" \"No, I'm not a dog,\" said he, \"I'm a wolf.\" \"Oh, if you are sure you're a wolf, it's all right. Only I'm not very fat yet, so you'd better begin on my tail, and meanwhile I'll be **munching** some more grass and get a little fuller.\"    \n",
    "![7](http://www.gutenberg.org/files/23462/23462-h/images/illus-0040-1.jpg)    \n",
    "********    \n",
    "\n",
    "So the wolf went up to him from behind, and was just going to get to work on his tail, when the horse let out at him as hard as he could! And the wolf rolled over, while the horse ran off.    \n",
    "![8](http://www.gutenberg.org/files/23462/23462-h/images/illus-0041-1.jpg)    \n",
    "********    \n",
    "\n",
    "And there sat the wolf, and he thought: \"Well, wasn't I a fool! wasn't I a noodle! Who ever heard of anyone starting to eat a horse by the tail?\"    \n",
    "![9](http://www.gutenberg.org/files/23462/23462-h/images/illus-0042-1.jpg)    \n",
    "********    \n",
    "\n",
    "And so he wandered on further, when after a bit he saw a pig coming towards him, so when he got to him he said: \"Mr. Pig, Mr. Pig, I'm going to eat you!\" But the pig answered: \"Who are you, I should like to know, that you mean to eat me?\" \"I'm a wolf.\" \"You're a queer sort of wolf,\" answered the pig, \"you're only a dog!\" \"No, I'm not a dog,\" said he, \"I'm a wolf!\" \"Oh, that's all right then,\" answered the pig, \"you just sit down on my back. I'll give you a ride, and then you can eat me.\"    \n",
    "![10](http://www.gutenberg.org/files/23462/23462-h/images/illus-0043-1.jpg)    \n",
    "********    \n",
    "\n",
    "So the wolf sat down on the pig's back, when lo and behold! the pig carried him straight into the village.    \n",
    "![11](http://www.gutenberg.org/files/23462/23462-h/images/illus-0044-2.jpg)    \n",
    "********    \n",
    "\n",
    "And all the dogs ran out, made a dash for the wolf, and began to tease him.    \n",
    "![12](http://www.gutenberg.org/files/23462/23462-h/images/illus-0045-1.jpg)    \n",
    "********    \n",
    "\n",
    "And they teased him so much, it was all he could do to tear himself away and run off back into the forest.    \n",
    "![13](http://www.gutenberg.org/files/23462/23462-h/images/illus-0046-1.jpg)\n",
    "\n",
    "**单词注释**:    \n",
    "1. hit the wolf with his horns: 用他的羊角顶这只狼    \n",
    "1. jump into one's mouth: 跳进某人的嘴里    \n",
    "1. munching: /mʌntʃ/; [v]用力咀嚼(某物);大嚼(munch的pr);    \n",
    "1. nibbling: /'nɪblɪŋ/; [v]nibble的pr形式;一点一点地咬;    \n",
    "1. ram: /ræm/; [n]公羊;白羊座;撞击装置;    \n",
    "\n",
    "![14](http://www.gutenberg.org/files/23462/23462-h/images/illus-0046-2.jpg)    "
   ]
  }
 ],
 "metadata": {
  "kernelspec": {
   "display_name": "Python 3",
   "language": "python",
   "name": "python3"
  },
  "language_info": {
   "codemirror_mode": {
    "name": "ipython",
    "version": 3
   },
   "file_extension": ".py",
   "mimetype": "text/x-python",
   "name": "python",
   "nbconvert_exporter": "python",
   "pygments_lexer": "ipython3",
   "version": "3.7.6"
  },
  "toc": {
   "base_numbering": 1,
   "nav_menu": {},
   "number_sections": true,
   "sideBar": true,
   "skip_h1_title": false,
   "title_cell": "Table of Contents",
   "title_sidebar": "Contents",
   "toc_cell": false,
   "toc_position": {},
   "toc_section_display": true,
   "toc_window_display": false
  },
  "varInspector": {
   "cols": {
    "lenName": 16,
    "lenType": 16,
    "lenVar": 40
   },
   "kernels_config": {
    "python": {
     "delete_cmd_postfix": "",
     "delete_cmd_prefix": "del ",
     "library": "var_list.py",
     "varRefreshCmd": "print(var_dic_list())"
    },
    "r": {
     "delete_cmd_postfix": ") ",
     "delete_cmd_prefix": "rm(",
     "library": "var_list.r",
     "varRefreshCmd": "cat(var_dic_list()) "
    }
   },
   "types_to_exclude": [
    "module",
    "function",
    "builtin_function_or_method",
    "instance",
    "_Feature"
   ],
   "window_display": false
  }
 },
 "nbformat": 4,
 "nbformat_minor": 4
}
