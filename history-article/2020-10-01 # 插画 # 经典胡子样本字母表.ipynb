{
 "cells": [
  {
   "cell_type": "markdown",
   "metadata": {},
   "source": [
    "![cover](http://www.gutenberg.org/files/50147/50147-h/images/cover_small.jpg)\n",
    "***\n",
    "\n",
    "Beaver        \n",
    "An Alphabet of typical Specimens, together with Notes and        \n",
    "a terminal Essay on the Manners and Customs of Beavering Men        \n",
    "\n",
    "By        \n",
    "\n",
    "John Kettelwell        \n",
    "****************************************************************        \n",
    "\n",
    "Admiral-**beaver**        \n",
    "![a](http://www.gutenberg.org/files/50147/50147-h/images/p004.jpg)        \n",
    "****************************************************************        \n",
    "\n",
    "Bald-king-beaver        \n",
    "![b](http://www.gutenberg.org/files/50147/50147-h/images/p006.jpg)        \n",
    "****************************************************************        \n",
    "\n",
    "Centaur-king-beaver/人马胡        \n",
    "![c](http://www.gutenberg.org/files/50147/50147-h/images/p008.jpg)        \n",
    "****************************************************************        \n",
    "\n",
    "Double-fault        \n",
    "![d](http://www.gutenberg.org/files/50147/50147-h/images/p010.jpg)        \n",
    "****************************************************************        \n",
    "\n",
    "Ecclesiastical-king-beaver        \n",
    "![e](http://www.gutenberg.org/files/50147/50147-h/images/p012.jpg)        \n",
    "****************************************************************        \n",
    "\n",
    "Fringed-**georgic**-beaver        \n",
    "![f](http://www.gutenberg.org/files/50147/50147-h/images/p014.jpg)        \n",
    "****************************************************************        \n",
    "\n",
    "Galic-king-beaver        \n",
    "![g](http://www.gutenberg.org/files/50147/50147-h/images/p016.jpg)        \n",
    "****************************************************************        \n",
    "\n",
    "Half-beaver        \n",
    "![h](http://www.gutenberg.org/files/50147/50147-h/images/p018.jpg)        \n",
    "****************************************************************        \n",
    "\n",
    "Imperial-beaver        \n",
    "![i](http://www.gutenberg.org/files/50147/50147-h/images/p020.jpg)        \n",
    "****************************************************************        \n",
    "\n",
    "Joo beaver        \n",
    "![j](http://www.gutenberg.org/files/50147/50147-h/images/p022.jpg)        \n",
    "****************************************************************        \n",
    "\n",
    "Killingworth-beaver        \n",
    "![k](http://www.gutenberg.org/files/50147/50147-h/images/p024.jpg)        \n",
    "****************************************************************        \n",
    "\n",
    "Licked-beaver        \n",
    "![l](http://www.gutenberg.org/files/50147/50147-h/images/p026.jpg)        \n",
    "****************************************************************        \n",
    "\n",
    "Mandarin-beaver/中国官吏胡        \n",
    "![m](http://www.gutenberg.org/files/50147/50147-h/images/p028.jpg)        \n",
    "****************************************************************        \n",
    "\n",
    "Nanny-beaver/山羊胡        \n",
    "![n](http://www.gutenberg.org/files/50147/50147-h/images/p030.jpg)        \n",
    "****************************************************************        \n",
    "\n",
    "Oriental-beaver/东方胡        \n",
    "![o](http://www.gutenberg.org/files/50147/50147-h/images/p032.jpg)        \n",
    "****************************************************************        \n",
    "\n",
    "Parti-colour-beaver        \n",
    "![p](http://www.gutenberg.org/files/50147/50147-h/images/p034.jpg)        \n",
    "****************************************************************        \n",
    "\n",
    "Queen-beaver        \n",
    "![q](http://www.gutenberg.org/files/50147/50147-h/images/p036.jpg)        \n",
    "****************************************************************        \n",
    "\n",
    "Red-king-beaver        \n",
    "![r](http://www.gutenberg.org/files/50147/50147-h/images/p038.jpg)        \n",
    "****************************************************************        \n",
    "\n",
    "Santa-beaver        \n",
    "![s](http://www.gutenberg.org/files/50147/50147-h/images/p040.jpg)        \n",
    "****************************************************************        \n",
    "\n",
    "Tufted-king-beaver        \n",
    "![t](http://www.gutenberg.org/files/50147/50147-h/images/p042.jpg)        \n",
    "****************************************************************        \n",
    "\n",
    "Ursine-beaver        \n",
    "![u](http://www.gutenberg.org/files/50147/50147-h/images/p044.jpg)        \n",
    "****************************************************************        \n",
    "\n",
    "**Van**-dyck-beaver/凡戴克胡        \n",
    "![v](http://www.gutenberg.org/files/50147/50147-h/images/p046.jpg)        \n",
    "****************************************************************        \n",
    "\n",
    "Walrus        \n",
    "![w](http://www.gutenberg.org/files/50147/50147-h/images/p048.jpg)        \n",
    "****************************************************************        \n",
    "\n",
    "Xanthine-king-beaver        \n",
    "![x](http://www.gutenberg.org/files/50147/50147-h/images/p050.jpg)        \n",
    "****************************************************************        \n",
    "\n",
    "Yellow-king        \n",
    "![y](http://www.gutenberg.org/files/50147/50147-h/images/p052.jpg)        \n",
    "****************************************************************        \n",
    "\n",
    "Zebra-king-beaver        \n",
    "![z](http://www.gutenberg.org/files/50147/50147-h/images/p054.jpg)        \n",
    "****************************************************************        \n",
    "\n",
    "**注释**:        \n",
    "1. Van Dyck: /væn/; [n]凡-戴克;        \n",
    "1. admiral: /ˈædmərəl/; [n]海军上将;舰队司令;        \n",
    "1. beaver: /ˈbiːvə(r)/; [n]海狸; [ex]此处指胡子;        \n",
    "1. centaur: /ˈsentɔː(r)/; [n]半人马座;人首马身的怪物;马人;        \n",
    "1. ecclesiastical: /ɪˌkliːziˈæstɪkl/; [a]教会的;牧师的;神职的;        \n",
    "1. fringed: /frɪndʒd/; [a]具流苏的;加穗的;带边饰的;        \n",
    "1. georgic: /'dʒɔːdʒɪk/; [a]农业的;田园的;[n]田园诗;        \n",
    "1. killingworth: [x]基林沃思<人名>;        \n",
    "1. licked: /lɪk/; [vt]舔;卷过;鞭打; [vi]舔;轻轻拍打;[n]舔;打;少许;        \n",
    "1. mandarin: /ˈmændərɪn/; [n]官吏;        \n",
    "1. nanny: /ˈnæni/; [n]保姆;母山羊;        \n",
    "1. oriental: /ˌɔːriˈentl/; [a]东方的;东方人的;[n]东方人;        \n",
    "1. parti: /pɑː'tiː/; [n]理想配偶,合适的婚姻对象;        \n",
    "1. tufted: /ˈtʌftɪd/; [a]成簇状的;植绒的;装缨球的;用穗饰的;[v]用丛毛装饰<tuft的过去式>;        \n",
    "1. ursine: /ˈɜːsaɪn/; [a]熊的,似熊的;        \n",
    "1. xanthine: /'zænθiːn/; [n]黄嘌呤;黄质;        "
   ]
  },
  {
   "cell_type": "code",
   "execution_count": 15,
   "metadata": {},
   "outputs": [
    {
     "name": "stdout",
     "output_type": "stream",
     "text": [
      "Backup: history.txt.sort.bk!\n"
     ]
    },
    {
     "data": {
      "text/plain": [
       "'涉猎/history.txt'"
      ]
     },
     "execution_count": 15,
     "metadata": {},
     "output_type": "execute_result"
    }
   ],
   "source": [
    "sorted_lines('涉猎/history.txt',1)"
   ]
  }
 ],
 "metadata": {
  "kernelspec": {
   "display_name": "Python 3",
   "language": "python",
   "name": "python3"
  },
  "language_info": {
   "codemirror_mode": {
    "name": "ipython",
    "version": 3
   },
   "file_extension": ".py",
   "mimetype": "text/x-python",
   "name": "python",
   "nbconvert_exporter": "python",
   "pygments_lexer": "ipython3",
   "version": "3.7.6"
  },
  "toc": {
   "base_numbering": 1,
   "nav_menu": {},
   "number_sections": true,
   "sideBar": true,
   "skip_h1_title": false,
   "title_cell": "Table of Contents",
   "title_sidebar": "Contents",
   "toc_cell": false,
   "toc_position": {},
   "toc_section_display": true,
   "toc_window_display": false
  },
  "varInspector": {
   "cols": {
    "lenName": 16,
    "lenType": 16,
    "lenVar": 40
   },
   "kernels_config": {
    "python": {
     "delete_cmd_postfix": "",
     "delete_cmd_prefix": "del ",
     "library": "var_list.py",
     "varRefreshCmd": "print(var_dic_list())"
    },
    "r": {
     "delete_cmd_postfix": ") ",
     "delete_cmd_prefix": "rm(",
     "library": "var_list.r",
     "varRefreshCmd": "cat(var_dic_list()) "
    }
   },
   "types_to_exclude": [
    "module",
    "function",
    "builtin_function_or_method",
    "instance",
    "_Feature"
   ],
   "window_display": false
  }
 },
 "nbformat": 4,
 "nbformat_minor": 4
}
