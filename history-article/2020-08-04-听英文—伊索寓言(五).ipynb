{
 "cells": [
  {
   "cell_type": "markdown",
   "metadata": {},
   "source": [
    "## 男孩和青蛙    \n",
    "\n",
    "![THE BOYS AND THE FROGS]    \n",
    "![i026_th.jpg](http://www.gutenberg.org/files/19994/19994-h/images/i026_th.jpg)    \n",
    "\n",
    "Some mischievous Boys were playing on the edge of a pond, and, catching sight of some Frogs swimming about in the shallow water, they began to amuse themselves by **pelting** them with stones, and they killed several of them. At last one of the Frogs put his head out of the water and said, \"Oh, stop! stop! I beg of you: what is sport to you is death to us.\"    \n",
    "****************************************************************    \n",
    "\n",
    "## 北风和太阳    \n",
    "\n",
    "![THE NORTH WIND AND THE SUN]    \n",
    "![i107_th](http://www.gutenberg.org/files/19994/19994-h/images/i107_th.jpg)    \n",
    "\n",
    "A dispute arose between the North Wind and the Sun, each claiming that he was stronger than the other. At last they agreed to try their powers upon a traveller, to see which could soonest strip him of his cloak. The North Wind had the first try; and, gathering up all his force for the attack, he came whirling furiously down upon the man, and caught up his cloak as though he would wrest it from him by one single effort: but the harder he blew, the more closely the man wrapped it round himself. Then came the turn of the Sun. At first he beamed gently upon the traveller, who soon **unclasped** his cloak and walked on with it hanging loosely about his shoulders: then he **shone** forth in his full strength, and the man, before he had gone many steps, was glad to throw his cloak right off and complete his journey more lightly **clad**.    \n",
    "\n",
    "**Persuasion** is better than force.    \n",
    "****************************************************************    \n",
    "\n",
    "## 女主人和仆人    \n",
    "\n",
    "![THE MISTRESS AND HER SERVANTS]    \n",
    "\n",
    "A Widow, **thrifty** and **industrious**, had two servants, whom she kept pretty hard at work. They were not allowed to lie long **abed** in the mornings, but the old lady had them up and doing as soon as the cock crew. They disliked intensely having to get up at such an hour, especially in winter-time: and they thought that if it were not for the cock waking up their Mistress so horribly early, they could sleep longer. So they caught it and **wrung** its neck. But they weren't prepared for the consequences. For what happened was that their Mistress, not hearing the cock **crow** as usual, waked them up earlier than ever, and set them to work in the middle of the night.    \n",
    "****************************************************************    \n",
    "\n",
    "##  善良和邪恶   \n",
    "\n",
    "![THE GOODS AND THE ILLS]    \n",
    "\n",
    "There was a time in the youth of the world when Goods and Ills entered equally into the **concerns** of men, so that the Goods did not **prevail** to make them altogether blessed, nor the Ills to make them wholly miserable. But owing to the foolishness of mankind the Ills multiplied greatly in number and increased in strength, until it seemed as though they would deprive the Goods of all share in human affairs, and banish them from the earth. The latter, therefore, **betook** themselves to heaven and complained to Jupiter of the treatment they had received, at the same time praying him to grant them protection from the Ills, and to advise them concerning the manner of their **intercourse** with men. Jupiter granted their request for protection, and decreed that for the future they should not go among men openly in a body, and so be liable to attack from the hostile Ills, but singly and unobserved, and at infrequent and unexpected intervals. Hence it is that the earth is full of Ills, for they come and go as they please and are never far away; while Goods, alas! come one by one only, and have to travel all the way from heaven, so that they are very seldom seen.    \n",
    "****************************************************************    \n",
    "\n",
    "## 野兔和青蛙    \n",
    "\n",
    "![THE HARES AND THE FROGS]    \n",
    "![052-1](http://www.gutenberg.org/files/19994/19994-h/images/i037_th.jpg)    \n",
    "\n",
    "The Hares once gathered together and **lamented** the unhappiness of their lot, exposed as they were to dangers on all sides and lacking the strength and the courage to hold their own. Men, dogs, birds and beasts of prey were all their enemies, and killed and devoured them daily: and sooner than endure such **persecution** any longer, they one and all determined to end their miserable lives. Thus resolved and desperate, they rushed in a body towards a neighbouring pool, intending to drown themselves. On the bank were sitting a number of Frogs, who, when they heard the noise of the Hares as they ran, with one accord leaped into the water and hid themselves in the depths. Then one of the older Hares who was wiser than the rest cried out to his companions, \"Stop, my friends, take heart; don't let us destroy ourselves after all: see, here are creatures who are afraid of us, and who must, therefore, be still more timid than ourselves.\"      \n",
    "****************************************************************    \n",
    "\n",
    "## 单词注释    \n",
    "1. Persuasion: /pəˈsweɪʒn/; [n]说服,说服力;信念;派别;    \n",
    "1. abed: /əˈbed/; [ad]在床上;[a]在床上的;    \n",
    "1. betook: /bi'tuk/; [v]前往;使行动起来;致力于<betake的pt>;    \n",
    "1. clad: /klæd/; [a]穿衣的;覆盖的;[vt]在金属外覆以另一种金属;[v]穿衣<clothe的pt和pp>;    \n",
    "1. concerns: /kənˈsɜːn/; [n]关注;关注点;关注者;    \n",
    "1. industrious: /ɪnˈdʌstriəs/; [a]勤勉的;    \n",
    "1. intercourse: /ˈɪntəkɔːs/; [n]交往;交流;    \n",
    "1. lamented: /ləˈmentɪd/; [v]哀悼<lament的pt和pp>;    \n",
    "1. pelting: /'peltiŋ/; ;[v]投掷;攻击<pelt的ing形式>;    \n",
    "1. persecution: /ˌpɜːsɪˈkjuːʃn/; [n]迫害;烦扰;    \n",
    "1. prevail: /prɪˈveɪl/; [vi]盛行,流行;战胜,获胜;    \n",
    "1. shone: /ʃɒn/; [v]发光;把...照向;擦亮;反光;<眼睛等>发亮<shine的pt及pp>;    \n",
    "1. thrifty: /ˈθrɪfti/; [a]节约的;<牲畜或植物>茁壮的,健康的;    \n",
    "1. unclasped: /ʌn'klɑːsp/; [vt]打开;解开扣子;    \n",
    "1. wrung: /rʌŋ/; [v]拧<wring过去式>;    \n",
    "\n",
    "![喝酒的松鼠]()    "
   ]
  }
 ],
 "metadata": {
  "kernelspec": {
   "display_name": "Python 3",
   "language": "python",
   "name": "python3"
  },
  "language_info": {
   "codemirror_mode": {
    "name": "ipython",
    "version": 3
   },
   "file_extension": ".py",
   "mimetype": "text/x-python",
   "name": "python",
   "nbconvert_exporter": "python",
   "pygments_lexer": "ipython3",
   "version": "3.7.6"
  },
  "toc": {
   "base_numbering": 1,
   "nav_menu": {},
   "number_sections": true,
   "sideBar": true,
   "skip_h1_title": false,
   "title_cell": "Table of Contents",
   "title_sidebar": "Contents",
   "toc_cell": false,
   "toc_position": {},
   "toc_section_display": true,
   "toc_window_display": false
  },
  "varInspector": {
   "cols": {
    "lenName": 16,
    "lenType": 16,
    "lenVar": 40
   },
   "kernels_config": {
    "python": {
     "delete_cmd_postfix": "",
     "delete_cmd_prefix": "del ",
     "library": "var_list.py",
     "varRefreshCmd": "print(var_dic_list())"
    },
    "r": {
     "delete_cmd_postfix": ") ",
     "delete_cmd_prefix": "rm(",
     "library": "var_list.r",
     "varRefreshCmd": "cat(var_dic_list()) "
    }
   },
   "types_to_exclude": [
    "module",
    "function",
    "builtin_function_or_method",
    "instance",
    "_Feature"
   ],
   "window_display": false
  }
 },
 "nbformat": 4,
 "nbformat_minor": 4
}
