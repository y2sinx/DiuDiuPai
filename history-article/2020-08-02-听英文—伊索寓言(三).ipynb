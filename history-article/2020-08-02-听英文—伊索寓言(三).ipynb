{
 "cells": [
  {
   "cell_type": "markdown",
   "metadata": {},
   "source": [
    "## 狼与小羊    \n",
    "\n",
    "![THE WOLF AND THE LAMB]    \n",
    "![i036_th](http://www.gutenberg.org/files/19994/19994-h/images/i036_th.jpg)    \n",
    "\n",
    "A Wolf came upon a Lamb **straying** from the flock, and felt some **compunction** about taking the life of so **helpless** a creature without some plausible excuse; so he **cast** about for a **grievance** and said at last, \"Last year, sirrah, you grossly insulted me.\" \"That is impossible, sir,\" **bleated** the Lamb, \"for I wasn't born then.\" \"Well,\" **retorted** the Wolf, \"you feed in my **pastures**.\" \"That cannot be,\" replied the Lamb, \"for I have never yet tasted grass.\" \"You drink from my spring, then,\" continued the Wolf. \"Indeed, sir,\" said the poor Lamb, \"I have never yet drunk anything but my mother's milk.\" \"Well, anyhow,\" said the Wolf, \"I'm not going without my dinner\": and he sprang upon the Lamb and **devoured** it without more **ado**.    \n",
    "****************************************************************    \n",
    "\n",
    "## 鹤与孔雀    \n",
    "\n",
    "![THE PEACOCK AND THE CRANE]    \n",
    "![i060_th](http://www.gutenberg.org/files/19994/19994-h/images/i060_th.jpg)    \n",
    "\n",
    "A Peacock **taunted** a **Crane** with the **dullness** of her **plumage**. \"Look at my brilliant colours,\" said she, \"and see how much finer they are than your poor feathers.\" \"I am not denying,\" replied the Crane, \"that yours are far gayer than mine; but when it comes to flying I can **soar** into the clouds, whereas you are confined to the earth like any **dunghill** cock.\"    \n",
    "****************************************************************    \n",
    "\n",
    "## 猫与鸟    \n",
    "\n",
    "![THE CAT AND THE BIRDS]    \n",
    "![040](http://www.gutenberg.org/files/11339/11339-h/images/040.jpg)    \n",
    "\n",
    "A Cat heard that the Birds in an **aviary** were **ailing**. So he got himself up as a doctor, and, taking with him a set of the instruments proper to his profession, presented himself at the door, and inquired after the health of the Birds. \"We shall do very well,\" they replied, without letting him in, \"when we've seen the last of you.\"    \n",
    "\n",
    "A **villain** may **disguise** himself, but he will not deceive the wise.    \n",
    "****************************************************************    \n",
    "\n",
    "## 麻雀与挥霍无度的人    \n",
    "\n",
    "![THE SPENDTHRIFT AND THE SWALLOW]    \n",
    "![i066_th](http://www.gutenberg.org/files/19994/19994-h/images/i066_th.jpg)    \n",
    "\n",
    "A **Spendthrift**, who had wasted his fortune, and had nothing left but the clothes in which he stood, saw a Swallow one fine day in early spring. Thinking that summer had come, and that he could now do without his coat, he went and sold it for what it would fetch. A change, however, took place in the weather, and there came a sharp frost which killed the unfortunate Swallow. When the Spendthrift saw its dead body he cried, \"**Miserable** bird! Thanks to you I am perishing of cold myself.\"    \n",
    "\n",
    "One swallow does not make summer.    \n",
    "****************************************************************    \n",
    "\n",
    "## 医生与老妇人    \n",
    "\n",
    "![THE OLD WOMAN AND THE DOCTOR]    \n",
    "![giphy](https://media3.giphy.com/media/12Nt5YmOLztmMw/giphy.gif?cid=ecf05e47ab6nao7edyfvnccelvhbtc3c4tmlkfzivmbxfrsg&rid=giphy.gif)    \n",
    "\n",
    "An Old Woman became almost totally blind from a disease of the eyes, and, after consulting a Doctor, made an agreement with him in the presence of witnesses that she should pay him a high fee if he cured her, while if he failed he was to receive nothing. The Doctor accordingly **prescribed a course of treatment**, and every time he paid her a visit he took away with him some **article** out of the house, until at last, when he visited her for the last time, and the cure was complete, there was nothing left. When the Old Woman saw that the house was empty she refused to pay him his fee; and, after repeated refusals on her part, he sued her before the **magistrates** for payment of her debt. On being brought into court she was ready with her defence. \"The **claimant**,\" said she, \"has stated the facts about our agreement correctly. I undertook to pay him a fee if he cured me, and he, on his part, promised to charge nothing if he failed. Now, he says I am cured; but I say that I am blinder than ever, and I can prove what I say. When my eyes were bad I could at any rate see well enough to be aware that my house contained a certain amount of furniture and other things; but now, when according to him I am cured, I am entirely unable to see anything there at all.\"     \n",
    "****************************************************************    \n",
    "\n",
    "## 单词注释     \n",
    "\n",
    "1. Crane: /kreɪn/; [n]吊车,起重机;鹤;    \n",
    "1. Miserable: /ˈmɪzrəbl/; [a]悲惨的;痛苦的;卑鄙的;    \n",
    "1. Spendthrift: /ˈspendθrɪft/; [n]挥霍无度的人,浪费的人;[a]挥霍无度的;浪费的;    \n",
    "1. ado: /əˈduː/; [n]麻烦,困难;纷扰,忙乱;    \n",
    "1. ailing: /ˈeɪlɪŋ/; [a]生病的,身体不舒服的;病态的;处境困难的,不景气的;    \n",
    "1. article: /ˈɑːtɪkl/; [n]文章;物品;条款;    \n",
    "1. aviary: /ˈeɪviəri/; [n]鸟类饲养场;大型鸟舍;    \n",
    "1. bleated: /bliːt/; [v]<羊>咩咩叫,牛<哞哞叫>;    \n",
    "1. cast about: /kæst əˈbaʊt/; [x]寻找,搜索,想办法;    \n",
    "1. claimant: /ˈkleɪmənt/; [n]原告;<贸易>索赔人;提出要求者;    \n",
    "1. compunction: /kəmˈpʌŋkʃn/; [n]悔恨,后悔;内疚;    \n",
    "1. devoured: /dɪ'vaʊəd/; [v]吞食;毁灭<devour的pp>;    \n",
    "1. disguise: /dɪsˈɡaɪz/; [vt]掩饰;假装;隐瞒;    \n",
    "1. dullness: /ˈdʌlnəs/; [n]迟钝,钝度;    \n",
    "1. dunghill: /'dʌŋhɪl/; [n]粪堆;堆肥;污秽场所;    \n",
    "1. grievance: /ˈɡriːvəns/; [n]不满,不平;委屈;冤情;    \n",
    "1. helpless: /ˈhelpləs/; [a]无助的;无能的;没用的;    \n",
    "1. magistrates: /'mædʒɪs,tret/; [n]地方法官<magistrate的pl>;裁判官;地方行政官;    \n",
    "1. pastures: /ˈpɑːstʃə/; [x]牧草;    \n",
    "1. plumage: /ˈpluːmɪdʒ/; [n]鸟类羽毛;翅膀;    \n",
    "1. prescribed a course of treatment: [x]提出一个治疗方案;    \n",
    "1. retorted: /rɪˈtɔːt/; [v]反驳,回嘴;<对侮辱或伤害>    \n",
    "1. soar: /sɔː(r)/; [vi]急升,激增;高飞;升空;翱翔;<树木,建筑物等>高耸;<情绪>高涨;    \n",
    "1. straying: /streɪ/; [a]离群的,孤立的;    \n",
    "1. taunted: /tɔːnt/; [vt]奚落;    \n",
    "1. villain: /ˈvɪlən/; [n]戏剧,小说中的反派角色;坏人,恶棍;   \n",
    "****************************************************************    \n",
    "\n",
    "## \"高抬贵手\",点个赞再走???  "
   ]
  }
 ],
 "metadata": {
  "kernelspec": {
   "display_name": "Python 3",
   "language": "python",
   "name": "python3"
  },
  "language_info": {
   "codemirror_mode": {
    "name": "ipython",
    "version": 3
   },
   "file_extension": ".py",
   "mimetype": "text/x-python",
   "name": "python",
   "nbconvert_exporter": "python",
   "pygments_lexer": "ipython3",
   "version": "3.7.6"
  },
  "toc": {
   "base_numbering": 1,
   "nav_menu": {},
   "number_sections": true,
   "sideBar": true,
   "skip_h1_title": false,
   "title_cell": "Table of Contents",
   "title_sidebar": "Contents",
   "toc_cell": false,
   "toc_position": {},
   "toc_section_display": true,
   "toc_window_display": false
  },
  "varInspector": {
   "cols": {
    "lenName": 16,
    "lenType": 16,
    "lenVar": 40
   },
   "kernels_config": {
    "python": {
     "delete_cmd_postfix": "",
     "delete_cmd_prefix": "del ",
     "library": "var_list.py",
     "varRefreshCmd": "print(var_dic_list())"
    },
    "r": {
     "delete_cmd_postfix": ") ",
     "delete_cmd_prefix": "rm(",
     "library": "var_list.r",
     "varRefreshCmd": "cat(var_dic_list()) "
    }
   },
   "types_to_exclude": [
    "module",
    "function",
    "builtin_function_or_method",
    "instance",
    "_Feature"
   ],
   "window_display": false
  }
 },
 "nbformat": 4,
 "nbformat_minor": 4
}
