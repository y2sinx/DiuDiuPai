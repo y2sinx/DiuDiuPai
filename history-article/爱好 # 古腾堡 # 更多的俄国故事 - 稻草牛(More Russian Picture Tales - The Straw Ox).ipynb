{
 "cells": [
  {
   "cell_type": "markdown",
   "metadata": {},
   "source": [
    "本文整理: Y2SINX    \n",
    "英文来源: http://www.gutenberg.org/files/23462/23462-h/23462-h.htm"
   ]
  },
  {
   "cell_type": "markdown",
   "metadata": {},
   "source": [
    "More Russian Picture Tales        \n",
    "By Valery Carrick (瓦莱丽-卡里克,作)        \n",
    "Nevill Forbes (内维尔-福布斯,译)    \n",
    "\n",
    "![0096](http://www.gutenberg.org/files/23462/23462-h/images/illus-0096-1.jpg)    \n",
    "Once upon a time there lived an old man and his wife, and one day she said to him: “Make me a straw ox and **smear him over with pitch**.” And he asked: “What for?” And she answered: “Do what I tell you! Never mind what it's for—that's my business!” So the old man made a straw ox and smeared him over with pitch. Then his wife got ready in the early morning and drove the ox to **pasture**. She sat down under a tree, and began spinning **flax** and saying to herself: “Feed, feed, ox, on the fresh green grass.”    \n",
    "****************************************************************    \n",
    "\n",
    "![0097](http://www.gutenberg.org/files/23462/23462-h/images/illus-0097-1.jpg)    \n",
    "“Feed, feed, ox, on the fresh green grass!” And she went on spinning and spinning, and fell asleep. Suddenly from out of the thick wood, from out of the dark forest, a bear came running, and ran right up against the ox.    \n",
    "****************************************************************    \n",
    "\n",
    "![0098](http://www.gutenberg.org/files/23462/23462-h/images/illus-0098-1.jpg)    \n",
    "“Who in the world are you?” he asked. And the ox answered: “I'm the three-year-old ox, all made of straw and smeared over with pitch.” Then the bear said: “Well, if **you're smeared over with pitch**, give me some to put on my poor torn side.” And the ox answered: “Take some!” So the bear seized hold of the ox, when lo and behold! **his paw stuck in the pitch**.    \n",
    "****************************************************************    \n",
    "\n",
    "![0099](http://www.gutenberg.org/files/23462/23462-h/images/illus-0099-1.jpg)    \n",
    "And when he tried to free it with the other paw, that one stuck too. Then he started **gnawing** with his teeth, and they stuck too. He couldn't tear himself away anyhow. And the old woman woke up and saw the bear stuck fast to the ox. So she ran home and shouted to her husband: “Come along quick, a bear has stuck fast to our ox, hurry up and catch him!” And he came along, took the bear, led him home, and shut him up in the **lumber** room.    \n",
    "****************************************************************    \n",
    "\n",
    "![0100](http://www.gutenberg.org/files/23462/23462-h/images/illus-0100-1.jpg)    \n",
    "The next day, as soon as the sun rose, the old woman again **drove the ox to pasture**, and she herself sat down under a tree, and began ****spinning flax**** and saying to herself: “Feed, feed, ox, on the fresh green grass of the field! Feed, feed, ox, on the fresh green grass of the field!” And she went on spinning and spinning, and fell asleep. Suddenly from out of the thick wood, from out of the dark forest, a wolf came running, and ran right up against the ox. “Who in the world are you?” he asked. And the ox answered: “I'm the three-year-old ox, all made of straw and smeared over with pitch.”    \n",
    "****************************************************************    \n",
    "\n",
    "![0101](http://www.gutenberg.org/files/23462/23462-h/images/illus-0101-1.jpg)    \n",
    "Then the wolf said: “Well, if that's so, give me some pitch to put on my poor torn side.” And the ox answered: “By all means!” So the wolf tried to take some pitch, when lo and behold! his paw stuck in it. And when he tried to free it, it stuck all the faster. And the old woman woke up and saw the wolf sticking to the ox. So she ran to fetch her husband and said: “Come as quick as you can, there's a wolf stuck to the ox!” And he came and caught the wolf and put him in the cellar.    \n",
    "****************************************************************    \n",
    "\n",
    "![0102](http://www.gutenberg.org/files/23462/23462-h/images/illus-0102-1.jpg)    \n",
    "The next day, before even the sun had risen, the old woman again drove the ox to pasture, and she herself sat down under a tree, and began spinning flax and saying to herself: “Feed, feed, ox, on the fresh green grass! Feed, feed, ox, on the fresh green grass!” And she went on spinning and spinning, and fell asleep.    \n",
    "****************************************************************    \n",
    "\n",
    "![0103](http://www.gutenberg.org/files/23462/23462-h/images/illus-0103-1.jpg)    \n",
    "Suddenly from out of the thick wood, from out of the dark forest, a fox came running, and ran right up against the ox. “**What sort of a beast are you?**?” he asked. And the ox answered: “I'm the three-year-old ox, all made of straw and smeared over with pitch.” Then the fox said: “Well then, give me some pitch to rub on my side.” And the fox was just going to take some pitch, when he stuck fast and couldn't free himself. And the old woman woke up and saw the fox sticking to the ox. So she ran to fetch her husband, and he came and took the fox and put him in the cellar as well.    \n",
    "****************************************************************    \n",
    "\n",
    "![0104](http://www.gutenberg.org/files/23462/23462-h/images/illus-0104-1.jpg)    \n",
    "The next day the old woman again sat down under the tree to spin her flax while the ox fed, and she began spinning and saying to herself: “Feed, feed, ox, on the fresh green grass! Feed, feed, ox, on the fresh green grass!” And she went on spinning and spinning and fell asleep. Suddenly from out of the thick wood, from out of the dark forest, a grey hare came running and ran right up against the ox. “What sort of beast are you?” he asked. “I'm the three-year-old ox, all made of straw and smeared over with pitch.” Then the hare said: “Well then, give me some pitch to rub on my side.” “Take some!” answered the ox. And the hare caught hold of him with his teeth, when lo and behold! his teeth stuck fast. He tore and tore, but couldn't tear them free. And the old woman woke up, and ran to fetch her husband, and said: “Come as quick as you can, there's a hare stuck to the ox!” And the old man came, took the hare and **flung** him into the cellar. Then the old man began to **grind his knife**, and the bear heard him and asked: “What are you grinding your knife for?” And he answered: “I'm grinding my knife to **take the skin off your back** and make myself a fur coat out of it.” But the bear said: “Oh! don't take the skin off my back! Better let me go free, and I'll repay you **handsomely**.” “Well, mind you do!” answered the old man, and so he let the bear go free, and he ran off into the forest.    \n",
    "****************************************************************    \n",
    "\n",
    "![0106](http://www.gutenberg.org/files/23462/23462-h/images/illus-0106-1.jpg)    \n",
    "The next day the old man again began to grind his knife outside the cellar, and the wolf asked him: “What are you grinding your knife for?” And he answered: “I'm grinding my knife to take the skin off your back and make myself a fur coat out of it.” But the wolf said: “Oh! don't take the skin off my back! Better let me go free, and I'll **repay you handsomely**.” “Well, mind you do!” answered the old man, and so he let the wolf too go free. And again he began to grind his knife outside the cellar, and the fox asked him: “What are you grinding your knife for?” And he answered: “I'm grinding my knife to take the skin off your back, and make myself out of it a collar for my fur coat.” But the fox said: “Oh! don't take the skin off my back! Better let me go free, and I'll repay you handsomely.” “Well, mind you do!” answered he.    \n",
    "****************************************************************    \n",
    "\n",
    "![0107](http://www.gutenberg.org/files/23462/23462-h/images/illus-0107-1.jpg)    \n",
    "Then the hare was left all alone.    \n",
    "And again the old man began to grind his knife, and the hare asked him: “What are you grinding your knife for?” And he answered: “I'm grinding my knife to take the skin off your back, and make myself some fur gloves out of it.” But the hare said: “Oh! don't take the skin off my back! Better let me go free, and I'll repay you handsomely.” “Well, mind you do!” he answered, and let the hare too go free.    \n",
    "****************************************************************    \n",
    "\n",
    "![0108](http://www.gutenberg.org/files/23462/23462-h/images/illus-0108-1.jpg)    \n",
    "Early the next morning the old man heard someone knocking at the gate, so he asked: “Who's there?” And the answer came: “It's I, the bear, come to **pay you my debt**.” And the old man opened the gate, and there was the bear with a **hive** of honey he had brought. So the old man took the honey, when again he heard knock-knock at the gate! “Who's there?” he asked, and the answer came: “It's I, the wolf, come to pay you my debt.” And there was the wolf with **a whole flock of sheep** he had driven up. So the old man let the sheep into the yard, when again he heard knock-knock at the gate. “Who's there?” he asked, and the answer came: “It's I, the fox, come to pay you my debt.”    \n",
    "****************************************************************    \n",
    "\n",
    "![0109](http://www.gutenberg.org/files/23462/23462-h/images/illus-0109-1.jpg)    \n",
    "And there was the fox with a whole farm-yardful of cocks and hens, and ducks and geese. Suddenly there came another knock-knock at the gate. “Who's there?” asked the old man, and the answer came: “It's I, the hare, come to pay you my debt.” And he had brought with him a whole **heap** of **cabbages**. And the old man and his wife began to live happily together, and always spoke well and kindly of those beasts.    \n",
    "![110](http://www.gutenberg.org/files/23462/23462-h/images/illus-0110-1.jpg)    \n",
    "****************************************************************    \n",
    "\n",
    "![111-1](http://www.gutenberg.org/files/23462/23462-h/images/illus-0111-1.jpg)    \n",
    "![111-2](http://www.gutenberg.org/files/23462/23462-h/images/illus-0111-2.jpg)    \n",
    "****************************************************************    \n",
    "\n",
    "**单词注释:**    \n",
    "1. cabbages: /ˈkæbɪdʒɪz/; [n]卷心菜;<园艺>甘蓝;    \n",
    "1. flax: /flæks/; [n]亚麻;亚麻纤维,亚麻布,亚麻织品;    \n",
    "1. flung: /flʌŋ/; [v]<用力>投;    \n",
    "1. gnawing: /ˈnɔːɪŋ/; [v]咬,反复啮咬;    \n",
    "1. handsomely: /ˈhænsəmli/; [ad]漂亮地;慷慨地;相当大地;    \n",
    "1. heap: /hiːp/; [n]堆;    \n",
    "1. hive: /haɪv/; [n]蜂巢,蜂箱;蜂群;    \n",
    "1. lumber: /ˈlʌmbə(r)/; [n]木材;废旧家具,废物,无用的杂物;    \n",
    "1. pasture: /ˈpɑːstʃə(r)/; [n]草地;牧场;    \n",
    "1. What sort of a beast are you? % 你是个什么类型的野兽?    \n",
    "1. a hive of honey: 一箱蜂蜜    \n",
    "1. a whole flock of sheep: 一整群绵羊    \n",
    "1. a whole heap of cabbages: 一整堆卷心菜drove the ox to pasture: 把牛赶到牧场    \n",
    "1. grind his knife: 磨他的刀    \n",
    "1. his paw stuck in the pitch: 他的爪子粘在了沥青上    \n",
    "1. lumber room: 杂货间    \n",
    "1. pay you my debt: 偿还欠你的债    \n",
    "1. repay you handsomely: 慷慨的报答你    \n",
    "1. smear him over with pitch: 给他涂沥青    \n",
    "1. spinning flax: 纺亚麻    \n",
    "1. take the skin off your back: 剥你背上的皮(用来做毛皮大衣)    \n",
    "1. you're smeared over with pitch: 你被沥青涂了    "
   ]
  }
 ],
 "metadata": {
  "kernelspec": {
   "display_name": "Python 3",
   "language": "python",
   "name": "python3"
  },
  "language_info": {
   "codemirror_mode": {
    "name": "ipython",
    "version": 3
   },
   "file_extension": ".py",
   "mimetype": "text/x-python",
   "name": "python",
   "nbconvert_exporter": "python",
   "pygments_lexer": "ipython3",
   "version": "3.7.6"
  },
  "toc": {
   "base_numbering": 1,
   "nav_menu": {},
   "number_sections": true,
   "sideBar": true,
   "skip_h1_title": true,
   "title_cell": "Table of Contents",
   "title_sidebar": "Contents",
   "toc_cell": false,
   "toc_position": {},
   "toc_section_display": true,
   "toc_window_display": false
  },
  "varInspector": {
   "cols": {
    "lenName": 16,
    "lenType": 16,
    "lenVar": 40
   },
   "kernels_config": {
    "python": {
     "delete_cmd_postfix": "",
     "delete_cmd_prefix": "del ",
     "library": "var_list.py",
     "varRefreshCmd": "print(var_dic_list())"
    },
    "r": {
     "delete_cmd_postfix": ") ",
     "delete_cmd_prefix": "rm(",
     "library": "var_list.r",
     "varRefreshCmd": "cat(var_dic_list()) "
    }
   },
   "types_to_exclude": [
    "module",
    "function",
    "builtin_function_or_method",
    "instance",
    "_Feature"
   ],
   "window_display": false
  }
 },
 "nbformat": 4,
 "nbformat_minor": 4
}
