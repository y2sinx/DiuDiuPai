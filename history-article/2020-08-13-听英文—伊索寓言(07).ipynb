{
 "cells": [
  {
   "cell_type": "markdown",
   "metadata": {},
   "source": [
    "## 狐狸与猴子    \n",
    "\n",
    "[THE FOX AND THE MONKEY](http://www.gutenberg.org/files/19617/mp3/19617-06.mp3)    \n",
    "![](http://www.gutenberg.org/files/19994/19994-h/images/i087_th.jpg)    \n",
    "\n",
    "A Fox and a Monkey were on the road together, and fell into a dispute as to which of the two was the better born. They kept it up for some time, till they came to a place where the road passed through a **cemetery** full of monuments, when the Monkey stopped and looked about him and gave a great sigh. \"Why do you sigh?\" said the Fox. The Monkey pointed to the tombs and replied, \"All the monuments that you see here were put up in honour of my forefathers, who in their day were eminent men.\" The Fox was **speechless** for a moment, but quickly recovering he said, \"Oh! don't stop at any lie, sir; you're quite safe: I'm sure none of your ancestors will rise up and expose you.\"    \n",
    "\n",
    "Boasters **brag** most when they cannot be **detected**.    \n",
    "\n",
    "## 驴子与哈巴狗    \n",
    "\n",
    "[THE ASS AND THE LAP-DOG](http://www.gutenberg.org/files/19617/mp3/19617-07.mp3)    \n",
    "![](http://www.gutenberg.org/files/19994/19994-h/images/i075_th.jpg)    \n",
    "There was once a man who had an Ass and a Lap-dog. The Ass was housed in the stable with plenty of oats and hay to eat and was as well off as an ass could be. The little Dog was made a great pet of by his master, who **fondled** him and often let him lie in his lap; and if he went out to dinner, he would bring back a **tit-bit** or two to give him when he ran to meet him on his return. The Ass had, it is true, a good deal of work to do, **carting** or **grinding** the corn, or carrying the burdens of the farm: and ere long he became very jealous, **contrasting** his own life of labour with the ease and idleness of the Lap-dog. At last one day he broke his **halter**, and **frisking** into the house just as his master sat down to dinner, he **pranced** and **capered about**, **mimicking** the **frolics** of the little favourite, upsetting the table and smashing the **crockery** with his clumsy efforts. Not content with that, he even tried to jump on his master's lap, as he had so often seen the dog allowed to do. At that the servants, seeing the danger their master was in, **belaboured** the silly Ass with sticks and **cudgels**, and drove him back to his stable half dead with his beating. \"Alas!\" he cried, \"all this I have brought on myself. Why could I not be satisfied with my natural and honourable position, without wishing to imitate the ridiculous **antics** of that useless little Lap-dog?\"    \n",
    "\n",
    "## 杉树与荆棘    \n",
    "Bramble contemptuously     \n",
    "[THE FIR-TREE AND THE BRAMBLE](http://www.gutenberg.org/files/19617/mp3/19617-08.mp3)    \n",
    "![](http://www.gutenberg.org/files/11339/11339-h/images/03fir.jpg)    \n",
    "A Fir-tree was boasting to a Bramble, and said, somewhat contemptuously, \"You poor creature, you are of no use whatever. Now, look at me: I am useful for all sorts of things, particularly when men build houses; they can't do without me then.\" But the Bramble replied, \"Ah, that's all very well: but you wait till they come with axes and saws to cut you down, and then you'll wish you were a Bramble and not a Fir.\"    \n",
    "\n",
    "Better poverty without a care than wealth with its many obligations.    \n",
    "\n",
    "## 青蛙对太阳的抱怨    \n",
    "\n",
    "[THE FROGS' COMPLAINT AGAINST THE SUN](http://www.gutenberg.org/files/19617/mp3/19617-09.mp3)    \n",
    "![]()    \n",
    "\n",
    "Once upon a time the Sun was about to take to himself a wife. The Frogs in terror all raised their voices to the skies, and Jupiter, disturbed by the noise, asked them what they were **croaking about**. They replied, \"The Sun is bad enough even while he is single, drying up our **marshes** with his heat as he does. But what will become of us if he marries and **begets** other Suns?\"    \n",
    "\n",
    "## 狗,公鸡与狐狸    \n",
    "\n",
    "[THE DOG, THE COCK, AND THE FOX](http://www.gutenberg.org/files/19617/mp3/19617-10.mp3)    \n",
    "![](http://www.gutenberg.org/files/19994/19994-h/images/i005_th.jpg)    \n",
    "\n",
    "A Dog and a Cock became great friends, and agreed to travel together. At nightfall the Cock flew up into the branches of a tree to **roost**, while the Dog curled himself up inside the trunk, which was hollow. At break of day the Cock woke up and crew, as usual. A Fox heard, and, wishing to make a breakfast of him, came and stood under the tree and begged him to come down. \"I should so like,\" said he, \"to make the acquaintance of one who has such a beautiful voice.\" The Cock replied, \"Would you just wake my porter who sleeps at the foot of the tree? He'll open the door and let you in.\" The Fox accordingly rapped on the trunk, when out rushed the Dog and tore him in pieces.    \n",
    "\n",
    "## 单词注释    \n",
    "1. antics: /ˈæntɪks/; [n]滑稽动作;古怪姿态;    \n",
    "1. begets: /bɪˈɡet/; [vt]产生;招致;引起;当...的父亲;    \n",
    "1. belaboured: /bɪˈleɪbər/; [vt]痛打;不断辱骂和嘲弄;    \n",
    "1. brag: /bræɡ/; [v]吹牛,吹嘘;夸耀;    \n",
    "1. capered: /ˈkeɪpə(r)/; [v]跳跃;雀跃(caper的pt的pp);    \n",
    "1. carting: /ˈkɑːrtɪŋ/; [v]用大车<或类似车辆>运送;强行带走;[n]货车运输;    \n",
    "1. cemetery: /ˈsemətri/; [n]墓地;公墓;    \n",
    "1. contrasting: /kənˈtrɑːstɪŋ/; [a]形成鲜明对比的;[v]使对比;显示差别<contrast的pr>;    \n",
    "1. croaking: /krəʊk/; [v]呱呱地叫(croak的<pr>);用粗的声音说;    \n",
    "1. crockery: /ˈkrɒkəri/; [n]陶器;瓦器;土器;    \n",
    "1. cudgels: /ˈkʌdʒl/; [n]短棒;粗短棍;[v]用短棒打;    \n",
    "1. detected: /dɪ'tektɪd/; [a]检测到的;[v]<尤指用特殊方法>发现,识别;    \n",
    "1. fondled: /ˈfɒndəl/; [v]抚摸;爱抚<fondle的pp>;    \n",
    "1. frisking: /ˈfrɪskɪŋ/; [n]雀跃;[v]搜身;嬉戏;雀跃<frisk的pr>;    \n",
    "1. frolics: /ˈfrɒlɪk/; [n]嬉戏,嬉闹;调情;    \n",
    "1. grinding: /ˈɡraɪndɪŋ/; [a]无休止的;<状态>难熬的;刺耳的;    \n",
    "1. halter: /ˈhɒltə(r)/; [n]缰绳;绞索;    \n",
    "1. marshes: /ˈmɑːrʃəz/; [n]<地理>沼泽<marsh的pl>;    \n",
    "1. mimicking: /ˈmɪmɪkɪŋ/; [v]模仿;戏弄<mimic的ing形式>;    \n",
    "1. pranced: /prɑːns/; [v]昂首阔步;<马>后足立地腾跃;    \n",
    "1. roost: /ruːst/; [n]<鸟或蝙蝠的>栖息处;[v]<鸟,蝙蝠>栖息;    \n",
    "1. speechless: /ˈspiːtʃləs/; [a]说不出话的;哑的;非言语所能表达的;    \n",
    "1. tit-bit: /ˈtɪtbɪt/; [n]珍品<少量吸引人的东西>;珍闻<有趣的消息>;    \n",
    "1. bramble: /ˈbræmbl/; [n]荆棘;黑莓灌木丛;\n",
    "1. contemptuously: /kənˈtemptʃuəsli/; [ad]傲慢地;蔑视地;"
   ]
  }
 ],
 "metadata": {
  "kernelspec": {
   "display_name": "Python 3",
   "language": "python",
   "name": "python3"
  },
  "language_info": {
   "codemirror_mode": {
    "name": "ipython",
    "version": 3
   },
   "file_extension": ".py",
   "mimetype": "text/x-python",
   "name": "python",
   "nbconvert_exporter": "python",
   "pygments_lexer": "ipython3",
   "version": "3.7.6"
  },
  "toc": {
   "base_numbering": 1,
   "nav_menu": {},
   "number_sections": true,
   "sideBar": true,
   "skip_h1_title": true,
   "title_cell": "Table of Contents",
   "title_sidebar": "Contents",
   "toc_cell": false,
   "toc_position": {},
   "toc_section_display": true,
   "toc_window_display": false
  },
  "varInspector": {
   "cols": {
    "lenName": 16,
    "lenType": 16,
    "lenVar": 40
   },
   "kernels_config": {
    "python": {
     "delete_cmd_postfix": "",
     "delete_cmd_prefix": "del ",
     "library": "var_list.py",
     "varRefreshCmd": "print(var_dic_list())"
    },
    "r": {
     "delete_cmd_postfix": ") ",
     "delete_cmd_prefix": "rm(",
     "library": "var_list.r",
     "varRefreshCmd": "cat(var_dic_list()) "
    }
   },
   "types_to_exclude": [
    "module",
    "function",
    "builtin_function_or_method",
    "instance",
    "_Feature"
   ],
   "window_display": false
  }
 },
 "nbformat": 4,
 "nbformat_minor": 4
}
