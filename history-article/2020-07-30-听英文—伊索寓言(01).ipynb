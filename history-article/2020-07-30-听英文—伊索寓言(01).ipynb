{
 "cells": [
  {
   "cell_type": "markdown",
   "metadata": {},
   "source": [
    "本文整理: Y2SINX    \n",
    "英文来源: [Aesop's Fables; a new translation by Aesop](http://www.gutenberg.org/files/11339/11339-h/11339-h.htm )   \n",
    "音频来源: http://www.gutenberg.org/browse/authors/a#a18  "
   ]
  },
  {
   "cell_type": "markdown",
   "metadata": {},
   "source": [
    "## 狐狸与葡萄    \n",
    "[THE FOX AND THE GRAPES](http://www.gutenberg.org/files/19616/mp3/19616-01.mp3)\n",
    "![](http://www.gutenberg.org/files/19994/19994-h/images/i011_th.jpg)    \n",
    "A hungry Fox saw some fine bunches of Grapes hanging from a **vine** that was trained along a high **trellis**, and did his best to reach them by jumping as high as he could into the air. But it was all in vain, for they were just out of reach: so he gave up trying, and walked away with an air of dignity and unconcern, remarking, \"I thought those Grapes were ripe, but I see now they are quite sour.\"    \n",
    "****************************************************************    \n",
    "    \n",
    "## 下金蛋的鹅    \n",
    "[THE GOOSE THAT LAID THE GOLDEN EGGS](http://www.gutenberg.org/files/19616/mp3/19616-02.mp3)    \n",
    "![](http://www.gutenberg.org/files/19994/19994-h/images/i063_th.jpg)    \n",
    "A Man and his Wife had the good fortune to possess a Goose which laid a Golden Egg every day. Lucky though they were, they soon began to think they were not getting rich fast enough, and, imagining the bird must be made of gold inside, they decided to kill it in order to secure the whole store of precious metal at once. But when they cut it open they found it was just like any other goose. Thus, they neither got rich all at once, as they had hoped, nor enjoyed any longer the daily addition to their wealth.    \n",
    "Much wants more and loses all.    \n",
    "****************************************************************    \n",
    "    \n",
    "## 猫与老鼠    \n",
    "[THE CAT AND THE MICE](http://www.gutenberg.org/files/19616/mp3/19616-03.mp3)    \n",
    "![](http://www.gutenberg.org/files/19994/19994-h/images/i096_th.jpg)    \n",
    "There was once a house that was **overrun** with Mice. A Cat heard of this, and said to herself, \"That's the place for me,\" and off she went and took up her **quarters** in the house, and caught the Mice one by one and ate them. At last the Mice could stand it no longer, and they determined to take to their holes and stay there. \"That's awkward,\" said the Cat to herself: \"the only thing to do is to **coax** them out by a trick.\" So she considered a while, and then climbed up the wall and let herself hang down by her **hind** legs from a peg, and pretended to be dead. By and by a Mouse peeped out and saw the Cat hanging there. \"Aha!\" it cried, \"you're very clever, madam, no doubt: but you may turn yourself into a bag of meal hanging there, if you like, yet you won't catch us coming anywhere near you.\"    \n",
    "If you are wise you won't be deceived by the innocent airs of those whom you have once found to be dangerous.    \n",
    "****************************************************************    \n",
    "    \n",
    "## 傻了吧唧的狗    \n",
    "[THE MISCHIEVOUS DOG](http://www.gutenberg.org/files/19616/mp3/19616-04.mp3)    \n",
    "![](http://www.gutenberg.org/files/19994/19994-h/images/i082_th.jpg)    \n",
    "There was once a Dog who used to snap at people and bite them without any provocation, and who was a great **nuisance** to every one who came to his master's house. So his master fastened a bell round his neck to warn people of his presence. The Dog was very proud of the bell, and **strutted** about **tinkling** it with immense satisfaction. But an old dog came up to him and said, \"The fewer airs you give yourself the better, my friend. You don't think, do you, that your bell was given you as a reward of merit? On the contrary, it is a badge of disgrace.\"    \n",
    "Notoriety is often mistaken for fame.    \n",
    "****************************************************************    \n",
    "    \n",
    "## 烧炭工和漂洗工    \n",
    "[THE CHARCOAL-BURNER AND THE FULLER](http://www.gutenberg.org/files/19616/mp3/19616-05.mp3)    \n",
    "![](https://media1.giphy.com/media/WTjnWYENpLxS8JQ5rz/giphy.gif?cid=ecf05e472pm9csj8arx8vwfn9tkwxkam9uqxss8t1e7npfdb&rid=giphy.gif)    \n",
    "There was once a Charcoal-burner who lived and worked by himself. A Fuller, however, happened to come and settle in the same neighbourhood; and the Charcoal-burner, having made his acquaintance and finding he was an agreeable sort of fellow, asked him if he would come and share his house: \"We shall get to know one another better that way,\" he said, \"and, beside, our household expenses will be diminished.\" The Fuller thanked him, but replied, \"I couldn't think of it, sir: why, everything I take such pains to whiten would be blackened in no time by your **charcoal**.    \n",
    "****************************************************************    \n",
    "    \n",
    "## 单词注释    \n",
    "1. charcoal: /ˈtʃɑːkəʊl/; [n]木炭;炭笔;    \n",
    "1. charcoal-burner: [x]烧炭工人;    \n",
    "1. coax: /kəʊks/; [vi]哄;哄诱;    \n",
    "1. fuller: /'fʊlə/; [n]漂洗工;    \n",
    "1. hind: /haɪnd/; [a]后部的;    \n",
    "1. mischievous: /ˈmɪstʃɪvəs/; [a]淘气的;<人,行为等>恶作剧的;精神失常的;    \n",
    "1. notoriety: /ˌnəʊtəˈraɪəti/; [n]声名狼藉;    \n",
    "1. nuisance: /ˈnjuːsns/; [n]讨厌的人或东西;麻烦事;    \n",
    "1. overrun: /ˈəʊvərʌn/; [v]占领<领土>,泛滥;比<机器的另一部分>转速快; [n]泛滥    \n",
    "1. quarters: /'kwɔtə(r)z/; [n]四分之一[v]把...四等分;    \n",
    "1. snap: /snæp/; [n]快照; [a]仓促的,突然的;\n",
    "1. snap at: [v]咬伤,抓伤;\n",
    "1. strutted: /strʌt/; [v]大摇大摆地走;炫耀;    \n",
    "1. tinkling: /'tɪŋklɪŋ/; [n]叮叮声;[v]发丁当声<tinkle的ing形式>;    \n",
    "1. trellis: /ˈtrelɪs/; [n]格子,格子结构;葡萄架子;    \n",
    "1. vine: /vaɪn/; [n]藤本植物,藤蔓植物,如葡萄树等; [vi]长成藤蔓;爬藤;    \n",
    "    \n",
    "![](http://www.gutenberg.org/files/11339/11339-h/images/030-2.jpg)    "
   ]
  }
 ],
 "metadata": {
  "kernelspec": {
   "display_name": "Python 3",
   "language": "python",
   "name": "python3"
  },
  "language_info": {
   "codemirror_mode": {
    "name": "ipython",
    "version": 3
   },
   "file_extension": ".py",
   "mimetype": "text/x-python",
   "name": "python",
   "nbconvert_exporter": "python",
   "pygments_lexer": "ipython3",
   "version": "3.7.6"
  },
  "toc": {
   "base_numbering": 1,
   "nav_menu": {},
   "number_sections": true,
   "sideBar": true,
   "skip_h1_title": false,
   "title_cell": "Table of Contents",
   "title_sidebar": "Contents",
   "toc_cell": false,
   "toc_position": {},
   "toc_section_display": true,
   "toc_window_display": false
  },
  "varInspector": {
   "cols": {
    "lenName": 16,
    "lenType": 16,
    "lenVar": 40
   },
   "kernels_config": {
    "python": {
     "delete_cmd_postfix": "",
     "delete_cmd_prefix": "del ",
     "library": "var_list.py",
     "varRefreshCmd": "print(var_dic_list())"
    },
    "r": {
     "delete_cmd_postfix": ") ",
     "delete_cmd_prefix": "rm(",
     "library": "var_list.r",
     "varRefreshCmd": "cat(var_dic_list()) "
    }
   },
   "types_to_exclude": [
    "module",
    "function",
    "builtin_function_or_method",
    "instance",
    "_Feature"
   ],
   "window_display": false
  }
 },
 "nbformat": 4,
 "nbformat_minor": 4
}
