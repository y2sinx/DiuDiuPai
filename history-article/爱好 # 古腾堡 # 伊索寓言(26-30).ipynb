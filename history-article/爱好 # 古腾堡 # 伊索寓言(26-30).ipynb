{
 "cells": [
  {
   "cell_type": "markdown",
   "metadata": {},
   "source": [
    "## 狐狸与鹤   \n",
    "\n",
    "[THE FOX AND THE STORK](http://www.gutenberg.org/files/19617/mp3/19617-01.mp3)   \n",
    "![052-1](http://www.gutenberg.org/files/11339/11339-h/images/052-1.jpg)   \n",
    "\n",
    "A Fox invited a Stork to dinner, at which the only fare provided was a large flat dish of soup. The Fox lapped it up with great relish, but the Stork with her long bill tried in vain to **partake** of the **savoury** **broth**. Her evident distress caused the sly Fox much amusement. But not long after the Stork invited him in turn, and set before him a pitcher with a long and narrow neck, into which she could get her bill with ease. Thus, while she enjoyed her dinner, the Fox sat by hungry and helpless, for it was impossible for him to reach the tempting contents of the vessel.   \n",
    "****************************************************************   \n",
    "\n",
    "## 披着羊皮的狼   \n",
    "\n",
    "[THE WOLF IN SHEEP'S CLOTHING](http://www.gutenberg.org/files/19617/mp3/19617-02.mp3)   \n",
    "![i_039](http://www.gutenberg.org/files/39187/39187-h/images/i_039.jpg)   \n",
    "\n",
    "A Wolf resolved to disguise himself in order that he might prey upon a flock of sheep without fear of detection. So he clothed himself in a sheepskin, and slipped among the sheep when they were out at pasture. He completely deceived the shepherd, and when the flock was **penned** for the night he was shut in with the rest. But that very night as it happened, the shepherd, requiring a supply of mutton for the table, laid hands on the Wolf in mistake for a Sheep, and killed him with his knife on the spot.   \n",
    "****************************************************************   \n",
    "\n",
    "## 在公牛栏中的雄鹿   \n",
    "\n",
    "[THE STAG IN THE OX-STALL](http://www.gutenberg.org/files/19617/mp3/19617-03.mp3)   \n",
    "![i_264](http://www.gutenberg.org/files/39187/39187-h/images/i_264.jpg)   \n",
    "\n",
    "A Stag, chased from his **lair** by the hounds, took refuge in a farmyard, and, entering a stable where a number of oxen were stalled, thrust himself under a pile of hay in a vacant stall, where he lay concealed, all but the tips of his horns. Presently one of the **Oxen** said to him, \"What has induced you to come in here? Aren't you aware of the risk you are running of being captured by the **herdsmen**?\" To which he replied, \"Pray let me stay for the present. When night comes I shall easily escape under cover of the dark.\" In the course of the afternoon more than one of the **farm-hands** came in, to attend to the wants of the cattle, but not one of them noticed the presence of the Stag, who accordingly began to congratulate himself on his escape and to express his gratitude to the Oxen. \"We wish you well,\" said the one who had spoken before, \"but you are not out of danger yet. If the master comes, you will certainly be found out, for nothing ever escapes his keen eyes.\" Presently, sure enough, in he came, and made a great to-do about the way the Oxen were kept. \"The beasts are starving,\" he cried; \"here, give them more hay, and put plenty of **litter** under them.\" As he spoke, he seized an **armful** himself from the pile where the Stag lay concealed, and at once detected him. Calling his men, he had him seized at once and killed for the table.   \n",
    "****************************************************************   \n",
    "\n",
    "## 挤奶女工和她的提桶   \n",
    "\n",
    "[THE MILKMAID AND HER PAIL](http://www.gutenberg.org/files/19617/mp3/19617-04.mp3)   \n",
    "![i076_th](http://www.gutenberg.org/files/19994/19994-h/images/i076_th.jpg)   \n",
    "\n",
    "A farmer's daughter had been out to milk the cows, and was returning to the **dairy** carrying her pail of milk upon her head. As she walked along, she fell a-musing after this fashion: \"The milk in this pail will provide me with cream, which I will make into butter and take to market to sell. With the money I will buy a number of eggs, and these, when hatched, will produce chickens, and by and by I shall have quite a large poultry-yard. Then I shall sell some of my fowls, and with the money which they will bring in I will buy myself a new gown, which I shall wear when I go to the fair; and all the young fellows will admire it, and come and make love to me, but I shall toss my head and have nothing to say to them.\" Forgetting all about the pail, and suiting the action to the word, she tossed her head. Down went the pail, all the milk was spilled, and all her fine **castles** in the air vanished in a moment!   \n",
    "\n",
    "Do not count your chickens before they are hatched.   \n",
    "****************************************************************   \n",
    "\n",
    "## 海豚,鲸鱼和鲱鱼   \n",
    "\n",
    "[THE DOLPHINS, THE WHALES, AND THE SPRAT](http://www.gutenberg.org/files/19617/mp3/19617-05.mp3)   \n",
    "\n",
    "The Dolphins quarrelled with the Whales, and before very long they began fighting with one another. The battle was very fierce, and had lasted some time without any sign of coming to an end, when a **Sprat** thought that perhaps he could stop it; so he stepped in and tried to persuade them to give up fighting and make friends. But one of the Dolphins said to him **contemptuously**, \"We would rather go on fighting till we're all killed than be reconciled by a Sprat like you!\"       \n",
    "****************************************************************   \n",
    "\n",
    "## 单词注释   \n",
    "1. Oxen: /'ɒksn/; [n]牛<ox的复数>;   \n",
    "1. Sprat: /spræt/; [n]鲱属小海鱼;小人物;   \n",
    "1. armful: /ˈɑːmfʊl/; [n]一抱之量<双手能够抱得起来的量>,如一抱稻草;    \n",
    "1. broth: /brɒθ/; [n]肉汤;液体培养基;    \n",
    "1. castles: /ˈkɑːsəl/; [n]城堡;宅邸;   \n",
    "1. contemptuously: /kənˈtemptʃuəsli/; [ad]轻蔑地;   \n",
    "1. dairy: /ˈdeəri/; [n]奶制品;乳牛;乳品店;牛奶及乳品业;制酪场;   \n",
    "1. farm-hands: None; [n]农场工人;农业工人   \n",
    "1. herdsmen: /ˈhɜːdzmən/; [n]牧人;    \n",
    "1. lair: /leə(r)/; [n]<野兽的>巢穴;躲藏处;   \n",
    "1. litter: /ˈlɪtə(r)/; [n]垃圾;垫褥草(diàn rù);   \n",
    "1. partake: /pɑːˈteɪk/; [v]吃,喝;分享;   \n",
    "1. penned: /pen/; [n]钢笔;作家;围栏;[vt]写;关入栏中;   \n",
    "1. savoury: /ˈseɪvəri/; [a]开胃的,可口的;[n]开胃的菜肴;<聚会上提供的>咸味小吃;    "
   ]
  }
 ],
 "metadata": {
  "kernelspec": {
   "display_name": "Python 3",
   "language": "python",
   "name": "python3"
  },
  "language_info": {
   "codemirror_mode": {
    "name": "ipython",
    "version": 3
   },
   "file_extension": ".py",
   "mimetype": "text/x-python",
   "name": "python",
   "nbconvert_exporter": "python",
   "pygments_lexer": "ipython3",
   "version": "3.7.6"
  },
  "toc": {
   "base_numbering": 1,
   "nav_menu": {},
   "number_sections": true,
   "sideBar": true,
   "skip_h1_title": true,
   "title_cell": "Table of Contents",
   "title_sidebar": "Contents",
   "toc_cell": false,
   "toc_position": {},
   "toc_section_display": true,
   "toc_window_display": false
  },
  "varInspector": {
   "cols": {
    "lenName": 16,
    "lenType": 16,
    "lenVar": 40
   },
   "kernels_config": {
    "python": {
     "delete_cmd_postfix": "",
     "delete_cmd_prefix": "del ",
     "library": "var_list.py",
     "varRefreshCmd": "print(var_dic_list())"
    },
    "r": {
     "delete_cmd_postfix": ") ",
     "delete_cmd_prefix": "rm(",
     "library": "var_list.r",
     "varRefreshCmd": "cat(var_dic_list()) "
    }
   },
   "types_to_exclude": [
    "module",
    "function",
    "builtin_function_or_method",
    "instance",
    "_Feature"
   ],
   "window_display": false
  }
 },
 "nbformat": 4,
 "nbformat_minor": 4
}
