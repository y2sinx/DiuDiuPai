{
 "cells": [
  {
   "cell_type": "markdown",
   "metadata": {},
   "source": [
    "# 如何安装 Jupyter Lab 扩展插件"
   ]
  },
  {
   "cell_type": "markdown",
   "metadata": {},
   "source": [
    "作者: 闪电球  \n",
    "类型: Python/Basic  \n",
    "摘要: 为 Jupyter Lab 添加扩展插件"
   ]
  },
  {
   "cell_type": "markdown",
   "metadata": {},
   "source": [
    "### 扩展插件的安装步骤:"
   ]
  },
  {
   "cell_type": "markdown",
   "metadata": {},
   "source": [
    "1. 安装 JupyterLab 扩展之前需要先安装 `node.js` 与 `npm`, 只需一个命令即可:\n",
    "![install-nodejs.png](https://i.loli.net/2019/10/13/5Tdx1Wsy9GDqgc6.png)"
   ]
  },
  {
   "cell_type": "markdown",
   "metadata": {},
   "source": [
    "2. 打开命令面板`Ctrl+Shift+C`, 搜索 \"Extension Manager\", 点击启用扩展管理器: \n",
    "![enable-manager.png](https://i.loli.net/2019/10/13/ULg5MYlibBtauPd.png)"
   ]
  },
  {
   "cell_type": "markdown",
   "metadata": {},
   "source": [
    "3. 在扩展管理器面板搜索插件, 并点击\"install\":  \n",
    "![install-go2def.png](https://i.loli.net/2019/10/13/N2JVD6nzbHYTCLy.png)"
   ]
  },
  {
   "cell_type": "markdown",
   "metadata": {},
   "source": [
    "4. 下载插件之后需要点击重建\"rebuild\"; 注意第一次重建时可能需要很长时间, 请耐心等待(并不是死机了啊):  \n",
    "![rebuild.png](https://i.loli.net/2019/10/13/jiA5YKogMC3HWz9.png)"
   ]
  },
  {
   "cell_type": "markdown",
   "metadata": {},
   "source": [
    "5. 重建完成后在更新页面对话框点击\"reload\":  \n",
    "![reload.png](https://i.loli.net/2019/10/13/vbcSVhylRBpmH3q.png)"
   ]
  },
  {
   "cell_type": "markdown",
   "metadata": {},
   "source": [
    "6. 扩展插件对界面有不同的表现形式:  \n",
    "    * 左侧添加小部件, 如 `@jupyterlab/toc`, `@jupyterlab/github`.\n",
    "    * 创建新类型的文件, 如 `jupyterlab-drawio`\n",
    "    * 增添新的快捷键, 如 `@krassowski/jupyterlab_go_to_definition`"
   ]
  },
  {
   "cell_type": "markdown",
   "metadata": {},
   "source": [
    "### 关于几个插件的简介\n",
    "\n",
    "1. @jupyterlab/toc: 为 Notebook 添加目录;    \n",
    "1. @jupyterlab/github: 可以直接在 Jupyter Lab 中打开并修改 Github 中的文档.  \n",
    "1. jupyterlab-drawio: drawio 的 Lab 插件, 为 Jupyter Lab 添加了一种 Diagram 类型的文件, 可以在该文件中画流程图等.  \n",
    "1. @krassowski/jupyterlab_go_to_definition: 添加了跳转到定义的功能, 并为其绑定快捷键`Ctrl+Alt+B`."
   ]
  },
  {
   "cell_type": "markdown",
   "metadata": {},
   "source": [
    "### Ref\n",
    "https://jupyterlab.readthedocs.io/en/stable/user/extensions.html  "
   ]
  }
 ],
 "metadata": {
  "kernelspec": {
   "display_name": "Python 3",
   "language": "python",
   "name": "python3"
  },
  "language_info": {
   "codemirror_mode": {
    "name": "ipython",
    "version": 3
   },
   "file_extension": ".py",
   "mimetype": "text/x-python",
   "name": "python",
   "nbconvert_exporter": "python",
   "pygments_lexer": "ipython3",
   "version": "3.7.3"
  },
  "toc": {
   "base_numbering": 1,
   "nav_menu": {},
   "number_sections": true,
   "sideBar": true,
   "skip_h1_title": true,
   "title_cell": "Table of Contents",
   "title_sidebar": "Contents",
   "toc_cell": false,
   "toc_position": {},
   "toc_section_display": true,
   "toc_window_display": false
  }
 },
 "nbformat": 4,
 "nbformat_minor": 4
}
