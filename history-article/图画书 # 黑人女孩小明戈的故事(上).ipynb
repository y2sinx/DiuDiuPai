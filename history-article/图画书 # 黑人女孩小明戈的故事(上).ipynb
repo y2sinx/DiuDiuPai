{
 "cells": [
  {
   "cell_type": "markdown",
   "metadata": {},
   "source": [
    "The Story of Little Black Mingo        \n",
    "By The Author Of        \n",
    "'The Story Of Little Black Sambo'        \n",
    "****************************************************************        \n",
    "\n",
    "Once upon a time there was a little black girl, and her name was Little Black Mingo.        \n",
    "从前有个名叫 Mingo(小明戈) 的黑人小女孩.        \n",
    "![1](http://www.gutenberg.org/files/11162/11162-h/illustrations/title.png)        \n",
    "****************************************************************        \n",
    "\n",
    "She had no father and mother, so she had to live with a horrid cross old woman called Black Noggy, who used to scold her every day, and sometimes beat her with a stick, even though she had done nothing naughty.        \n",
    "她无父无母,不得不跟一个名叫 Noggy(诺吉) 的又可怕又易怒的黑人老太太住在一起,这个老太太每天都会责骂她,即使她没有做错任何事,有时甚至会用手杖打她.        \n",
    "![2](http://www.gutenberg.org/files/11162/11162-h/illustrations/i009.png)        \n",
    "****************************************************************        \n",
    "\n",
    "One day Black Noggy called her, and said, \"Take this chatty down to the river and fill it with water, and come back as fast as you can, quick now!\"        \n",
    "有一天, 诺吉告诉她:\"拿着这个罐子去河边打点水,快去快回!\"        \n",
    "![3](http://www.gutenberg.org/files/11162/11162-h/illustrations/i010.png)        \n",
    "****************************************************************        \n",
    "\n",
    "So Little Black Mingo took the chatty and ran down to the river as fast as she could, and began to fill it with water, when Cr-r-rrrack!!! Bang!!! a horrible big Mugger **poked** its nose up through the bottom of the chatty and said \"Ha ha! Little Mingo, I'm going to **eat you up**!\"        \n",
    "因此,小明戈拿着罐子尽可能快地冲到河边准备打水,突然,哐当一砰的声音(罐子破裂),一个可怕的大型沼泽鳄从罐子底部**钻了**出来,说:\"哈哈!小小明戈,我要**把你全部吃掉**!\"        \n",
    "![4](http://www.gutenberg.org/files/11162/11162-h/illustrations/i013.png)        \n",
    "****************************************************************        \n",
    "\n",
    "Little Black Mingo did not say anything. She turned and ran away as fast as ever she could, and the Mugger ran after her. But the broken chatty round his neck caught his paws, so he could not **overtake** her.        \n",
    "小明戈吓得什么也没说.转身以最快的速度逃跑,而沼泽鳄则在其后追赶她. 由于沼泽鳄的脖子被碎掉的罐子圈缠住了,所以没有**抓住**小明戈.        \n",
    "![5](http://www.gutenberg.org/files/11162/11162-h/illustrations/i015.png)        \n",
    "****************************************************************        \n",
    "\n",
    "But when she got back to Black Noggy, and told her how the Mugger had broken the chatty, Black Noggy was fearfully angry. \"You naughty girl,\" she said, \"you have broken the chatty yourself, I have a good mind to beat you.\" And if she had not been in such a hurry for the water she would have beaten her.        \n",
    "但是当她跑回家并告诉诺吉沼泽鳄是如何打碎罐子的时候,诺吉非常生气. 她说:\"你这个调皮的熊孩子,就是你打破了罐子(还怨人家沼泽鳄),看我不打死你.\" 要不是她匆匆的赶回来了,诺吉就真的打她了.        \n",
    "![6](http://www.gutenberg.org/files/11162/11162-h/illustrations/i016.png)        \n",
    "****************************************************************        \n",
    "\n",
    "Then she went and fetched the great big chatty that the **dhobi** used to boil the clothes in. \"Take this,\" said she, \"and mind you don't break it, or I will beat you.\" \"But I can't carry that when it is full of water,\" said Little Black Mingo.        \n",
    "诺吉走开后拿来了**洗衣工**曾用来煮衣服的大缸. 她说,\"拿着这个再去打水,你这次再打碎,我肯定会揍你的.\" 小明戈说:\"但是当水装满时,我拿不动它啊.\"        \n",
    "\n",
    "\"You must go twice, and bring it half full each time,\" said Black Noggy.        \n",
    "诺吉说:\"你不会去两趟么,每次只打一半,你个蠢姑娘.\"        \n",
    "![7](http://www.gutenberg.org/files/11162/11162-h/illustrations/i019.png)        \n",
    "****************************************************************        \n",
    "\n",
    "So Little Black Mingo took the dhobi's great big chatty, and started again to go to the river. But first she went to a little bank above the river, and peeped up and down, to see if she could see the old Mugger anywhere. But she could not see him, for he was hiding under the very bank she was standing on, and though his tail **stuck out** a little she never saw him at all.        \n",
    "因此,小明戈拿着洗衣工的大水缸,再一次来到了河边. 但是这一次,她首先去了河边上的一个小岸,上下探着头,看看那个沼泽鳄还在不在. 但是她没有找到他,因为他正好躲在她站立的那个小河岸下面,尽管他的尾巴**漏出了**一点,但她根本注意不到他.     \n",
    "![8](http://www.gutenberg.org/files/11162/11162-h/illustrations/i020.png)        \n",
    "****************************************************************        \n",
    "\n",
    "She would have liked to run home, but she was too much afraid that Black Noggy would beat her.        \n",
    "她本来想回家的,但是她太害怕诺吉又打她了.        \n",
    "\n",
    "So Little Black Mingo crept down to the river, and began to fill the big chatty with water. And while she was filling it the Mugger came creeping softly down behind her and caught her by the tail, saying, \"Aha, Little Black Mingo, now I've got you.\"        \n",
    "于是,小明戈爬在河边,开始给大缸装水. 就在她给大缸装水的时候,沼泽鳄从她身后悄悄地爬了出来,用他的尾巴困住了她,说:\"啊哈,小小明戈,这下终于捉到你了.\"        \n",
    "****************************************************************        \n",
    "\n",
    "And Little Black Mingo said, \"Oh! please don't eat me up, great big Mugger.\"        \n",
    "小明戈说:\"哦,伟大的沼泽鳄啊,求求你不要吃掉我.\"        \n",
    "\n",
    "\"What will you give me, if I don't eat you up?\" said the Mugger. But Little Black Mingo was so poor she had nothing to give. So the Mugger caught her in his great cruel mouth and swam away with her to an island in the middle of the river and set her down beside a huge pile of eggs.        \n",
    "\"如果我不吃你,你会给我什么?\" 沼泽鳄说. 但是小明戈是如此的可怜,她一无所有. 因此,沼泽鳄用凶残的大嘴巴咬住了她,把她拖到了河中间的小岛上,将她放在了一大堆鳄鱼蛋旁边.        \n",
    "![9](http://www.gutenberg.org/files/11162/11162-h/illustrations/i023.png)        \n",
    "****************************************************************        \n",
    "\n",
    "\"Those are my eggs,\" said he; \"tomorrow a little mugger will come out of each, and then we will have a great feast, and we will eat you up.\"        \n",
    "他说:\"那是我的蛋. 明天,每个蛋都会钻出一只小鳄鱼,我会同他们举行盛宴,把你全部吃掉.\"        \n",
    "\n",
    "Then he **waddled off** to **catch fish** for himself, and left Little Black Mingo alone beside the big pile of eggs.        \n",
    "然后,他**一摇一摆地爬走了**,准备为自己**捉鱼**,并把小明戈一人独自留在了这一大堆鳄鱼蛋旁边.        \n",
    "![10](https://gutenberg.org/files/11162/11162-h/illustrations/i027.png)        \n",
    "****************************************************************        \n",
    "\n",
    "And Little Black Mingo sat down on a big stone and hid her face in her hands, and cried bitterly, because she couldn't swim, and she didn't know how to get away.        \n",
    "小明戈坐在一块大石头上,抱头痛哭了起来,因为她既不知道如何游泳,也不知道该如何逃跑.        \n",
    "![11](https://gutenberg.org/files/11162/11162-h/illustrations/i030.png)        \n",
    "****************************************************************        \n",
    "\n",
    "**欲知后事如何? 先点个关注再说![/wink]**        "
   ]
  }
 ],
 "metadata": {
  "kernelspec": {
   "display_name": "Python 3",
   "language": "python",
   "name": "python3"
  },
  "language_info": {
   "codemirror_mode": {
    "name": "ipython",
    "version": 3
   },
   "file_extension": ".py",
   "mimetype": "text/x-python",
   "name": "python",
   "nbconvert_exporter": "python",
   "pygments_lexer": "ipython3",
   "version": "3.7.6"
  },
  "toc": {
   "base_numbering": 1,
   "nav_menu": {},
   "number_sections": true,
   "sideBar": true,
   "skip_h1_title": false,
   "title_cell": "Table of Contents",
   "title_sidebar": "Contents",
   "toc_cell": false,
   "toc_position": {},
   "toc_section_display": true,
   "toc_window_display": false
  },
  "varInspector": {
   "cols": {
    "lenName": 16,
    "lenType": 16,
    "lenVar": 40
   },
   "kernels_config": {
    "python": {
     "delete_cmd_postfix": "",
     "delete_cmd_prefix": "del ",
     "library": "var_list.py",
     "varRefreshCmd": "print(var_dic_list())"
    },
    "r": {
     "delete_cmd_postfix": ") ",
     "delete_cmd_prefix": "rm(",
     "library": "var_list.r",
     "varRefreshCmd": "cat(var_dic_list()) "
    }
   },
   "types_to_exclude": [
    "module",
    "function",
    "builtin_function_or_method",
    "instance",
    "_Feature"
   ],
   "window_display": false
  }
 },
 "nbformat": 4,
 "nbformat_minor": 4
}
