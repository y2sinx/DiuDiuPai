{
 "cells": [
  {
   "cell_type": "markdown",
   "metadata": {},
   "source": [
    "Walter Crane's Painting Book    \n",
    "—Containing twelve coloured and twelve outline full-page plates\n",
    "\n",
    "By \n",
    "\n",
    "Walter Crane\n",
    "***\n",
    "\n",
    "![cover](http://www.gutenberg.org/files/50614/50614-h/images/cover.jpg)\n",
    "***\n",
    "\n",
    "![1](http://www.gutenberg.org/files/50614/50614-h/images/i_009.jpg)\n",
    "![1](http://www.gutenberg.org/files/50614/50614-h/images/i_008.jpg)\n",
    "***\n",
    "\n",
    "![2](http://www.gutenberg.org/files/50614/50614-h/images/i_013.jpg)\n",
    "![2](http://www.gutenberg.org/files/50614/50614-h/images/i_012.jpg)\n",
    "***\n",
    "\n",
    "![3](http://www.gutenberg.org/files/50614/50614-h/images/i_016.jpg)\n",
    "![3](http://www.gutenberg.org/files/50614/50614-h/images/i_017.jpg)\n",
    "***\n",
    "\n",
    "![4](http://www.gutenberg.org/files/50614/50614-h/images/i_020.jpg)\n",
    "![4](http://www.gutenberg.org/files/50614/50614-h/images/i_021.jpg)\n",
    "***\n",
    "\n",
    "![5](http://www.gutenberg.org/files/50614/50614-h/images/i_025.jpg)\n",
    "![5](http://www.gutenberg.org/files/50614/50614-h/images/i_024.jpg)\n",
    "***\n",
    "\n",
    "![6](http://www.gutenberg.org/files/50614/50614-h/images/i_029.jpg)\n",
    "![6](http://www.gutenberg.org/files/50614/50614-h/images/i_028.jpg)\n",
    "***\n",
    "\n",
    "![7](http://www.gutenberg.org/files/50614/50614-h/images/i_032.jpg)\n",
    "![7](http://www.gutenberg.org/files/50614/50614-h/images/i_033.jpg)\n",
    "***\n",
    "\n",
    "![8](http://www.gutenberg.org/files/50614/50614-h/images/i_036.jpg)\n",
    "![8](http://www.gutenberg.org/files/50614/50614-h/images/i_037.jpg)\n",
    "***\n",
    "\n",
    "![9](http://www.gutenberg.org/files/50614/50614-h/images/i_041.jpg)\n",
    "![9](http://www.gutenberg.org/files/50614/50614-h/images/i_040.jpg)\n",
    "***\n",
    "\n",
    "![10](http://www.gutenberg.org/files/50614/50614-h/images/i_041.jpg)\n",
    "![10](http://www.gutenberg.org/files/50614/50614-h/images/i_040.jpg)\n",
    "***\n",
    "\n",
    "![11](http://www.gutenberg.org/files/50614/50614-h/images/i_045.jpg)\n",
    "![11](http://www.gutenberg.org/files/50614/50614-h/images/i_044.jpg)\n",
    "***\n",
    "\n",
    "![12](http://www.gutenberg.org/files/50614/50614-h/images/i_048.jpg)\n",
    "![12](http://www.gutenberg.org/files/50614/50614-h/images/i_049.jpg)\n",
    "***\n",
    "\n",
    "![end](http://www.gutenberg.org/files/50614/50614-h/images/i_back_cover.jpg)"
   ]
  }
 ],
 "metadata": {
  "kernelspec": {
   "display_name": "Python 3",
   "language": "python",
   "name": "python3"
  },
  "language_info": {
   "codemirror_mode": {
    "name": "ipython",
    "version": 3
   },
   "file_extension": ".py",
   "mimetype": "text/x-python",
   "name": "python",
   "nbconvert_exporter": "python",
   "pygments_lexer": "ipython3",
   "version": "3.7.6"
  },
  "toc": {
   "base_numbering": 1,
   "nav_menu": {},
   "number_sections": true,
   "sideBar": true,
   "skip_h1_title": false,
   "title_cell": "Table of Contents",
   "title_sidebar": "Contents",
   "toc_cell": false,
   "toc_position": {},
   "toc_section_display": true,
   "toc_window_display": false
  },
  "varInspector": {
   "cols": {
    "lenName": 16,
    "lenType": 16,
    "lenVar": 40
   },
   "kernels_config": {
    "python": {
     "delete_cmd_postfix": "",
     "delete_cmd_prefix": "del ",
     "library": "var_list.py",
     "varRefreshCmd": "print(var_dic_list())"
    },
    "r": {
     "delete_cmd_postfix": ") ",
     "delete_cmd_prefix": "rm(",
     "library": "var_list.r",
     "varRefreshCmd": "cat(var_dic_list()) "
    }
   },
   "types_to_exclude": [
    "module",
    "function",
    "builtin_function_or_method",
    "instance",
    "_Feature"
   ],
   "window_display": false
  }
 },
 "nbformat": 4,
 "nbformat_minor": 4
}
