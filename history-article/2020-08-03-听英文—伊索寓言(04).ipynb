{
 "cells": [
  {
   "cell_type": "markdown",
   "metadata": {},
   "source": [
    "## 月亮和她的母亲    \n",
    "\n",
    "[THE MOON AND HER MOTHER](http://www.gutenberg.org/files/19616/mp3/19616-16.mp3)    \n",
    "![02-tmoon](http://www.gutenberg.org/files/11339/11339-h/images/02-tmoon.jpg)    \n",
    "\n",
    "The Moon once begged her Mother to make her a **gown**. \"How can I?\" replied she; \"there's no fitting your figure. At one time you're a New Moon, and at another you're a Full Moon; and between whiles you're neither one nor the other.\"    \n",
    "****************************************************************    \n",
    "\n",
    "## 樵夫与河神     \n",
    "\n",
    "[MERCURY AND THE WOODMAN](http://www.gutenberg.org/files/19616/mp3/19616-17.mp3)        \n",
    "![i069_th](http://www.gutenberg.org/files/19994/19994-h/images/i069_th.jpg)    \n",
    "\n",
    "A **Woodman** was felling a tree on the bank of a river, when his axe, **glancing off** the trunk, flew out of his hands and fell into the water. As he stood by the water's edge **lamenting **his loss, **Mercury** appeared and asked him the reason for his grief; and on learning what had happened, out of pity for his distress he dived into the river and, bringing up a golden axe, asked him if that was the one he had lost. The Woodman replied that it was not, and Mercury then dived a second time, and, bringing up a silver axe, asked if that was his. \"No, that is not mine either,\" said the Woodman. Once more Mercury dived into the river, and brought up the missing axe. The Woodman was **overjoyed** at recovering his property, and thanked his benefactor warmly; and the latter was so pleased with his honesty that he made him a present of the other two axes. When the Woodman told the story to his companions, one of these was filled with envy of his good fortune and determined to try his luck for himself. So he went and began to fell a tree at the edge of the river, and presently **contrived** to let his axe drop into the water. Mercury appeared as before, and, on learning that his axe had fallen in, he dived and brought up a golden axe, as he had done on the previous occasion. Without waiting to be asked whether it was his or not the fellow cried, \"That's mine, that's mine,\" and stretched out his hand eagerly for the prize: but Mercury was so disgusted at his dishonesty that he not only declined to give him the golden axe, but also refused to recover for him the one he had let fall into the stream.    \n",
    "\n",
    "Honesty is the best policy.    \n",
    "****************************************************************    \n",
    "\n",
    "## 驴子狐狸与狮子     \n",
    "\n",
    "[THE ASS, THE FOX, AND THE LION](http://www.gutenberg.org/files/19616/mp3/19616-18.mp3)        \n",
    "![image19](http://www.gutenberg.org/files/18732/18732-h/images/image19.png)    \n",
    "\n",
    "An Ass and a Fox went into partnership and **sallied out** to **forage** for food together. They hadn't gone far before they saw a Lion coming their way, at which they were both dreadfully frightened. But the Fox thought he saw a way of saving his own skin, and went boldly up to the Lion and whispered in his ear, \"I'll manage that you shall get hold of the Ass without the trouble of stalking him, if you'll promise to let me go free.\" The Lion agreed to this, and the Fox then rejoined his companion and contrived before long to lead him by a hidden pit, which some hunter had dug as a trap for wild animals, and into which he fell. When the Lion saw that the Ass was safely caught and couldn't get away, it was to the Fox that he first turned his attention, and he soon finished him off, and then at his leisure proceeded to feast upon the Ass.    \n",
    "\n",
    "Betray a friend, and you'll often find you have ruined yourself.    \n",
    "****************************************************************    \n",
    "\n",
    "## 狮子与老鼠    \n",
    "\n",
    "[THE LION AND THE MOUSE](http://www.gutenberg.org/files/19616/mp3/19616-19.mp3)        \n",
    "![i014_th](http://www.gutenberg.org/files/19994/19994-h/images/i014_th.jpg)    \n",
    "\n",
    "A Lion asleep in his lair was waked up by a Mouse running over his face. Losing his temper he seized it with his paw and was about to kill it. The Mouse, terrified, piteously **entreated** him to spare its life. \"Please let me go,\" it cried, \"and one day I will repay you for your kindness.\" The idea of so **insignificant** a creature ever being able to do anything for him amused the Lion so much that he laughed aloud, and **good-humouredly** let it go. But the Mouse's chance came, after all. One day the Lion got entangled in a net which had been spread for game by some hunters, and the Mouse heard and recognised his roars of anger and ran to the spot. Without more ado it set to work to **gnaw** the ropes with its teeth, and succeeded before long in setting the Lion free. \"There!\" said the Mouse, \"you laughed at me when I promised I would repay you: but now you see, even a Mouse can help a Lion.\"    \n",
    "****************************************************************    \n",
    "\n",
    "## 乌鸦喝水的故事    \n",
    "\n",
    "[THE CROW AND THE PITCHER](http://www.gutenberg.org/files/19616/mp3/19616-20.mp3)        \n",
    "![i027_th](http://www.gutenberg.org/files/19994/19994-h/images/i027_th.jpg)    \n",
    "\n",
    "A thirsty Crow found a Pitcher with some water in it, but so little was there that, try as she might, she could not reach it with her beak, and it seemed as though she would die of thirst within sight of the **remedy**. At last she hit upon a clever plan. She began dropping **pebbles** into the Pitcher, and with each pebble the water rose a little higher until at last it reached the **brim**, and the knowing bird was enabled to **quench** her thirst.    \n",
    "\n",
    "Necessity is the mother of invention.    \n",
    "****************************************************************    \n",
    "\n",
    "## 单词注释    \n",
    "\n",
    "1. Mercury: /ˈmɜːkjəri/; [n]水星;    \n",
    "1. Woodman: /ˈwʊdmən/; [n]樵夫;住于森林中的人;    \n",
    "1. brim: /brɪm/; [n]边;边缘;    \n",
    "1. contrived: /kənˈtraɪvd/; [a]人为的;做作的;不自然的;    \n",
    "1. entreated: /ɪnˈtriːt/; [vt]恳求;请求;    \n",
    "1. forage: /ˈfɒrɪdʒ/; [vi]觅食;搜寻;    \n",
    "1. glancing off: [x]斜飞;擦过;    \n",
    "1. gnaw: /nɔː/; [vt]咬;侵蚀;    \n",
    "1. good-humouredly: /ˌɡʊd ˈhjuːmərdli/; [ad]脾气很好地;心情愉快地;    \n",
    "1. gown: /ɡaʊn/; [n]长袍,长外衣;礼服;睡袍;法衣;    \n",
    "1. insignificant: /ˌɪnsɪɡˈnɪfɪkənt/; [a]无关紧要的;    \n",
    "1. lamenting : /lə'mentɪŋ/; [v]哀悼;对...感到悲痛<或失望>;    \n",
    "1. overjoyed: /ˌəʊvəˈdʒɔɪd/; [a]狂喜的;    \n",
    "1. pebbles: /'peb(ə)lz/; [n]鹅卵石;沙砾;    \n",
    "1. quench: /kwentʃ/; [vt]熄灭,<机>淬火;解渴;结束;    \n",
    "1. remedy: /ˈremədi/; [n]补救;疗法;解决办法;    \n",
    "1. sallied out: [x]出发;    \n",
    "\n",
    "![giphy](https://media0.giphy.com/media/9VaK1come3HVqE5FU5/giphy.gif?cid=ecf05e479aa972118a0d85ef2e303b28cb6316de9683aab8&rid=giphy.gif)"
   ]
  }
 ],
 "metadata": {
  "kernelspec": {
   "display_name": "Python 3",
   "language": "python",
   "name": "python3"
  },
  "language_info": {
   "codemirror_mode": {
    "name": "ipython",
    "version": 3
   },
   "file_extension": ".py",
   "mimetype": "text/x-python",
   "name": "python",
   "nbconvert_exporter": "python",
   "pygments_lexer": "ipython3",
   "version": "3.7.6"
  },
  "toc": {
   "base_numbering": 1,
   "nav_menu": {},
   "number_sections": true,
   "sideBar": true,
   "skip_h1_title": false,
   "title_cell": "Table of Contents",
   "title_sidebar": "Contents",
   "toc_cell": false,
   "toc_position": {},
   "toc_section_display": true,
   "toc_window_display": false
  },
  "varInspector": {
   "cols": {
    "lenName": 16,
    "lenType": 16,
    "lenVar": 40
   },
   "kernels_config": {
    "python": {
     "delete_cmd_postfix": "",
     "delete_cmd_prefix": "del ",
     "library": "var_list.py",
     "varRefreshCmd": "print(var_dic_list())"
    },
    "r": {
     "delete_cmd_postfix": ") ",
     "delete_cmd_prefix": "rm(",
     "library": "var_list.r",
     "varRefreshCmd": "cat(var_dic_list()) "
    }
   },
   "types_to_exclude": [
    "module",
    "function",
    "builtin_function_or_method",
    "instance",
    "_Feature"
   ],
   "window_display": false
  }
 },
 "nbformat": 4,
 "nbformat_minor": 4
}
