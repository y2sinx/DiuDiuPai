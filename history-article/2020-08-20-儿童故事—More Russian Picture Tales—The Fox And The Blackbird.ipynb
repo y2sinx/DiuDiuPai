{
 "cells": [
  {
   "cell_type": "markdown",
   "metadata": {},
   "source": [
    "![0](http://www.gutenberg.org/files/23462/23462-h/images/illus-0112-1.jpg)    \n",
    "********    \n",
    "\n",
    "A fox was walking through the forest when he fell into a deep hole. And there he sat and sat, till all at once he began to feel hungry. He started looking round, but could see nothing. Then he looked up, and there he saw a blackbird in the tree above weaving its nest, and he said: \"Mr. Blackbird, Mr. Blackbird, what are you doing?\"    \n",
    "![1](http://www.gutenberg.org/files/23462/23462-h/images/illus-0114-1.jpg)    \n",
    "********    \n",
    "\n",
    "And the blackbird answered: \"**I'm weaving my nest**.\" \"What are you weaving your nest for?\" asked the fox. \"To **bring up my children** in,\" answered the blackbird. \"But I'm going to eat your children,\" said the fox.    \n",
    "![2](http://www.gutenberg.org/files/23462/23462-h/images/illus-0112-2.jpg)    \n",
    "********    \n",
    "\n",
    "\"Don't eat my children,\" answered the blackbird. \"Well then, feed me, I'm hungry,\" said the fox. At that the blackbird began to **fret** and to worry: how should he feed the fox? Then he flew off into the village, and brought back a chicken for the fox.    \n",
    "![3](http://www.gutenberg.org/files/23462/23462-h/images/illus-0115-1.jpg)    \n",
    "********    \n",
    "\n",
    "And the fox ate the chicken, and after a little he said: \"Mr. Blackbird, Mr. Blackbird, you fed me, didn't you?\" And the blackbird answered: \"Yes.\" \"Well then,\" said the fox, \"give me a drink!\" At that the blackbird began to fret and to worry: how was he to get the fox a drink? Then he flew off into the village, and brought back a little **pailful** of water for the fox.    \n",
    "![4](http://www.gutenberg.org/files/23462/23462-h/images/illus-0116-1.jpg)    \n",
    "********    \n",
    "\n",
    "And the fox had a good drink, and after a little he said: \"Mr. Blackbird, Mr. Blackbird, you fed me, didn't you?\" And the blackbird answered: \"Yes.\" \"And you got me a drink?\" \"Yes.\" \"Well then,\" said the fox, \"come and **pull me out of the hole**!\" At that the blackbird began to fret and to worry: how could he pull the fox out of the hole?    \n",
    "![5](http://www.gutenberg.org/files/23462/23462-h/images/illus-0117-1.jpg)    \n",
    "********    \n",
    "\n",
    "Then he began to gather sticks in the forest and started throwing them into the hole. And he kept throwing them in and throwing them in, till he filled the hole. And the fox climbed up on to the sticks and out of the hole.    \n",
    "![6](http://www.gutenberg.org/files/23462/23462-h/images/illus-0118-1.jpg)    \n",
    "********    \n",
    "\n",
    "And when he had climbed out, he lay down right under the tree. And there he lay and lay, and he said to the blackbird: \"Look here, you fed me, didn't you, Mr. Blackbird?\"    \n",
    "![7](http://www.gutenberg.org/files/23462/23462-h/images/illus-0119-1.jpg)    \n",
    "********    \n",
    "\n",
    "And the blackbird answered. \"Yes.\" \"And you got me a drink?\" \"Yes.\" \"And you pulled me out of the hole?\" \"Yes.\" \"Well then,\" said the fox, \"now make me laugh!\" At that the blackbird began to fret and to worry: how should he make the fox laugh? At last he said: \"Very well, I'll tell you what I'll do.\"    \n",
    "![8](http://www.gutenberg.org/files/23462/23462-h/images/illus-0120-1.jpg)    \n",
    "********    \n",
    "\n",
    "\"I'll fly into the village, and you run after me.\" So they agreed to do that, and the blackbird flew off into the village and **perched** on the gate of a rich peasant's house, while the fox lay down under the **gateway**. Then the blackbird began to sing: \"Mistress, Mistress, bring a lump of fat! Mistress, Mistress, bring a lump of fat!\" And the fox said: \"That's fine, let's have it again!\"    \n",
    "![9](http://www.gutenberg.org/files/23462/23462-h/images/illus-0121-1.jpg)    \n",
    "********    \n",
    "\n",
    "So the blackbird began once more: \"Mistress, Mistress, bring a lump of fat! Mistress, Mistress, bring a lump of fat!\"    \n",
    "![10](http://www.gutenberg.org/files/23462/23462-h/images/illus-0123-1.jpg)    \n",
    "********    \n",
    "\n",
    "Suddenly from under the gate a dog said angrily: \"Wow-wow!\" and the fox took to his heels and hopped it into the forest as quick as he could!    \n",
    "![11](http://www.gutenberg.org/files/23462/23462-h/images/illus-0122-1.jpg)    \n",
    "\n",
    "**单词注释**:    \n",
    "1. bring up my children: 养育我的孩子    \n",
    "1. fret: /fret/; [v]使烦恼,使焦急;    \n",
    "1. gateway: /ˈɡeɪtweɪ/; [n]门,通路;     \n",
    "1. I'm weaving my nest: 我在建造我的巢穴    \n",
    "1. pailful: /ˈpeɪlfʊl/; [n]满桶,一桶;     \n",
    "1. perched: /pɜːtʃt/; [x]栖息;置于(perch的pt);    \n",
    "1. perched on the gate: 停在大门上     \n",
    "1. pull me out of the hole: 把我弄出这个洞    \n",
    "\n",
    "![12](http://www.gutenberg.org/files/23462/23462-h/images/illus-0123-2.jpg)    "
   ]
  }
 ],
 "metadata": {
  "kernelspec": {
   "display_name": "Python 3",
   "language": "python",
   "name": "python3"
  },
  "language_info": {
   "codemirror_mode": {
    "name": "ipython",
    "version": 3
   },
   "file_extension": ".py",
   "mimetype": "text/x-python",
   "name": "python",
   "nbconvert_exporter": "python",
   "pygments_lexer": "ipython3",
   "version": "3.7.6"
  },
  "toc": {
   "base_numbering": 1,
   "nav_menu": {},
   "number_sections": true,
   "sideBar": true,
   "skip_h1_title": false,
   "title_cell": "Table of Contents",
   "title_sidebar": "Contents",
   "toc_cell": false,
   "toc_position": {},
   "toc_section_display": true,
   "toc_window_display": false
  },
  "varInspector": {
   "cols": {
    "lenName": 16,
    "lenType": 16,
    "lenVar": 40
   },
   "kernels_config": {
    "python": {
     "delete_cmd_postfix": "",
     "delete_cmd_prefix": "del ",
     "library": "var_list.py",
     "varRefreshCmd": "print(var_dic_list())"
    },
    "r": {
     "delete_cmd_postfix": ") ",
     "delete_cmd_prefix": "rm(",
     "library": "var_list.r",
     "varRefreshCmd": "cat(var_dic_list()) "
    }
   },
   "types_to_exclude": [
    "module",
    "function",
    "builtin_function_or_method",
    "instance",
    "_Feature"
   ],
   "window_display": false
  }
 },
 "nbformat": 4,
 "nbformat_minor": 4
}
