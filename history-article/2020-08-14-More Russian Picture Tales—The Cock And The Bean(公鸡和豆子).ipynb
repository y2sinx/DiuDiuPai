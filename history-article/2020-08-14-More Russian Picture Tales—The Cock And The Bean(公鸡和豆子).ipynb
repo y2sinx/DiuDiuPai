{
 "cells": [
  {
   "cell_type": "markdown",
   "metadata": {},
   "source": [
    "A cock was **scratching** one day in the earth under the wall of a **cottage** when he found a **bean**.    \n",
    "![1](http://www.gutenberg.org/files/23462/23462-h/images/illus-0010-2.jpg)    \n",
    "****************    \n",
    "\n",
    "He tried to swallow it, and **choked** himself. He choked himself and stretched himself out, and there he lay, and couldn't even breathe.    \n",
    "![2](http://www.gutenberg.org/files/23462/23462-h/images/illus-0010-1.jpg)    \n",
    "****************    \n",
    "\n",
    "And his mistress saw him, ran up to him, and asked: \"Mr. Cock, what makes you lie there like that, so that you can't breathe?\"    \n",
    "\"I've choked myself with a bean,\" he answered. \"Go and ask the cow for some **butter**.\"    \n",
    "And his mistress came to the cow and said: \"Mrs. Cow, give me some butter! My cock is lying there and can't even breathe, he has choked himself with a bean.\"    \n",
    "![3](http://www.gutenberg.org/files/23462/23462-h/images/illus-0011-1.jpg)    \n",
    "****************    \n",
    "\n",
    "And the cow answered: \"Go and ask the **hay-makers** for some hay.\"    \n",
    "![4](http://www.gutenberg.org/files/23462/23462-h/images/illus-0012-1.jpg)    \n",
    "****************    \n",
    "\n",
    "And she came to the hay-makers and said: \"Hay-makers, give me some hay! The hay's for the cow who will give me some butter, and the butter's for my cock who is lying there and can't breathe, he's choked himself with a bean.\" And the hay-makers answered: \"Go and ask the **oven** to give you some **loaves**.\"    \n",
    "![5](http://www.gutenberg.org/files/23462/23462-h/images/illus-0013-1.jpg)    \n",
    "****************    \n",
    "\n",
    "And she came to the oven and said: \"Oven, oven, give me some loaves! The loaves are for the hay-makers, who will give me some hay, the hay's for the cow, who will give me some butter, and the butter's for my cock who is lying there and can't breathe, he's choked himself with a bean.\"    \n",
    "And the oven answered: \"Go and ask the **wood-cutters** for some wood.\"    \n",
    "![6](http://www.gutenberg.org/files/23462/23462-h/images/illus-0014-1.jpg)    \n",
    "****************    \n",
    "\n",
    "And she came to the wood cutters and said: \"Give me some wood! The wood's for the oven, who will give me some loaves, the loaves are for the hay-cutters, who will give me some hay, the hay's for the cow, who will give me some butter, the butter's for my cock who is lying there and can't breathe, he's choked himself with a bean.\"   ![7](http://www.gutenberg.org/files/23462/23462-h/images/illus-0015-1.jpg)    \n",
    "And they answered: \"Go and **ask the smith for an axe**, we've nothing to cut the wood with.\"    \n",
    "****************    \n",
    "\n",
    "So she came to the smith and said: \"Smith, smith, give me an axe! The axe is for the wood-cutters, who will give me some wood, the wood's for the oven, who will give me some loaves, the loaves are for the hay-makers, who will give me some hay, the hay's for the cow, who will give me some butter, and the butter's for my cock who is lying there and can't breathe, he's choked himself with a bean.\" And he answered: \"Go into the forest and burn me some **charcoal**.\"    \n",
    "![8](http://www.gutenberg.org/files/23462/23462-h/images/illus-0016-1.jpg)    \n",
    "****************    \n",
    "\n",
    "So she went into the forest, gathered a bundle of sticks, and burned some charcoal. Then she took the charcoal to the smith, and he gave her an axe. She went with the axe to the wood-cutters, and the wood-cutters gave her some wood. The wood she took to the oven, and the oven gave her some loaves.    \n",
    "![9](http://www.gutenberg.org/files/23462/23462-h/images/illus-0017-1.jpg)    \n",
    "****************    \n",
    "\n",
    "She took the loaves to the hay-makers, and the hay-makers gave her some hay. The hay she took to the cow, who gave her some butter. She brought the butter to the cock, and the cock **gulped** it down and swallowed the bean.    \n",
    "![10](http://www.gutenberg.org/files/23462/23462-h/images/illus-0018-1.jpg)    \n",
    "****************    \n",
    "\n",
    "Then he jumped up merrily and started singing \"Cock-a-doodle-doo! I was sitting under the wall, **plaiting** shoes, when I lost my **awl**, but I found a little coin, and I bought a little scarf, and gave it to a pretty girl.\"    \n",
    "![11](http://www.gutenberg.org/files/23462/23462-h/images/illus-0019-1.jpg)    \n",
    "****************    \n",
    "\n",
    "And that's all about it.    \n",
    "![12](http://www.gutenberg.org/files/23462/23462-h/images/illus-0019-2.jpg)    \n",
    "****************    \n",
    "\n",
    "**单词注释:**\n",
    "1. awl: /ɔːl/; [n]锥子;尖钻;\n",
    "1. bean: /biːn/; [n]豆;\n",
    "1. butter: /ˈbʌtə(r)/; [n]黄油,奶油;\n",
    "1. charcoal: /ˈtʃɑːkəʊl/; [n]木炭;炭笔;\n",
    "1. choked: /tʃəʊkt/; [v]使窒息<choke的pt>;\n",
    "1. cottage: /ˈkɒtɪdʒ/; [n]小屋;村舍;<农舍式的>小别墅;\n",
    "1. gulped: /ɡʌlp/; [v]狼吞虎咽地吃;大口地吸;\n",
    "1. hay-makers: /'heɪmeɪkə/; [n]干草机;制作干草的人;\n",
    "1. loaves: /ləʊvz/; [n]一条<面包>;<食物>一大块;糕<loaf的pl>;\n",
    "1. oven: /ˈʌvn/; [n]炉,灶;烤炉,烤箱;\n",
    "1. plaiting: /ˈpleɪtɪŋ/; [v]把...编成辫<plait的ing形式>;公鸡在纳鞋底的时候丢了锥子却捡了硬币??\n",
    "1. scratching: /ˈskrætʃɪŋ/; [v]此处指公鸡用脚翻土找食物的动作;\n",
    "1. wood-cutters: /ˈwʊdkʌtə(r)/; [n]樵夫;木雕师;"
   ]
  }
 ],
 "metadata": {
  "kernelspec": {
   "display_name": "Python 3",
   "language": "python",
   "name": "python3"
  },
  "language_info": {
   "codemirror_mode": {
    "name": "ipython",
    "version": 3
   },
   "file_extension": ".py",
   "mimetype": "text/x-python",
   "name": "python",
   "nbconvert_exporter": "python",
   "pygments_lexer": "ipython3",
   "version": "3.7.6"
  },
  "toc": {
   "base_numbering": 1,
   "nav_menu": {},
   "number_sections": true,
   "sideBar": true,
   "skip_h1_title": false,
   "title_cell": "Table of Contents",
   "title_sidebar": "Contents",
   "toc_cell": false,
   "toc_position": {},
   "toc_section_display": true,
   "toc_window_display": false
  },
  "varInspector": {
   "cols": {
    "lenName": 16,
    "lenType": 16,
    "lenVar": 40
   },
   "kernels_config": {
    "python": {
     "delete_cmd_postfix": "",
     "delete_cmd_prefix": "del ",
     "library": "var_list.py",
     "varRefreshCmd": "print(var_dic_list())"
    },
    "r": {
     "delete_cmd_postfix": ") ",
     "delete_cmd_prefix": "rm(",
     "library": "var_list.r",
     "varRefreshCmd": "cat(var_dic_list()) "
    }
   },
   "types_to_exclude": [
    "module",
    "function",
    "builtin_function_or_method",
    "instance",
    "_Feature"
   ],
   "window_display": false
  }
 },
 "nbformat": 4,
 "nbformat_minor": 4
}
