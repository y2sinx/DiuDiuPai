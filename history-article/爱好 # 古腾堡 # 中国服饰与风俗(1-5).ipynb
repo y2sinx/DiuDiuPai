{
 "cells": [
  {
   "cell_type": "markdown",
   "metadata": {},
   "source": [
    "![cover](http://www.gutenberg.org/files/59677/59677-h/images/cover.jpg)    \n",
    "****************************************************************    \n",
    "\n",
    "The Costume Of China    \n",
    "—Picturesque Representations Of the Dress And Manners Of the Chinese    \n",
    "\n",
    "By    \n",
    "\n",
    "William Alexander    \n",
    "****************************************************************    \n",
    "\n",
    "**PLATE I. A Stand of Arms. 一个武器看台.**    \n",
    "Exhibiting the various kinds of weapons, offensive and defensive, in use among the Chinese **infantry**, **cavalry**, **artillery**, and **bowmen**, arranged on a stand or frame of wood. One or more of these frames are commonly to be met with at the military posts and at the **depots** of arms and **guard-houses**, close to the gates of their walled cities.    \n",
    "陈列在木架上的各种进攻性和防御性武器,这些武器来源于中国步兵,骑兵,炮兵和弓箭手. 可以在城墙附近的军事哨所,军械库和警卫室处看到更多的这种中式武器.    \n",
    "![1](http://www.gutenberg.org/files/59677/59677-h/images/pl01.jpg)    \n",
    "****************************************************************    \n",
    "\n",
    "**Plate II. Kien Lung. 乾隆.**    \n",
    "Kien Lung was the fourth Emperor of the **Tartar** dynasty, which now possesses the throne of China. When the **annexed** Sketch was taken he was eighty-three years of age, but had all the appearance of a **hale**, vigorous man of sixty. Indeed his whole life had been spent in the active **discharge** of public business, and in the violent exercise of hunting and shooting in the wild regions of **Tartary**, which he continued with **unabated** zeal almost to the period of life above mentioned. He always **commenced public business** at two or three in the morning, and gave audience to foreign ambassadors at that early hour, whether in winter or summer, and he generally retired to rest at sunset; and to this invariable habit of rising and retiring at an early hour, he attributed much of his healthy and vigorous constitution.    \n",
    "乾隆是塔塔尔王朝的第四位皇帝,现在拥有中国王位. 绘制下图的素描时,他已经八十三岁了,但看上去却像个健壮,充满活力的六十岁男子. 事实上,他的一生都在积极开展公共事务,以及在塔塔尔王朝领土内狩猎和射击,他一直以不懈的热情持续着这种生活.他总是在凌晨两三点开始就日理万机,无论冬夏,他也在此时接见外国大使,他通常在日落时休息. 他将自己的健康活力归因于自己早睡早起的习惯.    \n",
    "![2](http://www.gutenberg.org/files/59677/59677-h/images/pl02.jpg)    \n",
    "****************************************************************    \n",
    "\n",
    "**Plate III. The Fishing Cormorants. 用鸬鹚捕鱼的渔民.**    \n",
    "The Leu-tzé, or fishing cormorant of China, is the pelicanus sinensis, and resembles very much the common cormorant of England, which, we are told by naturalists, was once trained up to catch fish, pretty much in the same manner as those of China are. They are exceedingly expert in taking fish, and pursue them under water with great eagerness. They are taken out, on the rivers and lakes, in boats or **bamboo rafts**; and though sent on the chace after long fasting, they are so well trained that they rarely swallow any of the fish they take until they are permitted to do so by their masters. Many thousand families in China earn their subsistence by means of these birds.    \n",
    "中国鸬鹚, 属于 Pelicanus Sinensis 的一种, 与英格兰的鸬鹚非常相似, 自然学家告诉我们英格兰曾经也训练过用于捉鱼鸬鹚,其与中国人的鸬鹚捕鱼方式几乎一致. 鸬鹚在捕鱼方面非常熟练,它们会急切的跳到水下进行捕鱼, 然后捉到鱼后就返回主人的竹筏. 它们几乎不会私自吞下捕到的鱼, 除非它们的主人允许它们吞下. 中国有成千上万的家庭依靠这些鸟类谋生.    \n",
    "![3](http://www.gutenberg.org/files/59677/59677-h/images/pl03.jpg)    \n",
    "****************************************************************    \n",
    "\n",
    "**Plate IV. A Man Servant. 一名男仆.**    \n",
    "We have little to observe on this figure. His dress is pretty nearly that of the class of people to which he belongs. The Chinese are excellent domestic servants, and when honest, which is a quality not common among them, they are invaluable. They are rather slow, and do not like to be put out of their way, but they do their work well and neatly. Every European resident at Canton and Macao has Chinese servants, which on the whole, are preferable to any other race of **Orientals**. They are sometimes brought over to England, but are seldom happy till they get back to their own country, which has the same kind of charm to them as the vallies of Switzerland had to the natives of that once happy country.    \n",
    "这张图没有多少可值的观察的地方. 他的着装几乎与他所属的阶级差不多. 中国仆人非常优秀,尤其是那些具有诚实品质的仆人.他们的速度很慢,不喜欢被主人指三点四,但他们的工作做得很整齐. 每个在广州和澳门居住的欧洲人都有中国仆人,总的来说,他们比其他任何东方人都要好. 他们有时会被带出国外,但是他们并不喜欢其他国家. 他们对自己国家的热情就像瑞士人对瑞士自然风光的爱恋一样.    \n",
    "![4](http://www.gutenberg.org/files/59677/59677-h/images/pl04.jpg)    \n",
    "****************************************************************    \n",
    "\n",
    "**Plate V. A Mandarin In His Court Dress. 穿着朝服的中国官吏.**    \n",
    "All officers of state, whether civil or military, from the highest to the lowest, have been named by the early Portuguese writers mandarins, from a word in their own language, mandar, to command; and this name, improper as it is, has preserved its ground ever since. The figure of a bird on the embroidered breast-plate of the annexed figure points him out as a civilian. A military officer wears the figure of an animal resembling the tiger. The degree of rank, whether civil or military, is marked by a small globe on the top of the cap, opake(opaque) red coral distinguishing the highest, and brass the lowest rank: the intermediate colours are transparent red, opake and transparent blue, opake and transparent white. As a mark of imperial favour, one, two, or three feathers from the tail of the peacock are appended to the back part of the bonnet. All officers, whether civil or military, invariably wear thick-quilted boots, and, when in their court-dresses, embroidered petticoats. Most of them wear chains of coral, or agate, or coloured glass round the neck, as in the annexed figure.    \n",
    "Mandarin 一词最早来源于葡萄牙人,他们用葡萄牙语单词 Mandar(意指命令,指挥等)生成了该词,自此以后,中国的所有官员,无论文官还是五官,无论官居何位,都被统称为 Mandarin, 即官吏. 下图中官吏的绣花胸甲绘制的是鸟,表名他是一位文官. 如果官吏的绣花胸甲为像老虎一样的动物形象,则表名他是一位武官. 文官和武官的等级(除了用禽兽的种类标识外,还),可用帽子顶部的珠子标识(为了避免皇帝盯着别人的胸看[\\嘻嘻]),表示官位最高的珠子是不透明的红珊瑚(或者红宝石之类的红珠子),最低的是黄铜(黄色的珠子),官位居中的珠子颜色是透明的红色,不透明和透明的蓝色,不透明和透明的白色. 作为皇帝的宠臣(只有得到皇帝赏赐才能佩戴),可佩戴孔雀羽毛,根据其上的眼睛个数,分为一眼雀领,二眼雀领和三眼雀领. 所有军官,无论文武,在穿朝服和刺绣衬裙时,都必须穿厚棉靴. 大多数官吏还会佩戴珊瑚或玛瑙串珠.    \n",
    "![5](http://www.gutenberg.org/files/59677/59677-h/images/pl05.jpg)    \n",
    "****************************************************************\n",
    "\n",
    "**注释**:     \n",
    "1. bamboo rafts: 竹筏,竹排;    \n",
    "1. commenced public business: 开始公务    \n",
    "1. quilted Portuguese domestic servants:家仆    \n",
    "1. Orientals: [n]东方人<Oriental的复数>;    \n",
    "1. Tartar: /ˈtɑːtə(r)/; [n]鞑靼人<蒙古人和突厥人>;凶悍的人;难对付的人;[a]鞑靼的;    \n",
    "1. Tartary: /'tɑ:təri/; [n]鞑靼,鞑靼地方<指中世纪时受蒙古人统治的自东欧至亚洲的广大地区>;    \n",
    "1. agate: /ˈæɡət/; [n]玛瑙;玛瑙制工具; [+]pl/agates;    \n",
    "1. annexed: /ˈænekst; əˈnekst/; [a]附加的,附属的;[v]附加<annex的pp>;    \n",
    "1. artillery: /ɑːˈtɪləri/; [n]火炮;大炮;炮队;炮术;    \n",
    "1. bowmen: /'baʊmən/; [n]弓箭手;<尤指赛艇>位于船首的划船队员<bowman的pl>;    \n",
    "1. breast-plate: /ˈbrɛstˌpleɪt/; [x]挡风板;胸牌;    \n",
    "1. cavalry: /ˈkævlri/; [n]骑兵;装甲兵;装甲部队; [+]pl/cavalries;    \n",
    "1. coral: /ˈkɒrəl/; [n]珊瑚;珊瑚虫;[a]珊瑚的;珊瑚色的; [+]pl/corals;    \n",
    "1. court-dresses: [n]宫廷服;    \n",
    "1. depots: /'dipo/; [n]<建>仓库;堆场<depot的pl>;    \n",
    "1. discharge: /dɪsˈtʃɑːdʒ/; [v]准许<某人>离开;释放;排出;放电;履行<职责>;开火;卸货;<法官>撤销<法院命令>;[n]出院,免职;释放;<液体,气体等的>排出;排出物;放电;开枪;下客;履行责任;<债务的>清偿; [+]pt/discharged,pp/discharged,pr/discharging,s3/discharges;    \n",
    "1. guard-houses: /ˈɡɑːdhaʊs/; [n]禁闭室;卫兵室;警卫队队部; [+]pl/guardhouses;    \n",
    "1. hale: /heɪl/; [a]矍铄的<尤指老人>;强壮的;[v]猛拉;迫使; [+]er/haler,est/halest;    \n",
    "1. infantry: /ˈɪnfəntri/; [n]步兵;步兵团; [+]pl/infantries;    \n",
    "1. mandarin: /ˈmændərɪn/; [n]政界要员;满清官吏;<用作传统中式服装饰件的>摆头人<多为瓷制>;<绘有中国古代官员图像的>瓷器;行政官僚;柑橘;[n]Mandarin普通话,国语,官话;    \n",
    "1. petticoats: /ˈpɛtɪˌkəʊt/; [n]衬裙;    \n",
    "1. picturesque: /ˌpɪktʃəˈresk/; [a]独特的;生动的;别致的;图画般的;    \n",
    "1. rafts: /rɑːft/; [n]救生艇<raft的pl>;皮筏;竹排;[v]乘筏;划筏<raft的s3>;    \n",
    "1. unabated: /ˌʌnəˈbeɪtɪd/; [a]不减弱的,不衰退的;    "
   ]
  }
 ],
 "metadata": {
  "kernelspec": {
   "display_name": "Python 3",
   "language": "python",
   "name": "python3"
  },
  "language_info": {
   "codemirror_mode": {
    "name": "ipython",
    "version": 3
   },
   "file_extension": ".py",
   "mimetype": "text/x-python",
   "name": "python",
   "nbconvert_exporter": "python",
   "pygments_lexer": "ipython3",
   "version": "3.7.6"
  },
  "toc": {
   "base_numbering": 1,
   "nav_menu": {},
   "number_sections": true,
   "sideBar": true,
   "skip_h1_title": false,
   "title_cell": "Table of Contents",
   "title_sidebar": "Contents",
   "toc_cell": false,
   "toc_position": {},
   "toc_section_display": true,
   "toc_window_display": false
  },
  "varInspector": {
   "cols": {
    "lenName": 16,
    "lenType": 16,
    "lenVar": 40
   },
   "kernels_config": {
    "python": {
     "delete_cmd_postfix": "",
     "delete_cmd_prefix": "del ",
     "library": "var_list.py",
     "varRefreshCmd": "print(var_dic_list())"
    },
    "r": {
     "delete_cmd_postfix": ") ",
     "delete_cmd_prefix": "rm(",
     "library": "var_list.r",
     "varRefreshCmd": "cat(var_dic_list()) "
    }
   },
   "types_to_exclude": [
    "module",
    "function",
    "builtin_function_or_method",
    "instance",
    "_Feature"
   ],
   "window_display": false
  }
 },
 "nbformat": 4,
 "nbformat_minor": 4
}
