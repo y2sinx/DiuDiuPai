{
 "cells": [
  {
   "cell_type": "markdown",
   "metadata": {},
   "source": [
    "sz_010 % [d]2020-12-04; [gzh](); [n]吐司; [l]绘本; [og](https://bookdash.org/books/toast-by-jennifer-jacobs-helen-moffett-and-alex-latimer/); [t]Toast; [a]Alex Latimer;\n",
    "\n",
    "A picnic in a beautiful garden leads to adventure. Who will get the piece of toast? And will they be able to keep it?\n",
    "\n",
    "---"
   ]
  },
  {
   "cell_type": "markdown",
   "metadata": {},
   "source": [
    "![cr](https://bookdash.org/wp-content/uploads/2018/04/toast_en_20180423_cover.jpg)  \n",
    "\n",
    "---  \n",
    "\n",
    "**Toast**  \n",
    "\n",
    "Alex Latimer | Helen Moffett | Jennifer Jacobs  \n",
    "\n",
    "---  \n",
    "\n",
    "![4](https://bookdash.org/wp-content/uploads/2018/04/toast_en_20180423_page4.jpg)  \n",
    "\n",
    "---  \n",
    "\n",
    "![5](https://bookdash.org/wp-content/uploads/2018/04/toast_en_20180423_page5.jpg)  \n",
    "\n",
    "---  \n",
    "\n",
    "![6](https://bookdash.org/wp-content/uploads/2018/04/toast_en_20180423_page6.jpg)  \n",
    "\n",
    "---  \n",
    "\n",
    "![7](https://bookdash.org/wp-content/uploads/2018/04/toast_en_20180423_page7.jpg)  \n",
    "\n",
    "---  \n",
    "\n",
    "![8](https://bookdash.org/wp-content/uploads/2018/04/toast_en_20180423_page8.jpg)  \n",
    "\n",
    "---  \n",
    "\n",
    "![9](https://bookdash.org/wp-content/uploads/2018/04/toast_en_20180423_page9.jpg)  \n",
    "\n",
    "---  \n",
    "\n",
    "![10](https://bookdash.org/wp-content/uploads/2018/04/toast_en_20180423_page10.jpg)  \n",
    "\n",
    "---  \n",
    "\n",
    "![11](https://bookdash.org/wp-content/uploads/2018/04/toast_en_20180423_page11.jpg)  \n",
    "\n",
    "---  \n",
    "\n",
    "![12](https://bookdash.org/wp-content/uploads/2018/04/toast_en_20180423_page12.jpg)  \n",
    "\n",
    "---  \n",
    "\n",
    "![13](https://bookdash.org/wp-content/uploads/2018/04/toast_en_20180423_page13.jpg)  \n",
    "\n",
    "---  \n",
    "\n",
    "![14](https://bookdash.org/wp-content/uploads/2018/04/toast_en_20180423_page14.jpg)  \n",
    "\n",
    "---  \n",
    "\n",
    "![15](https://bookdash.org/wp-content/uploads/2018/04/toast_en_20180423_page15.jpg)  \n",
    "\n",
    "---  \n",
    "\n",
    "![16](https://bookdash.org/wp-content/uploads/2018/04/toast_en_20180423_page16.jpg)  \n",
    "\n",
    "---  \n",
    "\n",
    "![17](https://bookdash.org/wp-content/uploads/2018/04/toast_en_20180423_page17.jpg)  "
   ]
  }
 ],
 "metadata": {
  "kernelspec": {
   "display_name": "Python 3",
   "language": "python",
   "name": "python3"
  },
  "language_info": {
   "codemirror_mode": {
    "name": "ipython",
    "version": 3
   },
   "file_extension": ".py",
   "mimetype": "text/x-python",
   "name": "python",
   "nbconvert_exporter": "python",
   "pygments_lexer": "ipython3",
   "version": "3.8.3"
  },
  "toc": {
   "base_numbering": 1,
   "nav_menu": {},
   "number_sections": true,
   "sideBar": true,
   "skip_h1_title": true,
   "title_cell": "Table of Contents",
   "title_sidebar": "Contents",
   "toc_cell": false,
   "toc_position": {},
   "toc_section_display": true,
   "toc_window_display": false
  }
 },
 "nbformat": 4,
 "nbformat_minor": 4
}
