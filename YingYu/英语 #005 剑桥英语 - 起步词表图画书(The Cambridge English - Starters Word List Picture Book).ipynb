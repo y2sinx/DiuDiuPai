{
 "cells": [
  {
   "cell_type": "markdown",
   "metadata": {},
   "source": [
    "YingYu_005 % [d]2021-02-27; [xmxp](); [n]剑桥英语: 起步词表图画书; [l]英语;学习;绘本; [t]The Cambridge English: Starters Word List Picture Book; [by]; [p/s]Cambridge ESOL; [ebook]英语;\n",
    "\n",
    "引言: 推荐一本简单的英语小单词书, 适合初学者, 有图画... \n",
    "\n",
    "百度网盘: https://pan.baidu.com/s/1GstRtNs9-1LOrQ_MMjkV0w"
   ]
  },
  {
   "cell_type": "markdown",
   "metadata": {},
   "source": [
    "![fm.png](https://s.pc.qq.com/tousu/img/20210226/1076255_1614351799.jpg)\n",
    "\n",
    "### 画风如下:\n",
    "\n",
    "1) 在动物园(zoo)\n",
    "\n",
    "![zoo.png](https://s.pc.qq.com/tousu/img/20210226/7475006_1614351801.jpg)\n",
    "\n",
    "\n",
    "2) 我的街道(street)\n",
    "\n",
    "![street.png](https://s.pc.qq.com/tousu/img/20210226/2843158_1614351800.jpg)"
   ]
  }
 ],
 "metadata": {
  "kernelspec": {
   "display_name": "Python 3",
   "language": "python",
   "name": "python3"
  },
  "language_info": {
   "codemirror_mode": {
    "name": "ipython",
    "version": 3
   },
   "file_extension": ".py",
   "mimetype": "text/x-python",
   "name": "python",
   "nbconvert_exporter": "python",
   "pygments_lexer": "ipython3",
   "version": "3.8.3"
  },
  "toc": {
   "base_numbering": 1,
   "nav_menu": {},
   "number_sections": true,
   "sideBar": true,
   "skip_h1_title": true,
   "title_cell": "Table of Contents",
   "title_sidebar": "Contents",
   "toc_cell": false,
   "toc_position": {},
   "toc_section_display": true,
   "toc_window_display": false
  }
 },
 "nbformat": 4,
 "nbformat_minor": 4
}
