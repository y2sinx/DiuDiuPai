{
 "cells": [
  {
   "cell_type": "markdown",
   "metadata": {},
   "source": [
    "YingYu_003 % [d]2021-02-01; [xmxp](); [n]天上在下猫和狗: 一本 \"孤独谱患者\" 应对习语, 隐喻, 以及日常表达中混乱世界的指南; [l]英语;学习;绘本; [t]It's Raining Cats and Dogs: An Autism Spectrum Guide to the Confusing World of Idioms, Metaphors and Everyday Expressions\n",
    "; [by]Michael Barton(); [p/s]Jessica Kingsley Publishers(杰西卡·金斯利出版社); [ebook]`英语`;\n",
    "\n",
    "只整理第一部分, 其他部分不再整理了.\n",
    "\n",
    "---"
   ]
  },
  {
   "cell_type": "markdown",
   "metadata": {},
   "source": [
    "![1](https://i.loli.net/2021/01/25/8rs62OYMRzaUZA1.jpg)\n",
    "\n",
    "---\n",
    "\n",
    "# 天上在下猫和狗\n",
    "—— 一本 '自闭谱患者' 应对习语, 隐喻, 以及日常表达中混乱世界的指南\n",
    "\n",
    "迈克尔·巴顿\n",
    "\n",
    "杰西卡·金斯利出版社\n",
    "\n",
    "---\n",
    "---"
   ]
  },
  {
   "cell_type": "markdown",
   "metadata": {},
   "source": [
    "## 经典习语(Classic Idioms)    \n",
    "\n",
    "These are phrases or expressions whose sense cannot be derived from the meaning of the individual words. Neurotypical people learn expressions in the same way they learn words. When they hear \"It's raining cats and dogs,\" their brain simply recalls that this phrase means \"It's raining really hard.\"    \n",
    "\n",
    "My brain logically examines each individual word and then tries to make sense of the resultant sentence. When this approach doesn't work, I have found that drawing a picture enables me to recall the mental image when I hear that phrase, and this helps me remember the true meaning.    "
   ]
  },
  {
   "cell_type": "markdown",
   "metadata": {},
   "source": [
    "这些短语或表达(expressions)的含义(sense)并不能通过其独立单词(individual words)的含义推测(derived from). 神经典型人士(neurotypical people)学习这些短语的方式跟他们学习单词的方式是一致的. 当他们听到 \"It's raining cats and dogs\"时, 他们的大脑可以直接(simply)联想到(recalls)这个这个短语的实际含义 \"It's raining really hard\".    \n",
    "\n",
    "而孤独谱患者(people with ASDs)则会先按逻辑(logically)检查每个独立单词, 然后才尝试理解这个句子的含义(make sense of the resultant sentence). 当这种方式不起作用(doesn't work)的时候, 我发现画一幅画—— 展现这个短语在我心智中的图像(mental image), 可以帮助我记住这句话的真正含义.    \n",
    "\n",
    "---\n",
    "\n",
    "It's raining cats and dogs | It's raining really hard    \n",
    "天上在下猫和狗 | 雨下的很大很大    \n",
    "\n",
    "![20](https://s.pc.qq.com/tousu/img/20210125/2667382_1611506017.jpg)    \n",
    "\n",
    "---\n",
    "\n",
    "Getting the sack | Losing your job    \n",
    "拿包走人 | 被解雇    \n",
    "\n",
    "![21](https://s.pc.qq.com/tousu/img/20210125/5268714_1611506018.jpg)    \n",
    "\n",
    "---\n",
    "\n",
    "You're pulling my leg! | You're joking!    \n",
    "你在扯我的腿吧! | 你在开玩笑吧!\n",
    "\n",
    "![22](https://s.pc.qq.com/tousu/img/20210125/3935728_1611506018.jpg)    \n",
    "\n",
    "---\n",
    "\n",
    "He went bananas | He went crazy    \n",
    "不去香港去\"香蕉\" | 他疯了    \n",
    "\n",
    "![23](https://i.loli.net/2021/01/25/F5wyBoQIU8SRt7x.png)    \n",
    "\n",
    "---\n",
    "\n",
    "To chicken out | To not do something because you're scared    \n",
    "与鸡没啥关系 | 指某人因害怕而不敢做某事    \n",
    "\n",
    "![24](https://s.pc.qq.com/tousu/img/20210125/6818905_1611506018.jpg)    \n",
    "\n",
    "---\n",
    "\n",
    "A different kettle of fish | A totally different matter    \n",
    "一壶不同的鱼 | 一件完全不同的事物    \n",
    "\n",
    "![25](https://s.pc.qq.com/tousu/img/20210125/9664047_1611506018.jpg)    \n",
    "\n",
    "---\n",
    "\n",
    "Stick to your guns | Once you decide to do something, do it    \n",
    "粘在你的枪上 | 一旦你决定了做某事, 就要坚持去做    \n",
    "\n",
    "![26](https://s.pc.qq.com/tousu/img/20210125/6404350_1611506018.jpg)    \n",
    "\n",
    "---\n",
    "\n",
    "Feeling under the weather | Feeling unwell    \n",
    "感觉在天气之下 | 感觉不舒服    \n",
    "\n",
    "![27](https://s.pc.qq.com/tousu/img/20210125/6084965_1611506018.jpg)    \n",
    "\n",
    "---\n",
    "\n",
    "I was over the moon | I was very pleased    \n",
    "我在月亮上 | 我很开心    \n",
    "\n",
    "![28](https://s.pc.qq.com/tousu/img/20210125/9965992_1611506018.jpg)    \n",
    "\n",
    "---\n",
    "\n",
    "It's a piece of cake | It's really easy    \n",
    "这是一块蛋糕 | 这非常的简单    \n",
    "\n",
    "![29](https://s.pc.qq.com/tousu/img/20210125/3663506_1611506018.jpg)    \n",
    "\n",
    "---\n",
    "\n",
    "You're burning the candle at both ends | You're getting up early and going to bed late    \n",
    "在蜡烛的两端点蜡烛 | 形容起得早睡得晚    \n",
    "\n",
    "![30](https://s.pc.qq.com/tousu/img/20210125/2107355_1611506017.jpg)    \n",
    "\n",
    "---\n",
    "\n",
    "It cost him an arm and a leg | It was very expensive    \n",
    "这花费了他一条胳膊和一条腿 | 这非常的昂贵    \n",
    "\n",
    "![31](https://s.pc.qq.com/tousu/img/20210125/5340652_1611506018.jpg)    \n",
    "\n",
    "---\n",
    "\n",
    "Your ears are burning! | Someone's talking about you!    \n",
    "你的耳朵着火了! | 有人在背后议论你!    \n",
    "\n",
    "![32](https://s.pc.qq.com/tousu/img/20210125/6996403_1611506018.jpg)    \n",
    "\n",
    "---\n",
    "\n",
    "He's got something up his sleeve | He has a secret plan or idea    \n",
    "他的袖子里藏着什么东西 | 他有一个秘密计划    \n",
    "\n",
    "![33](https://s.pc.qq.com/tousu/img/20210125/1751660_1611506018.jpg)    \n",
    "\n",
    "---\n",
    "\n",
    "Call a spade a spade | Speak plainly    \n",
    "把铲子叫铲子 | 不要拐弯抹角, 请说大白话    \n",
    "\n",
    "![34](https://s.pc.qq.com/tousu/img/20210125/4175667_1611506018.jpg)    \n",
    "\n",
    "---\n",
    "\n",
    "Going round the houses | Taking a long time to explain something    \n",
    "绕着房子转 | 解释某事需要花费很长的时间    \n",
    "\n",
    "![35](https://s.pc.qq.com/tousu/img/20210125/6320987_1611506018.jpg)    \n",
    "\n",
    "---\n",
    "\n",
    "Breaking the ice | Helping people feel at ease in a social situation    \n",
    "破冰 | 在某个社交场合帮助某人觉得自在点儿    \n",
    "\n",
    "![36](https://s.pc.qq.com/tousu/img/20210125/9763242_1611506017.jpg)    \n",
    "\n",
    "---\n",
    "\n",
    "In a pickle | In a tricky situation    \n",
    "在一根腌黄瓜里 | 在一个棘手的情况下    \n",
    "\n",
    "![37](https://s.pc.qq.com/tousu/img/20210125/6829905_1611506018.jpg)    \n",
    "\n",
    "---\n",
    "\n",
    "He's got the wrong end of the stick | He's got the wrong idea    \n",
    "他拿了棍子错误的一端 | 他误会了    \n",
    "\n",
    "![38](https://s.pc.qq.com/tousu/img/20210125/4068678_1611506017.jpg)    "
   ]
  },
  {
   "cell_type": "markdown",
   "metadata": {},
   "source": [
    "---\n",
    "---"
   ]
  },
  {
   "cell_type": "markdown",
   "metadata": {},
   "source": [
    "## 缩略语(Shortened Expressions)\n",
    "\n",
    "In shortened (or truncated) expressions part of the phrase has been left out. For example, \"Put the kettle on\" is short for \"Put the kettle on the stove\". \"I feel like a pizza\" is short for \"I feel like eating a pizza\". Neurotypicals have simply memorised the phrase and don't even think about whether anything is missing or not.\n",
    "\n",
    "My brain constructs meaning from the individual words, so \"I feel like a pizza\" is literally processed as such. When I hear \"Put the kettle on\", I assume it is the same as \"Put the hat on\", so the kettle must go on my head.\n",
    "\n",
    "缩略语省略了(left out)短语的某一部分. 举个例子, \"Put the kettle on\" 是 \"Put the kettle on the stove\" 的缩略. \"I feel like a pizza\" 是 \"I feel like eating a pizza\" 的缩略. 神经典型者会直接记住这个短语, 甚至不会意识到它是不是丢了些什么.\n",
    "\n",
    "我的大脑从对立的单词构造出含义, 因此 \"I feel like a pizza\" 会按字面意思处理成(is literally processed as)\"我感觉像个披萨\". 当我听到\"Put the kettle on\", 我认为这与 \"Put the hat on\" 一样, 于是我把水壶戴到了我的头上.\n",
    "\n",
    "[37]()\n",
    "\n",
    "---\n",
    "\n",
    "He had the sun in his eye | He had the sun shining into his eye      \n",
    "他的眼睛有太阳 | 他让阳光照进眼睛    \n",
    "\n",
    "![40](https://i.loli.net/2021/01/25/rcl4A1WaxM7SkQg.png)    \n",
    "\n",
    "---\n",
    "\n",
    "Put the kettle on | Switch the kettle on    \n",
    "把水壶戴在头上 | 把水壶放在炉子上(去烧水)    \n",
    "\n",
    "![41](https://i.loli.net/2021/01/25/secudNHAMhLl1qW.png)    \n",
    "\n",
    "---\n",
    "\n",
    "I feel like a pizza | I feel like eating a pizza    \n",
    "我觉得自己像个披萨 | 我想吃披萨    \n",
    "\n",
    "![42](https://i.loli.net/2021/01/25/ZXSReCP2I8pti7n.png)    "
   ]
  },
  {
   "cell_type": "markdown",
   "metadata": {},
   "source": [
    "## 日常用语(Everyday Expressions and Sayings)\n",
    "\n",
    "Neurotypical people say these expressions without thinking how illogical they actually are. They grow up hearing them on a regular basis and learn them like words.\n",
    "\n",
    "People on the spectrum need to be explicitly taught what they mean — they do not intuitively recognise that they are idioms. The default response to hearing an idiom is always to assume that the logical explanation is correct. It is extremely confusing when you hear sayings that have nothing to do with what they actually mean.\n",
    "\n",
    "神经典型者说这些话的时候并不会意识到这些话(expressions)实际上有多么不合逻辑. 他们在成长过程中经常(on a regular basis)听到这些声音, 已经把这些话当成了一个个的单词.\n",
    "\n",
    "处在自闭谱上的人需要被明确的告知(explicitly taught)它们的含义—— 他们并不能从直觉上识别(intuitively recognise)它们是习语. 听到一个习语的默认反应(default response)总是假定这句话的逻辑解释(logical explanation)是正确的. 如果你听到的一句话(自我逻辑解释出的含义)与它们实际的含义没有一点关系, 这会令人极度的困惑\n",
    "\n",
    "[41]()"
   ]
  },
  {
   "cell_type": "markdown",
   "metadata": {},
   "source": [
    "He's driving me up the wall | He's making me really cross  \n",
    "他正开车送我上去上墙 | 他让我很生气\n",
    "\n",
    "![44](https://ae04.alicdn.com/kf/H4fbae942dd4640d4b001870d54155804B.jpg)\n",
    "\n",
    "---"
   ]
  },
  {
   "cell_type": "markdown",
   "metadata": {},
   "source": [
    "His head is in the clouds | He's daydreaming  \n",
    "他的脑袋在云朵里 | 他在白日做梦 \n",
    "\n",
    "![45](https://sc04.alicdn.com/kf/H9a9c896c51224464977d2dcc0fdef8b4A.jpg)\n",
    "\n",
    "---"
   ]
  },
  {
   "cell_type": "markdown",
   "metadata": {},
   "source": [
    "I've got some time on my hands | I've got some spare time  \n",
    "我的手里\"抓\"了些时间 | 我还有空余的时间\n",
    "\n",
    "![46](https://ae03.alicdn.com/kf/H39d0b284638f4efd8efed5bd6a76a234Q.jpg)\n",
    "\n",
    "---"
   ]
  },
  {
   "cell_type": "markdown",
   "metadata": {},
   "source": [
    "It's hard to get your head around it | It's hard to understand it  \n",
    "这很难让你的脑袋围着它转 | 这很难让你理解\n",
    "\n",
    "![47](https://ae03.alicdn.com/kf/Hc35303d4d60f42d9a11e027da116508fb.jpg)\n",
    "\n",
    "---"
   ]
  },
  {
   "cell_type": "markdown",
   "metadata": {},
   "source": [
    "To cry your eyes out | To cry a lot  \n",
    "把眼睛哭了出来 | 大哭一场\n",
    "\n",
    "![48](https://ae03.alicdn.com/kf/H4db76065efad4fae890f244e9d64c72cP.jpg)\n",
    "\n",
    "---"
   ]
  },
  {
   "cell_type": "markdown",
   "metadata": {},
   "source": [
    "A square meal | A balanced meal  \n",
    "一个正方形的饭 | 一顿平衡膳食\n",
    "\n",
    "![49](https://ae04.alicdn.com/kf/Hdfde43fad8514aff9f4621354d3691aaN.jpg)\n",
    "\n",
    "---"
   ]
  },
  {
   "cell_type": "markdown",
   "metadata": {},
   "source": [
    "He has a sweet tooth | He likes sweet food  \n",
    "他有一颗甜牙 | 他喜欢吃甜的东西 \n",
    "\n",
    "![50](https://ae03.alicdn.com/kf/Hbc8381b3e90d44fa87dae4ca27a97899H.jpg)\n",
    "\n",
    "---"
   ]
  },
  {
   "cell_type": "markdown",
   "metadata": {},
   "source": [
    "He gave me a piece of his mind | He was angry and he told me what he thought  \n",
    "他给了我一片他的头脑 | 他很生气, 并把他想的告诉了我\n",
    "\n",
    "![51](https://sc04.alicdn.com/kf/H46895042031f49618be32d097b550c23A.jpg)\n",
    "\n",
    "---"
   ]
  },
  {
   "cell_type": "markdown",
   "metadata": {},
   "source": [
    "My head was spinning | I had many thoughts  \n",
    "我的脑袋在纺纱(旋转) | 思绪万千(晕头转向)\n",
    "\n",
    "![52](https://sc03.alicdn.com/kf/H97afe065f5e14dc2b991e2aaee9321d4M.jpg)\n",
    "\n",
    "---"
   ]
  },
  {
   "cell_type": "markdown",
   "metadata": {},
   "source": [
    "I laughed my head off | I laughed a lot  \n",
    "我笑掉了我的脑袋 | 笑死我了\n",
    "\n",
    "![53](https://ae02.alicdn.com/kf/H0ec8cbab9e4d44809569405a0aa953f2f.jpg)\n",
    "\n",
    "---"
   ]
  },
  {
   "cell_type": "markdown",
   "metadata": {},
   "source": [
    "To have a face like thunder | To have a very angry expression  \n",
    "有一张像雷一样的脸 | 有一个很生气的表情\n",
    "\n",
    "![54](https://sc01.alicdn.com/kf/H4f3762c0cab24fb7a9e03b968bc814305.jpg)\n",
    "\n",
    "---"
   ]
  },
  {
   "cell_type": "markdown",
   "metadata": {},
   "source": [
    "I worked my socks off | I worked really hard  \n",
    "与袜子没有关系 | 我在非常努力的工作\n",
    " \n",
    "![55](https://ae04.alicdn.com/kf/Ha585aed00c1141069d874ba9edca1e09L.jpg)\n",
    "\n",
    "---"
   ]
  },
  {
   "cell_type": "markdown",
   "metadata": {},
   "source": [
    "It's not my cup of tea | It's not the kind of thing I like doing  \n",
    "这不是我的那杯茶 | 这不是我喜欢做的事\n",
    "\n",
    "![56](https://sc04.alicdn.com/kf/H00f3b91c0c124d9dba0207f9bc6c86d2C.jpg)\n",
    "\n",
    "---"
   ]
  },
  {
   "cell_type": "markdown",
   "metadata": {},
   "source": [
    "We didn't meet eye to eye | We didn't agree  \n",
    "我们并没有眼对眼 | 我们的意见并不一致\n",
    "\n",
    "![57](https://ae04.alicdn.com/kf/Hb1e6a3a7559b4e218e70cc47070352deJ.jpg)\n",
    "\n",
    "---"
   ]
  },
  {
   "cell_type": "markdown",
   "metadata": {},
   "source": [
    "He is all ears | He is paying full attention  \n",
    "他是\"全耳朵\" | 他正全神贯注的听\n",
    "\n",
    "![58](https://sc04.alicdn.com/kf/Hfe5bf779e5714d14941ce10c2cbaeb92K.jpg)\n",
    "\n",
    "---"
   ]
  },
  {
   "cell_type": "markdown",
   "metadata": {},
   "source": [
    "To bend over backwards | To put a lot of effort into something to please someone  \n",
    "向后弯腰 | 为了取悦某人而投入大量精力\n",
    "\n",
    "![59](https://ae03.alicdn.com/kf/H63064d76be014e2baa9dafe6c0e9de9cH.jpg)\n",
    "\n",
    "---"
   ]
  },
  {
   "cell_type": "markdown",
   "metadata": {},
   "source": [
    "That's how the cookie crumbles | That's just the way things happen  \n",
    "饼干就是这样碎的 | 事情就是这样发生的\n",
    "\n",
    "![60](https://ae03.alicdn.com/kf/H2bf57146d3f24395986e923ff8444560W.jpg)\n",
    "\n",
    "---"
   ]
  },
  {
   "cell_type": "markdown",
   "metadata": {},
   "source": [
    "To grab the bull by the horns | To take control of the situation  \n",
    "通过牛角抓牛 | 控制局面(大胆地面对困难或险境,临危不惧)\n",
    "\n",
    "![61](https://ae02.alicdn.com/kf/H5cb9d3587edf4dc981068bbd078f0b4a2.jpg)\n",
    "\n",
    "---"
   ]
  },
  {
   "cell_type": "markdown",
   "metadata": {},
   "source": [
    "I changed my mind | I changed my opinion  \n",
    "我改变了我的头脑 | 我改变主意了 \n",
    "\n",
    "![62](https://ae04.alicdn.com/kf/H2c5803b2abda4aa3b931d4ecad4f5ff0B.jpg)\n",
    "\n",
    "---"
   ]
  },
  {
   "cell_type": "markdown",
   "metadata": {},
   "source": [
    "He went out with a bang | He did something memorable before he left  \n",
    "他 '砰' 的一下就离开了 | 他离开前做了一件难忘的事?\n",
    "\n",
    "![63](https://ae04.alicdn.com/kf/H0ec302d8581a4b48a137b9d85a2faee71.jpg)"
   ]
  },
  {
   "cell_type": "markdown",
   "metadata": {},
   "source": [
    "## Double Meanings\n",
    "\n",
    "If I 'draw' the curtains, am I drawing a picture with a pencil or pulling them together?\n",
    "The neurotypical brain considers the context when it hears this phrase, evaluates the alternative meanings and then comes to a conclusion as to the most likely explanation.\n",
    "\n",
    "My brain assumes that the first explanation it thinks of is the correct one.\n",
    "So 'draw' usually means 'use a pencil' and, as this is the most likely meaning, I then proceed on that basis.\n",
    "It doesn't even occur to me at the time to consider whether there might be an alternative explanation.\n"
   ]
  },
  {
   "cell_type": "markdown",
   "metadata": {},
   "source": [
    "## Metaphors\n",
    "\n",
    "These are imaginative ways of describing something by likening() it to something else; in other words, to help clarify what is being said.\n",
    "For example, 'He flew up the stairs' means 'He went up the stairs really quickly.'\n",
    "\n",
    "My brain doesn't realise that something is being likened to something else and just takes what is being said literally, so I imagine someone with wings actually flying.\n",
    "So, whereas neurotypicals will use metaphors to aid clarification in sayings such as 'He hit the nail on the head,' they have the opposite effect on me.\n",
    "\n",
    "I find it almost impossible to remember phrases that don't make sense but I can remember a picture or drawing, so using these drawings helps me understand idioms and metaphors in everyday use.\n"
   ]
  },
  {
   "cell_type": "markdown",
   "metadata": {},
   "source": [
    "## Instructions and Statements\n",
    "\n",
    "People on the autistic spectrum tend to leap straight to the most logical interpretation of an instruction or statement, even if it doesn't make any sense, whereas neurotypical people remember the meaning that is relevant to the situation.\n",
    "\n",
    "When the teacher told me to 'Pull my socks up' and I did so, I was told off for being rude and cheeky, yet I'd done nothing wrong!\n",
    "(At least, I'd done nothing deliberately wrong.)\n",
    "I've also had problems at school with 'Belt up,' 'Wipe that grin off your face' and 'You'd better sharpen your pencil.'\n",
    "So how do I remember these for next time?\n",
    "Easy – draw a picture of them.\n",
    "\n",
    "[89]()"
   ]
  },
  {
   "cell_type": "markdown",
   "metadata": {},
   "source": [
    "# 目录:\n",
    "\n",
    "| 表达 | 含义 | 页码 |\n",
    "|:-|:-|:-|\n",
    "| **Classic Idioms** | **经典习语** | 17 |\n",
    "| It's raining cats and dogs | It's raining really hard | 18 |\n",
    "| Getting the sack | Losing your job | 19 |\n",
    "| You're pulling my leg! | You're joking! | 20 |\n",
    "| He went bananas | He went crazy | 21 |\n",
    "| To chicken out | To not do something because you're scared | 22 |\n",
    "| A different kettle of fish | A totally different matter  | 23 |\n",
    "| Stick to your guns | Once you decide to do something, do it | 24 |\n",
    "| Feeling under the weather | Feeling unwell | 25 |\n",
    "| I was over the moon | I was very pleased | 26 |\n",
    "| It's a piece of cake | It's really easy | 27 |\n",
    "| You're burning the candle at both ends | You're getting up early and going to bed late | 28 |\n",
    "| It cost him an arm and a leg | It was very expensive | 29 |\n",
    "| Your ears are burning! | Someone's talking about you! | 30 |\n",
    "| He's got something up his sleeve | He has a secret plan or idea  | 31 |\n",
    "| Call a spade a spade | Speak plainly | 32 |\n",
    "| Going round the houses | Taking a long time to explain something  | 33 |\n",
    "| Breaking the ice | Helping people feel at ease in a social situation | 34 |\n",
    "| In a pickle | In a tricky situation | 35 |\n",
    "| He's got the wrong end of the stick | He's got the wrong idea | 36 |\n",
    "| **Shortened Expressions** | **缩略语** | **37** |\n",
    "| He had the sun in his eye | He had the sun shining into his eye | 38 |\n",
    "| Put the kettle on | Switch the kettle on | 39 |\n",
    "| I feel like a pizza | I feel like eating a pizza | 40 |\n",
    "| **Everyday Expressions and Sayings** | **日常用语** | **41** |\n",
    "| He's driving me up the wall | He's making me really cross | 42 |\n",
    "| His head is in the clouds | He's daydreaming | 43 |\n",
    "| I've got some time on my hands | I've got some spare time | 44 |\n",
    "| It's hard to get your head around it | It's hard to understand it | 45 |\n",
    "| To cry your eyes out | To cry a lot | 46 |\n",
    "| A square meal | A balanced meal | 47 |\n",
    "| He has a sweet tooth | He likes sweet food | 48 |\n",
    "| He gave me a piece of his mind | He was angry and he told me what he thought | 49 |\n",
    "| My head was spinning | I had many thoughts | 50 |\n",
    "| I laughed my head off | I laughed a lot | 51 |\n",
    "| To have a face like thunder | To have a very angry expression | 52 |\n",
    "| I worked my socks off | I worked really hard | 53 |\n",
    "| It's not my cup of tea | It's not the kind of thing I like doing | 54 |\n",
    "| We didn't meet eye to eye | We didn't agree | 55 |\n",
    "| He is all ears | He is paying full attention | 56 |\n",
    "| To bend over backwards | To put a lot of effort into something to please someone | 57 |\n",
    "| That's how the cookie crumbles | That's just the way things happen | 58 |\n",
    "| To grab the bull by the horns | To take control of the situation | 59 |\n",
    "| I changed my mind | I changed my opinion | 60 |\n",
    "| He went out with a bang | He did something memorable before he left | 61 |\n",
    "| **Double Meanings** | **双层含义** | **63** |\n",
    "| The drinks are on the house! | The drinks are free! | 64 |\n",
    "| He caught my eye | He got my attention  | 65 |\n",
    "| Catch the bus | Go by bus | 66 |\n",
    "| You're fired! | You've lost your job  | 67 |\n",
    "| Draw the curtains | Open the curtains | 68 |\n",
    "| Bear with me | Please be patient | 69 |\n",
    "| Toast the bride | Drink to the bride's good health | 70 |\n",
    "| **Metaphors** | **隐喻** | **71** |\n",
    "| You've hit the nail on the head | You've got it exactly right | 72 |\n",
    "| You're winding me up | You're annoying me  | 73 |\n",
    "| He flew up the stairs | He rushed up the stairs | 74 |\n",
    "| He had egg on his face | He did something to make himself look silly | 75 |\n",
    "| The bread and butter | The essentials | 76 |\n",
    "| Splitting hairs | Being very precise | 77 |\n",
    "| You took the words right out of my mouth | You said what I was going to say | 78 |\n",
    "| It's pouring down | It's raining really hard | 79 |\n",
    "| I was like a dog with two tails | I was really happy | 80 |\n",
    "| Put yourself in my shoes | Try to look at things from my point of view | 81 |\n",
    "| To be under somebody's thumb | To always do what somebody says | 82 |\n",
    "| The ball's in your court | It's your turn to do something | 83 |\n",
    "| He knows it inside out | He knows it very well  | 84 |\n",
    "| He ran around like a headless chicken | He had no control over the situation  | 85 |\n",
    "| Keep your eyes peeled | Keep your eyes peeled  | 86 |\n",
    "| To open a can of worms | To do something that will cause future problems | 87 |\n",
    "| Set the cat among the pigeons | Disturb a peaceful situation | 88 |\n",
    "| **Instructions and Statements** | **指导与声明** | **89** |\n",
    "| Take a seat | Sit down | 90 |\n",
    "| Hang on! | Wait! | 91 |\n",
    "| Don't rub it in | Don't keep going on about it | 92 |\n",
    "| Keep your eye on it | Pay a lot of attention to it  | 93 |\n",
    "| To put your foot down | To say enough's enough | 94 |\n",
    "| Cut it out! | Stop it! | 95 |"
   ]
  },
  {
   "cell_type": "markdown",
   "metadata": {},
   "source": [
    "# 单词"
   ]
  },
  {
   "cell_type": "markdown",
   "metadata": {},
   "source": [
    "1. ASD(Autistic Spectrum Disorder): 孤独谱系障碍, 没有智能障碍的自闭    \n",
    "1. Asperger's syndrome: 亚斯伯格症候群    \n",
    "1. neurotypical: 神经典型者, 那些没有神经发育障碍的人\n",
    "\n",
    "\n",
    "1. absurdities: /əbˈsɜːdəti/; [n]荒谬;谬论;荒谬的言行; [+]pl,absurdities;\n",
    "1. advisory: /ədˈvaɪzəri/; [a]咨询的;顾问的;劝告的; [n]报告;公告; [+]pl,advisories;\n",
    "1. alk % [abbr]碱性<alkaline>;碱<alkali>;\n",
    "1. asperger % [n]阿斯伯格综合症;阿斯伯格<人名>;\n",
    "1. attwood % [x]阿特伍德<姓氏>;\n",
    "1. autism: /ˈɔːtɪzəm/; [n]孤独症,自闭症;臆想;\n",
    "1. autistic: /ɔːˈtɪstɪk/; [a]<心理><内科>孤独症的;孤僻的; [n]孤独症患者<常指儿童>;\n",
    "1. barton: /ˈbɑːt(ə)n/; [n]农家场院,庄园内的农场;\n",
    "1. bromley: /ˈbrɑːmli/; [n]布罗姆利<英国大伦敦的自治市>;布罗姆利<姓氏>;\n",
    "1. burgess: /'bɜːdʒɪs/; [n]<英>自由民;市民;议员;<美>镇行政官; [n]<Burgess>人名;<德>布格斯;<英>伯吉斯; [+]pl,burgesses;\n",
    "1. colloquialisms: /kəˈləʊkwɪəˌlɪzəm/; [x]口语;\n",
    "1. conceived: /kən'siːvd/; [v]构思;设想<conceive的pt>;\n",
    "1. constructs: /kənˈstrʌkts; ˈkɑːnstrʌkts/; [n]构念<construct的pl>;建筑物;构图; [v]设计<construct的s3>;建造;\n",
    "1. cont: /kənt/; [abbr]内容<contents>;连续的<continued>; [n]<Cont>人名;<西>孔特;\n",
    "1. cooper: /ˈkuːpə(r)/; [n]制桶工人,修桶匠; [v]箍桶,制桶; [n]<Cooper><英,美,加,澳>库珀<人名>;\n",
    "1. crumbles: /ˈkrʌmblz/; [n]碎屑<crumble的pl>; [v]弄碎<crumble的s3>;\n",
    "1. da: /ˌdiː ˈeɪ/; [n]<俄>是,是的;爸爸<等于dad>; [n]<Da>人名;<柬>达;\n",
    "1. delia: /'di:ljə/; [n]<Delia><英,罗,意,西>迪莉娅<人名>;\n",
    "1. derived: /dɪ'raɪvd/; [a]导出的;衍生的,派生的; [v]从...衍生出,源于;<从...中>得到,提取;导出<derive的pt和pp>;\n",
    "1. disconcerting: /ˌdɪskənˈsɜːtɪŋ/; [a]令人不安的;打扰人的;\n",
    "1. durand % [n]<Durand>人名;<德,英,意,西,匈>杜兰德;<法>迪朗;\n",
    "1. essentials: /ɪ'senʃəl/; [n]<法>要件,概要;生活必需品<essential的pl>;基本营养素;\n",
    "1. figurative: /ˈfɪɡərətɪv/; [a]比喻的;修饰丰富的;形容多的;\n",
    "1. fo: /,ɛf 'o/; [abbr]英国外交部<Foreign Office>;淡出, 渐逝<Fade Out>;滤波器输出<Filter Output>; [n]<Fo>人名;<东南亚国家华语>和;\n",
    "1. gcse: /ˌdʒiː siː es ˈiː/; [abbr]<英国>普通中等教育证书<General Certificate of Secondary Education>;\n",
    "1. hardback: /ˈhɑːdbæk/; [n]精装本;<图情>硬封面的书; [a]精装的;硬封面的; [+]pl,hardbacks;\n",
    "1. high-functioning % [x]高功能的;\n",
    "1. insolence: /ˈɪnsələns/; [n]傲慢;傲慢无礼的行为;\n",
    "1. instinctively: /ɪnˈstɪŋktɪvli/; [ad]本能地;\n",
    "1. joshua: / 'dʒɔʃwə /; [n]约书亚;约书亚书;\n",
    "1. kantor % [n]<Kantor>人名;<英>坎特;<法>康托尔;<德,俄,波,捷,芬,罗,西>坎托尔;\n",
    "1. kirby % [n]卡比<男子名>;\n",
    "1. lengthy: /ˈleŋθi/; [a]漫长的,冗长的;啰唆的; [+]er,lengthier;est,lengthiest;\n",
    "1. lewis: /'luːɪs/; [n]吊楔;\n",
    "1. likened: /ˈlaɪkən/; [vt]比拟;把...比作; [+]pt,likened;pp,likened;pr,likening;s3,likens;\n",
    "1. likening: /ˈlaɪkən/; [vt]比拟;把...比作; [+]pt,likened;pp,likened;pr,likening;s3,likens;\n",
    "1. martians: /'ma:ʃiənz/; [n]火星人<Martian的pl形式>;\n",
    "1. memorise: /'meməraɪz/; [vt]<英>记忆;存储<等于memorize>; [+]pt,memorised;pp,memorised;pr,memorising;\n",
    "1. memorised % [x]记住了的<memorise的pp>;\n",
    "1. non-literal % [x]非文字的; 非字面的;\n",
    "1. obsessively: /əbˈsesɪvli/; [ad]过分地;着迷地,着魔似地;\n",
    "1. om: /əʊm; ɒm/; [n]<印度教,藏传佛教>唵<一个神秘的音节,被看做最神秘的符咒>; [abbr]阿曼<国家>的网络域名; [abbr]<OM>英国女王授予的功绩勋章 <Order of Merit>; [n]<Om><印,尼>奥姆<人名>;\n",
    "1. ostracised: /ˈɒstrəsaɪz/; [v]排挤,排斥;放逐,流放;<古希腊>对...实行陶片放逐<ostracise的pt及过去分词,ostracise 等于 ostracize>;\n",
    "1. pentonville % [x]本顿维尔监狱;\n",
    "1. prosecution: /ˌprɒsɪˈkjuːʃn/; [n]起诉,检举;进行;经营; [+]pl,prosecutions;\n",
    "1. realised: /ˈriːəlaɪz/; [v]实现<realise的pp>; [a]实现的;\n",
    "1. recognise: /'rekəɡnaɪz/; [vt]认出;承认,认可;识别; [+]s3,recognises;pr,recognising;pt,recognised;pp,recognised;\n",
    "1. resilient: /rɪˈzɪliənt/; [a]弹回的,有弹力的;能复原的;可迅速恢复的;\n",
    "1. rew % [n]报酬;效益;结果; [vt]报答;奖赏; [n]<Rew>人名;<朝>柳;<英>鲁;\n",
    "1. rowland: /ˈroʊlənd/; [n]罗兰<男子名>;\n",
    "1. saffron: /ˈsæfrən/; [n]藏红花;橙黄色; [a]藏红花色的,橘黄色的;\n",
    "1. sanders: /'sɑːndəz; 'sæn-/; [n]檀香;砂纸; [n]<Sanders>人名;<英>桑德斯<教名Alasdair,Alastair,Alexander,Alister,Elshender的昵称>;<英,法,德,西,荷,瑞典>桑德斯;\n",
    "1. sayings: /ˈseɪɪŋz/; [n]语录<saying的pl>;\n",
    "1. self-efficacy % [n]自我效能;\n",
    "1. substantial: /səbˈstænʃl/; [a]大量的;实质的;内容充实的; [n]本质;重要材料; [+]er,moresubstantial;est,mostsubstantial;pl,substantials;\n",
    "1. superbly: /suːˈpɜːbli; sjuːˈpɜːbli/; [ad]雄伟地;壮丽地;上等地;庄重地;\n",
    "1. tactless: /ˈtæktləs/; [a]不机智的;不老练的;笨拙的;\n",
    "1. tation % [x]冰雹;\n",
    "1. timms % [abbr]热离子集成微型模块<Thermionic Integrated Micro Modules>;\n",
    "1. tony: /ˈtəʊni/; [a]豪华的,时髦的,上等的; [n]<Tony><美,加,法,澳,英>托尼<人名>; [+]er,tonier;est,toniest;\n",
    "1. traits: /treɪts/; [n]特性,特质,性格<trait的pl>;\n",
    "1. transiently % [x]仅持续片刻地;\n",
    "1. truncated: /trʌŋ'keɪtɪd/; [a]缩短了的;被删节的;切去顶端的; [v]缩短<truncate的pp>;截去...的顶端;\n",
    "1. woodard % [x]伍达德<人名>;"
   ]
  }
 ],
 "metadata": {
  "kernelspec": {
   "display_name": "Python 3",
   "language": "python",
   "name": "python3"
  },
  "language_info": {
   "codemirror_mode": {
    "name": "ipython",
    "version": 3
   },
   "file_extension": ".py",
   "mimetype": "text/x-python",
   "name": "python",
   "nbconvert_exporter": "python",
   "pygments_lexer": "ipython3",
   "version": "3.8.3"
  },
  "toc": {
   "base_numbering": 1,
   "nav_menu": {},
   "number_sections": true,
   "sideBar": true,
   "skip_h1_title": true,
   "title_cell": "Table of Contents",
   "title_sidebar": "Contents",
   "toc_cell": false,
   "toc_position": {},
   "toc_section_display": true,
   "toc_window_display": false
  }
 },
 "nbformat": 4,
 "nbformat_minor": 4
}
