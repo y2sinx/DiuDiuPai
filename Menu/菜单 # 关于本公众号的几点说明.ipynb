{
 "cells": [
  {
   "cell_type": "markdown",
   "metadata": {},
   "source": [
    "1. 本公号内的文章,一般使用 `Jupyter Notebook` 进行编辑, 使用 `Github` 进行存储.\n",
    "1. 在本公众号内已发布的文章, 若无重大变更将不会在在公众号内二次发布.\n",
    "1. 关于修改后的版本, 可通过 Github`(https://github.com/y2sinx/Silva-Planet)` 或 NBViewer`(https://nbviewer.jupyter.org/github/y2sinx/Silva-Planet/tree/master/)` 查看.\n",
    "1. `MarkDown`(或Jupyter Notebook)转`公众号图文素材`的过程:\n",
    "    1. `.jpynb -> .md -> MarkDown Nice(https://mdnice.com/) -> 图文素材`\n",
    "    1. 因为微信公众平台不能插入外链,所以素材中的图片需要单独插入.\n",
    "1. 本公众号目前暂无特殊目的,并愿意接收任意类型的文章投稿,若有投稿意愿,请联系`y2sinx@126.com`.\n"
   ]
  }
 ],
 "metadata": {
  "kernelspec": {
   "display_name": "Python 3",
   "language": "python",
   "name": "python3"
  },
  "language_info": {
   "codemirror_mode": {
    "name": "ipython",
    "version": 3
   },
   "file_extension": ".py",
   "mimetype": "text/x-python",
   "name": "python",
   "nbconvert_exporter": "python",
   "pygments_lexer": "ipython3",
   "version": "3.7.6"
  },
  "toc": {
   "base_numbering": 1,
   "nav_menu": {},
   "number_sections": true,
   "sideBar": true,
   "skip_h1_title": false,
   "title_cell": "Table of Contents",
   "title_sidebar": "Contents",
   "toc_cell": false,
   "toc_position": {},
   "toc_section_display": true,
   "toc_window_display": false
  },
  "varInspector": {
   "cols": {
    "lenName": 16,
    "lenType": 16,
    "lenVar": 40
   },
   "kernels_config": {
    "python": {
     "delete_cmd_postfix": "",
     "delete_cmd_prefix": "del ",
     "library": "var_list.py",
     "varRefreshCmd": "print(var_dic_list())"
    },
    "r": {
     "delete_cmd_postfix": ") ",
     "delete_cmd_prefix": "rm(",
     "library": "var_list.r",
     "varRefreshCmd": "cat(var_dic_list()) "
    }
   },
   "types_to_exclude": [
    "module",
    "function",
    "builtin_function_or_method",
    "instance",
    "_Feature"
   ],
   "window_display": false
  }
 },
 "nbformat": 4,
 "nbformat_minor": 4
}
