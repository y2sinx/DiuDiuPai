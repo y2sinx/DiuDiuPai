{
 "cells": [
  {
   "cell_type": "markdown",
   "metadata": {},
   "source": [
    "HuiBen_067 % [d]2021-03-27; [xmxp](); [n]'Z'是一只'大斑马'; [l]绘本; [t]Z is for Zebra; [by]Livi Gosling(利维·高斯林); [ps]DK; [ebook]绘本;\n",
    "\n",
    "https://pan.baidu.com/s/1WERzUBXHUBUYRuugCWLy8Q\n",
    "\n",
    "---"
   ]
  },
  {
   "cell_type": "markdown",
   "metadata": {},
   "source": [
    "![1](https://s.pc.qq.com/tousu/img/20210320/7956910_1616238527.jpg)    \n",
    "\n",
    "---\n",
    "\n",
    "### 'Z'是一只'大斑马'    \n",
    "\n",
    "利维·高斯林    \n",
    "\n",
    "![sm](https://s.pc.qq.com/tousu/img/20210320/1332224_1616238525.jpg)    \n",
    "\n",
    "---\n",
    "\n",
    "plains zebra(平原斑马), Grevy's zebra(细纹斑马), mountain zebra(山斑马), white bellies(白色的肚皮).    \n",
    "\n",
    "![2-3](https://s.pc.qq.com/tousu/img/20210320/3727421_1616238530.jpg)    \n",
    "\n",
    "---\n",
    "\n",
    "zany(滑稽的,古怪的), odd(古怪的).    \n",
    "\n",
    "![4-5](https://s.pc.qq.com/tousu/img/20210320/8128809_1616238532.jpg)    \n",
    "\n",
    "---\n",
    "\n",
    "zebra print(斑纹花样), snazzy(新潮的,漂亮的), stripes(条纹).    \n",
    "\n",
    "![6-7](https://s.pc.qq.com/tousu/img/20210320/9819165_1616238536.jpg)    \n",
    "\n",
    "---\n",
    "\n",
    "zebra foal(斑马驹).    \n",
    "\n",
    "![8-9](https://s.pc.qq.com/tousu/img/20210320/6074034_1616238534.jpg)    \n",
    "\n",
    "---\n",
    "\n",
    "zippy(活泼的,敏捷的), gallop(还不认识的请自行脑补\"万马奔腾\"的画面), zeal(热情), dazzle(令人眼花缭乱的东西).    \n",
    "\n",
    "![10-11](https://s.pc.qq.com/tousu/img/20210320/7099136_1616238536.jpg)    \n",
    "\n",
    "---\n",
    "\n",
    "zebra-striped zoo(斑马纹动物园): zebra finch(斑纹雀), zebra longwing butterfly(斑纹长翼蝶), zebra caterpillar(斑纹毛毛虫), zebra-tailed lizard(斑纹尾蜥蜴), zebrafish(斑纹鱼), zebra spider(斑纹蛛), zebra cobra(斑纹眼镜蛇).    \n",
    "\n",
    "![12-13](https://s.pc.qq.com/tousu/img/20210320/9171044_1616238532.jpg)    \n",
    "\n",
    "---\n",
    "\n",
    "Snazzy-striped(时髦-斑纹的), zany(滑稽的,古怪的), zippy(敏捷的,活泼的), dazzling zebras(令人眼花缭乱的斑马) are full of pizzazz(精力)!    \n",
    "\n",
    "![14-15](https://s.pc.qq.com/tousu/img/20210320/8383426_1616238539.jpg)    \n",
    "\n",
    "---\n",
    "\n",
    "supercity(超级城市), ~computer(超级计算机), ~conductor(超导体), ~power(超级大国), ~weapon(超级武器), ~weed(超级杂草), ~star(超级明星), ~realism(超现实主义), ~sell(特畅销), ~natural(超自然的), ~sensitive(超灵敏的).    \n",
    "\n",
    "![16](https://s.pc.qq.com/tousu/img/20210320/3763870_1616238526.jpg)    "
   ]
  }
 ],
 "metadata": {
  "kernelspec": {
   "display_name": "Python 3",
   "language": "python",
   "name": "python3"
  },
  "language_info": {
   "codemirror_mode": {
    "name": "ipython",
    "version": 3
   },
   "file_extension": ".py",
   "mimetype": "text/x-python",
   "name": "python",
   "nbconvert_exporter": "python",
   "pygments_lexer": "ipython3",
   "version": "3.8.3"
  },
  "toc": {
   "base_numbering": 1,
   "nav_menu": {},
   "number_sections": true,
   "sideBar": true,
   "skip_h1_title": true,
   "title_cell": "Table of Contents",
   "title_sidebar": "Contents",
   "toc_cell": false,
   "toc_position": {},
   "toc_section_display": true,
   "toc_window_display": false
  }
 },
 "nbformat": 4,
 "nbformat_minor": 4
}
