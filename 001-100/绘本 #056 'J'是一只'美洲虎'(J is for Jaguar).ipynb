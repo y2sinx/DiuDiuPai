{
 "cells": [
  {
   "cell_type": "markdown",
   "metadata": {},
   "source": []
  },
  {
   "cell_type": "markdown",
   "metadata": {},
   "source": [
    "HuiBen_056 % [d]2021-03-16; [xmxp](); [n]'J'是一只'美洲虎'; [l]绘本; [t]J is for Jaguar; [by]Jean Claude(让·克劳德); [ps]DK; [ebook]绘本;"
   ]
  },
  {
   "cell_type": "markdown",
   "metadata": {},
   "source": [
    "![01.png](https://i.loli.net/2021/03/13/nkBraeFOct5Nvj2.png)    \n",
    "\n",
    "---\n",
    "\n",
    "### 'J'是一只'美洲虎'    \n",
    "\n",
    "让·克劳德    \n",
    "\n",
    "![sm.png](https://ae03.alicdn.com/kf/U9fcefd27681e4ab5a1bf2d4d16ff846ds.jpg)    \n",
    "\n",
    "---\n",
    "\n",
    "cat family(猫猫家族), snow leopard(雪豹), jaguar(美洲豹/虎), leopard(亚非豹).    \n",
    "\n",
    "![02-03.png](https://i.loli.net/2021/03/13/Ls6ytnXwfFEeldR.png)    \n",
    "\n",
    "---\n",
    "\n",
    "jazzy: 爵士乐的,花哨的,奔放的.    \n",
    "\n",
    "![04-05.png](https://i.loli.net/2021/03/13/1HxV8J5fdzU3alc.png)    \n",
    "\n",
    "---\n",
    "\n",
    "jungle(丛林), journey(旅行).    \n",
    "\n",
    "![06-07.png](https://i.loli.net/2021/03/13/TkLBwlcmPEe3tpg.png)    \n",
    "\n",
    "---\n",
    "\n",
    "go for a swim: 去游泳.    \n",
    "\n",
    "![08-09.png](https://i.loli.net/2021/03/13/47XQeGq9wPSRMA2.png)    \n",
    "\n",
    "---\n",
    "\n",
    "powerful jaws: 强壮有力的上下颌.    \n",
    "\n",
    "![10-11.png](https://i.loli.net/2021/03/13/e8To4VctMxZr1fs.png)    \n",
    "\n",
    "---\n",
    "\n",
    "leap up: 跳跃.    \n",
    "\n",
    "![12-13.png](https://i.loli.net/2021/03/13/84RnTd6rbi2hFs1.png)    \n",
    "\n",
    "---\n",
    "\n",
    "fluffy jaguar cubs: 毛茸茸的美洲虎幼崽.    \n",
    "\n",
    "![14-15.png](https://i.loli.net/2021/03/13/e16nqQgNMmiflsv.png)    \n",
    "\n",
    "---\n",
    "\n",
    "words beginning with the letter j: 以'j'为开头的单词.    \n",
    "\n",
    "![16.png](https://i.loli.net/2021/03/13/6RkPr4WF7engvlN.png)    "
   ]
  }
 ],
 "metadata": {
  "kernelspec": {
   "display_name": "Python 3",
   "language": "python",
   "name": "python3"
  },
  "language_info": {
   "codemirror_mode": {
    "name": "ipython",
    "version": 3
   },
   "file_extension": ".py",
   "mimetype": "text/x-python",
   "name": "python",
   "nbconvert_exporter": "python",
   "pygments_lexer": "ipython3",
   "version": "3.8.3"
  },
  "toc": {
   "base_numbering": 1,
   "nav_menu": {},
   "number_sections": true,
   "sideBar": true,
   "skip_h1_title": true,
   "title_cell": "Table of Contents",
   "title_sidebar": "Contents",
   "toc_cell": false,
   "toc_position": {},
   "toc_section_display": true,
   "toc_window_display": false
  }
 },
 "nbformat": 4,
 "nbformat_minor": 4
}
