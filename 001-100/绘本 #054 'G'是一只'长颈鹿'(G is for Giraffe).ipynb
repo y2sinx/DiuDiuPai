{
 "cells": [
  {
   "cell_type": "markdown",
   "metadata": {},
   "source": [
    "HuiBen_054 % [d]2021-03-13; [xmxp](); [n]'G'是一只'长颈鹿'; [l]绘本; [t]G is for Giraffe; [by]Kate Slater(凯特·斯莱特); [ps]DK; [ebook]绘本;\n",
    "\n",
    "https://pan.baidu.com/s/14_IZpdUPfoBnKVbeskyywA"
   ]
  },
  {
   "cell_type": "markdown",
   "metadata": {},
   "source": [
    "![1.png](https://s.pc.qq.com/tousu/img/20210310/3351241_1615385132.jpg)    \n",
    "\n",
    "---\n",
    "\n",
    "### 'G'是一只'长颈鹿'    \n",
    "\n",
    "凯特·斯莱特    \n",
    "\n",
    "![sm.png](https://ae03.alicdn.com/kf/Uae94384f9c6a4a94918de2ce23c98959e.jpg)    \n",
    "\n",
    "---\n",
    "\n",
    "the tallest animals in the world: 世界上最高的动物.    \n",
    "\n",
    "![2-3.png](https://s.pc.qq.com/tousu/img/20210310/6354969_1615385139.jpg)    \n",
    "\n",
    "---\n",
    "\n",
    "gentle giants(温柔的巨人), long necks(长长的脖子), slim legs(细细的腿), tufty tails(毛毛的尾巴).    \n",
    "\n",
    "![4-5.png](https://s.pc.qq.com/tousu/img/20210310/9385790_1615385136.jpg)    \n",
    "\n",
    "---\n",
    "\n",
    "Their long tongues(主语/他们的长舌头) grab(谓语/抓...吃) tasty green leaves(宾语/好吃的绿叶子) from treetops(状语/来自树顶的).    \n",
    "\n",
    "![6-7.png](https://s.pc.qq.com/tousu/img/20210310/2652781_1615385137.jpg)    \n",
    "\n",
    "---\n",
    "\n",
    "gorgeous: 用于形容那种\"闪瞎眼式\"的漂亮(dazzlingly beautiful)或男神女神级别的美丽.     \n",
    "\n",
    "Giraffes have pretty(漂亮的) patterned coats(花纹外套), lovely long eyelashes(眼睫毛)... and goofy grins(傻笑)!    \n",
    "\n",
    "![8-9.png](https://s.pc.qq.com/tousu/img/20210310/4163984_1615385143.jpg)    \n",
    "\n",
    "---\n",
    "\n",
    "gallop(galloping): 用于形容马或长颈鹿等四足兽奔跑时的姿势. 看过\"Miranda\"(米兰达)的都知道.    \n",
    "\n",
    "![10-11.png](https://s.pc.qq.com/tousu/img/20210310/3898460_1615385148.jpg)    \n",
    "\n",
    "---\n",
    "\n",
    "Giraffes roam through(漫步穿越) grassy plains(草原) in small groups called herds(兽群).    \n",
    "\n",
    "![12-13.png](https://s.pc.qq.com/tousu/img/20210310/4495780_1615385151.jpg)    \n",
    "\n",
    "---\n",
    "\n",
    "watch over(看守), keep sb safe(保证某人的安全).    \n",
    "\n",
    "![14-15.png](https://s.pc.qq.com/tousu/img/20210310/9936323_1615385145.jpg)    \n",
    "\n",
    "---\n",
    "\n",
    "For little animal lovers(献给所有喜欢动物的小朋友们).     \n",
    "\n",
    "![16.png](https://ae02.alicdn.com/kf/U0f8503748209463aa4a7377409008a19Q.jpg)    "
   ]
  }
 ],
 "metadata": {
  "kernelspec": {
   "display_name": "Python 3",
   "language": "python",
   "name": "python3"
  },
  "language_info": {
   "codemirror_mode": {
    "name": "ipython",
    "version": 3
   },
   "file_extension": ".py",
   "mimetype": "text/x-python",
   "name": "python",
   "nbconvert_exporter": "python",
   "pygments_lexer": "ipython3",
   "version": "3.8.3"
  },
  "toc": {
   "base_numbering": 1,
   "nav_menu": {},
   "number_sections": true,
   "sideBar": true,
   "skip_h1_title": true,
   "title_cell": "Table of Contents",
   "title_sidebar": "Contents",
   "toc_cell": false,
   "toc_position": {},
   "toc_section_display": true,
   "toc_window_display": false
  }
 },
 "nbformat": 4,
 "nbformat_minor": 4
}
