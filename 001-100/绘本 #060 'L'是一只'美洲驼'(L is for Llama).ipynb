{
 "cells": [
  {
   "cell_type": "markdown",
   "metadata": {},
   "source": [
    "HuiBen_060 % [d]2021-03-20; [xmxp](); [n]'L'是一只'美洲驼'; [l]绘本; [t]L is for Llama; [by]Livi Gosling(利维·高斯林); [ps]DK; [ebook]绘本;\n"
   ]
  },
  {
   "cell_type": "markdown",
   "metadata": {},
   "source": [
    "![01.png](https://s.pc.qq.com/tousu/img/20210316/8304701_1615879327.jpg)    \n",
    "\n",
    "---\n",
    "\n",
    "### 'L'是一只'美洲驼'    \n",
    "\n",
    "利维·高斯林    \n",
    "\n",
    "![sm.png](https://s.pc.qq.com/tousu/img/20210316/8526143_1615879685.jpg)    \n",
    "\n",
    "---\n",
    "\n",
    "llamas(美洲驼), South America(南美).    \n",
    "\n",
    "![02-03.png](https://s.pc.qq.com/tousu/img/20210316/3302537_1615879335.jpg)    \n",
    "\n",
    "---\n",
    "\n",
    "landscape(景观), Andes mountains(安第斯山脉), are home to(是...的家园).    \n",
    "\n",
    "![04-05.png](https://s.pc.qq.com/tousu/img/20210316/4900987_1615879329.jpg)    \n",
    "\n",
    "---\n",
    "\n",
    "light-footed(脚步轻快的), great climbers(伟大的攀爬者).    \n",
    "\n",
    "![06-07.png](https://s.pc.qq.com/tousu/img/20210316/3633418_1615879332.jpg)    \n",
    "\n",
    "---\n",
    "\n",
    "cria(美洲驼宝宝), funny faces(搞笑的脸).    \n",
    "\n",
    "![08-09.png](https://s.pc.qq.com/tousu/img/20210316/6794146_1615879337.jpg)    \n",
    "\n",
    "---\n",
    "\n",
    "look-alikes(极为相像的), similar(相似的).    \n",
    "\n",
    "dromedary camel(单峰驼), alpaca(羊驼), vicuña(小羊驼), guanaco(原驼), bactrian camel(双峰驼).    \n",
    "\n",
    "![10-11.png](https://s.pc.qq.com/tousu/img/20210316/8753572_1615879336.jpg)    \n",
    "\n",
    "---\n",
    "\n",
    "loyal guard(忠诚的卫兵).    \n",
    "\n",
    "![12-13.png](https://s.pc.qq.com/tousu/img/20210316/2406681_1615879339.jpg)    \n",
    "\n",
    "---\n",
    "\n",
    "make great partners(成就了伟大的伙伴关系).    \n",
    "\n",
    "![14-15.png](https://s.pc.qq.com/tousu/img/20210316/9027199_1615879342.jpg)    \n",
    "\n",
    "---\n",
    "\n",
    "light-green(淡绿色), light-haired(浅发色的), light-handed(手巧的), light-headedness(头晕眼花), light-hearted(无忧无虑的), light-rail(轻轨), light-sensitive(光敏的), light-skinned(浅肤色的).    \n",
    "\n",
    "![16.png](https://s.pc.qq.com/tousu/img/20210316/3960166_1615879326.jpg)    "
   ]
  }
 ],
 "metadata": {
  "kernelspec": {
   "display_name": "Python 3",
   "language": "python",
   "name": "python3"
  },
  "language_info": {
   "codemirror_mode": {
    "name": "ipython",
    "version": 3
   },
   "file_extension": ".py",
   "mimetype": "text/x-python",
   "name": "python",
   "nbconvert_exporter": "python",
   "pygments_lexer": "ipython3",
   "version": "3.8.3"
  },
  "toc": {
   "base_numbering": 1,
   "nav_menu": {},
   "number_sections": true,
   "sideBar": true,
   "skip_h1_title": true,
   "title_cell": "Table of Contents",
   "title_sidebar": "Contents",
   "toc_cell": false,
   "toc_position": {},
   "toc_section_display": true,
   "toc_window_display": false
  }
 },
 "nbformat": 4,
 "nbformat_minor": 4
}
