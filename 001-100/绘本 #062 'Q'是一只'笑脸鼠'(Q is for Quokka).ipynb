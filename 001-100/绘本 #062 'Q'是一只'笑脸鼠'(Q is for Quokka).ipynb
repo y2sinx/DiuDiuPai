{
 "cells": [
  {
   "cell_type": "markdown",
   "metadata": {},
   "source": [
    "HuiBen_062 % [d]2021-03-22; [xmxp](); [n]'Q'是一只'笑脸鼠'; [l]绘本; [t]Q is for Quokka; [by]Jean Claude(让·克劳德); [ps]DK; [ebook]绘本;\n",
    "\n",
    "https://pan.baidu.com/s/1TqV2_u__xiQI4-3yRB6diQ\n",
    "\n",
    "---"
   ]
  },
  {
   "cell_type": "markdown",
   "metadata": {},
   "source": [
    "![01](https://s.pc.qq.com/tousu/img/20210319/7498008_1616145593.jpg)    \n",
    "\n",
    "---\n",
    "\n",
    "### 'Q'是一只'笑脸鼠'    \n",
    "\n",
    "让·克劳德    \n",
    "\n",
    "![sm](https://s.pc.qq.com/tousu/img/20210319/4106829_1616146004.jpg)    \n",
    "\n",
    "---\n",
    "\n",
    "quokka(短尾矮袋鼠), Rottnest Island(洛特尼斯岛).    \n",
    "\n",
    "![02-03](https://s.pc.qq.com/tousu/img/20210319/8766388_1616145598.jpg)    \n",
    "\n",
    "---\n",
    "\n",
    "quirky(古怪的), adorable(可爱的), silly(傻乎乎的), poke their tongues out(伸出它们的舌头).    \n",
    "\n",
    "![04-05](https://s.pc.qq.com/tousu/img/20210319/4275941_1616145598.jpg)    \n",
    "\n",
    "---\n",
    "\n",
    "quantity(数量), tummy pouch(肚皮育儿袋).    \n",
    "\n",
    "![06-07](https://s.pc.qq.com/tousu/img/20210319/8226990_1616145603.jpg)    \n",
    "\n",
    "---\n",
    "\n",
    "quoll(袋鼬), wallaby(小袋鼠), echidna(针鼹鼠), kangaroo, wombat(袋熊), koala.    \n",
    "\n",
    "![08-09](https://s.pc.qq.com/tousu/img/20210319/9177459_1616145597.jpg)    \n",
    "\n",
    "---\n",
    "\n",
    "quizzical(喜欢四处探寻的), hopping around(四处蹦跶).    \n",
    "\n",
    "![10-11](https://s.pc.qq.com/tousu/img/20210319/7659002_1616145598.jpg)    \n",
    "\n",
    "---\n",
    "\n",
    "quick(迅速的,敏捷的).    \n",
    "\n",
    "![12-13](https://s.pc.qq.com/tousu/img/20210319/7235469_1616145600.jpg)    \n",
    "\n",
    "---\n",
    "\n",
    "It's time for our furry friends to have a nap in the shade(我们的毛毛朋友们该去树底下打盹了).    \n",
    "\n",
    "![14-15](https://s.pc.qq.com/tousu/img/20210319/8478905_1616145600.jpg)    \n",
    "\n",
    "---\n",
    "\n",
    "Collect the whole alphabet series(收集整个字母表系列).    \n",
    "\n",
    "![16](https://s.pc.qq.com/tousu/img/20210319/1868239_1616145591.jpg)    "
   ]
  }
 ],
 "metadata": {
  "kernelspec": {
   "display_name": "Python 3",
   "language": "python",
   "name": "python3"
  },
  "language_info": {
   "codemirror_mode": {
    "name": "ipython",
    "version": 3
   },
   "file_extension": ".py",
   "mimetype": "text/x-python",
   "name": "python",
   "nbconvert_exporter": "python",
   "pygments_lexer": "ipython3",
   "version": "3.8.3"
  },
  "toc": {
   "base_numbering": 1,
   "nav_menu": {},
   "number_sections": true,
   "sideBar": true,
   "skip_h1_title": true,
   "title_cell": "Table of Contents",
   "title_sidebar": "Contents",
   "toc_cell": false,
   "toc_position": {},
   "toc_section_display": true,
   "toc_window_display": false
  }
 },
 "nbformat": 4,
 "nbformat_minor": 4
}
