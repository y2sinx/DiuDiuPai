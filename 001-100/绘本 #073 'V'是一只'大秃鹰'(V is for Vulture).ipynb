{
 "cells": [
  {
   "cell_type": "markdown",
   "metadata": {},
   "source": [
    "HuiBen_073 % [d]2021-04-02; [xmxp](); [n]'V'是一只'大秃鹰'; [l]绘本; [t]V is for Vulture; [by]Kate Slater(凯特·斯莱特); [ps]DK; [ebook]绘本;\n",
    "\n",
    "https://pan.baidu.com/s/13TXDetYlTUzBeMJWMEr9ew\n",
    "\n",
    "----\n"
   ]
  },
  {
   "cell_type": "markdown",
   "metadata": {},
   "source": [
    "![1](https://sc03.alicdn.com/kf/U684cb0cb2e8c4fee91a9ef9d4ae6c98am.jpg)    \n",
    "\n",
    "---\n",
    "\n",
    "### 'V'是一只'大秃鹰'    \n",
    "\n",
    "凯特·斯莱特    \n",
    "\n",
    "![sm](https://ae02.alicdn.com/kf/Uc25000bdc9154e81914f5e330e1ebe94w.jpg)    \n",
    "\n",
    "---\n",
    "\n",
    "vulture(秃鹫), Andean condor(安第斯神鹫), palm nut vulture(棕榈鹫), Rüppell's griffon vulture(鲁佩尔狮鹫), king vulture(王鹫).    \n",
    "\n",
    "![2-3](https://ae03.alicdn.com/kf/Ub1bb2e8cb6694d27b414465ba3cbfc1fX.jpg)    \n",
    "\n",
    "---\n",
    "\n",
    "ring-necked parakeet(环颈鹦鹉), red kite(红鸢), Calliope hummingbird(星蜂鸟), northern cardinal(北美红雀).    \n",
    "\n",
    "![4-5](https://ae02.alicdn.com/kf/Udf0be063a7844686b09e953bc4c2e564K.jpg)    \n",
    "\n",
    "---\n",
    "\n",
    "backbone(脊柱), talons(爪), vertebrate(脊椎动物).    \n",
    "\n",
    "![6-7](https://ae04.alicdn.com/kf/U6bbd44a441b7424486a02f33b0354cc0v.jpg)    \n",
    "\n",
    "---\n",
    "\n",
    "amazing vision(惊人的视力), spot their food(发现食物).    \n",
    "\n",
    "![8-9](https://sc04.alicdn.com/kf/U01da37442a3740b0bdf2ed3d0bde3803B.jpg)    \n",
    "\n",
    "---\n",
    "\n",
    "Vultures eat meat(肉), which stops diseases from spreading(阻止疾病的传播).    \n",
    "\n",
    "![10-11](https://ae03.alicdn.com/kf/U918672b3a5754b43821bfbff99a6e097e.jpg)    \n",
    "\n",
    "---\n",
    "\n",
    "vulnerable(脆弱的), die out(灭绝), bearded vulture(有胡子的秃鹫), vet(兽医).    \n",
    "\n",
    "![12-13](https://ae03.alicdn.com/kf/U043e44bd00ef473690eecc6476049c5cq.jpg)    \n",
    "\n",
    "---\n",
    "\n",
    "可以使用 \"volt(电压单位,伏特)\" , \"venue(聚会地点)\", 或 \"flock\" 形容 \"一群秃鹫\".    \n",
    "\n",
    "![14-15](https://ae02.alicdn.com/kf/U83f5a06c4734434b851f85541eb6711dd.jpg)    \n",
    "\n",
    "---\n",
    "\n",
    "senior editor(资深编辑), senior designer(资深设计师).    \n",
    "\n",
    "![16](https://ae04.alicdn.com/kf/U8d7eabd571d2433f9932d3d5b3990f470.jpg)    "
   ]
  }
 ],
 "metadata": {
  "kernelspec": {
   "display_name": "Python 3",
   "language": "python",
   "name": "python3"
  },
  "language_info": {
   "codemirror_mode": {
    "name": "ipython",
    "version": 3
   },
   "file_extension": ".py",
   "mimetype": "text/x-python",
   "name": "python",
   "nbconvert_exporter": "python",
   "pygments_lexer": "ipython3",
   "version": "3.8.3"
  },
  "toc": {
   "base_numbering": 1,
   "nav_menu": {},
   "number_sections": true,
   "sideBar": true,
   "skip_h1_title": true,
   "title_cell": "Table of Contents",
   "title_sidebar": "Contents",
   "toc_cell": false,
   "toc_position": {},
   "toc_section_display": true,
   "toc_window_display": false
  }
 },
 "nbformat": 4,
 "nbformat_minor": 4
}
